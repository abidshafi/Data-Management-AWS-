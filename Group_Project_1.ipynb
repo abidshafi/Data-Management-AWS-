{
  "cells": [
    {
      "cell_type": "markdown",
      "metadata": {
        "id": "view-in-github",
        "colab_type": "text"
      },
      "source": [
        "<a href=\"https://colab.research.google.com/github/abidshafi/Data-Management-AWS-/blob/main/Group_Project_1.ipynb\" target=\"_parent\"><img src=\"https://colab.research.google.com/assets/colab-badge.svg\" alt=\"Open In Colab\"/></a>"
      ]
    },
    {
      "cell_type": "code",
      "execution_count": null,
      "id": "8ffb4711-8baa-48d4-bb27-ded531a5c54c",
      "metadata": {
        "id": "8ffb4711-8baa-48d4-bb27-ded531a5c54c"
      },
      "outputs": [],
      "source": [
        "# Python built-in modules\n",
        "import os"
      ]
    },
    {
      "cell_type": "code",
      "execution_count": null,
      "id": "2221baed-1574-41cd-a1fb-2fd9e71d0c6a",
      "metadata": {
        "id": "2221baed-1574-41cd-a1fb-2fd9e71d0c6a",
        "outputId": "97e7726e-ba1f-470e-dc42-2d1fbe2fb6f8"
      },
      "outputs": [
        {
          "name": "stdout",
          "output_type": "stream",
          "text": [
            "/home/ubuntu/notebooks\n"
          ]
        }
      ],
      "source": [
        "!pwd"
      ]
    },
    {
      "cell_type": "code",
      "execution_count": null,
      "id": "9a5f7206-dce7-4dfb-9704-4b55be182e42",
      "metadata": {
        "id": "9a5f7206-dce7-4dfb-9704-4b55be182e42",
        "outputId": "5a29c34a-09ac-4009-9154-200b26b87662"
      },
      "outputs": [
        {
          "name": "stdout",
          "output_type": "stream",
          "text": [
            "/home/ubuntu/notebooks/Test\n"
          ]
        }
      ],
      "source": [
        "%cd /home/ubuntu/notebooks/Test/"
      ]
    },
    {
      "cell_type": "markdown",
      "id": "bf26e978-61ae-431c-8e3d-38d6a8d960db",
      "metadata": {
        "tags": [],
        "id": "bf26e978-61ae-431c-8e3d-38d6a8d960db"
      },
      "source": [
        "## Problem 1 - Word counts (30 points)"
      ]
    },
    {
      "cell_type": "markdown",
      "id": "91249695-bb96-43ad-8905-e3a1af1f8d86",
      "metadata": {
        "tags": [],
        "id": "91249695-bb96-43ad-8905-e3a1af1f8d86"
      },
      "source": [
        "### Part A. Characters in The Hound of the Baskervilles (15 points)\n",
        "Use the text available at https://s3.amazonaws.com/dmfa-2020/project-1/hound.txt for this part.\n",
        "\n",
        "How many times are each of the following characters mentioned by name in the text of The Hound of the Baskervilles?\n",
        "\n",
        "Holmes, Watson, Barrymore, Mortimer\n",
        "\n",
        "Hint: Be careful where the names matches both the exact name and a plural relating to a family name. For example, Watsons vs. Watson.  What do you observe?"
      ]
    },
    {
      "cell_type": "markdown",
      "id": "72e04769-6139-4d5a-a2a9-a10330942f40",
      "metadata": {
        "id": "72e04769-6139-4d5a-a2a9-a10330942f40"
      },
      "source": [
        "Get the .txt file from the location to our AWS system"
      ]
    },
    {
      "cell_type": "code",
      "execution_count": null,
      "id": "2e6fea90-44bd-414e-abff-debaeda02641",
      "metadata": {
        "id": "2e6fea90-44bd-414e-abff-debaeda02641",
        "outputId": "07f3e052-9663-4849-e2d6-72a9e5f20263"
      },
      "outputs": [
        {
          "name": "stdout",
          "output_type": "stream",
          "text": [
            "--2021-09-27 00:25:48--  https://s3.amazonaws.com/dmfa-2020/project-1/hound.txt\n",
            "Resolving s3.amazonaws.com (s3.amazonaws.com)... 52.217.75.182\n",
            "Connecting to s3.amazonaws.com (s3.amazonaws.com)|52.217.75.182|:443... connected.\n",
            "HTTP request sent, awaiting response... 200 OK\n",
            "Length: 345659 (338K) [text/plain]\n",
            "Saving to: ‘hound.txt’\n",
            "\n",
            "hound.txt           100%[===================>] 337.56K  --.-KB/s    in 0.01s   \n",
            "\n",
            "2021-09-27 00:25:48 (33.1 MB/s) - ‘hound.txt’ saved [345659/345659]\n",
            "\n"
          ]
        }
      ],
      "source": [
        "!wget https://s3.amazonaws.com/dmfa-2020/project-1/hound.txt"
      ]
    },
    {
      "cell_type": "code",
      "execution_count": null,
      "id": "d6288813-8320-4473-96ad-438d602a6037",
      "metadata": {
        "id": "d6288813-8320-4473-96ad-438d602a6037"
      },
      "outputs": [],
      "source": [
        "assert \"hound.txt\" in os.listdir()"
      ]
    },
    {
      "cell_type": "code",
      "execution_count": null,
      "id": "ae6862f1-4e02-49af-8d22-63dd6ef84443",
      "metadata": {
        "collapsed": true,
        "jupyter": {
          "outputs_hidden": true
        },
        "tags": [],
        "id": "ae6862f1-4e02-49af-8d22-63dd6ef84443",
        "outputId": "8e05c640-2ff2-4a6b-d919-43d9d5f55157"
      },
      "outputs": [
        {
          "name": "stdout",
          "output_type": "stream",
          "text": [
            "GREP(1)                          User Commands                         GREP(1)\n",
            "\n",
            "NAME\n",
            "       grep, egrep, fgrep, rgrep - print lines that match patterns\n",
            "\n",
            "SYNOPSIS\n",
            "       grep [OPTION...] PATTERNS [FILE...]\n",
            "       grep [OPTION...] -e PATTERNS ... [FILE...]\n",
            "       grep [OPTION...] -f PATTERN_FILE ... [FILE...]\n",
            "\n",
            "DESCRIPTION\n",
            "       grep  searches  for  PATTERNS  in  each  FILE.  PATTERNS is one or more\n",
            "       patterns separated by newline characters, and  grep  prints  each  line\n",
            "       that  matches a pattern.  Typically PATTERNS should be quoted when grep\n",
            "       is used in a shell command.\n",
            "\n",
            "       A FILE of “-”  stands  for  standard  input.   If  no  FILE  is  given,\n",
            "       recursive  searches  examine  the  working  directory, and nonrecursive\n",
            "       searches read standard input.\n",
            "\n",
            "       In addition, the variant programs egrep, fgrep and rgrep are  the  same\n",
            "       as  grep -E,  grep -F,  and  grep -r, respectively.  These variants are\n",
            "       deprecated, but are provided for backward compatibility.\n",
            "\n",
            "OPTIONS\n",
            "   Generic Program Information\n",
            "       --help Output a usage message and exit.\n",
            "\n",
            "       -V, --version\n",
            "              Output the version number of grep and exit.\n",
            "\n",
            "   Pattern Syntax\n",
            "       -E, --extended-regexp\n",
            "              Interpret PATTERNS as extended regular  expressions  (EREs,  see\n",
            "              below).\n",
            "\n",
            "       -F, --fixed-strings\n",
            "              Interpret PATTERNS as fixed strings, not regular expressions.\n",
            "\n",
            "       -G, --basic-regexp\n",
            "              Interpret  PATTERNS  as  basic  regular  expressions  (BREs, see\n",
            "              below).  This is the default.\n",
            "\n",
            "       -P, --perl-regexp\n",
            "              Interpret  PATTERNS  as  Perl-compatible   regular   expressions\n",
            "              (PCREs).   This option is experimental when combined with the -z\n",
            "              (--null-data) option, and grep  -P  may  warn  of  unimplemented\n",
            "              features.\n",
            "\n",
            "   Matching Control\n",
            "       -e PATTERNS, --regexp=PATTERNS\n",
            "              Use  PATTERNS  as the patterns.  If this option is used multiple\n",
            "              times or is combined with the -f (--file) option, search for all\n",
            "              patterns  given.   This  option can be used to protect a pattern\n",
            "              beginning with “-”.\n",
            "\n",
            "       -f FILE, --file=FILE\n",
            "              Obtain patterns from FILE, one per line.  If this option is used\n",
            "              multiple  times  or  is  combined with the -e (--regexp) option,\n",
            "              search for all patterns given.  The  empty  file  contains  zero\n",
            "              patterns, and therefore matches nothing.\n",
            "\n",
            "       -i, --ignore-case\n",
            "              Ignore  case  distinctions  in  patterns and input data, so that\n",
            "              characters that differ only in case match each other.\n",
            "\n",
            "       --no-ignore-case\n",
            "              Do not ignore case distinctions  in  patterns  and  input  data.\n",
            "              This is the default.  This option is useful for passing to shell\n",
            "              scripts that already use -i, to cancel its effects  because  the\n",
            "              two options override each other.\n",
            "\n",
            "       -v, --invert-match\n",
            "              Invert the sense of matching, to select non-matching lines.\n",
            "\n",
            "       -w, --word-regexp\n",
            "              Select  only  those  lines  containing  matches  that form whole\n",
            "              words.  The test is that the matching substring must  either  be\n",
            "              at  the  beginning  of  the  line,  or  preceded  by  a non-word\n",
            "              constituent character.  Similarly, it must be either at the  end\n",
            "              of  the  line  or  followed by a non-word constituent character.\n",
            "              Word-constituent  characters  are  letters,  digits,   and   the\n",
            "              underscore.  This option has no effect if -x is also specified.\n",
            "\n",
            "       -x, --line-regexp\n",
            "              Select  only  those  matches  that exactly match the whole line.\n",
            "              For a regular expression pattern, this  is  like  parenthesizing\n",
            "              the pattern and then surrounding it with ^ and $.\n",
            "\n",
            "       -y     Obsolete synonym for -i.\n",
            "\n",
            "   General Output Control\n",
            "       -c, --count\n",
            "              Suppress  normal output; instead print a count of matching lines\n",
            "              for each input file.  With the -v,  --invert-match  option  (see\n",
            "              below), count non-matching lines.\n",
            "\n",
            "       --color[=WHEN], --colour[=WHEN]\n",
            "              Surround   the  matched  (non-empty)  strings,  matching  lines,\n",
            "              context lines, file  names,  line  numbers,  byte  offsets,  and\n",
            "              separators  (for fields and groups of context lines) with escape\n",
            "              sequences to display them in color on the terminal.  The  colors\n",
            "              are  defined  by  the  environment  variable  GREP_COLORS.   The\n",
            "              deprecated environment variable GREP_COLOR is  still  supported,\n",
            "              but  its setting does not have priority.  WHEN is never, always,\n",
            "              or auto.\n",
            "\n",
            "       -L, --files-without-match\n",
            "              Suppress normal output; instead print the  name  of  each  input\n",
            "              file from which no output would normally have been printed.  The\n",
            "              scanning will stop on the first match.\n",
            "\n",
            "       -l, --files-with-matches\n",
            "              Suppress normal output; instead print the  name  of  each  input\n",
            "              file  from  which  output would normally have been printed.  The\n",
            "              scanning will stop on the first match.\n",
            "\n",
            "       -m NUM, --max-count=NUM\n",
            "              Stop reading a file after NUM matching lines.  If the  input  is\n",
            "              standard  input  from a regular file, and NUM matching lines are\n",
            "              output, grep ensures that the standard input  is  positioned  to\n",
            "              just  after the last matching line before exiting, regardless of\n",
            "              the presence of trailing context lines.  This enables a  calling\n",
            "              process  to resume a search.  When grep stops after NUM matching\n",
            "              lines, it outputs any trailing context lines.  When  the  -c  or\n",
            "              --count  option  is  also  used,  grep  does  not output a count\n",
            "              greater than NUM.  When the -v or --invert-match option is  also\n",
            "              used, grep stops after outputting NUM non-matching lines.\n",
            "\n",
            "       -o, --only-matching\n",
            "              Print  only  the  matched  (non-empty) parts of a matching line,\n",
            "              with each such part on a separate output line.\n",
            "\n",
            "       -q, --quiet, --silent\n",
            "              Quiet;  do  not  write  anything  to  standard   output.    Exit\n",
            "              immediately  with  zero status if any match is found, even if an\n",
            "              error was detected.  Also see the -s or --no-messages option.\n",
            "\n",
            "       -s, --no-messages\n",
            "              Suppress error messages about nonexistent or unreadable files.\n",
            "\n",
            "   Output Line Prefix Control\n",
            "       -b, --byte-offset\n",
            "              Print the 0-based byte offset within the input file before  each\n",
            "              line of output.  If -o (--only-matching) is specified, print the\n",
            "              offset of the matching part itself.\n",
            "\n",
            "       -H, --with-filename\n",
            "              Print the file name for each match.  This is  the  default  when\n",
            "              there is more than one file to search.\n",
            "\n",
            "       -h, --no-filename\n",
            "              Suppress  the  prefixing  of  file names on output.  This is the\n",
            "              default when there is only one file (or only standard input)  to\n",
            "              search.\n",
            "\n",
            "       --label=LABEL\n",
            "              Display  input  actually  coming  from  standard  input as input\n",
            "              coming from file LABEL.  This can be useful  for  commands  that\n",
            "              transform  a  file's  contents  before searching, e.g., gzip -cd\n",
            "              foo.gz | grep --label=foo -H 'some pattern'.  See  also  the  -H\n",
            "              option.\n",
            "\n",
            "       -n, --line-number\n",
            "              Prefix  each  line of output with the 1-based line number within\n",
            "              its input file.\n",
            "\n",
            "       -T, --initial-tab\n",
            "              Make sure that the first character of actual line  content  lies\n",
            "              on a tab stop, so that the alignment of tabs looks normal.  This\n",
            "              is useful with options that prefix their output  to  the  actual\n",
            "              content:  -H,-n,  and  -b.   In order to improve the probability\n",
            "              that lines from a single file will all start at the same column,\n",
            "              this also causes the line number and byte offset (if present) to\n",
            "              be printed in a minimum size field width.\n",
            "\n",
            "       -u, --unix-byte-offsets\n",
            "              Report Unix-style byte offsets.   This  switch  causes  grep  to\n",
            "              report  byte offsets as if the file were a Unix-style text file,\n",
            "              i.e., with  CR  characters  stripped  off.   This  will  produce\n",
            "              results  identical  to  running  grep  on  a Unix machine.  This\n",
            "              option has no effect unless -b option is also used;  it  has  no\n",
            "              effect on platforms other than MS-DOS and MS-Windows.\n",
            "\n",
            "       -Z, --null\n",
            "              Output  a  zero  byte  (the  ASCII NUL character) instead of the\n",
            "              character that normally follows a file name.  For example,  grep\n",
            "              -lZ  outputs  a  zero  byte  after each file name instead of the\n",
            "              usual newline.  This option makes the output  unambiguous,  even\n",
            "              in the presence of file names containing unusual characters like\n",
            "              newlines.  This option can  be  used  with  commands  like  find\n",
            "              -print0,  perl  -0,  sort  -z, and xargs -0 to process arbitrary\n",
            "              file names, even those that contain newline characters.\n",
            "\n",
            "   Context Line Control\n",
            "       -A NUM, --after-context=NUM\n",
            "              Print NUM  lines  of  trailing  context  after  matching  lines.\n",
            "              Places   a  line  containing  a  group  separator  (--)  between\n",
            "              contiguous groups of matches.  With the  -o  or  --only-matching\n",
            "              option, this has no effect and a warning is given.\n",
            "\n",
            "       -B NUM, --before-context=NUM\n",
            "              Print  NUM  lines  of  leading  context  before  matching lines.\n",
            "              Places  a  line  containing  a  group  separator  (--)   between\n",
            "              contiguous  groups  of  matches.  With the -o or --only-matching\n",
            "              option, this has no effect and a warning is given.\n",
            "\n",
            "       -C NUM, -NUM, --context=NUM\n",
            "              Print NUM lines of output context.  Places a line  containing  a\n",
            "              group separator (--) between contiguous groups of matches.  With\n",
            "              the -o or --only-matching option,  this  has  no  effect  and  a\n",
            "              warning is given.\n",
            "\n",
            "   File and Directory Selection\n",
            "       -a, --text\n",
            "              Process  a binary file as if it were text; this is equivalent to\n",
            "              the --binary-files=text option.\n",
            "\n",
            "       --binary-files=TYPE\n",
            "              If a file's data or metadata indicate  that  the  file  contains\n",
            "              binary  data,  assume  that  the file is of type TYPE.  Non-text\n",
            "              bytes indicate binary data; these are either output  bytes  that\n",
            "              are  improperly  encoded  for  the current locale, or null input\n",
            "              bytes when the -z option is not given.\n",
            "\n",
            "              By default, TYPE is binary, and  grep  suppresses  output  after\n",
            "              null  input  binary  data  is  discovered, and suppresses output\n",
            "              lines that contain improperly encoded data.  When some output is\n",
            "              suppressed,  grep  follows  any  output  with a one-line message\n",
            "              saying that a binary file matches.\n",
            "\n",
            "              If TYPE is without-match, when grep discovers null input  binary\n",
            "              data  it  assumes that the rest of the file does not match; this\n",
            "              is equivalent to the -I option.\n",
            "\n",
            "              If TYPE is text, grep processes a binary  file  as  if  it  were\n",
            "              text; this is equivalent to the -a option.\n",
            "\n",
            "              When  type  is  binary,  grep  may  treat non-text bytes as line\n",
            "              terminators even without the -z  option.   This  means  choosing\n",
            "              binary  versus text can affect whether a pattern matches a file.\n",
            "              For example, when type is binary the pattern q$  might  match  q\n",
            "              immediately  followed  by  a  null byte, even though this is not\n",
            "              matched when type is text.  Conversely, when type is binary  the\n",
            "              pattern . (period) might not match a null byte.\n",
            "\n",
            "              Warning:  The  -a  option might output binary garbage, which can\n",
            "              have nasty side effects if the output is a terminal and  if  the\n",
            "              terminal driver interprets some of it as commands.  On the other\n",
            "              hand, when reading files whose text encodings  are  unknown,  it\n",
            "              can   be  helpful  to  use  -a  or  to  set  LC_ALL='C'  in  the\n",
            "              environment, in order to find more matches even if  the  matches\n",
            "              are unsafe for direct display.\n",
            "\n",
            "       -D ACTION, --devices=ACTION\n",
            "              If  an  input  file  is  a device, FIFO or socket, use ACTION to\n",
            "              process it.  By  default,  ACTION  is  read,  which  means  that\n",
            "              devices are read just as if they were ordinary files.  If ACTION\n",
            "              is skip, devices are silently skipped.\n",
            "\n",
            "       -d ACTION, --directories=ACTION\n",
            "              If an input file is a directory, use ACTION to process  it.   By\n",
            "              default,  ACTION is read, i.e., read directories just as if they\n",
            "              were  ordinary  files.   If  ACTION  is  skip,   silently   skip\n",
            "              directories.   If  ACTION  is recurse, read all files under each\n",
            "              directory, recursively, following symbolic links  only  if  they\n",
            "              are on the command line.  This is equivalent to the -r option.\n",
            "\n",
            "       --exclude=GLOB\n",
            "              Skip  any  command-line file with a name suffix that matches the\n",
            "              pattern GLOB, using wildcard matching; a name suffix  is  either\n",
            "              the  whole name, or a trailing part that starts with a non-slash\n",
            "              character immediately after a  slash  (/)  in  the  name.   When\n",
            "              searching  recursively, skip any subfile whose base name matches\n",
            "              GLOB; the base name is the part after the last slash.  A pattern\n",
            "              can  use *, ?, and [...] as wildcards, and \\ to quote a wildcard\n",
            "              or backslash character literally.\n",
            "\n",
            "       --exclude-from=FILE\n",
            "              Skip files whose base name matches any of  the  file-name  globs\n",
            "              read  from  FILE  (using  wildcard  matching  as described under\n",
            "              --exclude).\n",
            "\n",
            "       --exclude-dir=GLOB\n",
            "              Skip any command-line directory with a name suffix that  matches\n",
            "              the   pattern   GLOB.   When  searching  recursively,  skip  any\n",
            "              subdirectory whose base name matches GLOB.  Ignore any redundant\n",
            "              trailing slashes in GLOB.\n",
            "\n",
            "       -I     Process  a  binary  file as if it did not contain matching data;\n",
            "              this is equivalent to the --binary-files=without-match option.\n",
            "\n",
            "       --include=GLOB\n",
            "              Search only files whose base name matches GLOB  (using  wildcard\n",
            "              matching as described under --exclude).\n",
            "\n",
            "       -r, --recursive\n",
            "              Read  all  files  under  each  directory, recursively, following\n",
            "              symbolic links only if they are on the command line.  Note  that\n",
            "              if   no  file  operand  is  given,  grep  searches  the  working\n",
            "              directory.  This is equivalent to the -d recurse option.\n",
            "\n",
            "       -R, --dereference-recursive\n",
            "              Read all files under each directory,  recursively.   Follow  all\n",
            "              symbolic links, unlike -r.\n",
            "\n",
            "   Other Options\n",
            "       --line-buffered\n",
            "              Use  line  buffering  on  output.   This can cause a performance\n",
            "              penalty.\n",
            "\n",
            "       -U, --binary\n",
            "              Treat the file(s) as binary.  By default, under MS-DOS  and  MS-\n",
            "              Windows,  grep  guesses  whether  a  file  is  text or binary as\n",
            "              described for the --binary-files option.  If  grep  decides  the\n",
            "              file  is  a  text  file,  it  strips  the CR characters from the\n",
            "              original file contents (to make regular expressions with ^ and $\n",
            "              work   correctly).   Specifying  -U  overrules  this  guesswork,\n",
            "              causing all  files  to  be  read  and  passed  to  the  matching\n",
            "              mechanism  verbatim; if the file is a text file with CR/LF pairs\n",
            "              at  the  end  of  each  line,  this  will  cause  some   regular\n",
            "              expressions  to  fail.   This  option has no effect on platforms\n",
            "              other than MS-DOS and MS-Windows.\n",
            "\n",
            "       -z, --null-data\n",
            "              Treat  input  and  output  data  as  sequences  of  lines,  each\n",
            "              terminated by a zero byte (the ASCII NUL character) instead of a\n",
            "              newline.  Like the -Z or --null option, this option can be  used\n",
            "              with commands like sort -z to process arbitrary file names.\n",
            "\n",
            "REGULAR EXPRESSIONS\n",
            "       A  regular  expression  is  a  pattern that describes a set of strings.\n",
            "       Regular  expressions  are   constructed   analogously   to   arithmetic\n",
            "       expressions, by using various operators to combine smaller expressions.\n",
            "\n",
            "       grep understands three different versions of regular expression syntax:\n",
            "       “basic” (BRE), “extended” (ERE) and “perl” (PCRE).  In GNU  grep  there\n",
            "       is  no difference in available functionality between basic and extended\n",
            "       syntaxes.  In other implementations, basic regular expressions are less\n",
            "       powerful.   The  following  description  applies  to  extended  regular\n",
            "       expressions; differences for basic regular expressions  are  summarized\n",
            "       afterwards.    Perl-compatible   regular  expressions  give  additional\n",
            "       functionality, and are documented in pcresyntax(3) and  pcrepattern(3),\n",
            "       but work only if PCRE is available in the system.\n",
            "\n",
            "       The  fundamental building blocks are the regular expressions that match\n",
            "       a single character.  Most characters, including all letters and digits,\n",
            "       are regular expressions that match themselves.  Any meta-character with\n",
            "       special meaning may be quoted by preceding it with a backslash.\n",
            "\n",
            "       The period . matches any single character.  It is  unspecified  whether\n",
            "       it matches an encoding error.\n",
            "\n",
            "   Character Classes and Bracket Expressions\n",
            "       A  bracket  expression is a list of characters enclosed by [ and ].  It\n",
            "       matches any single character in that list.  If the first  character  of\n",
            "       the  list is the caret ^ then it matches any character not in the list;\n",
            "       it is unspecified whether it matches an encoding error.   For  example,\n",
            "       the regular expression [0123456789] matches any single digit.\n",
            "\n",
            "       Within  a  bracket  expression,  a  range  expression  consists  of two\n",
            "       characters separated by a hyphen.  It matches any single character that\n",
            "       sorts  between  the  two  characters,  inclusive,  using  the  locale's\n",
            "       collating sequence and character set.  For example, in  the  default  C\n",
            "       locale, [a-d] is equivalent to [abcd].  Many locales sort characters in\n",
            "       dictionary  order,  and  in  these  locales  [a-d]  is  typically   not\n",
            "       equivalent to [abcd]; it might be equivalent to [aBbCcDd], for example.\n",
            "       To obtain the traditional interpretation of  bracket  expressions,  you\n",
            "       can  use the C locale by setting the LC_ALL environment variable to the\n",
            "       value C.\n",
            "\n",
            "       Finally, certain named classes  of  characters  are  predefined  within\n",
            "       bracket expressions, as follows.  Their names are self explanatory, and\n",
            "       they  are  [:alnum:],  [:alpha:],  [:blank:],   [:cntrl:],   [:digit:],\n",
            "       [:graph:],  [:lower:],  [:print:], [:punct:], [:space:], [:upper:], and\n",
            "       [:xdigit:].  For example, [[:alnum:]]  means  the  character  class  of\n",
            "       numbers  and  letters in the current locale.  In the C locale and ASCII\n",
            "       character set encoding, this is the same as  [0-9A-Za-z].   (Note  that\n",
            "       the  brackets  in these class names are part of the symbolic names, and\n",
            "       must be included in addition to the  brackets  delimiting  the  bracket\n",
            "       expression.)   Most  meta-characters  lose their special meaning inside\n",
            "       bracket expressions.  To include a literal ]  place  it  first  in  the\n",
            "       list.   Similarly,  to include a literal ^ place it anywhere but first.\n",
            "       Finally, to include a literal - place it last.\n",
            "\n",
            "   Anchoring\n",
            "       The caret ^ and the dollar sign $ are meta-characters that respectively\n",
            "       match the empty string at the beginning and end of a line.\n",
            "\n",
            "   The Backslash Character and Special Expressions\n",
            "       The  symbols  \\<  and  \\>  respectively  match  the empty string at the\n",
            "       beginning and end of a word.  The symbol \\b matches the empty string at\n",
            "       the  edge  of a word, and \\B matches the empty string provided it's not\n",
            "       at the edge of a word.  The symbol \\w is a synonym for [_[:alnum:]] and\n",
            "       \\W is a synonym for [^_[:alnum:]].\n",
            "\n",
            "   Repetition\n",
            "       A  regular  expression  may  be  followed  by one of several repetition\n",
            "       operators:\n",
            "       ?      The preceding item is optional and matched at most once.\n",
            "       *      The preceding item will be matched zero or more times.\n",
            "       +      The preceding item will be matched one or more times.\n",
            "       {n}    The preceding item is matched exactly n times.\n",
            "       {n,}   The preceding item is matched n or more times.\n",
            "       {,m}   The preceding item is matched at most m times.  This  is  a  GNU\n",
            "              extension.\n",
            "       {n,m}  The  preceding  item  is  matched at least n times, but not more\n",
            "              than m times.\n",
            "\n",
            "   Concatenation\n",
            "       Two regular expressions may  be  concatenated;  the  resulting  regular\n",
            "       expression  matches  any  string formed by concatenating two substrings\n",
            "       that respectively match the concatenated expressions.\n",
            "\n",
            "   Alternation\n",
            "       Two regular expressions may be joined by  the  infix  operator  |;  the\n",
            "       resulting   regular  expression  matches  any  string  matching  either\n",
            "       alternate expression.\n",
            "\n",
            "   Precedence\n",
            "       Repetition takes precedence over concatenation,  which  in  turn  takes\n",
            "       precedence  over  alternation.   A  whole expression may be enclosed in\n",
            "       parentheses  to  override   these   precedence   rules   and   form   a\n",
            "       subexpression.\n",
            "\n",
            "   Back-references and Subexpressions\n",
            "       The back-reference \\n, where n is a single digit, matches the substring\n",
            "       previously matched  by  the  nth  parenthesized  subexpression  of  the\n",
            "       regular expression.\n",
            "\n",
            "   Basic vs Extended Regular Expressions\n",
            "       In  basic  regular expressions the meta-characters ?, +, {, |, (, and )\n",
            "       lose their special meaning; instead use the  backslashed  versions  \\?,\n",
            "       \\+, \\{, \\|, \\(, and \\).\n",
            "\n",
            "EXIT STATUS\n",
            "       Normally the exit status is 0 if a line is selected, 1 if no lines were\n",
            "       selected, and 2 if an error occurred.  However, if the -q or --quiet or\n",
            "       --silent  is  used and a line is selected, the exit status is 0 even if\n",
            "       an error occurred.\n",
            "\n",
            "ENVIRONMENT\n",
            "       The  behavior  of  grep  is  affected  by  the  following   environment\n",
            "       variables.\n",
            "\n",
            "       The  locale  for  category  LC_foo  is specified by examining the three\n",
            "       environment variables LC_ALL, LC_foo, LANG, in that order.   The  first\n",
            "       of  these  variables that is set specifies the locale.  For example, if\n",
            "       LC_ALL is not set, but LC_MESSAGES is set to pt_BR, then the  Brazilian\n",
            "       Portuguese  locale  is used for the LC_MESSAGES category.  The C locale\n",
            "       is used if none of these environment variables are set, if  the  locale\n",
            "       catalog  is  not  installed,  or if grep was not compiled with national\n",
            "       language support (NLS).  The shell command locale -a lists locales that\n",
            "       are currently available.\n",
            "\n",
            "       GREP_OPTIONS\n",
            "              This variable specifies default options to be placed in front of\n",
            "              any explicit options.  As  this  causes  problems  when  writing\n",
            "              portable  scripts,  this  feature  will  be  removed in a future\n",
            "              release of grep, and grep warns if it is used.   Please  use  an\n",
            "              alias or script instead.\n",
            "\n",
            "       GREP_COLOR\n",
            "              This  variable  specifies  the  color  used to highlight matched\n",
            "              (non-empty) text.  It is deprecated in favor of GREP_COLORS, but\n",
            "              still supported.  The mt, ms, and mc capabilities of GREP_COLORS\n",
            "              have priority over it.  It can only specify the  color  used  to\n",
            "              highlight  the  matching  non-empty text in any matching line (a\n",
            "              selected line when the -v command-line option is omitted,  or  a\n",
            "              context line when -v is specified).  The default is 01;31, which\n",
            "              means a bold red  foreground  text  on  the  terminal's  default\n",
            "              background.\n",
            "\n",
            "       GREP_COLORS\n",
            "              Specifies  the  colors  and  other  attributes used to highlight\n",
            "              various parts of the output.  Its  value  is  a  colon-separated\n",
            "              list       of       capabilities      that      defaults      to\n",
            "              ms=01;31:mc=01;31:sl=:cx=:fn=35:ln=32:bn=32:se=36  with  the  rv\n",
            "              and  ne  boolean  capabilities omitted (i.e., false).  Supported\n",
            "              capabilities are as follows.\n",
            "\n",
            "              sl=    SGR substring for whole selected  lines  (i.e.,  matching\n",
            "                     lines when the -v command-line option is omitted, or non-\n",
            "                     matching lines when -v is  specified).   If  however  the\n",
            "                     boolean  rv capability and the -v command-line option are\n",
            "                     both specified, it  applies  to  context  matching  lines\n",
            "                     instead.   The  default  is  empty  (i.e., the terminal's\n",
            "                     default color pair).\n",
            "\n",
            "              cx=    SGR substring for whole context lines (i.e., non-matching\n",
            "                     lines  when  the  -v  command-line  option is omitted, or\n",
            "                     matching lines when -v is  specified).   If  however  the\n",
            "                     boolean  rv capability and the -v command-line option are\n",
            "                     both specified, it applies to selected non-matching lines\n",
            "                     instead.   The  default  is  empty  (i.e., the terminal's\n",
            "                     default color pair).\n",
            "\n",
            "              rv     Boolean value that reverses (swaps) the meanings  of  the\n",
            "                     sl=  and cx= capabilities when the -v command-line option\n",
            "                     is specified.  The default is false (i.e., the capability\n",
            "                     is omitted).\n",
            "\n",
            "              mt=01;31\n",
            "                     SGR substring for matching non-empty text in any matching\n",
            "                     line (i.e., a selected  line  when  the  -v  command-line\n",
            "                     option   is  omitted,  or  a  context  line  when  -v  is\n",
            "                     specified).  Setting this is equivalent to  setting  both\n",
            "                     ms=  and mc= at once to the same value.  The default is a\n",
            "                     bold  red  text  foreground   over   the   current   line\n",
            "                     background.\n",
            "\n",
            "              ms=01;31\n",
            "                     SGR  substring  for matching non-empty text in a selected\n",
            "                     line.  (This is only used when the -v command-line option\n",
            "                     is  omitted.)   The  effect  of  the  sl=  (or cx= if rv)\n",
            "                     capability  remains  active  when  this  kicks  in.   The\n",
            "                     default  is  a  bold red text foreground over the current\n",
            "                     line background.\n",
            "\n",
            "              mc=01;31\n",
            "                     SGR substring for matching non-empty text  in  a  context\n",
            "                     line.  (This is only used when the -v command-line option\n",
            "                     is specified.)  The effect of the  cx=  (or  sl=  if  rv)\n",
            "                     capability  remains  active  when  this  kicks  in.   The\n",
            "                     default is a bold red text foreground  over  the  current\n",
            "                     line background.\n",
            "\n",
            "              fn=35  SGR  substring for file names prefixing any content line.\n",
            "                     The  default  is  a  magenta  text  foreground  over  the\n",
            "                     terminal's default background.\n",
            "\n",
            "              ln=32  SGR  substring  for  line  numbers  prefixing any content\n",
            "                     line.  The default is a green text  foreground  over  the\n",
            "                     terminal's default background.\n",
            "\n",
            "              bn=32  SGR  substring  for  byte  offsets  prefixing any content\n",
            "                     line.  The default is a green text  foreground  over  the\n",
            "                     terminal's default background.\n",
            "\n",
            "              se=36  SGR  substring  for  separators that are inserted between\n",
            "                     selected line fields (:), between  context  line  fields,\n",
            "                     (-),  and  between  groups of adjacent lines when nonzero\n",
            "                     context is specified (--).  The default is  a  cyan  text\n",
            "                     foreground over the terminal's default background.\n",
            "\n",
            "              ne     Boolean  value  that prevents clearing to the end of line\n",
            "                     using Erase in Line (EL) to Right  (\\33[K)  each  time  a\n",
            "                     colorized  item  ends.   This  is  needed on terminals on\n",
            "                     which EL is not supported.  It  is  otherwise  useful  on\n",
            "                     terminals  for  which  the back_color_erase (bce) boolean\n",
            "                     terminfo capability  does  not  apply,  when  the  chosen\n",
            "                     highlight colors do not affect the background, or when EL\n",
            "                     is too slow or causes too much flicker.  The  default  is\n",
            "                     false (i.e., the capability is omitted).\n",
            "\n",
            "              Note  that  boolean  capabilities  have  no =... part.  They are\n",
            "              omitted (i.e., false) by default and become true when specified.\n",
            "\n",
            "              See  the  Select  Graphic  Rendition  (SGR)   section   in   the\n",
            "              documentation  of  the  text terminal that is used for permitted\n",
            "              values  and  their  meaning  as  character  attributes.    These\n",
            "              substring  values are integers in decimal representation and can\n",
            "              be concatenated with semicolons.  grep takes care of  assembling\n",
            "              the  result  into  a  complete  SGR sequence (\\33[...m).  Common\n",
            "              values to concatenate include 1 for bold, 4 for underline, 5 for\n",
            "              blink,  7 for inverse, 39 for default foreground color, 30 to 37\n",
            "              for foreground colors, 90 to 97  for  16-color  mode  foreground\n",
            "              colors,  38;5;0  to  38;5;255  for  88-color and 256-color modes\n",
            "              foreground colors, 49 for default background color, 40 to 47 for\n",
            "              background  colors,  100  to  107  for  16-color mode background\n",
            "              colors, and 48;5;0 to 48;5;255 for 88-color and 256-color  modes\n",
            "              background colors.\n",
            "\n",
            "       LC_ALL, LC_COLLATE, LANG\n",
            "              These  variables specify the locale for the LC_COLLATE category,\n",
            "              which determines the collating sequence used to interpret  range\n",
            "              expressions like [a-z].\n",
            "\n",
            "       LC_ALL, LC_CTYPE, LANG\n",
            "              These  variables  specify  the locale for the LC_CTYPE category,\n",
            "              which determines the type of characters, e.g., which  characters\n",
            "              are  whitespace.   This  category  also determines the character\n",
            "              encoding, that is, whether text is encoded in UTF-8,  ASCII,  or\n",
            "              some  other  encoding.  In the C or POSIX locale, all characters\n",
            "              are encoded  as  a  single  byte  and  every  byte  is  a  valid\n",
            "              character.\n",
            "\n",
            "       LC_ALL, LC_MESSAGES, LANG\n",
            "              These variables specify the locale for the LC_MESSAGES category,\n",
            "              which determines the language that grep uses for messages.   The\n",
            "              default C locale uses American English messages.\n",
            "\n",
            "       POSIXLY_CORRECT\n",
            "              If  set, grep behaves as POSIX requires; otherwise, grep behaves\n",
            "              more like other GNU programs.  POSIX requires that options  that\n",
            "              follow  file  names  must  be treated as file names; by default,\n",
            "              such options are permuted to the front of the operand  list  and\n",
            "              are  treated as options.  Also, POSIX requires that unrecognized\n",
            "              options be diagnosed as “illegal”, but since they are not really\n",
            "              against  the  law  the default is to diagnose them as “invalid”.\n",
            "              POSIXLY_CORRECT  also   disables   _N_GNU_nonoption_argv_flags_,\n",
            "              described below.\n",
            "\n",
            "       _N_GNU_nonoption_argv_flags_\n",
            "              (Here  N is grep's numeric process ID.)  If the ith character of\n",
            "              this environment variable's value is 1, do not consider the  ith\n",
            "              operand  of  grep to be an option, even if it appears to be one.\n",
            "              A shell can put  this  variable  in  the  environment  for  each\n",
            "              command  it  runs,  specifying which operands are the results of\n",
            "              file name wildcard expansion and therefore should not be treated\n",
            "              as  options.   This  behavior  is  available only with the GNU C\n",
            "              library, and only when POSIXLY_CORRECT is not set.\n",
            "\n",
            "NOTES\n",
            "       This man page is maintained only fitfully; the  full  documentation  is\n",
            "       often more up-to-date.\n",
            "\n",
            "COPYRIGHT\n",
            "       Copyright 1998-2000, 2002, 2005-2020 Free Software Foundation, Inc.\n",
            "\n",
            "       This is free software; see the source for copying conditions.  There is\n",
            "       NO warranty; not even for MERCHANTABILITY or FITNESS FOR  A  PARTICULAR\n",
            "       PURPOSE.\n",
            "\n",
            "BUGS\n",
            "   Reporting Bugs\n",
            "       Email  bug reports to the bug-reporting address ⟨bug-grep@gnu.org⟩.  An\n",
            "       email archive ⟨https://lists.gnu.org/mailman/listinfo/bug-grep⟩  and  a\n",
            "       bug   tracker  ⟨https://debbugs.gnu.org/cgi/pkgreport.cgi?package=grep⟩\n",
            "       are available.\n",
            "\n",
            "   Known Bugs\n",
            "       Large repetition counts in the {n,m} construct may cause  grep  to  use\n",
            "       lots of memory.  In addition, certain other obscure regular expressions\n",
            "       require exponential time and space, and may cause grep to  run  out  of\n",
            "       memory.\n",
            "\n",
            "       Back-references are very slow, and may require exponential time.\n",
            "\n",
            "EXAMPLE\n",
            "       The  following  example  outputs  the location and contents of any line\n",
            "       containing “f” and ending in “.c”, within all files in the current  di‐\n",
            "       rectory whose names contain “g” and end in “.h”.  The -n option outputs\n",
            "       line numbers, the -- argument treats  expansions  of  “*g*.h”  starting\n",
            "       with “-” as file names not options, and the empty file /dev/null causes\n",
            "       file names to be output even if only one file name happens to be of the\n",
            "       form “*g*.h”.\n",
            "\n",
            "         $ grep -n -- 'f.*\\.c$' *g*.h /dev/null\n",
            "         argmatch.h:1:/* definitions and prototypes for argmatch.c\n",
            "\n",
            "       The only line that matches is line 1 of argmatch.h.  Note that the reg‐\n",
            "       ular expression syntax used in the pattern differs  from  the  globbing\n",
            "       syntax that the shell uses to match file names.\n",
            "\n",
            "SEE ALSO\n",
            "   Regular Manual Pages\n",
            "       awk(1),  cmp(1),  diff(1), find(1), perl(1), sed(1), sort(1), xargs(1),\n",
            "       read(2), pcre(3), pcresyntax(3), pcrepattern(3), terminfo(5),  glob(7),\n",
            "       regex(7).\n",
            "\n",
            "   Full Documentation\n",
            "       A complete manual ⟨https://www.gnu.org/software/grep/manual/⟩ is avail‐\n",
            "       able.  If the info and grep programs are  properly  installed  at  your\n",
            "       site, the command\n",
            "\n",
            "              info grep\n",
            "\n",
            "       should give you access to the complete manual.\n",
            "\n",
            "GNU grep 3.4                      2019-12-29                           GREP(1)\n"
          ]
        }
      ],
      "source": [
        "!man grep"
      ]
    },
    {
      "cell_type": "code",
      "execution_count": null,
      "id": "c5e5c446-db53-4c53-af49-f4c55dc94d79",
      "metadata": {
        "collapsed": true,
        "jupyter": {
          "outputs_hidden": true
        },
        "tags": [],
        "id": "c5e5c446-db53-4c53-af49-f4c55dc94d79",
        "outputId": "74b274f5-1219-442d-9ae2-3c95c999b443"
      },
      "outputs": [
        {
          "name": "stdout",
          "output_type": "stream",
          "text": [
            "WC(1)                            User Commands                           WC(1)\n",
            "\n",
            "NAME\n",
            "       wc - print newline, word, and byte counts for each file\n",
            "\n",
            "SYNOPSIS\n",
            "       wc [OPTION]... [FILE]...\n",
            "       wc [OPTION]... --files0-from=F\n",
            "\n",
            "DESCRIPTION\n",
            "       Print newline, word, and byte counts for each FILE, and a total line if\n",
            "       more than one FILE is specified.  A word is a non-zero-length  sequence\n",
            "       of characters delimited by white space.\n",
            "\n",
            "       With no FILE, or when FILE is -, read standard input.\n",
            "\n",
            "       The  options  below may be used to select which counts are printed, al‐\n",
            "       ways in the following order: newline, word,  character,  byte,  maximum\n",
            "       line length.\n",
            "\n",
            "       -c, --bytes\n",
            "              print the byte counts\n",
            "\n",
            "       -m, --chars\n",
            "              print the character counts\n",
            "\n",
            "       -l, --lines\n",
            "              print the newline counts\n",
            "\n",
            "       --files0-from=F\n",
            "              read  input  from the files specified by NUL-terminated names in\n",
            "              file F; If F is - then read names from standard input\n",
            "\n",
            "       -L, --max-line-length\n",
            "              print the maximum display width\n",
            "\n",
            "       -w, --words\n",
            "              print the word counts\n",
            "\n",
            "       --help display this help and exit\n",
            "\n",
            "       --version\n",
            "              output version information and exit\n",
            "\n",
            "AUTHOR\n",
            "       Written by Paul Rubin and David MacKenzie.\n",
            "\n",
            "REPORTING BUGS\n",
            "       GNU coreutils online help: <https://www.gnu.org/software/coreutils/>\n",
            "       Report wc translation bugs to <https://translationproject.org/team/>\n",
            "\n",
            "COPYRIGHT\n",
            "       Copyright © 2018 Free Software Foundation, Inc.   License  GPLv3+:  GNU\n",
            "       GPL version 3 or later <https://gnu.org/licenses/gpl.html>.\n",
            "       This  is  free  software:  you  are free to change and redistribute it.\n",
            "       There is NO WARRANTY, to the extent permitted by law.\n",
            "\n",
            "SEE ALSO\n",
            "       Full documentation at: <https://www.gnu.org/software/coreutils/wc>\n",
            "       or available locally via: info '(coreutils) wc invocation'\n",
            "\n",
            "GNU coreutils 8.30              September 2019                           WC(1)\n"
          ]
        }
      ],
      "source": [
        "!man wc"
      ]
    },
    {
      "cell_type": "code",
      "execution_count": null,
      "id": "208ffa5c-450d-4448-a08c-7b0fdb72a091",
      "metadata": {
        "tags": [],
        "id": "208ffa5c-450d-4448-a08c-7b0fdb72a091",
        "outputId": "e2d20c36-c80b-4483-da28-bdbbfca1b8a4"
      },
      "outputs": [
        {
          "name": "stdout",
          "output_type": "stream",
          "text": [
            "190\n"
          ]
        }
      ],
      "source": [
        "!grep Holmes hound.txt | wc -l"
      ]
    },
    {
      "cell_type": "code",
      "execution_count": null,
      "id": "7f061e65-5a97-4b7a-aa06-471acfc3d3e1",
      "metadata": {
        "id": "7f061e65-5a97-4b7a-aa06-471acfc3d3e1",
        "outputId": "b5116958-b6bf-4f10-a1de-73b96c90b9d4"
      },
      "outputs": [
        {
          "name": "stdout",
          "output_type": "stream",
          "text": [
            "190\n"
          ]
        }
      ],
      "source": [
        "!grep -w Holmes hound.txt | wc -l"
      ]
    },
    {
      "cell_type": "code",
      "execution_count": null,
      "id": "32290be4-5156-44ab-8137-0d435e62d637",
      "metadata": {
        "id": "32290be4-5156-44ab-8137-0d435e62d637",
        "outputId": "6281aec7-fcfa-486b-e536-66293d3003bd"
      },
      "outputs": [
        {
          "name": "stdout",
          "output_type": "stream",
          "text": [
            "191\n"
          ]
        }
      ],
      "source": [
        "!grep -o Holmes hound.txt | wc -l"
      ]
    },
    {
      "cell_type": "code",
      "execution_count": null,
      "id": "22b6da59-bd0d-4072-b5b1-a87e0dca5a9f",
      "metadata": {
        "id": "22b6da59-bd0d-4072-b5b1-a87e0dca5a9f",
        "outputId": "223b27d2-ce58-4ee5-cafc-1fadb9b7b63e"
      },
      "outputs": [
        {
          "name": "stdout",
          "output_type": "stream",
          "text": [
            "191\n"
          ]
        }
      ],
      "source": [
        "!grep -w -o Holmes hound.txt | wc -l"
      ]
    },
    {
      "cell_type": "code",
      "execution_count": null,
      "id": "658c2122-98a6-4b76-9b68-eaeae7cfe700",
      "metadata": {
        "id": "658c2122-98a6-4b76-9b68-eaeae7cfe700",
        "outputId": "55c7b62b-c184-4533-c382-e33dd059c9cf"
      },
      "outputs": [
        {
          "name": "stdout",
          "output_type": "stream",
          "text": [
            "113\n"
          ]
        }
      ],
      "source": [
        "!grep Watson hound.txt | wc -l"
      ]
    },
    {
      "cell_type": "code",
      "execution_count": null,
      "id": "36a3cae2-c051-43dd-849d-49548c3f626c",
      "metadata": {
        "id": "36a3cae2-c051-43dd-849d-49548c3f626c",
        "outputId": "22703465-b515-4396-92b4-4e679113fbb5"
      },
      "outputs": [
        {
          "name": "stdout",
          "output_type": "stream",
          "text": [
            "113\n"
          ]
        }
      ],
      "source": [
        "!grep -w Watson hound.txt | wc -l"
      ]
    },
    {
      "cell_type": "code",
      "execution_count": null,
      "id": "3196aa87-6a7f-4cb4-a6ce-fb80ceca5826",
      "metadata": {
        "id": "3196aa87-6a7f-4cb4-a6ce-fb80ceca5826",
        "outputId": "ae07c332-d49c-466b-afbe-94847985f173"
      },
      "outputs": [
        {
          "name": "stdout",
          "output_type": "stream",
          "text": [
            "114\n"
          ]
        }
      ],
      "source": [
        "!grep -o Watson hound.txt | wc -l"
      ]
    },
    {
      "cell_type": "code",
      "execution_count": null,
      "id": "92a15a87-7621-4af2-a82a-df26fbb57a8e",
      "metadata": {
        "id": "92a15a87-7621-4af2-a82a-df26fbb57a8e",
        "outputId": "375307c8-8fbc-4142-b185-57f336a6796d"
      },
      "outputs": [
        {
          "name": "stdout",
          "output_type": "stream",
          "text": [
            "114\n"
          ]
        }
      ],
      "source": [
        "!grep -w -o Watson hound.txt | wc -l"
      ]
    },
    {
      "cell_type": "code",
      "execution_count": null,
      "id": "0c524f56-0638-44d5-b6ca-01e8a2ba70c0",
      "metadata": {
        "id": "0c524f56-0638-44d5-b6ca-01e8a2ba70c0",
        "outputId": "5afb37f1-4d1d-4243-d14e-c4d952fe054f"
      },
      "outputs": [
        {
          "name": "stdout",
          "output_type": "stream",
          "text": [
            "78\n"
          ]
        }
      ],
      "source": [
        "!grep Barrymore hound.txt | wc -l"
      ]
    },
    {
      "cell_type": "code",
      "execution_count": null,
      "id": "7829fc54-4fc1-4b8d-a647-3cbc179bbd1d",
      "metadata": {
        "id": "7829fc54-4fc1-4b8d-a647-3cbc179bbd1d",
        "outputId": "3e085c19-b6e0-4f8a-e2e6-51b2a65b44da"
      },
      "outputs": [
        {
          "name": "stdout",
          "output_type": "stream",
          "text": [
            "72\n"
          ]
        }
      ],
      "source": [
        "!grep -w Barrymore hound.txt | wc -l"
      ]
    },
    {
      "cell_type": "code",
      "execution_count": null,
      "id": "e783f0f1-f89b-4b23-b677-f2e8b9af9e09",
      "metadata": {
        "id": "e783f0f1-f89b-4b23-b677-f2e8b9af9e09",
        "outputId": "78cfea19-98cf-4725-c294-92c49cd075d6"
      },
      "outputs": [
        {
          "name": "stdout",
          "output_type": "stream",
          "text": [
            "79\n"
          ]
        }
      ],
      "source": [
        "!grep -o Barrymore hound.txt | wc -l"
      ]
    },
    {
      "cell_type": "code",
      "execution_count": null,
      "id": "5748ff1f-0ae4-488b-ba25-63ed733faf78",
      "metadata": {
        "id": "5748ff1f-0ae4-488b-ba25-63ed733faf78",
        "outputId": "6781bd83-639a-4f54-e8c1-c486a65eac9c"
      },
      "outputs": [
        {
          "name": "stdout",
          "output_type": "stream",
          "text": [
            "73\n"
          ]
        }
      ],
      "source": [
        "!grep -o -w Barrymore hound.txt | wc -l"
      ]
    },
    {
      "cell_type": "code",
      "execution_count": null,
      "id": "0f9a9dcc-ec62-4273-9506-4d836a7c9d73",
      "metadata": {
        "id": "0f9a9dcc-ec62-4273-9506-4d836a7c9d73",
        "outputId": "204fafaa-575a-492d-f92b-ffb3228febf0"
      },
      "outputs": [
        {
          "name": "stdout",
          "output_type": "stream",
          "text": [
            "90\n"
          ]
        }
      ],
      "source": [
        "!grep Mortimer hound.txt | wc -l"
      ]
    },
    {
      "cell_type": "code",
      "execution_count": null,
      "id": "af8c517e-ea3b-457c-81e9-507f7c27ac5d",
      "metadata": {
        "id": "af8c517e-ea3b-457c-81e9-507f7c27ac5d",
        "outputId": "3886918a-2ade-45eb-9e72-0b8894d69b9f"
      },
      "outputs": [
        {
          "name": "stdout",
          "output_type": "stream",
          "text": [
            "89\n"
          ]
        }
      ],
      "source": [
        "!grep -w Mortimer hound.txt | wc -l"
      ]
    },
    {
      "cell_type": "code",
      "execution_count": null,
      "id": "30d12ce0-2520-4c78-afe7-2612d822b949",
      "metadata": {
        "id": "30d12ce0-2520-4c78-afe7-2612d822b949",
        "outputId": "52c333b9-9af9-4291-bf7f-17b677263166"
      },
      "outputs": [
        {
          "name": "stdout",
          "output_type": "stream",
          "text": [
            "91\n"
          ]
        }
      ],
      "source": [
        "!grep -o Mortimer hound.txt | wc -l"
      ]
    },
    {
      "cell_type": "code",
      "execution_count": null,
      "id": "9f6104c2-946e-4c8f-a5b0-eed6651e4acb",
      "metadata": {
        "id": "9f6104c2-946e-4c8f-a5b0-eed6651e4acb",
        "outputId": "1ffba45a-b2d4-4539-f71f-f6b894c6504d"
      },
      "outputs": [
        {
          "name": "stdout",
          "output_type": "stream",
          "text": [
            "90\n"
          ]
        }
      ],
      "source": [
        "!grep -w -o Mortimer hound.txt | wc -l"
      ]
    },
    {
      "cell_type": "markdown",
      "id": "a2227243-e681-4b37-a88f-2d704547029a",
      "metadata": {
        "id": "a2227243-e681-4b37-a88f-2d704547029a"
      },
      "source": [
        "**Observation:** \n",
        "* Counting the names are counting the plural names as well in multiple cases if we use only !grep.\n",
        "* When we use only !grep command, we count all the values even if it is a part of a bigger string.\n",
        "* When we use '-w', we count the exact pattern that we are searching for but it counts the value only once per line.\n",
        "* When we use '-o', we count the number of values which are mentioned multiple times in each line but not the exact pattern.\n",
        "* Hence using both '-w' and '-o' will give us the correct count of the values within the text file."
      ]
    },
    {
      "cell_type": "markdown",
      "id": "5dc4e8e9-2ce4-4c02-98d6-6d6c9a2e36ce",
      "metadata": {
        "id": "5dc4e8e9-2ce4-4c02-98d6-6d6c9a2e36ce"
      },
      "source": [
        "### Part B. Characters in Hamlet (15 points)\n",
        "Use the text available at https://s3.amazonaws.com/dmfa-2020/project-1/hamlet.txt for this part.\n",
        "\n",
        "How many times do each of the following characters have speaking lines in Hamlet? Keep in mind that this is the text of a play.\n",
        "\n",
        "Hamlet, Polonius, Ophelia, and Horatio\n",
        "\n",
        "A speaking line is usually start with an Upper-case name with a trailing  “.”\n",
        "For example, \n",
        "HAMLET. Not so, my lord, I am too much i’ the Sun"
      ]
    },
    {
      "cell_type": "code",
      "execution_count": null,
      "id": "91f45459-9d2d-43c5-b38c-9e0654291bbd",
      "metadata": {
        "id": "91f45459-9d2d-43c5-b38c-9e0654291bbd",
        "outputId": "6f8e8bcf-6da9-4939-ef6d-444cb4eef65e"
      },
      "outputs": [
        {
          "name": "stdout",
          "output_type": "stream",
          "text": [
            "--2021-09-27 00:36:28--  https://s3.amazonaws.com/dmfa-2020/project-1/hamlet.txt\n",
            "Resolving s3.amazonaws.com (s3.amazonaws.com)... 52.216.141.142\n",
            "Connecting to s3.amazonaws.com (s3.amazonaws.com)|52.216.141.142|:443... connected.\n",
            "HTTP request sent, awaiting response... 200 OK\n",
            "Length: 204885 (200K) [text/plain]\n",
            "Saving to: ‘hamlet.txt’\n",
            "\n",
            "hamlet.txt          100%[===================>] 200.08K  --.-KB/s    in 0.01s   \n",
            "\n",
            "2021-09-27 00:36:28 (18.5 MB/s) - ‘hamlet.txt’ saved [204885/204885]\n",
            "\n"
          ]
        }
      ],
      "source": [
        "!wget https://s3.amazonaws.com/dmfa-2020/project-1/hamlet.txt"
      ]
    },
    {
      "cell_type": "code",
      "execution_count": null,
      "id": "610531b5-8c47-467f-ad15-e19981ad789a",
      "metadata": {
        "id": "610531b5-8c47-467f-ad15-e19981ad789a"
      },
      "outputs": [],
      "source": [
        "assert \"hamlet.txt\" in os.listdir()"
      ]
    },
    {
      "cell_type": "code",
      "execution_count": null,
      "id": "a7ef882d-7801-4e75-bd13-b388c1edb1ba",
      "metadata": {
        "id": "a7ef882d-7801-4e75-bd13-b388c1edb1ba",
        "outputId": "8e2cf746-a58f-4546-81de-8dcc3f0579ee"
      },
      "outputs": [
        {
          "name": "stdout",
          "output_type": "stream",
          "text": [
            "365\n"
          ]
        }
      ],
      "source": [
        "!grep HAMLET. hamlet.txt | wc -l"
      ]
    },
    {
      "cell_type": "code",
      "execution_count": null,
      "id": "374c554a-f164-4d7c-90d5-725bab1926fd",
      "metadata": {
        "id": "374c554a-f164-4d7c-90d5-725bab1926fd",
        "outputId": "0c2affed-fcc1-4c5b-bdc3-d21c74cbc796"
      },
      "outputs": [
        {
          "name": "stdout",
          "output_type": "stream",
          "text": [
            "364\n"
          ]
        }
      ],
      "source": [
        "!grep -w HAMLET. hamlet.txt | wc -l"
      ]
    },
    {
      "cell_type": "code",
      "execution_count": null,
      "id": "5de33b1e-0061-4742-b8c4-0911e915d64f",
      "metadata": {
        "id": "5de33b1e-0061-4742-b8c4-0911e915d64f",
        "outputId": "186727ab-cce9-46ae-d6af-f5d6b87c8b92"
      },
      "outputs": [
        {
          "name": "stdout",
          "output_type": "stream",
          "text": [
            "359\n"
          ]
        }
      ],
      "source": [
        "!grep -w \"^HAMLET.\" hamlet.txt | wc -l"
      ]
    },
    {
      "cell_type": "code",
      "execution_count": null,
      "id": "f5f8b190-93ee-4457-8da7-157b5b6d8667",
      "metadata": {
        "id": "f5f8b190-93ee-4457-8da7-157b5b6d8667",
        "outputId": "0b253d32-e547-404e-b8ac-08dfc3561fc8"
      },
      "outputs": [
        {
          "name": "stdout",
          "output_type": "stream",
          "text": [
            "87\n"
          ]
        }
      ],
      "source": [
        "!grep POLONIUS. hamlet.txt | wc -l"
      ]
    },
    {
      "cell_type": "code",
      "execution_count": null,
      "id": "e8764fbe-1ed7-4406-b0a2-008b392ff0be",
      "metadata": {
        "id": "e8764fbe-1ed7-4406-b0a2-008b392ff0be",
        "outputId": "99734f63-7cca-4e16-b34a-d3a575396b32"
      },
      "outputs": [
        {
          "name": "stdout",
          "output_type": "stream",
          "text": [
            "87\n"
          ]
        }
      ],
      "source": [
        "!grep -w POLONIUS. hamlet.txt | wc -l"
      ]
    },
    {
      "cell_type": "code",
      "execution_count": null,
      "id": "9612fca4-c541-41d1-b0eb-5bab4d8677e5",
      "metadata": {
        "id": "9612fca4-c541-41d1-b0eb-5bab4d8677e5",
        "outputId": "58b48da8-c7a4-42f6-b9a4-94d1dccd4517"
      },
      "outputs": [
        {
          "name": "stdout",
          "output_type": "stream",
          "text": [
            "86\n"
          ]
        }
      ],
      "source": [
        "!grep -w \"^POLONIUS.\" hamlet.txt | wc -l"
      ]
    },
    {
      "cell_type": "code",
      "execution_count": null,
      "id": "02491214-2041-48fa-83af-acf9d6669147",
      "metadata": {
        "id": "02491214-2041-48fa-83af-acf9d6669147",
        "outputId": "5d7e1593-215c-40a1-8525-e2fb520fdc58"
      },
      "outputs": [
        {
          "name": "stdout",
          "output_type": "stream",
          "text": [
            "59\n"
          ]
        }
      ],
      "source": [
        "!grep OPHELIA. hamlet.txt | wc -l"
      ]
    },
    {
      "cell_type": "code",
      "execution_count": null,
      "id": "2f957641-0b0c-4ea9-8679-a3c5bfe5fd1e",
      "metadata": {
        "id": "2f957641-0b0c-4ea9-8679-a3c5bfe5fd1e",
        "outputId": "4e37312f-a352-49a7-e8ae-cbb2d71ba59b"
      },
      "outputs": [
        {
          "name": "stdout",
          "output_type": "stream",
          "text": [
            "59\n"
          ]
        }
      ],
      "source": [
        "!grep -w OPHELIA. hamlet.txt | wc -l"
      ]
    },
    {
      "cell_type": "code",
      "execution_count": null,
      "id": "82ca35db-f796-4345-81fd-f47de21ef7e9",
      "metadata": {
        "id": "82ca35db-f796-4345-81fd-f47de21ef7e9",
        "outputId": "26ac4a78-e807-4eb7-d137-8f34b080ee0e"
      },
      "outputs": [
        {
          "name": "stdout",
          "output_type": "stream",
          "text": [
            "58\n"
          ]
        }
      ],
      "source": [
        "!grep -w \"^OPHELIA.\" hamlet.txt | wc -l"
      ]
    },
    {
      "cell_type": "code",
      "execution_count": null,
      "id": "3d5a4939-6380-4d29-b25c-3275969f651c",
      "metadata": {
        "id": "3d5a4939-6380-4d29-b25c-3275969f651c",
        "outputId": "ff10ab59-a4ab-46ee-b928-998f349aa1d2"
      },
      "outputs": [
        {
          "name": "stdout",
          "output_type": "stream",
          "text": [
            "111\n"
          ]
        }
      ],
      "source": [
        "!grep HORATIO. hamlet.txt | wc -l"
      ]
    },
    {
      "cell_type": "code",
      "execution_count": null,
      "id": "e3735f19-7f93-489b-9a95-6c653f5104b0",
      "metadata": {
        "id": "e3735f19-7f93-489b-9a95-6c653f5104b0",
        "outputId": "5efc7f3d-8b2a-4574-8ce6-1804d3260290"
      },
      "outputs": [
        {
          "name": "stdout",
          "output_type": "stream",
          "text": [
            "108\n"
          ]
        }
      ],
      "source": [
        "!grep -w HORATIO. hamlet.txt | wc -l"
      ]
    },
    {
      "cell_type": "code",
      "execution_count": null,
      "id": "2ecbf96a-c97d-4d12-85d2-3170d67d559f",
      "metadata": {
        "id": "2ecbf96a-c97d-4d12-85d2-3170d67d559f",
        "outputId": "e19c9586-43fa-4567-9bc0-561543ad9506"
      },
      "outputs": [
        {
          "name": "stdout",
          "output_type": "stream",
          "text": [
            "107\n"
          ]
        }
      ],
      "source": [
        "!grep -w \"^HORATIO.\" hamlet.txt | wc -l"
      ]
    },
    {
      "cell_type": "markdown",
      "id": "806c0bb4-4063-405f-8602-097acc78cb7b",
      "metadata": {
        "id": "806c0bb4-4063-405f-8602-097acc78cb7b"
      },
      "source": [
        "**Observation:**\n",
        "* Using only !grep will give us all the counts of the values.\n",
        "* Using -w will give the counts of the exact value matches.\n",
        "* Additionally using ^ will count the values where the lines start with those values in the t file."
      ]
    },
    {
      "cell_type": "markdown",
      "id": "c4c2abd4-ca70-4d1f-af4c-fa084c9be354",
      "metadata": {
        "id": "c4c2abd4-ca70-4d1f-af4c-fa084c9be354"
      },
      "source": [
        "## Problem 2 - Capital Bikeshare (40 points)\n",
        "Use the data available at https://s3.amazonaws.com/dmfa-2020/project-1/2018-capitalbikeshare-tripdata.zip for this problem.\n",
        "### Part A (20 points)\n",
        "\n",
        "1. Unzip the data and combine the two inflating CSV files using csvstack. Name your combined file “trips.csv”. Compare the total number of lines in each file and in the new combined file. Comment on your findings."
      ]
    },
    {
      "cell_type": "code",
      "execution_count": null,
      "id": "bc945ad0-09b0-46ef-9365-17f46e32ff92",
      "metadata": {
        "id": "bc945ad0-09b0-46ef-9365-17f46e32ff92",
        "outputId": "bf172a1a-a675-4559-e385-197647f4df68"
      },
      "outputs": [
        {
          "name": "stdout",
          "output_type": "stream",
          "text": [
            "--2021-09-27 00:50:06--  https://s3.amazonaws.com/dmfa-2020/project-1/2018-capitalbikeshare-tripdata.zip\n",
            "Resolving s3.amazonaws.com (s3.amazonaws.com)... 52.216.177.77\n",
            "Connecting to s3.amazonaws.com (s3.amazonaws.com)|52.216.177.77|:443... connected.\n",
            "HTTP request sent, awaiting response... 200 OK\n",
            "Length: 18365732 (18M) [application/zip]\n",
            "Saving to: ‘2018-capitalbikeshare-tripdata.zip’\n",
            "\n",
            "2018-capitalbikesha 100%[===================>]  17.51M  49.2MB/s    in 0.4s    \n",
            "\n",
            "2021-09-27 00:50:07 (49.2 MB/s) - ‘2018-capitalbikeshare-tripdata.zip’ saved [18365732/18365732]\n",
            "\n"
          ]
        }
      ],
      "source": [
        "!wget https://s3.amazonaws.com/dmfa-2020/project-1/2018-capitalbikeshare-tripdata.zip"
      ]
    },
    {
      "cell_type": "code",
      "execution_count": null,
      "id": "bb450233-fc31-4ddb-b055-e6b71236bd8d",
      "metadata": {
        "id": "bb450233-fc31-4ddb-b055-e6b71236bd8d",
        "outputId": "898f08c0-f463-4af9-e721-75a8232f3162"
      },
      "outputs": [
        {
          "name": "stdout",
          "output_type": "stream",
          "text": [
            "Archive:  2018-capitalbikeshare-tripdata.zip\n",
            "  Length      Date    Time    Name\n",
            "---------  ---------- -----   ----\n",
            " 53478056  2018-08-07 19:07   201807-capitalbikeshare-tripdata.csv\n",
            " 53255877  2018-09-05 20:30   201808-capitalbikeshare-tripdata.csv\n",
            "---------                     -------\n",
            "106733933                     2 files\n"
          ]
        }
      ],
      "source": [
        "!unzip -l 2018-capitalbikeshare-tripdata.zip"
      ]
    },
    {
      "cell_type": "code",
      "execution_count": null,
      "id": "3a93ebdb-3fd4-48c3-b90c-593787c406a0",
      "metadata": {
        "id": "3a93ebdb-3fd4-48c3-b90c-593787c406a0",
        "outputId": "b94a5e75-6165-4852-f4ea-fe1ee047dfba"
      },
      "outputs": [
        {
          "name": "stdout",
          "output_type": "stream",
          "text": [
            "Archive:  2018-capitalbikeshare-tripdata.zip\n",
            "  inflating: 201807-capitalbikeshare-tripdata.csv  \n",
            "  inflating: 201808-capitalbikeshare-tripdata.csv  \n"
          ]
        }
      ],
      "source": [
        "!unzip 2018-capitalbikeshare-tripdata.zip"
      ]
    },
    {
      "cell_type": "code",
      "execution_count": null,
      "id": "00a61362-ba00-4c55-84b1-db3a7c4b2794",
      "metadata": {
        "id": "00a61362-ba00-4c55-84b1-db3a7c4b2794"
      },
      "outputs": [],
      "source": [
        "!mv 201807-capitalbikeshare-tripdata.csv 1807-cbtd.csv"
      ]
    },
    {
      "cell_type": "code",
      "execution_count": null,
      "id": "7a2e5d8a-13e9-41cc-b48e-6db666a8efc3",
      "metadata": {
        "id": "7a2e5d8a-13e9-41cc-b48e-6db666a8efc3"
      },
      "outputs": [],
      "source": [
        "!mv 201808-capitalbikeshare-tripdata.csv 1808-cbtd.csv"
      ]
    },
    {
      "cell_type": "code",
      "execution_count": null,
      "id": "f0292638-81f6-4b7d-9f4f-f5181ce23ea4",
      "metadata": {
        "id": "f0292638-81f6-4b7d-9f4f-f5181ce23ea4",
        "outputId": "d74dca17-ee79-440d-d343-0f9e187d2489"
      },
      "outputs": [
        {
          "name": "stdout",
          "output_type": "stream",
          "text": [
            "| Duration |          Start date |            End date | Start station number | Start station                  |\n",
            "| -------- | ------------------- | ------------------- | -------------------- | ------------------------------ |\n",
            "|      267 | 2018-07-01 00:00:58 | 2018-07-01 00:05:26 |               31,608 | 8th & Eye St SE / Barracks Row |\n",
            "|      530 | 2018-07-01 00:01:00 | 2018-07-01 00:09:50 |               31,230 | Metro Center / 12th & G St NW  |\n",
            "|    3,223 | 2018-07-01 00:01:07 | 2018-07-01 00:54:50 |               31,620 | 5th & F St NW                  |\n",
            "|    2,153 | 2018-07-01 00:01:13 | 2018-07-01 00:37:06 |               31,258 | Lincoln Memorial               |\n",
            "|    3,214 | 2018-07-01 00:01:13 | 2018-07-01 00:54:47 |               31,620 | 5th & F St NW                  |\n",
            "|    3,826 | 2018-07-01 00:01:14 | 2018-07-01 01:05:00 |               31,217 | USDA / 12th & C St SW          |\n",
            "|    1,585 | 2018-07-01 00:01:16 | 2018-07-01 00:27:41 |               31,265 | 5th St & Massachusetts Ave NW  |\n",
            "|    2,285 | 2018-07-01 00:01:25 | 2018-07-01 00:39:30 |               31,258 | Lincoln Memorial               |\n",
            "|      742 | 2018-07-01 00:01:45 | 2018-07-01 00:14:08 |               31,609 | Maine Ave & 7th St SW          |\n"
          ]
        }
      ],
      "source": [
        "!head 1807-cbtd.csv | csvcut -c1:5 | csvlook"
      ]
    },
    {
      "cell_type": "code",
      "execution_count": null,
      "id": "83fb32ad-e739-4250-90bb-24da50ffad25",
      "metadata": {
        "id": "83fb32ad-e739-4250-90bb-24da50ffad25",
        "outputId": "fb203224-d74d-4b15-f686-5ec43ad547bd"
      },
      "outputs": [
        {
          "name": "stdout",
          "output_type": "stream",
          "text": [
            "| End station number | End station                                  | Bike number | Member type |\n",
            "| ------------------ | -------------------------------------------- | ----------- | ----------- |\n",
            "|             31,610 | Eastern Market / 7th & North Carolina Ave SE | W23296      | Member      |\n",
            "|             31,266 | 11th & M St NW                               | W20838      | Member      |\n",
            "|             31,289 | Henry Bacon Dr & Lincoln Memorial Circle NW  | W22733      | Member      |\n",
            "|             31,208 | M St & New Jersey Ave SE                     | W00196      | Casual      |\n",
            "|             31,289 | Henry Bacon Dr & Lincoln Memorial Circle NW  | W21070      | Member      |\n",
            "|             31,222 | New York Ave & 15th St NW                    | W21845      | Casual      |\n",
            "|             31,520 | 24th & R St NE / National Arboretum          | W22025      | Member      |\n",
            "|             31,209 | 1st & N St  SE                               | W22145      | Casual      |\n",
            "|             31,228 | 8th & H St NW                                | W21379      | Member      |\n"
          ]
        }
      ],
      "source": [
        "!head 1807-cbtd.csv | csvcut -c6: | csvlook"
      ]
    },
    {
      "cell_type": "code",
      "execution_count": null,
      "id": "359cdaf8-1533-4c2a-a104-5a802c93a3ca",
      "metadata": {
        "id": "359cdaf8-1533-4c2a-a104-5a802c93a3ca",
        "outputId": "6dbb9e62-b50c-4df1-e68f-6e98dea06218"
      },
      "outputs": [
        {
          "name": "stdout",
          "output_type": "stream",
          "text": [
            "| Duration |          Start date |            End date | Start station number | Start station                                         |\n",
            "| -------- | ------------------- | ------------------- | -------------------- | ----------------------------------------------------- |\n",
            "|      435 | 2018-08-01 00:00:48 | 2018-08-01 00:08:04 |               31,621 | 4th & D St NW / Judiciary Square                      |\n",
            "|    1,001 | 2018-08-01 00:01:30 | 2018-08-01 00:18:11 |               31,278 | 18th & R St NW                                        |\n",
            "|    1,075 | 2018-08-01 00:04:01 | 2018-08-01 00:21:56 |               31,503 | Florida Ave & R St NW                                 |\n",
            "|      896 | 2018-08-01 00:04:18 | 2018-08-01 00:19:15 |               31,018 | N Rhodes & 16th St N                                  |\n",
            "|    1,517 | 2018-08-01 00:04:26 | 2018-08-01 00:29:43 |               31,289 | Henry Bacon Dr & Lincoln Memorial Circle NW           |\n",
            "|      226 | 2018-08-01 00:04:43 | 2018-08-01 00:08:30 |               31,200 | Massachusetts Ave & Dupont Circle NW                  |\n",
            "|      542 | 2018-08-01 00:04:52 | 2018-08-01 00:13:54 |               31,101 | 14th & V St NW                                        |\n",
            "|      289 | 2018-08-01 00:04:56 | 2018-08-01 00:09:45 |               31,266 | 11th & M St NW                                        |\n",
            "|      825 | 2018-08-01 00:05:19 | 2018-08-01 00:19:04 |               31,248 | Smithsonian-National Mall / Jefferson Dr & 12th St SW |\n"
          ]
        }
      ],
      "source": [
        "!head 1808-cbtd.csv | csvcut -c1:5 | csvlook"
      ]
    },
    {
      "cell_type": "code",
      "execution_count": null,
      "id": "83223f24-ddb2-4919-a7be-533da82b2a51",
      "metadata": {
        "id": "83223f24-ddb2-4919-a7be-533da82b2a51",
        "outputId": "2ee97dee-91c5-4090-f5a1-fa49da7808aa"
      },
      "outputs": [
        {
          "name": "stdout",
          "output_type": "stream",
          "text": [
            "| End station number | End station                   | Bike number | Member type |\n",
            "| ------------------ | ----------------------------- | ----------- | ----------- |\n",
            "|             31,647 | 7th St & Massachusetts Ave NE | W20369      | Member      |\n",
            "|             31,105 | 14th & Harvard St NW          | W21068      | Member      |\n",
            "|             31,105 | 14th & Harvard St NW          | W21003      | Member      |\n",
            "|             31,257 | 22nd & I St NW / Foggy Bottom | W22766      | Casual      |\n",
            "|             31,226 | 34th St & Wisconsin Ave NW    | W00232      | Member      |\n",
            "|             31,214 | 17th & Corcoran St NW         | W00037      | Member      |\n",
            "|             31,112 | Harvard St & Adams Mill Rd NW | W23145      | Member      |\n",
            "|             31,266 | 11th & M St NW                | W00487      | Member      |\n",
            "|             31,246 | M St & Pennsylvania Ave NW    | W22931      | Member      |\n"
          ]
        }
      ],
      "source": [
        "!head 1808-cbtd.csv | csvcut -c6: | csvlook"
      ]
    },
    {
      "cell_type": "code",
      "execution_count": null,
      "id": "e2297d0d-98b2-44e1-82c5-e44abdb1ec0c",
      "metadata": {
        "tags": [],
        "id": "e2297d0d-98b2-44e1-82c5-e44abdb1ec0c"
      },
      "outputs": [],
      "source": [
        "!csvstack 1807-cbtd.csv 1808-cbtd.csv > trips.csv"
      ]
    },
    {
      "cell_type": "code",
      "execution_count": null,
      "id": "12b9cfce-0acb-4352-9007-36d50f6f282d",
      "metadata": {
        "id": "12b9cfce-0acb-4352-9007-36d50f6f282d",
        "outputId": "8c37780c-2f9d-450e-adb0-27c175555b54"
      },
      "outputs": [
        {
          "name": "stdout",
          "output_type": "stream",
          "text": [
            "808628 trips.csv\n"
          ]
        }
      ],
      "source": [
        "!wc -l trips.csv"
      ]
    },
    {
      "cell_type": "code",
      "execution_count": null,
      "id": "a264f3ab-4539-45b0-afca-4618ab6e799a",
      "metadata": {
        "id": "a264f3ab-4539-45b0-afca-4618ab6e799a",
        "outputId": "90045a07-883b-4c1d-f37f-fb24c141fd5c"
      },
      "outputs": [
        {
          "name": "stdout",
          "output_type": "stream",
          "text": [
            "404762 1807-cbtd.csv\n"
          ]
        }
      ],
      "source": [
        "!wc -l 1807-cbtd.csv"
      ]
    },
    {
      "cell_type": "code",
      "execution_count": null,
      "id": "2abeef95-deff-463d-9710-a189969c8d71",
      "metadata": {
        "id": "2abeef95-deff-463d-9710-a189969c8d71",
        "outputId": "0d36ea79-73a8-4796-db5b-a4de91a76921"
      },
      "outputs": [
        {
          "name": "stdout",
          "output_type": "stream",
          "text": [
            "403867 1808-cbtd.csv\n"
          ]
        }
      ],
      "source": [
        "!wc -l 1808-cbtd.csv"
      ]
    },
    {
      "cell_type": "code",
      "execution_count": null,
      "id": "c9ba0d9d-270d-4eba-a7ee-be0ff2e2f408",
      "metadata": {
        "id": "c9ba0d9d-270d-4eba-a7ee-be0ff2e2f408",
        "outputId": "ad9414a9-2b02-4ea1-a2cf-f9b2d4a1c62e"
      },
      "outputs": [
        {
          "data": {
            "text/plain": [
              "808629"
            ]
          },
          "execution_count": 39,
          "metadata": {},
          "output_type": "execute_result"
        }
      ],
      "source": [
        "404762+403867"
      ]
    },
    {
      "cell_type": "markdown",
      "id": "dd0b09f9-964a-458f-86ea-e5089279f23b",
      "metadata": {
        "id": "dd0b09f9-964a-458f-86ea-e5089279f23b"
      },
      "source": [
        "**Findings:** \n",
        "* The combined csv has one line/row lesser than the sum of individual files.\n",
        "* This is because the header of 1808-cbtd.csv is now a common header in trips.csv; csvstack has used them as a key to stack both the files one on top of another.\n",
        "* In csvstack, all the rows of the the second file (except headers) are appended at the bottom of the first file."
      ]
    },
    {
      "cell_type": "markdown",
      "id": "06e5bc71-313a-48f4-b958-e94e2e95d891",
      "metadata": {
        "id": "06e5bc71-313a-48f4-b958-e94e2e95d891"
      },
      "source": [
        "2. List the labels for the heading line."
      ]
    },
    {
      "cell_type": "code",
      "execution_count": null,
      "id": "00b9bad8-390e-48ac-916a-0c67197e881d",
      "metadata": {
        "id": "00b9bad8-390e-48ac-916a-0c67197e881d",
        "outputId": "7c9b61ca-7658-42fe-82c3-5ce09b05a828"
      },
      "outputs": [
        {
          "name": "stdout",
          "output_type": "stream",
          "text": [
            "  1: Duration\n",
            "  2: Start date\n",
            "  3: End date\n",
            "  4: Start station number\n",
            "  5: Start station\n",
            "  6: End station number\n",
            "  7: End station\n",
            "  8: Bike number\n",
            "  9: Member type\n"
          ]
        }
      ],
      "source": [
        "!csvcut -n trips.csv"
      ]
    },
    {
      "cell_type": "markdown",
      "id": "3d6b09f2-8209-4e96-b0d6-b8404dd9ec31",
      "metadata": {
        "id": "3d6b09f2-8209-4e96-b0d6-b8404dd9ec31"
      },
      "source": [
        "3. Which 12 Capital Bikeshare stations were the most popular departing stations in July and August 2018 in terms of number of rides? provide the full name of the station, not just the station number."
      ]
    },
    {
      "cell_type": "code",
      "execution_count": null,
      "id": "42741eba-7e85-4211-9e47-268d1d3e8af9",
      "metadata": {
        "id": "42741eba-7e85-4211-9e47-268d1d3e8af9",
        "outputId": "b8cd63b6-1f1e-41a6-b07c-79bd41b21e51"
      },
      "outputs": [
        {
          "name": "stdout",
          "output_type": "stream",
          "text": [
            "|    7578 31321 | 15th St & Constitution Ave NW                         |\n",
            "| ------------- | ----------------------------------------------------- |\n",
            "|    7711 31603 | 1st & M St NE                                         |\n",
            "|    8569 31201 | 15th & P St NW                                        |\n",
            "|    8583 31200 | Massachusetts Ave & Dupont Circle NW                  |\n",
            "|    8620 31290 | 17th St & Independence Ave SW                         |\n",
            "|    9554 31249 | Jefferson Memorial                                    |\n",
            "|   10357 31248 | Smithsonian-National Mall / Jefferson Dr & 12th St SW |\n",
            "|   11650 31288 | 4th St & Madison Dr NW                                |\n",
            "|   11671 31289 | Henry Bacon Dr & Lincoln Memorial Circle NW           |\n",
            "|   11999 31247 | Jefferson Dr & 14th St SW                             |\n",
            "|   13082 31623 | Columbus Circle / Union Station                       |\n",
            "|   15474 31258 | Lincoln Memorial                                      |\n"
          ]
        }
      ],
      "source": [
        "!csvcut -c4,5 trips.csv | sort | uniq -c | sort -n | tail -12 | csvlook"
      ]
    },
    {
      "cell_type": "markdown",
      "id": "0d1299bd-98dc-441a-b64a-5bf714c6dbdb",
      "metadata": {
        "id": "0d1299bd-98dc-441a-b64a-5bf714c6dbdb"
      },
      "source": [
        "4. Which 12 stations were the most popular destination stations in July and August 2018 in terms of number of rides?  provide the full name of the station, not just the station number. "
      ]
    },
    {
      "cell_type": "code",
      "execution_count": null,
      "id": "2c129d92-f5e5-40fd-8244-caba023be639",
      "metadata": {
        "id": "2c129d92-f5e5-40fd-8244-caba023be639",
        "outputId": "523c94f1-4a4d-4896-eef9-2eaa418ac84f"
      },
      "outputs": [
        {
          "name": "stdout",
          "output_type": "stream",
          "text": [
            "|    7813 31603 | 1st & M St NE                                         |\n",
            "| ------------- | ----------------------------------------------------- |\n",
            "|    8041 31321 | 15th St & Constitution Ave NW                         |\n",
            "|    8640 31290 | 17th St & Independence Ave SW                         |\n",
            "|    8884 31201 | 15th & P St NW                                        |\n",
            "|    9141 31200 | Massachusetts Ave & Dupont Circle NW                  |\n",
            "|    9866 31249 | Jefferson Memorial                                    |\n",
            "|   10693 31248 | Smithsonian-National Mall / Jefferson Dr & 12th St SW |\n",
            "|   11555 31288 | 4th St & Madison Dr NW                                |\n",
            "|   11722 31289 | Henry Bacon Dr & Lincoln Memorial Circle NW           |\n",
            "|   12135 31247 | Jefferson Dr & 14th St SW                             |\n",
            "|   13635 31623 | Columbus Circle / Union Station                       |\n",
            "|   15642 31258 | Lincoln Memorial                                      |\n"
          ]
        }
      ],
      "source": [
        "!csvcut -c6,7 trips.csv | sort | uniq -c | sort -n | tail -12 | csvlook"
      ]
    },
    {
      "cell_type": "markdown",
      "id": "21844adc-d2ef-4f5d-8072-2a97d59f19fb",
      "metadata": {
        "id": "21844adc-d2ef-4f5d-8072-2a97d59f19fb"
      },
      "source": [
        "5. Which 12 station-pairs (Departing-Destination) are most popular in July and August 2018 in terms of number of rides?  provide the full name of the station, not just the station number."
      ]
    },
    {
      "cell_type": "code",
      "execution_count": null,
      "id": "44a8609b-67f0-4cd6-b62e-640cd60ec3ae",
      "metadata": {
        "id": "44a8609b-67f0-4cd6-b62e-640cd60ec3ae",
        "outputId": "203cb514-231f-4496-882e-3630b6e041d2"
      },
      "outputs": [
        {
          "name": "stdout",
          "output_type": "stream",
          "text": [
            "|    1062 31248 | Smithsonian-National Mall / Jefferson Dr & 12th St SW |  31258 | Lincoln Memorial                                      |\n",
            "| ------------- | ----------------------------------------------------- | ------ | ----------------------------------------------------- |\n",
            "|    1068 31321 | 15th St & Constitution Ave NW                         | 31,321 | 15th St & Constitution Ave NW                         |\n",
            "|    1085 31289 | Henry Bacon Dr & Lincoln Memorial Circle NW           | 31,289 | Henry Bacon Dr & Lincoln Memorial Circle NW           |\n",
            "|    1115 31290 | 17th St & Independence Ave SW                         | 31,290 | 17th St & Independence Ave SW                         |\n",
            "|    1121 31240 | Ohio Dr & West Basin Dr SW / MLK & FDR Memorials      | 31,240 | Ohio Dr & West Basin Dr SW / MLK & FDR Memorials      |\n",
            "|    1225 31290 | 17th St & Independence Ave SW                         | 31,258 | Lincoln Memorial                                      |\n",
            "|    1231 31247 | Jefferson Dr & 14th St SW                             | 31,258 | Lincoln Memorial                                      |\n",
            "|    1327 31258 | Lincoln Memorial                                      | 31,258 | Lincoln Memorial                                      |\n",
            "|    1441 31288 | 4th St & Madison Dr NW                                | 31,288 | 4th St & Madison Dr NW                                |\n",
            "|    1521 31258 | Lincoln Memorial                                      | 31,249 | Jefferson Memorial                                    |\n",
            "|    1553 31247 | Jefferson Dr & 14th St SW                             | 31,247 | Jefferson Dr & 14th St SW                             |\n",
            "|    1633 31248 | Smithsonian-National Mall / Jefferson Dr & 12th St SW | 31,248 | Smithsonian-National Mall / Jefferson Dr & 12th St SW |\n"
          ]
        }
      ],
      "source": [
        "!csvcut -c4,5,6,7 trips.csv | cat | sort | uniq -c | sort -n | tail -12 | csvlook"
      ]
    },
    {
      "cell_type": "markdown",
      "id": "943dcb22-b010-42d6-9302-4b76d9dba26d",
      "metadata": {
        "tags": [],
        "id": "943dcb22-b010-42d6-9302-4b76d9dba26d"
      },
      "source": [
        "6. Comments on your finding for Q3, Q4 and Q5.\n",
        "\n",
        "* Lincoln Memorial station has the most number of rides as both Departing and Destination stations individually.\n",
        "* But for the pair of Departing-Destination station, Smithsonian-National Mall / Jefferson Dr & 12th St SW - Smithsonian-National Mall / Jefferson Dr & 12th St SW has the most number of rides as a pair.\n",
        "* Lincoln Memorial comes 3rd as the highest Departing in the Departing-Destination pair number of rides.\n",
        "* Lincoln Memorial comes 5th as the highest Destination in the Departing-Destination pair number of rides."
      ]
    },
    {
      "cell_type": "code",
      "execution_count": null,
      "id": "496c61d2-2bfa-49f4-b5bd-4bb96725ef35",
      "metadata": {
        "collapsed": true,
        "jupyter": {
          "outputs_hidden": true
        },
        "tags": [],
        "id": "496c61d2-2bfa-49f4-b5bd-4bb96725ef35",
        "outputId": "74b6d381-1f45-4110-c673-93572f5057f4"
      },
      "outputs": [
        {
          "name": "stdout",
          "output_type": "stream",
          "text": [
            "CUT(1)                           User Commands                          CUT(1)\n",
            "\n",
            "NAME\n",
            "       cut - remove sections from each line of files\n",
            "\n",
            "SYNOPSIS\n",
            "       cut OPTION... [FILE]...\n",
            "\n",
            "DESCRIPTION\n",
            "       Print selected parts of lines from each FILE to standard output.\n",
            "\n",
            "       With no FILE, or when FILE is -, read standard input.\n",
            "\n",
            "       Mandatory  arguments  to  long  options are mandatory for short options\n",
            "       too.\n",
            "\n",
            "       -b, --bytes=LIST\n",
            "              select only these bytes\n",
            "\n",
            "       -c, --characters=LIST\n",
            "              select only these characters\n",
            "\n",
            "       -d, --delimiter=DELIM\n",
            "              use DELIM instead of TAB for field delimiter\n",
            "\n",
            "       -f, --fields=LIST\n",
            "              select only these fields;  also print any line that contains  no\n",
            "              delimiter character, unless the -s option is specified\n",
            "\n",
            "       -n     (ignored)\n",
            "\n",
            "       --complement\n",
            "              complement the set of selected bytes, characters or fields\n",
            "\n",
            "       -s, --only-delimited\n",
            "              do not print lines not containing delimiters\n",
            "\n",
            "       --output-delimiter=STRING\n",
            "              use STRING as the output delimiter the default is to use the in‐\n",
            "              put delimiter\n",
            "\n",
            "       -z, --zero-terminated\n",
            "              line delimiter is NUL, not newline\n",
            "\n",
            "       --help display this help and exit\n",
            "\n",
            "       --version\n",
            "              output version information and exit\n",
            "\n",
            "       Use one, and only one of -b, -c or -f.  Each LIST is  made  up  of  one\n",
            "       range,  or  many ranges separated by commas.  Selected input is written\n",
            "       in the same order that it is read, and is written exactly  once.   Each\n",
            "       range is one of:\n",
            "\n",
            "       N      N'th byte, character or field, counted from 1\n",
            "\n",
            "       N-     from N'th byte, character or field, to end of line\n",
            "\n",
            "       N-M    from N'th to M'th (included) byte, character or field\n",
            "\n",
            "       -M     from first to M'th (included) byte, character or field\n",
            "\n",
            "AUTHOR\n",
            "       Written by David M. Ihnat, David MacKenzie, and Jim Meyering.\n",
            "\n",
            "REPORTING BUGS\n",
            "       GNU coreutils online help: <https://www.gnu.org/software/coreutils/>\n",
            "       Report cut translation bugs to <https://translationproject.org/team/>\n",
            "\n",
            "COPYRIGHT\n",
            "       Copyright  ©  2018  Free Software Foundation, Inc.  License GPLv3+: GNU\n",
            "       GPL version 3 or later <https://gnu.org/licenses/gpl.html>.\n",
            "       This is free software: you are free  to  change  and  redistribute  it.\n",
            "       There is NO WARRANTY, to the extent permitted by law.\n",
            "\n",
            "SEE ALSO\n",
            "       Full documentation at: <https://www.gnu.org/software/coreutils/cut>\n",
            "       or available locally via: info '(coreutils) cut invocation'\n",
            "\n",
            "GNU coreutils 8.30              September 2019                          CUT(1)\n"
          ]
        }
      ],
      "source": [
        "!man cut"
      ]
    },
    {
      "cell_type": "markdown",
      "id": "49b704a4-4ef7-497e-bcc8-9fa42607bae5",
      "metadata": {
        "id": "49b704a4-4ef7-497e-bcc8-9fa42607bae5"
      },
      "source": [
        "### Part B (20 points)\n",
        "1. For the most popular departure station, which 10 bikes were used most in trips departing from there? provide the full name of the station, not just the station number."
      ]
    },
    {
      "cell_type": "code",
      "execution_count": null,
      "id": "f72fb1df-b7ba-4c92-b8a1-d018329bce45",
      "metadata": {
        "id": "f72fb1df-b7ba-4c92-b8a1-d018329bce45",
        "outputId": "4f1d6ff1-ee35-49f8-da7b-1338b59e98b4"
      },
      "outputs": [
        {
          "name": "stdout",
          "output_type": "stream",
          "text": [
            "|      14 W22369 |  31258 | Lincoln Memorial |\n",
            "| -------------- | ------ | ---------------- |\n",
            "|      14 W23003 | 31,258 | Lincoln Memorial |\n",
            "|      14 W23311 | 31,258 | Lincoln Memorial |\n",
            "|      15 W20527 | 31,258 | Lincoln Memorial |\n",
            "|      15 W21882 | 31,258 | Lincoln Memorial |\n",
            "|      15 W22567 | 31,258 | Lincoln Memorial |\n",
            "|      15 W23074 | 31,258 | Lincoln Memorial |\n",
            "|      16 W00919 | 31,258 | Lincoln Memorial |\n",
            "|      17 W22553 | 31,258 | Lincoln Memorial |\n",
            "|      18 W01311 | 31,258 | Lincoln Memorial |\n"
          ]
        }
      ],
      "source": [
        "!csvcut -c8,4,5 trips.csv | csvgrep -c3 -r '^Lincoln Memorial' | sort | uniq -c | sort -n | tail -10 | csvlook"
      ]
    },
    {
      "cell_type": "markdown",
      "id": "5b70fbb2-b73b-4648-98eb-386e425fe7e0",
      "metadata": {
        "id": "5b70fbb2-b73b-4648-98eb-386e425fe7e0"
      },
      "source": [
        "2. Which 10 bikes were used most in trips ending at the most popular destination station? provide the full name of the station, not just the station number."
      ]
    },
    {
      "cell_type": "code",
      "execution_count": null,
      "id": "d3da71ac-20a7-4f4d-8e6d-1ec2b0f75794",
      "metadata": {
        "id": "d3da71ac-20a7-4f4d-8e6d-1ec2b0f75794",
        "outputId": "f6f4f1ba-6cb6-4023-8f9e-d8924640a946"
      },
      "outputs": [
        {
          "name": "stdout",
          "output_type": "stream",
          "text": [
            "|      14 W23003 |  31258 | Lincoln Memorial |\n",
            "| -------------- | ------ | ---------------- |\n",
            "|      14 W23074 | 31,258 | Lincoln Memorial |\n",
            "|      14 W23311 | 31,258 | Lincoln Memorial |\n",
            "|      15 W22369 | 31,258 | Lincoln Memorial |\n",
            "|      15 W22567 | 31,258 | Lincoln Memorial |\n",
            "|      16 W00919 | 31,258 | Lincoln Memorial |\n",
            "|      16 W20527 | 31,258 | Lincoln Memorial |\n",
            "|      16 W21882 | 31,258 | Lincoln Memorial |\n",
            "|      17 W01311 | 31,258 | Lincoln Memorial |\n",
            "|      17 W22553 | 31,258 | Lincoln Memorial |\n"
          ]
        }
      ],
      "source": [
        "!csvcut -c8,6,7 trips.csv | csvgrep -c3 -r '^Lincoln Memorial' | sort | uniq -c | sort -n | tail -10 | csvlook"
      ]
    },
    {
      "cell_type": "markdown",
      "id": "29cc8fd6-bedf-439d-aa41-dffd496aa508",
      "metadata": {
        "id": "29cc8fd6-bedf-439d-aa41-dffd496aa508"
      },
      "source": [
        "## Problem 3 – advanced csvkit command (30 points)\n",
        "For this problem use the following two files\n",
        "https://www.fec.gov/files/bulk-downloads/data_dictionaries/cm_header_file.csv\n",
        "https://www.fec.gov/files/bulk-downloads/2022/cm22.zip\n",
        "\n",
        "This data contains basic information for each committee registered with the US Federal Election Commission. It supposed to have one record per committee. Description of the columns representing this dataset are provided here\n",
        "\n",
        "The first file above represents the header and contains the labels for all the columns in the second file. The second file represents the committee data. The first file is a csv file, the second file is “|” delimited text file. \n",
        "\n",
        "### Questions"
      ]
    },
    {
      "cell_type": "markdown",
      "id": "e352e146-ffdc-4852-8ef5-0ad00c9320c2",
      "metadata": {
        "id": "e352e146-ffdc-4852-8ef5-0ad00c9320c2"
      },
      "source": [
        "1. Upload the two files into your root directory, combine the first file (header) with the unzipped version of the second file (data) and name the combined file as “candidate.csv” (7 points)\n",
        "Hint: you may need to reformat your second file from “|” delimited to csv before you combine it with the first file. You can use csvformat command. "
      ]
    },
    {
      "cell_type": "code",
      "execution_count": null,
      "id": "6e3860b2-eec8-483d-90e0-d16ea4245732",
      "metadata": {
        "id": "6e3860b2-eec8-483d-90e0-d16ea4245732",
        "outputId": "0f49fd90-ccd7-46cb-c44b-d3aa27d5bb88"
      },
      "outputs": [
        {
          "name": "stdout",
          "output_type": "stream",
          "text": [
            "--2021-09-27 01:06:41--  https://www.fec.gov/files/bulk-downloads/data_dictionaries/cm_header_file.csv\n",
            "Resolving www.fec.gov (www.fec.gov)... 13.227.244.13, 13.227.244.15, 13.227.244.49, ...\n",
            "Connecting to www.fec.gov (www.fec.gov)|13.227.244.13|:443... connected.\n",
            "HTTP request sent, awaiting response... 302 Moved Temporarily\n",
            "Location: https://cg-519a459a-0ea3-42c2-b7bc-fa1143481f74.s3-us-gov-west-1.amazonaws.com/bulk-downloads/data_dictionaries/cm_header_file.csv [following]\n",
            "--2021-09-27 01:06:41--  https://cg-519a459a-0ea3-42c2-b7bc-fa1143481f74.s3-us-gov-west-1.amazonaws.com/bulk-downloads/data_dictionaries/cm_header_file.csv\n",
            "Resolving cg-519a459a-0ea3-42c2-b7bc-fa1143481f74.s3-us-gov-west-1.amazonaws.com (cg-519a459a-0ea3-42c2-b7bc-fa1143481f74.s3-us-gov-west-1.amazonaws.com)... 108.175.50.44\n",
            "Connecting to cg-519a459a-0ea3-42c2-b7bc-fa1143481f74.s3-us-gov-west-1.amazonaws.com (cg-519a459a-0ea3-42c2-b7bc-fa1143481f74.s3-us-gov-west-1.amazonaws.com)|108.175.50.44|:443... connected.\n",
            "HTTP request sent, awaiting response... 200 OK\n",
            "Length: 158 [binary/octet-stream]\n",
            "Saving to: ‘cm_header_file.csv’\n",
            "\n",
            "cm_header_file.csv  100%[===================>]     158  --.-KB/s    in 0s      \n",
            "\n",
            "2021-09-27 01:06:41 (8.83 MB/s) - ‘cm_header_file.csv’ saved [158/158]\n",
            "\n"
          ]
        }
      ],
      "source": [
        "!wget https://www.fec.gov/files/bulk-downloads/data_dictionaries/cm_header_file.csv"
      ]
    },
    {
      "cell_type": "code",
      "execution_count": null,
      "id": "92ad855d-77ab-41de-8bbe-ff62a550af37",
      "metadata": {
        "id": "92ad855d-77ab-41de-8bbe-ff62a550af37",
        "outputId": "29f62491-ad9b-4b0e-e121-95512a6f0045"
      },
      "outputs": [
        {
          "name": "stdout",
          "output_type": "stream",
          "text": [
            "--2021-09-27 01:06:50--  https://www.fec.gov/files/bulk-downloads/2022/cm22.zip\n",
            "Resolving www.fec.gov (www.fec.gov)... 13.227.244.107, 13.227.244.49, 13.227.244.15, ...\n",
            "Connecting to www.fec.gov (www.fec.gov)|13.227.244.107|:443... connected.\n",
            "HTTP request sent, awaiting response... 302 Moved Temporarily\n",
            "Location: https://cg-519a459a-0ea3-42c2-b7bc-fa1143481f74.s3-us-gov-west-1.amazonaws.com/bulk-downloads/2022/cm22.zip [following]\n",
            "--2021-09-27 01:06:50--  https://cg-519a459a-0ea3-42c2-b7bc-fa1143481f74.s3-us-gov-west-1.amazonaws.com/bulk-downloads/2022/cm22.zip\n",
            "Resolving cg-519a459a-0ea3-42c2-b7bc-fa1143481f74.s3-us-gov-west-1.amazonaws.com (cg-519a459a-0ea3-42c2-b7bc-fa1143481f74.s3-us-gov-west-1.amazonaws.com)... 108.175.49.64\n",
            "Connecting to cg-519a459a-0ea3-42c2-b7bc-fa1143481f74.s3-us-gov-west-1.amazonaws.com (cg-519a459a-0ea3-42c2-b7bc-fa1143481f74.s3-us-gov-west-1.amazonaws.com)|108.175.49.64|:443... connected.\n",
            "HTTP request sent, awaiting response... 200 OK\n",
            "Length: 676599 (661K) [application/zip]\n",
            "Saving to: ‘cm22.zip’\n",
            "\n",
            "cm22.zip            100%[===================>] 660.74K  1.84MB/s    in 0.4s    \n",
            "\n",
            "2021-09-27 01:06:50 (1.84 MB/s) - ‘cm22.zip’ saved [676599/676599]\n",
            "\n"
          ]
        }
      ],
      "source": [
        "!wget https://www.fec.gov/files/bulk-downloads/2022/cm22.zip"
      ]
    },
    {
      "cell_type": "code",
      "execution_count": null,
      "id": "c94b3858-dc3b-410a-b49e-bcfd9cac6a7b",
      "metadata": {
        "id": "c94b3858-dc3b-410a-b49e-bcfd9cac6a7b",
        "outputId": "90acaa33-d0d7-4704-ee90-055d85200ad7"
      },
      "outputs": [
        {
          "name": "stdout",
          "output_type": "stream",
          "text": [
            "Archive:  cm22.zip\n",
            "  Length      Date    Time    Name\n",
            "---------  ---------- -----   ----\n",
            "  1922551  2021-09-26 06:24   cm.txt\n",
            "---------                     -------\n",
            "  1922551                     1 file\n"
          ]
        }
      ],
      "source": [
        "!unzip -l cm22.zip"
      ]
    },
    {
      "cell_type": "code",
      "execution_count": null,
      "id": "db4fd554-5e3c-428a-9cd7-141771177392",
      "metadata": {
        "id": "db4fd554-5e3c-428a-9cd7-141771177392",
        "outputId": "117c3a30-2b09-4248-82f7-5445d9b26900"
      },
      "outputs": [
        {
          "name": "stdout",
          "output_type": "stream",
          "text": [
            "Archive:  cm22.zip\n",
            "  inflating: cm.txt                  \n"
          ]
        }
      ],
      "source": [
        "!unzip cm22.zip"
      ]
    },
    {
      "cell_type": "code",
      "execution_count": null,
      "id": "359fc1ea-7c73-4c9a-a5d3-bf097515b585",
      "metadata": {
        "id": "359fc1ea-7c73-4c9a-a5d3-bf097515b585",
        "outputId": "f2223701-e5d2-4e47-c38e-7a4715cf1b9f"
      },
      "outputs": [
        {
          "name": "stdout",
          "output_type": "stream",
          "text": [
            "C00000059|HALLMARK CARDS PAC|BROWER, ERIN MS.|2501 MCGEE|MD #500|KANSAS CITY|MO|64108|U|Q|UNK|M|C|HALLMARK CARDS, INC.|\n",
            "C00000422|AMERICAN MEDICAL ASSOCIATION POLITICAL ACTION COMMITTEE|WALKER, KEVIN MR.|25 MASSACHUSETTS AVE, NW|SUITE 600|WASHINGTON|DC|200017400|B|Q||M|M|ALABAMA MEDICAL PAC|\n",
            "C00000489|D R I V E POLITICAL FUND CHAPTER 886|JERRY SIMS JR|3528 W RENO||OKLAHOMA CITY|OK|73107|U|N||Q|L||\n",
            "C00000547|KANSAS MEDICAL SOCIETY POLITICAL ACTION COMMITTEE|JERRY SLAUGHTER|623 SW 10TH AVE||TOPEKA|KS|666121627|U|Q|UNK|Q|M|KANSAS MEDICAL SOCIETY|\n",
            "C00000729|AMERICAN DENTAL ASSOCIATION POLITICAL ACTION COMMITTEE|DI VINCENZO, GIORGIO T. DR.|1111 14TH STREET, NW|SUITE 1100|WASHINGTON|DC|200055627|B|Q|UNK|Q|M||\n",
            "C00000885|INTERNATIONAL UNION OF PAINTERS AND ALLIED TRADES POLITICAL ACTION TOGETHER POLITICAL COMMITTEE|GALIS, GEORGE|7234 PARKWAY DRIVE||HANOVER|MD|21076|B|Q|UNK|M|L|INTERNATIONAL UNION OF PAINTERS AND ALLIED TRADES|\n",
            "C00000901|BUILD POLITICAL ACTION COMMITTEE OF THE NATIONAL ASSOCIATION OF HOME BUILDERS (BUILDPAC)|RAMAGE, EILEEN|1201 15TH STREET, NW||WASHINGTON|DC|20005|B|Q|UNK|M|T|NATIONAL ASSOCIATION OF HOME BUILDERS|\n",
            "C00000935|DCCC|PERSICO, TIMOTHY|430 SOUTH CAPITOL STREET, SE|2ND FLOOR|WASHINGTON|DC|200034024|U|Y|DEM|M|||\n",
            "C00000984|UNITED STATES TELECOM ASSOCIATION POLITICAL ACTION COMMITTEE (TELECOMPAC)|HEINER, BRANDON|601 NEW JERSEY AVE NW|STE 600|WASHINGTON|DC|20001|B|Q|UNK|M|T|UNITED STATES TELECOM ASSOCIATION|\n",
            "C00001016|CARPENTERS LEGISLATIVE IMPROVEMENT COMMITTEE UNITED BROTHERHOOD OF CARPENTERS AND JOINERS|FLYNN, THOMAS|101 CONSTIUTION AVENUE, NW|10TH FLOOR WEST|WASHINGTON|DC|20001|B|Q|NNE|M|L|UNITED BROTHERHOOD OF CARPENTERS AND JOINERS OF AMERICA|\n"
          ]
        }
      ],
      "source": [
        "!head cm.txt"
      ]
    },
    {
      "cell_type": "code",
      "execution_count": null,
      "id": "d24b172c-da70-4822-8519-6c99fe0dd434",
      "metadata": {
        "id": "d24b172c-da70-4822-8519-6c99fe0dd434"
      },
      "outputs": [],
      "source": [
        "!csvformat -d '|' cm.txt > cm.csv"
      ]
    },
    {
      "cell_type": "code",
      "execution_count": null,
      "id": "c325d6e1-62f7-4f9c-a7b9-42645870a657",
      "metadata": {
        "id": "c325d6e1-62f7-4f9c-a7b9-42645870a657",
        "outputId": "f76d341a-484f-4c84-8caa-f50746b3603d"
      },
      "outputs": [
        {
          "name": "stdout",
          "output_type": "stream",
          "text": [
            "| C00000059 | HALLMARK CARDS PAC                                                                              |\n",
            "| --------- | ----------------------------------------------------------------------------------------------- |\n",
            "| C00000422 | AMERICAN MEDICAL ASSOCIATION POLITICAL ACTION COMMITTEE                                         |\n",
            "| C00000489 | D R I V E POLITICAL FUND CHAPTER 886                                                            |\n",
            "| C00000547 | KANSAS MEDICAL SOCIETY POLITICAL ACTION COMMITTEE                                               |\n",
            "| C00000729 | AMERICAN DENTAL ASSOCIATION POLITICAL ACTION COMMITTEE                                          |\n",
            "| C00000885 | INTERNATIONAL UNION OF PAINTERS AND ALLIED TRADES POLITICAL ACTION TOGETHER POLITICAL COMMITTEE |\n",
            "| C00000901 | BUILD POLITICAL ACTION COMMITTEE OF THE NATIONAL ASSOCIATION OF HOME BUILDERS (BUILDPAC)        |\n",
            "| C00000935 | DCCC                                                                                            |\n",
            "| C00000984 | UNITED STATES TELECOM ASSOCIATION POLITICAL ACTION COMMITTEE (TELECOMPAC)                       |\n",
            "| C00001016 | CARPENTERS LEGISLATIVE IMPROVEMENT COMMITTEE UNITED BROTHERHOOD OF CARPENTERS AND JOINERS       |\n"
          ]
        }
      ],
      "source": [
        "!head cm.csv | csvcut -c1,2 | csvlook"
      ]
    },
    {
      "cell_type": "code",
      "execution_count": null,
      "id": "ff421edb-1374-4e80-bc64-beb5931f9544",
      "metadata": {
        "id": "ff421edb-1374-4e80-bc64-beb5931f9544"
      },
      "outputs": [],
      "source": [
        "!csvstack cm_header_file.csv cm.csv > candidate.csv"
      ]
    },
    {
      "cell_type": "code",
      "execution_count": null,
      "id": "b76c9155-9454-4c86-94b8-9ab78f3a2a6e",
      "metadata": {
        "id": "b76c9155-9454-4c86-94b8-9ab78f3a2a6e",
        "outputId": "4ab06f1a-c282-4bb1-fcf4-f49102777f3c"
      },
      "outputs": [
        {
          "name": "stdout",
          "output_type": "stream",
          "text": [
            "| CMTE_ID   | CMTE_NM                                                                                         |\n",
            "| --------- | ----------------------------------------------------------------------------------------------- |\n",
            "| C00000422 | AMERICAN MEDICAL ASSOCIATION POLITICAL ACTION COMMITTEE                                         |\n",
            "| C00000489 | D R I V E POLITICAL FUND CHAPTER 886                                                            |\n",
            "| C00000547 | KANSAS MEDICAL SOCIETY POLITICAL ACTION COMMITTEE                                               |\n",
            "| C00000729 | AMERICAN DENTAL ASSOCIATION POLITICAL ACTION COMMITTEE                                          |\n",
            "| C00000885 | INTERNATIONAL UNION OF PAINTERS AND ALLIED TRADES POLITICAL ACTION TOGETHER POLITICAL COMMITTEE |\n",
            "| C00000901 | BUILD POLITICAL ACTION COMMITTEE OF THE NATIONAL ASSOCIATION OF HOME BUILDERS (BUILDPAC)        |\n",
            "| C00000935 | DCCC                                                                                            |\n",
            "| C00000984 | UNITED STATES TELECOM ASSOCIATION POLITICAL ACTION COMMITTEE (TELECOMPAC)                       |\n",
            "| C00001016 | CARPENTERS LEGISLATIVE IMPROVEMENT COMMITTEE UNITED BROTHERHOOD OF CARPENTERS AND JOINERS       |\n"
          ]
        }
      ],
      "source": [
        "!csvcut -c1,2 candidate.csv | head | csvlook"
      ]
    },
    {
      "cell_type": "markdown",
      "id": "1e993f21-6ae6-4ee2-8486-d30ba05d1282",
      "metadata": {
        "id": "1e993f21-6ae6-4ee2-8486-d30ba05d1282"
      },
      "source": [
        "2. Provide a  list of the label heading for the combined file. Display the first 5 columns and 20 rows of the combined file (3 points)"
      ]
    },
    {
      "cell_type": "code",
      "execution_count": null,
      "id": "143c7962-17d2-4061-98f4-d63f069c246c",
      "metadata": {
        "id": "143c7962-17d2-4061-98f4-d63f069c246c",
        "outputId": "22eff34b-21e0-4d54-e5f5-21fc7b35cc06"
      },
      "outputs": [
        {
          "name": "stdout",
          "output_type": "stream",
          "text": [
            "  1: CMTE_ID\n",
            "  2: CMTE_NM\n",
            "  3: TRES_NM\n",
            "  4: CMTE_ST1\n",
            "  5: CMTE_ST2\n",
            "  6: CMTE_CITY\n",
            "  7: CMTE_ST\n",
            "  8: CMTE_ZIP\n",
            "  9: CMTE_DSGN\n",
            " 10: CMTE_TP\n",
            " 11: CMTE_PTY_AFFILIATION\n",
            " 12: CMTE_FILING_FREQ\n",
            " 13: ORG_TP\n",
            " 14: CONNECTED_ORG_NM\n",
            " 15: CAND_ID\n"
          ]
        }
      ],
      "source": [
        "!csvcut -n candidate.csv"
      ]
    },
    {
      "cell_type": "code",
      "execution_count": null,
      "id": "ab28ad52-c5f7-439b-a24b-7b7b1319131b",
      "metadata": {
        "id": "ab28ad52-c5f7-439b-a24b-7b7b1319131b",
        "outputId": "f5f10f17-81b7-45eb-a435-46efb7f1dd82"
      },
      "outputs": [
        {
          "name": "stdout",
          "output_type": "stream",
          "text": [
            "CMTE_ID,CMTE_NM,TRES_NM,CMTE_ST1,CMTE_ST2\n",
            "C00000422,AMERICAN MEDICAL ASSOCIATION POLITICAL ACTION COMMITTEE,\"WALKER, KEVIN MR.\",\"25 MASSACHUSETTS AVE, NW\",SUITE 600\n",
            "C00000489,D R I V E POLITICAL FUND CHAPTER 886,JERRY SIMS JR,3528 W RENO,\n",
            "C00000547,KANSAS MEDICAL SOCIETY POLITICAL ACTION COMMITTEE,JERRY SLAUGHTER,623 SW 10TH AVE,\n",
            "C00000729,AMERICAN DENTAL ASSOCIATION POLITICAL ACTION COMMITTEE,\"DI VINCENZO, GIORGIO T. DR.\",\"1111 14TH STREET, NW\",SUITE 1100\n",
            "C00000885,INTERNATIONAL UNION OF PAINTERS AND ALLIED TRADES POLITICAL ACTION TOGETHER POLITICAL COMMITTEE,\"GALIS, GEORGE\",7234 PARKWAY DRIVE,\n",
            "C00000901,BUILD POLITICAL ACTION COMMITTEE OF THE NATIONAL ASSOCIATION OF HOME BUILDERS (BUILDPAC),\"RAMAGE, EILEEN\",\"1201 15TH STREET, NW\",\n",
            "C00000935,DCCC,\"PERSICO, TIMOTHY\",\"430 SOUTH CAPITOL STREET, SE\",2ND FLOOR\n",
            "C00000984,UNITED STATES TELECOM ASSOCIATION POLITICAL ACTION COMMITTEE (TELECOMPAC),\"HEINER, BRANDON\",601 NEW JERSEY AVE NW,STE 600\n",
            "C00001016,CARPENTERS LEGISLATIVE IMPROVEMENT COMMITTEE UNITED BROTHERHOOD OF CARPENTERS AND JOINERS,\"FLYNN, THOMAS\",\"101 CONSTIUTION AVENUE, NW\",10TH FLOOR WEST\n",
            "C00001180,MICHIGAN DOCTORS POLITICAL ACTION COMMITTEE - MICHIGAN STATE MEDICAL SOCIETY,\"GHOSE, AMIT\",P.O. BOX 769,\n",
            "C00001198,AMERICAN HOTEL AND LODGING ASSOCIATION POLITICAL ACTION COMMITTEE ('HOTELPAC'),\"MASON, DAVID M.\",\"1250 EYE STREET, NW #1100\",\n",
            "C00001214,TEXAS MEDICAL ASSOCIATION POLITICAL ACTION COMMITTEE,\"MOJEZATI, CHRISTINE MS.\",401 WEST 15TH STREET,\n",
            "C00001305,REPUBLICAN PARTY OF VIRGINIA INC,\"SELPH, JOHN G MR.\",115 EAST GRACE STREET,\n",
            "C00001313,REPUBLICAN PARTY OF MINNESOTA - FEDERAL,\"BLAXILL, MARK\",7400 METRO BLVD,STE 424\n",
            "C00001388,\"DAIRY FARMERS OF AMERICA, INC. POLITICAL ACTION COMMITTEE; AKA DFA-PAC\",\"KNIGGE, MARY\",1405 N. 98TH STREET,\n",
            "C00001461,ALASKA STATE MEDICAL ASSOCIATION POLITICAL ACTION COMMITTEE (ALPAC),\"POWELL, ELI MR.\",4107 LAUREL STREET,\n",
            "C00001636,SMART TD PAC,\"LEONARD, BRENT C.\",\"24950 COUNTRY CLUB BLVD,  STE 340\",\n",
            "C00001727,BUSINESS-INDUSTRY POLITICAL ACTION COMMITTEE,\"KILLION JOYCE, MEAGHAN\",\"1707 L STREET, NW\",\n",
            "C00001743,LOCAL 1814 ILA  POLITICAL ACTION AND EDUCATION FUND,\"AGOSTA, FRANK J\",219 51ST STREET,2ND FLOOR\n"
          ]
        }
      ],
      "source": [
        "!csvcut -c1:5 candidate.csv | head -20 #| csvlook"
      ]
    },
    {
      "cell_type": "markdown",
      "id": "f507abda-3498-41ff-bc87-c0abda2bb6a4",
      "metadata": {
        "id": "f507abda-3498-41ff-bc87-c0abda2bb6a4"
      },
      "source": [
        "3. Provide in a table a list of all Republican committees with an office in NY. The list should contain the Committee name, Committee city or town, **Election year**, and Connected organization's name. Sort the finding by Committee name. (10 points)"
      ]
    },
    {
      "cell_type": "code",
      "execution_count": null,
      "id": "1b79ec00-4f3e-416d-a2d7-7f5c3e51ef28",
      "metadata": {
        "id": "1b79ec00-4f3e-416d-a2d7-7f5c3e51ef28",
        "outputId": "8f842d72-880a-4fa5-88c0-ce5d26fe46e3"
      },
      "outputs": [
        {
          "name": "stdout",
          "output_type": "stream",
          "text": [
            "| COMMITTEE TO ELECT STEPHEN A. LABATE, INC.                                                 | NORTH BABYLON    | NONE                                     |\n",
            "| ------------------------------------------------------------------------------------------ | ---------------- | ---------------------------------------- |\n",
            "| SWEENEY FOR CONGRESS, INC                                                                  | CLIFTON PARK     | PHYSICIANS TO RETAIN OUR MAJORITY - PROM |\n",
            "| 2020 PRESIDENTIAL CANDIDATE COMMITTEE                                                      | ITHACA           |                                          |\n",
            "| ABREU FOR OFFICE                                                                           | BRONX            |                                          |\n",
            "| ARIANAS TO CONGRESS                                                                        | SHIRLEY          |                                          |\n",
            "| BECKER FOR CONGRESS                                                                        | MERRICK          |                                          |\n",
            "| BLACKOUT ENTERTAINMENT GROUP INC.                                                          | BRONX            |                                          |\n",
            "| BLUE COLLAR POLITICS                                                                       | CARTHAGE         | BLUE COLLAR POLITICS                     |\n",
            "| BOB BISHOP FOR CONGRESS NY-19                                                              | WALTON           |                                          |\n",
            "| BRENDA JUSTICE FOR PRESIDENT                                                               | ASTORIA          |                                          |\n",
            "| CASTRICONE FOR CONGRESS                                                                    | TUXEDO           |                                          |\n",
            "| CATHY BERNSTEIN FOR CONGRESS                                                               | NEW YORK         |                                          |\n",
            "| CHELE FARLEY FOR CONGRESS INC.                                                             | TUXEDO           |                                          |\n",
            "| CITIZENS FOR ANGELA MIN                                                                    | MANHASSET        |                                          |\n",
            "| CLAUDIA TENNEY FOR CONGRESS                                                                | CLINTON          | TENNEY FOR NY-22                         |\n",
            "| CMTE_NM                                                                                    | CMTE_CITY        | CONNECTED_ORG_NM                         |\n",
            "| COMMITTEE TO ELECT HUGH BAHAR TO THE 23RD DISTRICT OF NEW YORK                             | LANSING          |                                          |\n",
            "| COMMITTEE TO ELECT REY SOLANO                                                              | YORKTOWN HEIGHTS |                                          |\n",
            "| CONSTANTIN FOR CONGRESS                                                                    | BROOKLYN         |                                          |\n",
            "| CONSTANTINE 4 CONGRESS                                                                     | BROOKLYN         |                                          |\n",
            "| CORNICELLI FOR CONGRESS                                                                    | SAINT JAMES      |                                          |\n",
            "| CUELLAR FOR NEW YORK                                                                       | QUEENS           |                                          |\n",
            "| CUMMINGS FOR CONGRESS                                                                      | SHIRLEY          | CUMMINGS FOR CONGRESS                    |\n",
            "| DELICES FOR CONGRESS                                                                       | BRONX            |                                          |\n",
            "| DEVOLDER SANTOS FOR CONGRESS RECOUNT                                                       | SHIRLEY          |                                          |\n",
            "| DEVOLDER-SANTOS FOR CONGRESS                                                               | SHIRLEY          |                                          |\n",
            "| DONALD TRUMP ORGANIZATION                                                                  | NEW YORK         |                                          |\n",
            "| ELECT TUMAN                                                                                | MELVILLE         |                                          |\n",
            "| ELISE FOR CONGRESS                                                                         | GLENS FALLS      | AMERICANS UNITED FOR FREEDOM             |\n",
            "| FASO FOR CONGRESS                                                                          | KINDERHOOK       | PROTECT THE HOUSE                        |\n",
            "| FRANK SCATURRO FOR CONGRESS                                                                | NEW HYDE PARK    |                                          |\n",
            "| FRIENDS OF AVERY                                                                           | MINEOLA          |                                          |\n",
            "| FRIENDS OF BRIAN DONOHUE                                                                   | PEARL RIVER      |                                          |\n",
            "| FRIENDS OF CARLOS                                                                          | ASTORIA          |                                          |\n",
            "| FRIENDS OF EISEN                                                                           | NEW YORK         |                                          |\n",
            "| FRIENDS OF JARRED BUCHANAN                                                                 | CARMEL           |                                          |\n",
            "| FRIENDS OF JESUS GONZALEZ                                                                  | NEW YORK         |                                          |\n",
            "| FRIENDS OF JOE CAL                                                                         | STATEN ISLAND    |                                          |\n",
            "| FRIENDS OF PAT HAHN                                                                        | CENTER MORICHES  |                                          |\n",
            "| FRIENDS OF RICKY DONOVAN                                                                   | KENMORE          |                                          |\n",
            "| GARBARINO FOR CONGRESS                                                                     | BAYPORT          | GARBARINO VICTORY FUND                   |\n",
            "| GEORGE MITRIS FOR CONGRESS                                                                 | CHURCHVILLE      |                                          |\n",
            "| GRIMALDI 4 PRESIDENT                                                                       | NEW YORK         |                                          |\n",
            "| GRIMALDI4PRESIDENT.COM                                                                     | NEW YORK         |                                          |\n",
            "| HEANEY FOR CONGRESS                                                                        | MILLBROOK        |                                          |\n",
            "| HOMELESS POOR HANDICAPPED CONSERVATIVE REPUBLICAN RICHARDPAULHOBBS@GMAIL.COM FOR PRESIDENT | NEW YORK         |                                          |\n",
            "| HOWITT FOR PRESIDENT                                                                       | GOBLESKILL       |                                          |\n",
            "| I4PA                                                                                       | SUNNYSIDE        |                                          |\n",
            "| JACOBS FOR CONGRESS                                                                        | CLARENCE         | JACOBS VICTORY COMMITTEE                 |\n",
            "| JIMMY MCMILLAN IN 20                                                                       | BROOKLYN         |                                          |\n",
            "| JINEEA FOR CONGRESS                                                                        | OSSINING         |                                          |\n",
            "| JOE SEMPOLINSKI FOR CONGRESS                                                               | CANISTEO         |                                          |\n",
            "| JOY FOR NY                                                                                 | CLIFTON PARK     |                                          |\n",
            "| KING COUNTY REPUBLICAN REPUBLICAN PARTY COUNTY COMMITTEE                                   | BROOKLYN         |                                          |\n",
            "| LANGE FOR CONGRESS                                                                         | SOUTH SALEM      |                                          |\n",
            "| LIPETRI FOR CONGRESS                                                                       | MASSAPEQUA       |                                          |\n",
            "| MARC FOR US INC.                                                                           | POUGHKEEPSIE     |                                          |\n",
            "| MAUREEN FOR CONGRESS                                                                       | SHRUB OAK        |                                          |\n",
            "| MCMILLAN IN 20                                                                             | BROOKLYN         |                                          |\n",
            "| MICHEL FAULKNER FOR CONGRESS                                                               | NEW YORK         |                                          |\n",
            "| MURTARI FOR CONGRESS                                                                       | LYONS            |                                          |\n",
            "| NICOLE FOR NEW YORK                                                                        | STATEN ISLAND    | MALLIOTAKIS VICTORY COMMITTEE            |\n",
            "| NORTH SHORE REPUBLICAN CLUB                                                                | GLEN COVE        |                                          |\n",
            "| NY REPUBLICAN FEDERAL CAMPAIGN COMMITTEE                                                   | ALBANY           | REPUBLICAN NATIONAL COMMITTEE            |\n",
            "| OLA FOR CONGRESS                                                                           | KINGSTON         |                                          |\n",
            "| ORTT FOR CONGRESS                                                                          | LOCKPORT         |                                          |\n",
            "| PAPAZIAN2020                                                                               | BRONX            |                                          |\n",
            "| PAT HAHN FOR US SENATE                                                                     | CENTER MORICHES  |                                          |\n",
            "| PATAKI FOR PRESIDENT INC                                                                   | NEW YORK         |                                          |\n",
            "| PETE KING FOR CONGRESS COMMITTEE                                                           | SEAFORD          | TAKE BACK THE HOUSE                      |\n",
            "| PETER W. SHERRILL SECURING AMERICA                                                         | MOUNT VERNON     |                                          |\n",
            "| PIRRO FOR SENATE INC                                                                       | WHITE PLAINS     |                                          |\n",
            "| RAISER FOR CONGRESS                                                                        | SHIRLEY          |                                          |\n",
            "| REECE WRIGHT-MCDONALD FOR PRESIDENT 2024                                                   | NEW YORK         |                                          |\n",
            "| RENDINO 2022                                                                               | SHIRLEY          |                                          |\n",
            "| REPUBLICANS FOR BOARD OF AURORA                                                            | EAST AURORA      |                                          |\n",
            "| ROBBINS FOR NEW YORK                                                                       | STATEN ISLAND    |                                          |\n",
            "| ROBERT ARDINI FOR PRESIDENT                                                                | LONG ISLAND CITY |                                          |\n",
            "| SALADINO FOR CONGRESS                                                                      | STATEN ISLAND    |                                          |\n",
            "| SCHENECTADY COUNTY REPUBLICAN WOMANS CLUB                                                  | AMSTERDAM        |                                          |\n",
            "| SCHERIE MURRAY FOR CONGRESS                                                                | JACKSON HEIGHTS  |                                          |\n",
            "| SCHMITT FOR CONGRESS                                                                       | SOUTH SALEM      | SCHMITT VICTORY FUND                     |\n",
            "| SPENCER FOR SENATE COMMITTEE                                                               | YONKERS          |                                          |\n",
            "| SPOTORNO FOR AMERICA                                                                       | MAHOPAC          |                                          |\n",
            "| SUFFOLK COUNTY REPUBLICAN COMMITTEE-FEDERAL ACCOUNT                                        | HOLTSVILLE       |                                          |\n",
            "| SURDI FOR CONGRESS                                                                         | HUNTINGTON       |                                          |\n",
            "| TENNEY FOR CONGRESS                                                                        | NEW HARTFORD     |                                          |\n",
            "| THE COMMITTEE TO ELECT FRANK C SMIERCIAK II                                                | LANCASTER        |                                          |\n",
            "| THE JANSON COMMITTEE OF HARLEM                                                             | NEW YORK CITY    |                                          |\n",
            "| TOM REED FOR CONGRESS                                                                      | CORNING          | REED VICTORY COMMITTEE JFC               |\n",
            "| TRISH BERGIN FOR CONGRESS                                                                  | EAST ISLIP       |                                          |\n",
            "| TUCKER FOR CONGRESS                                                                        | BRONX            |                                          |\n",
            "| VAN DE WATER FOR CONGRESS                                                                  | MILLBROOK        |                                          |\n",
            "| ZELDIN FOR CONGRESS RECOUNT                                                                | SHIRLEY          |                                          |\n",
            "| ZELDIN FOR CONGRESS                                                                        | SHIRLEY          |                                          |\n",
            "| ZMICH FOR CONGRESS                                                                         | SHIRLEY          |                                          |\n"
          ]
        }
      ],
      "source": [
        "!csvgrep -c11 -r \"(?i)REP\" candidate.csv | csvgrep -c7 -m \"NY\" | csvcut -c2,6,14 | sort | csvlook"
      ]
    },
    {
      "cell_type": "code",
      "execution_count": null,
      "id": "1ad7f61e-9e75-4a32-8c9d-c39158d77d8a",
      "metadata": {
        "collapsed": true,
        "jupyter": {
          "outputs_hidden": true
        },
        "tags": [],
        "id": "1ad7f61e-9e75-4a32-8c9d-c39158d77d8a",
        "outputId": "1ed57ec7-9367-4a42-dd1d-808a64e3c484"
      },
      "outputs": [
        {
          "name": "stdout",
          "output_type": "stream",
          "text": [
            "SORT(1)                          User Commands                         SORT(1)\n",
            "\n",
            "NAME\n",
            "       sort - sort lines of text files\n",
            "\n",
            "SYNOPSIS\n",
            "       sort [OPTION]... [FILE]...\n",
            "       sort [OPTION]... --files0-from=F\n",
            "\n",
            "DESCRIPTION\n",
            "       Write sorted concatenation of all FILE(s) to standard output.\n",
            "\n",
            "       With no FILE, or when FILE is -, read standard input.\n",
            "\n",
            "       Mandatory  arguments  to  long  options are mandatory for short options\n",
            "       too.  Ordering options:\n",
            "\n",
            "       -b, --ignore-leading-blanks\n",
            "              ignore leading blanks\n",
            "\n",
            "       -d, --dictionary-order\n",
            "              consider only blanks and alphanumeric characters\n",
            "\n",
            "       -f, --ignore-case\n",
            "              fold lower case to upper case characters\n",
            "\n",
            "       -g, --general-numeric-sort\n",
            "              compare according to general numerical value\n",
            "\n",
            "       -i, --ignore-nonprinting\n",
            "              consider only printable characters\n",
            "\n",
            "       -M, --month-sort\n",
            "              compare (unknown) < 'JAN' < ... < 'DEC'\n",
            "\n",
            "       -h, --human-numeric-sort\n",
            "              compare human readable numbers (e.g., 2K 1G)\n",
            "\n",
            "       -n, --numeric-sort\n",
            "              compare according to string numerical value\n",
            "\n",
            "       -R, --random-sort\n",
            "              shuffle, but group identical keys.  See shuf(1)\n",
            "\n",
            "       --random-source=FILE\n",
            "              get random bytes from FILE\n",
            "\n",
            "       -r, --reverse\n",
            "              reverse the result of comparisons\n",
            "\n",
            "       --sort=WORD\n",
            "              sort according to WORD: general-numeric  -g,  human-numeric  -h,\n",
            "              month -M, numeric -n, random -R, version -V\n",
            "\n",
            "       -V, --version-sort\n",
            "              natural sort of (version) numbers within text\n",
            "\n",
            "       Other options:\n",
            "\n",
            "       --batch-size=NMERGE\n",
            "              merge at most NMERGE inputs at once; for more use temp files\n",
            "\n",
            "       -c, --check, --check=diagnose-first\n",
            "              check for sorted input; do not sort\n",
            "\n",
            "       -C, --check=quiet, --check=silent\n",
            "              like -c, but do not report first bad line\n",
            "\n",
            "       --compress-program=PROG\n",
            "              compress temporaries with PROG; decompress them with PROG -d\n",
            "\n",
            "       --debug\n",
            "              annotate the part of the line used to sort, and warn about ques‐\n",
            "              tionable usage to stderr\n",
            "\n",
            "       --files0-from=F\n",
            "              read input from the files specified by NUL-terminated  names  in\n",
            "              file F; If F is - then read names from standard input\n",
            "\n",
            "       -k, --key=KEYDEF\n",
            "              sort via a key; KEYDEF gives location and type\n",
            "\n",
            "       -m, --merge\n",
            "              merge already sorted files; do not sort\n",
            "\n",
            "       -o, --output=FILE\n",
            "              write result to FILE instead of standard output\n",
            "\n",
            "       -s, --stable\n",
            "              stabilize sort by disabling last-resort comparison\n",
            "\n",
            "       -S, --buffer-size=SIZE\n",
            "              use SIZE for main memory buffer\n",
            "\n",
            "       -t, --field-separator=SEP\n",
            "              use SEP instead of non-blank to blank transition\n",
            "\n",
            "       -T, --temporary-directory=DIR\n",
            "              use  DIR  for temporaries, not $TMPDIR or /tmp; multiple options\n",
            "              specify multiple directories\n",
            "\n",
            "       --parallel=N\n",
            "              change the number of sorts run concurrently to N\n",
            "\n",
            "       -u, --unique\n",
            "              with -c, check for strict ordering; without -c, output only  the\n",
            "              first of an equal run\n",
            "\n",
            "       -z, --zero-terminated\n",
            "              line delimiter is NUL, not newline\n",
            "\n",
            "       --help display this help and exit\n",
            "\n",
            "       --version\n",
            "              output version information and exit\n",
            "\n",
            "       KEYDEF  is F[.C][OPTS][,F[.C][OPTS]] for start and stop position, where\n",
            "       F is a field number and C a character position in the field;  both  are\n",
            "       origin 1, and the stop position defaults to the line's end.  If neither\n",
            "       -t nor -b is in effect, characters in a field are counted from the  be‐\n",
            "       ginning of the preceding whitespace.  OPTS is one or more single-letter\n",
            "       ordering options [bdfgiMhnRrV], which override global ordering  options\n",
            "       for that key.  If no key is given, use the entire line as the key.  Use\n",
            "       --debug to diagnose incorrect key usage.\n",
            "\n",
            "       SIZE may be followed by the following multiplicative suffixes: % 1%  of\n",
            "       memory, b 1, K 1024 (default), and so on for M, G, T, P, E, Z, Y.\n",
            "\n",
            "       ***  WARNING  ***  The locale specified by the environment affects sort\n",
            "       order.  Set LC_ALL=C to get the traditional sort order that uses native\n",
            "       byte values.\n",
            "\n",
            "AUTHOR\n",
            "       Written by Mike Haertel and Paul Eggert.\n",
            "\n",
            "REPORTING BUGS\n",
            "       GNU coreutils online help: <https://www.gnu.org/software/coreutils/>\n",
            "       Report sort translation bugs to <https://translationproject.org/team/>\n",
            "\n",
            "COPYRIGHT\n",
            "       Copyright  ©  2018  Free Software Foundation, Inc.  License GPLv3+: GNU\n",
            "       GPL version 3 or later <https://gnu.org/licenses/gpl.html>.\n",
            "       This is free software: you are free  to  change  and  redistribute  it.\n",
            "       There is NO WARRANTY, to the extent permitted by law.\n",
            "\n",
            "SEE ALSO\n",
            "       shuf(1), uniq(1)\n",
            "\n",
            "       Full documentation at: <https://www.gnu.org/software/coreutils/sort>\n",
            "       or available locally via: info '(coreutils) sort invocation'\n",
            "\n",
            "GNU coreutils 8.30              September 2019                         SORT(1)\n"
          ]
        }
      ],
      "source": [
        "!man sort"
      ]
    },
    {
      "cell_type": "markdown",
      "id": "f51dd823-9683-4a61-896e-1efe0b0c6c7d",
      "metadata": {
        "id": "f51dd823-9683-4a61-896e-1efe0b0c6c7d"
      },
      "source": [
        "4. Provide the names of the committees that appear more than two times in this dataset? If you find any investigate whether these records are duplicates and suggest an action (e.g. remove) (10 points)."
      ]
    },
    {
      "cell_type": "code",
      "execution_count": null,
      "id": "6df62e05-8146-4952-a15d-6db61ec9a4c2",
      "metadata": {
        "id": "6df62e05-8146-4952-a15d-6db61ec9a4c2",
        "outputId": "085ffc8f-faec-45d1-d0c8-ef78fc633000"
      },
      "outputs": [
        {
          "name": "stdout",
          "output_type": "stream",
          "text": [
            "      2 TARKANIAN FOR CONGRESS\n",
            "      2 TILLIS-NRSC COMMITTEE\n",
            "      2 URBINA FOR CONGRESS\n",
            "      2 US CHAMBER OF COMMERCE\n",
            "      2 WESTERN MICHIGAN VICTORY FUND\n",
            "      2 WINNING FOR WOMEN INC.\n",
            "      2 WORKING PEOPLE RISING\n",
            "      3 HOLD THEM ACCOUNTABLE\n",
            "      3 SCHNEIDER FOR CONGRESS\n",
            "      4 COLLINS FOR CONGRESS\n"
          ]
        }
      ],
      "source": [
        "!csvcut -c2 candidate.csv | sort | uniq -c | sort -n | tail"
      ]
    },
    {
      "cell_type": "code",
      "execution_count": null,
      "id": "b299f9b0-5add-4887-8843-de398e21b6a9",
      "metadata": {
        "tags": [],
        "id": "b299f9b0-5add-4887-8843-de398e21b6a9",
        "outputId": "be1c88b1-0251-46ab-9e07-86c4ff43ca19"
      },
      "outputs": [
        {
          "name": "stdout",
          "output_type": "stream",
          "text": [
            "  1. \"CMTE_ID\"\n",
            "\n",
            "\tType of data:          Text\n",
            "\tContains null values:  False\n",
            "\tUnique values:         15722\n",
            "\tLongest value:         9 characters\n",
            "\tMost common values:    C00000422 (1x)\n",
            "\t                       C00000489 (1x)\n",
            "\t                       C00000547 (1x)\n",
            "\t                       C00000729 (1x)\n",
            "\t                       C00000885 (1x)\n",
            "\n",
            "  2. \"CMTE_NM\"\n",
            "\n",
            "\tType of data:          Text\n",
            "\tContains null values:  False\n",
            "\tUnique values:         15619\n",
            "\tLongest value:         200 characters\n",
            "\tMost common values:    COLLINS FOR CONGRESS (4x)\n",
            "\t                       SCHNEIDER FOR CONGRESS (3x)\n",
            "\t                       HOLD THEM ACCOUNTABLE (3x)\n",
            "\t                       CONSERVATIVE VICTORY FUND (2x)\n",
            "\t                       AMERICAN CONSERVATIVE UNION (2x)\n",
            "\n",
            "  3. \"TRES_NM\"\n",
            "\n",
            "\tType of data:          Text\n",
            "\tContains null values:  True (excluded from calculations)\n",
            "\tUnique values:         11519\n",
            "\tLongest value:         73 characters\n",
            "\tMost common values:    None (738x)\n",
            "\t                       KILGORE, PAUL (166x)\n",
            "\t                       MARTIN, STEVEN (135x)\n",
            "\t                       DATWYLER, THOMAS (114x)\n",
            "\t                       LISKER, LISA (107x)\n",
            "\n",
            "  4. \"CMTE_ST1\"\n",
            "\n",
            "\tType of data:          Text\n",
            "\tContains null values:  True (excluded from calculations)\n",
            "\tUnique values:         12427\n",
            "\tLongest value:         34 characters\n",
            "\tMost common values:    PO BOX 30844 (152x)\n",
            "\t                       PO BOX 9891 (125x)\n",
            "\t                       PO BOX 26141 (80x)\n",
            "\t                       824 S MILLEDGE AVE STE 101 (68x)\n",
            "\t                       PO BOX 183 (64x)\n",
            "\n",
            "  5. \"CMTE_ST2\"\n",
            "\n",
            "\tType of data:          Text\n",
            "\tContains null values:  True (excluded from calculations)\n",
            "\tUnique values:         2104\n",
            "\tLongest value:         34 characters\n",
            "\tMost common values:    None (11682x)\n",
            "\t                       SUITE 300 (94x)\n",
            "\t                       SUITE 800 (68x)\n",
            "\t                       SUITE 400 (66x)\n",
            "\t                       SUITE 200 (64x)\n",
            "\n",
            "  6. \"CMTE_CITY\"\n",
            "\n",
            "\tType of data:          Text\n",
            "\tContains null values:  True (excluded from calculations)\n",
            "\tUnique values:         3148\n",
            "\tLongest value:         26 characters\n",
            "\tMost common values:    WASHINGTON (1739x)\n",
            "\t                       ALEXANDRIA (458x)\n",
            "\t                       ARLINGTON (275x)\n",
            "\t                       NEW YORK (273x)\n",
            "\t                       BETHESDA (175x)\n",
            "\n",
            "  7. \"CMTE_ST\"\n",
            "\n",
            "\tType of data:          Text\n",
            "\tContains null values:  True (excluded from calculations)\n",
            "\tUnique values:         61\n",
            "\tLongest value:         2 characters\n",
            "\tMost common values:    DC (1753x)\n",
            "\t                       CA (1607x)\n",
            "\t                       VA (1202x)\n",
            "\t                       TX (1035x)\n",
            "\t                       NY (820x)\n",
            "\n",
            "  8. \"CMTE_ZIP\"\n",
            "\n",
            "\tType of data:          Text\n",
            "\tContains null values:  True (excluded from calculations)\n",
            "\tUnique values:         7038\n",
            "\tLongest value:         9 characters\n",
            "\tMost common values:    20003 (373x)\n",
            "\t                       22314 (278x)\n",
            "\t                       20005 (257x)\n",
            "\t                       20006 (195x)\n",
            "\t                       20001 (168x)\n",
            "\n",
            "  9. \"CMTE_DSGN\"\n",
            "\n",
            "\tType of data:          Text\n",
            "\tContains null values:  True (excluded from calculations)\n",
            "\tUnique values:         7\n",
            "\tLongest value:         1 characters\n",
            "\tMost common values:    U (7229x)\n",
            "\t                       P (5466x)\n",
            "\t                       B (1354x)\n",
            "\t                       J (723x)\n",
            "\t                       D (669x)\n",
            "\n",
            " 10. \"CMTE_TP\"\n",
            "\n",
            "\tType of data:          Text\n",
            "\tContains null values:  True (excluded from calculations)\n",
            "\tUnique values:         16\n",
            "\tLongest value:         1 characters\n",
            "\tMost common values:    H (3918x)\n",
            "\t                       Q (3101x)\n",
            "\t                       N (2997x)\n",
            "\t                       O (1820x)\n",
            "\t                       P (1055x)\n",
            "\n",
            " 11. \"CMTE_PTY_AFFILIATION\"\n",
            "\n",
            "\tType of data:          Text\n",
            "\tContains null values:  True (excluded from calculations)\n",
            "\tUnique values:         102\n",
            "\tLongest value:         3 characters\n",
            "\tMost common values:    None (9050x)\n",
            "\t                       REP (2582x)\n",
            "\t                       DEM (2554x)\n",
            "\t                       IND (387x)\n",
            "\t                       LIB (168x)\n",
            "\n",
            " 12. \"CMTE_FILING_FREQ\"\n",
            "\n",
            "\tType of data:          Text\n",
            "\tContains null values:  False\n",
            "\tUnique values:         4\n",
            "\tLongest value:         1 characters\n",
            "\tMost common values:    Q (12368x)\n",
            "\t                       M (1358x)\n",
            "\t                       T (1303x)\n",
            "\t                       A (693x)\n",
            "\n",
            " 13. \"ORG_TP\"\n",
            "\n",
            "\tType of data:          Text\n",
            "\tContains null values:  True (excluded from calculations)\n",
            "\tUnique values:         8\n",
            "\tLongest value:         1 characters\n",
            "\tMost common values:    None (12630x)\n",
            "\t                       C (1559x)\n",
            "\t                       T (703x)\n",
            "\t                       M (372x)\n",
            "\t                       L (326x)\n",
            "\n",
            " 14. \"CONNECTED_ORG_NM\"\n",
            "\n",
            "\tType of data:          Text\n",
            "\tContains null values:  True (excluded from calculations)\n",
            "\tUnique values:         3014\n",
            "\tLongest value:         170 characters\n",
            "\tMost common values:    None (12384x)\n",
            "\t                       DOLLARS FOR DEMOCRATS (17x)\n",
            "\t                       CALIFORNIA REPUBLICAN PARTY (13x)\n",
            "\t                       TRUMP VICTORY (11x)\n",
            "\t                       CRUZ 20 FOR 20 VICTORY FUND (10x)\n",
            "\n",
            " 15. \"CAND_ID\"\n",
            "\n",
            "\tType of data:          Text\n",
            "\tContains null values:  True (excluded from calculations)\n",
            "\tUnique values:         5140\n",
            "\tLongest value:         9 characters\n",
            "\tMost common values:    None (10235x)\n",
            "\t                       S4IA00129 (6x)\n",
            "\t                       S2MT00096 (5x)\n",
            "\t                       H0NY27090 (4x)\n",
            "\t                       H8FL15164 (4x)\n",
            "\n",
            "Row count: 15722\n"
          ]
        }
      ],
      "source": [
        "!csvstat candidate.csv"
      ]
    },
    {
      "cell_type": "code",
      "execution_count": null,
      "id": "4dd61272-5a1d-485c-9a87-e20283239456",
      "metadata": {
        "id": "4dd61272-5a1d-485c-9a87-e20283239456",
        "outputId": "bd28869f-3f61-49ce-d42f-7bda9f535a4a"
      },
      "outputs": [
        {
          "name": "stdout",
          "output_type": "stream",
          "text": [
            "      1 CMTE_ID,CMTE_NM,TRES_NM,CMTE_ST1,CMTE_ST2,CMTE_CITY,CMTE_ST,CMTE_ZIP,CMTE_DSGN,CMTE_TP,CMTE_PTY_AFFILIATION,CMTE_FILING_FREQ,ORG_TP,CONNECTED_ORG_NM,CAND_ID\n",
            "      1 C00502039,COLLINS FOR CONGRESS,\"DANIEL, CARROLL BRIAN\",PO BOX 1295,,GAINESVILLE,GA,30503,P,H,REP,T,,,H2GA09150\n",
            "      1 C00521641,COLLINS FOR CONGRESS,CYNTHIA M GIFFORD,176 SYCAMORE LANE,,WAKEFIELD,RI,02879,P,H,IND,A,,,H2RI02143\n",
            "      1 C00544684,COLLINS FOR CONGRESS,\"BROWN, MEGAN\",PO BOX 6491,,ATHENS,GA,30604,P,H,REP,Q,,NONE,H4GA10071\n",
            "      1 C00611137,COLLINS FOR CONGRESS,CATHERINE ANN PAGE,3045 DARIEN PARK DRIVE,,ROSWELL,GA,30076,P,H,REP,Q,,,H4GA11103\n"
          ]
        }
      ],
      "source": [
        "!csvgrep -c2 -r '^COLLINS FOR CONGRESS' candidate.csv | uniq -c | head"
      ]
    },
    {
      "cell_type": "code",
      "execution_count": null,
      "id": "f7be4794-54a9-408e-8ec5-e6ff05f93831",
      "metadata": {
        "id": "f7be4794-54a9-408e-8ec5-e6ff05f93831",
        "outputId": "c053f842-a629-4119-8359-dbd67fb6a301"
      },
      "outputs": [
        {
          "name": "stdout",
          "output_type": "stream",
          "text": [
            "      1 CMTE_ID,CMTE_NM,TRES_NM,CMTE_ST1,CMTE_ST2,CMTE_CITY,CMTE_ST,CMTE_ZIP,CMTE_DSGN,CMTE_TP,CMTE_PTY_AFFILIATION,CMTE_FILING_FREQ,ORG_TP,CONNECTED_ORG_NM,CAND_ID\n",
            "      1 C00374751,SCHNEIDER FOR CONGRESS,\"SCHNEIDER, JAN MS\",227 SEAGULL LANE,,SARASOTA,FL,34236,A,H,DEM,Q,,,H2FL13139\n",
            "      1 C00495952,SCHNEIDER FOR CONGRESS,\"KARTON, DEBORAH\",PO BOX 1318,,DEERFIELD,IL,60015,P,H,DEM,Q,,NONE,H2IL10068\n",
            "      1 C00672956,SCHNEIDER FOR CONGRESS,\"CRATE, BRADLEY T\",PO BOX 317,,BEVERLY,MA,01915,P,H,REP,Q,,NONE,H8MA06133\n"
          ]
        }
      ],
      "source": [
        "!csvgrep -c2 -r '^SCHNEIDER FOR CONGRESS' candidate.csv | uniq -c | head"
      ]
    },
    {
      "cell_type": "code",
      "execution_count": null,
      "id": "171bb2ec-9d70-45d7-b3e6-0b59ad04e7de",
      "metadata": {
        "id": "171bb2ec-9d70-45d7-b3e6-0b59ad04e7de",
        "outputId": "b025f030-683d-4396-a422-19485c78af73"
      },
      "outputs": [
        {
          "name": "stdout",
          "output_type": "stream",
          "text": [
            "      1 CMTE_ID,CMTE_NM,TRES_NM,CMTE_ST1,CMTE_ST2,CMTE_CITY,CMTE_ST,CMTE_ZIP,CMTE_DSGN,CMTE_TP,CMTE_PTY_AFFILIATION,CMTE_FILING_FREQ,ORG_TP,CONNECTED_ORG_NM,CAND_ID\n",
            "      1 C00690263,HOLD THEM ACCOUNTABLE,\"VOGEL, TARYN\",PO BOX 2505,,MT PLEASANT,SC,29465,U,V,,Q,,,\n",
            "      1 C00764175,HOLD THEM ACCOUNTABLE,\"WINTER, DAVID MR\",15 PARK STREET APT 206,,ESSEX JCT.,VT,05452,U,O,,T,,,\n",
            "      1 C00771923,HOLD THEM ACCOUNTABLE,\"VOGEL, TARYN\",PO BOX 2505,,MT PLEASANT,SC,29465,U,O,,T,,,\n"
          ]
        }
      ],
      "source": [
        "!csvgrep -c2 -r '^HOLD THEM ACCOUNTABLE' candidate.csv | uniq -c | head"
      ]
    },
    {
      "cell_type": "markdown",
      "id": "592bd6c7-aacf-4025-ab7b-b102b0215754",
      "metadata": {
        "id": "592bd6c7-aacf-4025-ab7b-b102b0215754"
      },
      "source": [
        "**Observation:**\n",
        "* All values are unique values for the 3 committee names occuring > 2 times\n",
        "* Hence they should not be handled/removed."
      ]
    }
  ],
  "metadata": {
    "kernelspec": {
      "display_name": "Python 3 (ipykernel)",
      "language": "python",
      "name": "python3"
    },
    "language_info": {
      "codemirror_mode": {
        "name": "ipython",
        "version": 3
      },
      "file_extension": ".py",
      "mimetype": "text/x-python",
      "name": "python",
      "nbconvert_exporter": "python",
      "pygments_lexer": "ipython3",
      "version": "3.8.10"
    },
    "colab": {
      "name": "Group Project 1.ipynb",
      "provenance": [],
      "include_colab_link": true
    }
  },
  "nbformat": 4,
  "nbformat_minor": 5
}