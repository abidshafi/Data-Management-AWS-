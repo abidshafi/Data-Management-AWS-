{
  "cells": [
    {
      "cell_type": "markdown",
      "metadata": {
        "id": "view-in-github",
        "colab_type": "text"
      },
      "source": [
        "<a href=\"https://colab.research.google.com/github/abidshafi/Data-Management-AWS-/blob/main/Group_Project_2.ipynb\" target=\"_parent\"><img src=\"https://colab.research.google.com/assets/colab-badge.svg\" alt=\"Open In Colab\"/></a>"
      ]
    },
    {
      "cell_type": "markdown",
      "id": "5ef96d88-5a35-404e-8e20-2a21e8f1e06a",
      "metadata": {
        "id": "5ef96d88-5a35-404e-8e20-2a21e8f1e06a"
      },
      "source": [
        "# Problem 2, 3 & 4"
      ]
    },
    {
      "cell_type": "markdown",
      "id": "eeb44abc-52ae-414b-95f8-8f8fab1f36db",
      "metadata": {
        "tags": [],
        "id": "eeb44abc-52ae-414b-95f8-8f8fab1f36db"
      },
      "source": [
        "## Initialization"
      ]
    },
    {
      "cell_type": "code",
      "execution_count": null,
      "id": "a007e0cd-86c8-43fc-a00e-8e8ff24be9d2",
      "metadata": {
        "id": "a007e0cd-86c8-43fc-a00e-8e8ff24be9d2"
      },
      "outputs": [],
      "source": [
        "import os"
      ]
    },
    {
      "cell_type": "code",
      "execution_count": null,
      "id": "0e2e65f6-f0a1-47f2-98b4-bf25667b5493",
      "metadata": {
        "tags": [],
        "id": "0e2e65f6-f0a1-47f2-98b4-bf25667b5493",
        "outputId": "7a08f456-b510-442b-97e6-b96fa01a66b8"
      },
      "outputs": [
        {
          "name": "stdout",
          "output_type": "stream",
          "text": [
            "ipython-sql==0.4.0\n",
            "psycopg2==2.9.1\n",
            "psycopg2-binary==2.9.1\n"
          ]
        }
      ],
      "source": [
        "!pip freeze | grep -E 'ipython-sql|psycopg2'"
      ]
    },
    {
      "cell_type": "markdown",
      "id": "8e369dcf-12d9-4ff0-b527-d74f7ee1dae2",
      "metadata": {
        "tags": [],
        "id": "8e369dcf-12d9-4ff0-b527-d74f7ee1dae2"
      },
      "source": [
        "* Make sure no database with same name is there currently."
      ]
    },
    {
      "cell_type": "code",
      "execution_count": null,
      "id": "038efd09-0067-44ad-8935-8401af6275a4",
      "metadata": {
        "id": "038efd09-0067-44ad-8935-8401af6275a4"
      },
      "outputs": [],
      "source": [
        "!dropdb -U student candidate"
      ]
    },
    {
      "cell_type": "markdown",
      "id": "3a26e8c1-1b5d-41eb-8abf-c8e4e36c1a10",
      "metadata": {
        "id": "3a26e8c1-1b5d-41eb-8abf-c8e4e36c1a10"
      },
      "source": [
        "* Create the database."
      ]
    },
    {
      "cell_type": "code",
      "execution_count": null,
      "id": "e336f6ce-f5d7-4e49-b041-78ec70fb8e20",
      "metadata": {
        "id": "e336f6ce-f5d7-4e49-b041-78ec70fb8e20"
      },
      "outputs": [],
      "source": [
        "!createdb -U student candidate"
      ]
    },
    {
      "cell_type": "markdown",
      "id": "915140e9-5994-4fe4-9f39-fc85cc0fad63",
      "metadata": {
        "id": "915140e9-5994-4fe4-9f39-fc85cc0fad63"
      },
      "source": [
        "* Connect database."
      ]
    },
    {
      "cell_type": "code",
      "execution_count": null,
      "id": "c32333f9-53bf-4903-8813-d1e47330062c",
      "metadata": {
        "id": "c32333f9-53bf-4903-8813-d1e47330062c"
      },
      "outputs": [],
      "source": [
        "%load_ext sql   \n",
        "# Connect"
      ]
    },
    {
      "cell_type": "code",
      "execution_count": null,
      "id": "73cbcc1d-fd91-4ef7-9a4c-88c6876a0e2a",
      "metadata": {
        "id": "73cbcc1d-fd91-4ef7-9a4c-88c6876a0e2a"
      },
      "outputs": [],
      "source": [
        "%sql postgresql://student@/candidate\n",
        "# Database connection"
      ]
    },
    {
      "cell_type": "code",
      "execution_count": null,
      "id": "455583ba-5ef6-42e0-ad61-45d43dfb3653",
      "metadata": {
        "id": "455583ba-5ef6-42e0-ad61-45d43dfb3653",
        "outputId": "d7bdf96c-dc83-40e1-e6b7-083cd45003f4"
      },
      "outputs": [
        {
          "name": "stdout",
          "output_type": "stream",
          "text": [
            "psql (PostgreSQL) 12.8 (Ubuntu 12.8-0ubuntu0.20.04.1)\n"
          ]
        }
      ],
      "source": [
        "!psql --version"
      ]
    },
    {
      "cell_type": "code",
      "execution_count": null,
      "id": "1da4b19f-4295-4886-8398-dbea41c2884e",
      "metadata": {
        "id": "1da4b19f-4295-4886-8398-dbea41c2884e",
        "outputId": "81d611f6-d336-4c9d-99bf-4f139528c025"
      },
      "outputs": [
        {
          "name": "stdout",
          "output_type": "stream",
          "text": [
            "/home/ubuntu\n"
          ]
        }
      ],
      "source": [
        "!pwd"
      ]
    },
    {
      "cell_type": "markdown",
      "id": "66cce374-5339-4db5-a575-9823a09b7432",
      "metadata": {
        "id": "66cce374-5339-4db5-a575-9823a09b7432"
      },
      "source": [
        "* Create directory to save relevant files and change directory to specified folder"
      ]
    },
    {
      "cell_type": "code",
      "execution_count": null,
      "id": "4e0e0d4e-5102-4ea1-b89a-b8319e8354a8",
      "metadata": {
        "id": "4e0e0d4e-5102-4ea1-b89a-b8319e8354a8"
      },
      "outputs": [],
      "source": [
        "!mkdir 'Exercise  2 (Group)'"
      ]
    },
    {
      "cell_type": "code",
      "execution_count": null,
      "id": "ba0779ed-5005-4a8a-8e20-4374d5caf314",
      "metadata": {
        "id": "ba0779ed-5005-4a8a-8e20-4374d5caf314"
      },
      "outputs": [],
      "source": [
        "assert 'Exercise  2 (Group)' in os.listdir()"
      ]
    },
    {
      "cell_type": "code",
      "execution_count": null,
      "id": "9e9919a1-ea1b-4695-b44b-f9bf02a22992",
      "metadata": {
        "id": "9e9919a1-ea1b-4695-b44b-f9bf02a22992",
        "outputId": "824f640f-1e19-4309-ce9d-dd6bde074f30"
      },
      "outputs": [
        {
          "name": "stdout",
          "output_type": "stream",
          "text": [
            "/home/ubuntu/Exercise  2 (Group)\n"
          ]
        }
      ],
      "source": [
        "%cd 'Exercise  2 (Group)'/"
      ]
    },
    {
      "cell_type": "markdown",
      "id": "6970c53c-f5f8-4f5b-970f-d3bb83d8862f",
      "metadata": {
        "tags": [],
        "id": "6970c53c-f5f8-4f5b-970f-d3bb83d8862f"
      },
      "source": [
        "## Candidate Table"
      ]
    },
    {
      "cell_type": "markdown",
      "id": "421f16bc-daad-43ed-8594-76f56ff6b113",
      "metadata": {
        "tags": [],
        "id": "421f16bc-daad-43ed-8594-76f56ff6b113"
      },
      "source": [
        "* Create 'CANDIDATE' table with all of its attributes and the type of data of each attribute."
      ]
    },
    {
      "cell_type": "code",
      "execution_count": null,
      "id": "a0b6c1dd-76af-4087-9b55-a82fccc46855",
      "metadata": {
        "id": "a0b6c1dd-76af-4087-9b55-a82fccc46855",
        "outputId": "4352965d-88f2-42ad-d831-8817d7e80e46"
      },
      "outputs": [
        {
          "name": "stdout",
          "output_type": "stream",
          "text": [
            " * postgresql://student@/candidate\n",
            "Done.\n",
            "Done.\n"
          ]
        },
        {
          "data": {
            "text/plain": [
              "[]"
            ]
          },
          "execution_count": 12,
          "metadata": {},
          "output_type": "execute_result"
        }
      ],
      "source": [
        "%%sql\n",
        "DROP TABLE IF EXISTS CANDIDATE Cascade;\n",
        "\n",
        "CREATE TABLE CANDIDATE (\n",
        "  CAND_ID                VARCHAR(9) NOT NULL, \n",
        "  CAND_NAME              VARCHAR(200),\n",
        "  CAND_PTY_AFFILIATION   VARCHAR(3),\n",
        "  CAND_ELECTION_YR       numeric(4),\n",
        "  CAND_OFFICE_ST         VARCHAR(2),\n",
        "  CAND_OFFICE            VARCHAR(1),\n",
        "  CAND_OFFICE_DISTRICT   VARCHAR(2),\n",
        "  CAND_ICI               VARCHAR(1),\n",
        "  CAND_STATUS            VARCHAR(1),\n",
        "  CAND_PCC               VARCHAR(9),\n",
        "  CAND_ST1               VARCHAR(34),\n",
        "  CAND_ST2               VARCHAR(34),\n",
        "  CAND_CITY              VARCHAR(30),\n",
        "  CAND_ST                VARCHAR(2),\n",
        "  CAND_ZIP               VARCHAR(9),\n",
        "  PRIMARY KEY (CAND_ID)\n",
        ");\n"
      ]
    },
    {
      "cell_type": "markdown",
      "id": "3bd8fab9-8da4-4b88-abd3-23bf251f3d18",
      "metadata": {
        "id": "3bd8fab9-8da4-4b88-abd3-23bf251f3d18"
      },
      "source": [
        "* Add explanation of what data the 'CANDIDATE' table contains."
      ]
    },
    {
      "cell_type": "code",
      "execution_count": null,
      "id": "7673bcde-806d-47a9-ab12-e867d5550473",
      "metadata": {
        "id": "7673bcde-806d-47a9-ab12-e867d5550473",
        "outputId": "500a25d2-1550-4721-9635-9f2e499e9abc"
      },
      "outputs": [
        {
          "name": "stdout",
          "output_type": "stream",
          "text": [
            " * postgresql://student@/candidate\n",
            "Done.\n"
          ]
        },
        {
          "data": {
            "text/plain": [
              "[]"
            ]
          },
          "execution_count": 13,
          "metadata": {},
          "output_type": "execute_result"
        }
      ],
      "source": [
        "%%sql\n",
        "COMMENT ON TABLE CANDIDATE IS \n",
        "'Candidate Master(CN16): contains 1 record for each candidate who has either registered with the FEC or appeared on a ballot list prepared by a state elections office.';"
      ]
    },
    {
      "cell_type": "markdown",
      "id": "f12d3618-6c4d-4863-a56f-9e7308d6b036",
      "metadata": {
        "id": "f12d3618-6c4d-4863-a56f-9e7308d6b036"
      },
      "source": [
        "* Add explanation of what each attribute (column) means in the 'CANDIDATE' table."
      ]
    },
    {
      "cell_type": "code",
      "execution_count": null,
      "id": "43161dc6-6f77-4609-b0e1-3083c408dc94",
      "metadata": {
        "id": "43161dc6-6f77-4609-b0e1-3083c408dc94",
        "outputId": "3f24e6fb-924b-4257-9b2b-07d7f41d26fe"
      },
      "outputs": [
        {
          "name": "stdout",
          "output_type": "stream",
          "text": [
            " * postgresql://student@/candidate\n",
            "Done.\n",
            "Done.\n",
            "Done.\n",
            "Done.\n",
            "Done.\n",
            "Done.\n",
            "Done.\n",
            "Done.\n",
            "Done.\n",
            "Done.\n",
            "Done.\n",
            "Done.\n",
            "Done.\n",
            "Done.\n",
            "Done.\n"
          ]
        },
        {
          "data": {
            "text/plain": [
              "[]"
            ]
          },
          "execution_count": 14,
          "metadata": {},
          "output_type": "execute_result"
        }
      ],
      "source": [
        "%%sql\n",
        "COMMENT ON COLUMN CANDIDATE.CAND_ID IS 'Candidate identification';\n",
        "COMMENT ON COLUMN CANDIDATE.CAND_NAME IS 'Candidate name';\n",
        "COMMENT ON COLUMN CANDIDATE.CAND_PTY_AFFILIATION IS 'Party affiliation';\n",
        "COMMENT ON COLUMN CANDIDATE.CAND_ELECTION_YR IS 'Year of election';\n",
        "COMMENT ON COLUMN CANDIDATE.CAND_OFFICE_ST IS 'Candidate state';\n",
        "COMMENT ON COLUMN CANDIDATE.CAND_OFFICE IS 'Candidate office';\n",
        "COMMENT ON COLUMN CANDIDATE.CAND_OFFICE_DISTRICT IS 'Candidate district';\n",
        "COMMENT ON COLUMN CANDIDATE.CAND_ICI IS 'Incumbent challenger status';\n",
        "COMMENT ON COLUMN CANDIDATE.CAND_STATUS IS 'Candidate status';\n",
        "COMMENT ON COLUMN CANDIDATE.CAND_PCC IS 'Principal campaign committee';\n",
        "COMMENT ON COLUMN CANDIDATE.CAND_ST1 IS 'Mailing address - street';\n",
        "COMMENT ON COLUMN CANDIDATE.CAND_ST2 IS 'Mailing address - street2';\n",
        "COMMENT ON COLUMN CANDIDATE.CAND_CITY IS 'Mailing address - city';\n",
        "COMMENT ON COLUMN CANDIDATE.CAND_ST IS 'Mailing address - state';\n",
        "COMMENT ON COLUMN CANDIDATE.CAND_ZIP IS 'Mailing address - ZIP code';\n"
      ]
    },
    {
      "cell_type": "markdown",
      "id": "7772e450-48e4-4669-81d1-2c3b013ba721",
      "metadata": {
        "id": "7772e450-48e4-4669-81d1-2c3b013ba721"
      },
      "source": [
        "* Get the header and bulk data file."
      ]
    },
    {
      "cell_type": "code",
      "execution_count": null,
      "id": "2af89a69-2d7d-48e2-9489-7d5ef39f7d52",
      "metadata": {
        "id": "2af89a69-2d7d-48e2-9489-7d5ef39f7d52",
        "outputId": "ad2b9635-054f-4dd9-f754-b6bff8bf35f7"
      },
      "outputs": [
        {
          "name": "stdout",
          "output_type": "stream",
          "text": [
            "--2021-11-01 17:19:28--  https://www.fec.gov/files/bulk-downloads/data_dictionaries/cn_header_file.csv\n",
            "Resolving www.fec.gov (www.fec.gov)... 99.84.191.105, 99.84.191.118, 99.84.191.44, ...\n",
            "Connecting to www.fec.gov (www.fec.gov)|99.84.191.105|:443... connected.\n",
            "HTTP request sent, awaiting response... 302 Moved Temporarily\n",
            "Location: https://cg-519a459a-0ea3-42c2-b7bc-fa1143481f74.s3-us-gov-west-1.amazonaws.com/bulk-downloads/data_dictionaries/cn_header_file.csv [following]\n",
            "--2021-11-01 17:19:28--  https://cg-519a459a-0ea3-42c2-b7bc-fa1143481f74.s3-us-gov-west-1.amazonaws.com/bulk-downloads/data_dictionaries/cn_header_file.csv\n",
            "Resolving cg-519a459a-0ea3-42c2-b7bc-fa1143481f74.s3-us-gov-west-1.amazonaws.com (cg-519a459a-0ea3-42c2-b7bc-fa1143481f74.s3-us-gov-west-1.amazonaws.com)... 108.175.48.8\n",
            "Connecting to cg-519a459a-0ea3-42c2-b7bc-fa1143481f74.s3-us-gov-west-1.amazonaws.com (cg-519a459a-0ea3-42c2-b7bc-fa1143481f74.s3-us-gov-west-1.amazonaws.com)|108.175.48.8|:443... connected.\n",
            "HTTP request sent, awaiting response... 200 OK\n",
            "Length: 180 [binary/octet-stream]\n",
            "Saving to: ‘cn_header_file.csv’\n",
            "\n",
            "cn_header_file.csv  100%[===================>]     180  --.-KB/s    in 0s      \n",
            "\n",
            "2021-11-01 17:19:28 (9.34 MB/s) - ‘cn_header_file.csv’ saved [180/180]\n",
            "\n"
          ]
        }
      ],
      "source": [
        "!wget https://www.fec.gov/files/bulk-downloads/data_dictionaries/cn_header_file.csv"
      ]
    },
    {
      "cell_type": "code",
      "execution_count": null,
      "id": "06b788b5-b065-49a6-9be0-0c13e53d25cd",
      "metadata": {
        "id": "06b788b5-b065-49a6-9be0-0c13e53d25cd",
        "outputId": "a34b6a15-fab0-47ae-f089-f562c027d1a2"
      },
      "outputs": [
        {
          "name": "stdout",
          "output_type": "stream",
          "text": [
            "--2021-11-01 17:19:28--  https://www.fec.gov/files/bulk-downloads/2016/cn16.zip\n",
            "Resolving www.fec.gov (www.fec.gov)... 99.84.191.86, 99.84.191.44, 99.84.191.118, ...\n",
            "Connecting to www.fec.gov (www.fec.gov)|99.84.191.86|:443... connected.\n",
            "HTTP request sent, awaiting response... 302 Moved Temporarily\n",
            "Location: https://cg-519a459a-0ea3-42c2-b7bc-fa1143481f74.s3-us-gov-west-1.amazonaws.com/bulk-downloads/2016/cn16.zip [following]\n",
            "--2021-11-01 17:19:28--  https://cg-519a459a-0ea3-42c2-b7bc-fa1143481f74.s3-us-gov-west-1.amazonaws.com/bulk-downloads/2016/cn16.zip\n",
            "Resolving cg-519a459a-0ea3-42c2-b7bc-fa1143481f74.s3-us-gov-west-1.amazonaws.com (cg-519a459a-0ea3-42c2-b7bc-fa1143481f74.s3-us-gov-west-1.amazonaws.com)... 108.175.48.8\n",
            "Connecting to cg-519a459a-0ea3-42c2-b7bc-fa1143481f74.s3-us-gov-west-1.amazonaws.com (cg-519a459a-0ea3-42c2-b7bc-fa1143481f74.s3-us-gov-west-1.amazonaws.com)|108.175.48.8|:443... connected.\n",
            "HTTP request sent, awaiting response... 200 OK\n",
            "Length: 271705 (265K) [application/zip]\n",
            "Saving to: ‘cn16.zip’\n",
            "\n",
            "cn16.zip            100%[===================>] 265.34K   760KB/s    in 0.3s    \n",
            "\n",
            "2021-11-01 17:19:29 (760 KB/s) - ‘cn16.zip’ saved [271705/271705]\n",
            "\n"
          ]
        }
      ],
      "source": [
        "!wget https://www.fec.gov/files/bulk-downloads/2016/cn16.zip"
      ]
    },
    {
      "cell_type": "code",
      "execution_count": null,
      "id": "52c1921d-c335-447c-9fe3-94b13c1d813d",
      "metadata": {
        "id": "52c1921d-c335-447c-9fe3-94b13c1d813d"
      },
      "outputs": [],
      "source": [
        "assert 'cn_header_file.csv' in os.listdir()"
      ]
    },
    {
      "cell_type": "code",
      "execution_count": null,
      "id": "c880c795-25e1-43fb-aa14-e60af444c74e",
      "metadata": {
        "id": "c880c795-25e1-43fb-aa14-e60af444c74e"
      },
      "outputs": [],
      "source": [
        "assert 'cn16.zip' in os.listdir()"
      ]
    },
    {
      "cell_type": "code",
      "execution_count": null,
      "id": "8b586e35-26c1-4fb1-9039-22e359620645",
      "metadata": {
        "id": "8b586e35-26c1-4fb1-9039-22e359620645",
        "outputId": "f1ebe6f5-9ea4-4db2-8400-7adee9d51c72"
      },
      "outputs": [
        {
          "name": "stdout",
          "output_type": "stream",
          "text": [
            "Archive:  cn16.zip\n",
            "  Length      Date    Time    Name\n",
            "---------  ---------- -----   ----\n",
            "   711147  2020-12-31 07:36   cn.txt\n",
            "---------                     -------\n",
            "   711147                     1 file\n"
          ]
        }
      ],
      "source": [
        "!unzip -l cn16.zip"
      ]
    },
    {
      "cell_type": "code",
      "execution_count": null,
      "id": "d3d323d1-874c-4bc1-b997-11cfd5ab28ff",
      "metadata": {
        "id": "d3d323d1-874c-4bc1-b997-11cfd5ab28ff",
        "outputId": "bf5da00c-3fb3-4ed8-9215-3620d9dd239e"
      },
      "outputs": [
        {
          "name": "stdout",
          "output_type": "stream",
          "text": [
            "Archive:  cn16.zip\n",
            "  inflating: cn.txt                  \n"
          ]
        }
      ],
      "source": [
        "!unzip cn16.zip"
      ]
    },
    {
      "cell_type": "code",
      "execution_count": null,
      "id": "2751df9c-4ef2-4eef-8a38-54c9b006c5ed",
      "metadata": {
        "id": "2751df9c-4ef2-4eef-8a38-54c9b006c5ed",
        "outputId": "48cdfbd3-6a4e-4cbd-a023-29e8c0d0fec8"
      },
      "outputs": [
        {
          "name": "stdout",
          "output_type": "stream",
          "text": [
            "H0AK00097|COX, JOHN R.|REP|2014|AK|H|00|C|N|C00525261|P.O. BOX 1092 ||ANCHOR POINT|AK|99556\n",
            "H0AL02087|ROBY, MARTHA|REP|2016|AL|H|02|I|C|C00462143|PO BOX 195||MONTGOMERY|AL|36101\n",
            "H0AL02095|JOHN, ROBERT E JR|IND|2016|AL|H|02|C|N||1465 W OVERBROOK RD||MILLBROOK|AL|36054\n",
            "H0AL05049|CRAMER, ROBERT E \"BUD\" JR|DEM|2008|AL|H|05||P|C00239038|PO BOX 2621||HUNTSVILLE|AL|35804\n",
            "H0AL05163|BROOKS, MO|REP|2016|AL|H|05|I|C|C00464149|7610 FOXFIRE DRIVE||HUNTSVILLE|AL|35802\n",
            "H0AL06088|COOKE, STANLEY KYLE|REP|2010|AL|H|06|C|N|C00464222|723 CHERRY BROOK ROAD||KIMBERLY|AL|35091\n",
            "H0AL07086|SEWELL, TERRYCINA ANDREA|DEM|2016|AL|H|07|I|C|C00458976|PO BOX 1964||BIRMINGHAM|AL|35201\n",
            "H0AL07094|HILLIARD, EARL FREDERICK JR|DEM|2010|AL|H|07|O|P|C00460410|PO BOX 12804||BIRMINGHAM|AL|35202\n",
            "H0AL07177|CHAMBERLAIN, DON|REP|2012|AL|H|07|C|P|C00482059|512 LAPSLEY ST||SELMA|AL|36701\n",
            "H0AR01083|CRAWFORD, ERIC ALAN RICK|REP|2016|AR|H|01|I|C|C00462374|34 CR 455||JONESBORO|AR|72404\n"
          ]
        }
      ],
      "source": [
        "!head cn.txt"
      ]
    },
    {
      "cell_type": "markdown",
      "id": "f08033a1-6c72-4380-9a08-36d06b3a4add",
      "metadata": {
        "id": "f08033a1-6c72-4380-9a08-36d06b3a4add"
      },
      "source": [
        "* Convert text file to csv file with delimiter."
      ]
    },
    {
      "cell_type": "code",
      "execution_count": null,
      "id": "7fe06e89-d74d-45a0-a982-d2da4340dd98",
      "metadata": {
        "id": "7fe06e89-d74d-45a0-a982-d2da4340dd98"
      },
      "outputs": [],
      "source": [
        "!csvformat -d '|' cn.txt > cn.csv"
      ]
    },
    {
      "cell_type": "markdown",
      "id": "bc58c7b1-0e46-4629-8d0a-b00d071cbb49",
      "metadata": {
        "id": "bc58c7b1-0e46-4629-8d0a-b00d071cbb49"
      },
      "source": [
        "* Stack files."
      ]
    },
    {
      "cell_type": "code",
      "execution_count": null,
      "id": "d9d391cb-3dc8-4d12-9794-247ad73c61f5",
      "metadata": {
        "id": "d9d391cb-3dc8-4d12-9794-247ad73c61f5"
      },
      "outputs": [],
      "source": [
        "!csvstack cn_header_file.csv cn.csv > cn1.csv"
      ]
    },
    {
      "cell_type": "markdown",
      "id": "40f63d12-3112-4562-bf23-d81432f8b18a",
      "metadata": {
        "id": "40f63d12-3112-4562-bf23-d81432f8b18a"
      },
      "source": [
        "* Count the number of rows in the data file."
      ]
    },
    {
      "cell_type": "code",
      "execution_count": null,
      "id": "40886125-eeb8-4d0d-8a24-131cf303ed07",
      "metadata": {
        "id": "40886125-eeb8-4d0d-8a24-131cf303ed07",
        "outputId": "208722d7-244a-4f41-a388-ed1f60f8d25b"
      },
      "outputs": [
        {
          "name": "stdout",
          "output_type": "stream",
          "text": [
            "7396 cn1.csv\n"
          ]
        }
      ],
      "source": [
        "!wc -l cn1.csv\n",
        "# This is the total row entry in the file"
      ]
    },
    {
      "cell_type": "markdown",
      "id": "218cd84c-218f-42de-a5d5-1371247aa7b9",
      "metadata": {
        "id": "218cd84c-218f-42de-a5d5-1371247aa7b9"
      },
      "source": [
        "* Check the column names of the data file."
      ]
    },
    {
      "cell_type": "code",
      "execution_count": null,
      "id": "6bfdfe7e-1cf7-4e61-afd3-b2065204cc3f",
      "metadata": {
        "id": "6bfdfe7e-1cf7-4e61-afd3-b2065204cc3f",
        "outputId": "bd1550de-6923-46cd-fdec-1b7af8472e58"
      },
      "outputs": [
        {
          "name": "stdout",
          "output_type": "stream",
          "text": [
            "  1: CAND_ID\n",
            "  2: CAND_NAME\n",
            "  3: CAND_PTY_AFFILIATION\n",
            "  4: CAND_ELECTION_YR\n",
            "  5: CAND_OFFICE_ST\n",
            "  6: CAND_OFFICE\n",
            "  7: CAND_OFFICE_DISTRICT\n",
            "  8: CAND_ICI\n",
            "  9: CAND_STATUS\n",
            " 10: CAND_PCC\n",
            " 11: CAND_ST1\n",
            " 12: CAND_ST2\n",
            " 13: CAND_CITY\n",
            " 14: CAND_ST\n",
            " 15: CAND_ZIP\n"
          ]
        }
      ],
      "source": [
        "!csvcut -n cn1.csv"
      ]
    },
    {
      "cell_type": "markdown",
      "id": "34a3f311-55ad-450b-9d82-93a92a03e1ba",
      "metadata": {
        "id": "34a3f311-55ad-450b-9d82-93a92a03e1ba"
      },
      "source": [
        "* Load CANDIDATE data into the database."
      ]
    },
    {
      "cell_type": "code",
      "execution_count": null,
      "id": "3ad15659-edf8-4404-95f8-32682e025d4b",
      "metadata": {
        "id": "3ad15659-edf8-4404-95f8-32682e025d4b",
        "outputId": "8a0b5721-2fbd-4b4f-d158-c774f9f3d48e"
      },
      "outputs": [
        {
          "name": "stdout",
          "output_type": "stream",
          "text": [
            "/home/ubuntu/Exercise  2 (Group)\n"
          ]
        }
      ],
      "source": [
        "!pwd"
      ]
    },
    {
      "cell_type": "code",
      "execution_count": null,
      "id": "c5d9ea42-44dd-44d2-8b54-a0bb8b341307",
      "metadata": {
        "id": "c5d9ea42-44dd-44d2-8b54-a0bb8b341307",
        "outputId": "bdcd93c1-9a74-452b-f911-b4b25329eb5c"
      },
      "outputs": [
        {
          "name": "stdout",
          "output_type": "stream",
          "text": [
            " * postgresql://student@/candidate\n",
            "7395 rows affected.\n"
          ]
        },
        {
          "data": {
            "text/plain": [
              "[]"
            ]
          },
          "execution_count": 27,
          "metadata": {},
          "output_type": "execute_result"
        }
      ],
      "source": [
        "%%sql\n",
        "COPY CANDIDATE FROM '/home/ubuntu/Exercise  2 (Group)/cn1.csv'\n",
        "CSV\n",
        "HEADER;"
      ]
    },
    {
      "cell_type": "markdown",
      "id": "745c2ae4-7c1e-4498-936d-ce3e1efec633",
      "metadata": {
        "id": "745c2ae4-7c1e-4498-936d-ce3e1efec633"
      },
      "source": [
        "* Count the rows in 'CANDIDATE' table to check if all data has been loaded successfully: the number of rows affected is one less than the number of rows in the data file, because the header is not affected."
      ]
    },
    {
      "cell_type": "code",
      "execution_count": null,
      "id": "f5794bd1-a8d3-415e-8511-586efda3e7af",
      "metadata": {
        "id": "f5794bd1-a8d3-415e-8511-586efda3e7af",
        "outputId": "96799f18-d2ab-4315-af92-35f4e703b020"
      },
      "outputs": [
        {
          "name": "stdout",
          "output_type": "stream",
          "text": [
            " * postgresql://student@/candidate\n",
            "1 rows affected.\n"
          ]
        },
        {
          "data": {
            "text/html": [
              "<table>\n",
              "    <thead>\n",
              "        <tr>\n",
              "            <th>count</th>\n",
              "        </tr>\n",
              "    </thead>\n",
              "    <tbody>\n",
              "        <tr>\n",
              "            <td>7395</td>\n",
              "        </tr>\n",
              "    </tbody>\n",
              "</table>"
            ],
            "text/plain": [
              "[(7395,)]"
            ]
          },
          "execution_count": 28,
          "metadata": {},
          "output_type": "execute_result"
        }
      ],
      "source": [
        "%%sql\n",
        "SELECT COUNT(*) FROM CANDIDATE;"
      ]
    },
    {
      "cell_type": "markdown",
      "id": "24cc8477-f8ec-4a42-ab1e-47dcbc851d93",
      "metadata": {
        "id": "24cc8477-f8ec-4a42-ab1e-47dcbc851d93"
      },
      "source": [
        "* View the table to check if the data format is identical to that of the original data file."
      ]
    },
    {
      "cell_type": "code",
      "execution_count": null,
      "id": "3669959d-724b-410e-9b0a-f786c0329a00",
      "metadata": {
        "id": "3669959d-724b-410e-9b0a-f786c0329a00",
        "outputId": "d9191773-76fd-43e8-b935-159f376e90aa"
      },
      "outputs": [
        {
          "name": "stdout",
          "output_type": "stream",
          "text": [
            " * postgresql://student@/candidate\n",
            "5 rows affected.\n"
          ]
        },
        {
          "data": {
            "text/html": [
              "<table>\n",
              "    <thead>\n",
              "        <tr>\n",
              "            <th>cand_id</th>\n",
              "            <th>cand_name</th>\n",
              "            <th>cand_pty_affiliation</th>\n",
              "            <th>cand_election_yr</th>\n",
              "            <th>cand_office_st</th>\n",
              "            <th>cand_office</th>\n",
              "            <th>cand_office_district</th>\n",
              "            <th>cand_ici</th>\n",
              "            <th>cand_status</th>\n",
              "            <th>cand_pcc</th>\n",
              "            <th>cand_st1</th>\n",
              "            <th>cand_st2</th>\n",
              "            <th>cand_city</th>\n",
              "            <th>cand_st</th>\n",
              "            <th>cand_zip</th>\n",
              "        </tr>\n",
              "    </thead>\n",
              "    <tbody>\n",
              "        <tr>\n",
              "            <td>H0AL02087</td>\n",
              "            <td>ROBY, MARTHA</td>\n",
              "            <td>REP</td>\n",
              "            <td>2016</td>\n",
              "            <td>AL</td>\n",
              "            <td>H</td>\n",
              "            <td>02</td>\n",
              "            <td>I</td>\n",
              "            <td>C</td>\n",
              "            <td>C00462143</td>\n",
              "            <td>PO BOX 195</td>\n",
              "            <td>None</td>\n",
              "            <td>MONTGOMERY</td>\n",
              "            <td>AL</td>\n",
              "            <td>36101</td>\n",
              "        </tr>\n",
              "        <tr>\n",
              "            <td>H0AL02095</td>\n",
              "            <td>JOHN, ROBERT E JR</td>\n",
              "            <td>IND</td>\n",
              "            <td>2016</td>\n",
              "            <td>AL</td>\n",
              "            <td>H</td>\n",
              "            <td>02</td>\n",
              "            <td>C</td>\n",
              "            <td>N</td>\n",
              "            <td>None</td>\n",
              "            <td>1465 W OVERBROOK RD</td>\n",
              "            <td>None</td>\n",
              "            <td>MILLBROOK</td>\n",
              "            <td>AL</td>\n",
              "            <td>36054</td>\n",
              "        </tr>\n",
              "        <tr>\n",
              "            <td>H0AL05049</td>\n",
              "            <td>CRAMER, ROBERT E &quot;BUD&quot; JR</td>\n",
              "            <td>DEM</td>\n",
              "            <td>2008</td>\n",
              "            <td>AL</td>\n",
              "            <td>H</td>\n",
              "            <td>05</td>\n",
              "            <td>None</td>\n",
              "            <td>P</td>\n",
              "            <td>C00239038</td>\n",
              "            <td>PO BOX 2621</td>\n",
              "            <td>None</td>\n",
              "            <td>HUNTSVILLE</td>\n",
              "            <td>AL</td>\n",
              "            <td>35804</td>\n",
              "        </tr>\n",
              "        <tr>\n",
              "            <td>H0AL05163</td>\n",
              "            <td>BROOKS, MO</td>\n",
              "            <td>REP</td>\n",
              "            <td>2016</td>\n",
              "            <td>AL</td>\n",
              "            <td>H</td>\n",
              "            <td>05</td>\n",
              "            <td>I</td>\n",
              "            <td>C</td>\n",
              "            <td>C00464149</td>\n",
              "            <td>7610 FOXFIRE DRIVE</td>\n",
              "            <td>None</td>\n",
              "            <td>HUNTSVILLE</td>\n",
              "            <td>AL</td>\n",
              "            <td>35802</td>\n",
              "        </tr>\n",
              "        <tr>\n",
              "            <td>H0AL06088</td>\n",
              "            <td>COOKE, STANLEY KYLE</td>\n",
              "            <td>REP</td>\n",
              "            <td>2010</td>\n",
              "            <td>AL</td>\n",
              "            <td>H</td>\n",
              "            <td>06</td>\n",
              "            <td>C</td>\n",
              "            <td>N</td>\n",
              "            <td>C00464222</td>\n",
              "            <td>723 CHERRY BROOK ROAD</td>\n",
              "            <td>None</td>\n",
              "            <td>KIMBERLY</td>\n",
              "            <td>AL</td>\n",
              "            <td>35091</td>\n",
              "        </tr>\n",
              "    </tbody>\n",
              "</table>"
            ],
            "text/plain": [
              "[('H0AL02087', 'ROBY, MARTHA', 'REP', Decimal('2016'), 'AL', 'H', '02', 'I', 'C', 'C00462143', 'PO BOX 195', None, 'MONTGOMERY', 'AL', '36101'),\n",
              " ('H0AL02095', 'JOHN, ROBERT E JR', 'IND', Decimal('2016'), 'AL', 'H', '02', 'C', 'N', None, '1465 W OVERBROOK RD', None, 'MILLBROOK', 'AL', '36054'),\n",
              " ('H0AL05049', 'CRAMER, ROBERT E \"BUD\" JR', 'DEM', Decimal('2008'), 'AL', 'H', '05', None, 'P', 'C00239038', 'PO BOX 2621', None, 'HUNTSVILLE', 'AL', '35804'),\n",
              " ('H0AL05163', 'BROOKS, MO', 'REP', Decimal('2016'), 'AL', 'H', '05', 'I', 'C', 'C00464149', '7610 FOXFIRE DRIVE', None, 'HUNTSVILLE', 'AL', '35802'),\n",
              " ('H0AL06088', 'COOKE, STANLEY KYLE', 'REP', Decimal('2010'), 'AL', 'H', '06', 'C', 'N', 'C00464222', '723 CHERRY BROOK ROAD', None, 'KIMBERLY', 'AL', '35091')]"
            ]
          },
          "execution_count": 29,
          "metadata": {},
          "output_type": "execute_result"
        }
      ],
      "source": [
        "%%sql\n",
        "SELECT * FROM CANDIDATE\n",
        "Limit 5;"
      ]
    },
    {
      "cell_type": "markdown",
      "id": "2cc0780d-7186-4a4d-9544-ae49f67fe249",
      "metadata": {
        "id": "2cc0780d-7186-4a4d-9544-ae49f67fe249"
      },
      "source": [
        "## Committee Master"
      ]
    },
    {
      "cell_type": "markdown",
      "id": "c963bf44-f667-4f23-a297-ae27474d791f",
      "metadata": {
        "tags": [],
        "id": "c963bf44-f667-4f23-a297-ae27474d791f"
      },
      "source": [
        "* Create 'COMMITTEE' table with all of its attributes and the type of data of each attribute."
      ]
    },
    {
      "cell_type": "code",
      "execution_count": null,
      "id": "3ea3a19f-c759-4370-b4c0-8c87ce66db17",
      "metadata": {
        "id": "3ea3a19f-c759-4370-b4c0-8c87ce66db17",
        "outputId": "4fb087cb-40e2-4fc5-d4aa-3b56bd909e3b"
      },
      "outputs": [
        {
          "name": "stdout",
          "output_type": "stream",
          "text": [
            " * postgresql://student@/candidate\n",
            "Done.\n",
            "Done.\n"
          ]
        },
        {
          "data": {
            "text/plain": [
              "[]"
            ]
          },
          "execution_count": 30,
          "metadata": {},
          "output_type": "execute_result"
        }
      ],
      "source": [
        "%%sql\n",
        "DROP TABLE IF EXISTS COMMITTEE Cascade;\n",
        "\n",
        "CREATE TABLE COMMITTEE (\n",
        "  CMTE_ID                VARCHAR(9) NOT NULL, \n",
        "  CMTE_NM                VARCHAR(200),\n",
        "  TRES_NM                VARCHAR(90),\n",
        "  CMTE_ST1               VARCHAR(34),\n",
        "  CMTE_ST2               VARCHAR(34),\n",
        "  CMTE_CITY              VARCHAR(30),\n",
        "  CMTE_ST                VARCHAR(2),\n",
        "  CMTE_ZIP               VARCHAR(9),\n",
        "  CMTE_DSGN              VARCHAR(1),\n",
        "  CMTE_TP                VARCHAR(1),\n",
        "  CMTE_PTY_AFFILIATION   VARCHAR(3),\n",
        "  CMTE_FILING_FREQ       VARCHAR(1),\n",
        "  ORG_TP                 VARCHAR(1),\n",
        "  CONNECTED_ORG_NM       VARCHAR(200),\n",
        "  CAND_ID                VARCHAR(9),\n",
        "  PRIMARY KEY (CMTE_ID)\n",
        ");\n"
      ]
    },
    {
      "cell_type": "markdown",
      "id": "1a69f493-6469-4d31-a859-092d04a610ed",
      "metadata": {
        "id": "1a69f493-6469-4d31-a859-092d04a610ed"
      },
      "source": [
        "* Add explanation of what data the 'COMMITTEE' table contains."
      ]
    },
    {
      "cell_type": "code",
      "execution_count": null,
      "id": "8410973e-1257-4222-8693-d4eda6ffe0e7",
      "metadata": {
        "id": "8410973e-1257-4222-8693-d4eda6ffe0e7",
        "outputId": "b1762c44-b173-40ed-98b4-d66f77d15c72"
      },
      "outputs": [
        {
          "name": "stdout",
          "output_type": "stream",
          "text": [
            " * postgresql://student@/candidate\n",
            "Done.\n"
          ]
        },
        {
          "data": {
            "text/plain": [
              "[]"
            ]
          },
          "execution_count": 31,
          "metadata": {},
          "output_type": "execute_result"
        }
      ],
      "source": [
        "%%sql\n",
        "COMMENT ON TABLE COMMITTEE IS \n",
        "'Committee Master(CM16): contains 1 record for each committee registered with the FEC. This includes federal political action committees and party committees, campaign committees for presidential, house and senate candidates, as well as groups or organizations who are spending money for or against candidates for federal office.';"
      ]
    },
    {
      "cell_type": "markdown",
      "id": "6ee34868-c99f-44ee-a998-9ba3d883b829",
      "metadata": {
        "id": "6ee34868-c99f-44ee-a998-9ba3d883b829"
      },
      "source": [
        "* Add explanation of what each attribute (column) means in the 'COMMITTEE' table."
      ]
    },
    {
      "cell_type": "code",
      "execution_count": null,
      "id": "99ed4ebf-1146-4892-96ed-769444591e9d",
      "metadata": {
        "id": "99ed4ebf-1146-4892-96ed-769444591e9d",
        "outputId": "d9c17497-c13c-4fc4-a87f-c858efeba489"
      },
      "outputs": [
        {
          "name": "stdout",
          "output_type": "stream",
          "text": [
            " * postgresql://student@/candidate\n",
            "Done.\n",
            "Done.\n",
            "Done.\n",
            "Done.\n",
            "Done.\n",
            "Done.\n",
            "Done.\n",
            "Done.\n",
            "Done.\n",
            "Done.\n",
            "Done.\n",
            "Done.\n",
            "Done.\n",
            "Done.\n",
            "Done.\n"
          ]
        },
        {
          "data": {
            "text/plain": [
              "[]"
            ]
          },
          "execution_count": 32,
          "metadata": {},
          "output_type": "execute_result"
        }
      ],
      "source": [
        "%%sql\n",
        "COMMENT ON COLUMN COMMITTEE.CMTE_ID IS 'Committee identification';\n",
        "COMMENT ON COLUMN COMMITTEE.CMTE_NM IS 'Committee name';\n",
        "COMMENT ON COLUMN COMMITTEE.TRES_NM IS 'Treasurer name';\n",
        "COMMENT ON COLUMN COMMITTEE.CMTE_ST1 IS 'Street one';\n",
        "COMMENT ON COLUMN COMMITTEE.CMTE_ST2 IS 'Street two';\n",
        "COMMENT ON COLUMN COMMITTEE.CMTE_CITY IS 'City or town';\n",
        "COMMENT ON COLUMN COMMITTEE.CMTE_ST IS 'State';\n",
        "COMMENT ON COLUMN COMMITTEE.CMTE_ZIP IS 'ZIP code';\n",
        "COMMENT ON COLUMN COMMITTEE.CMTE_DSGN IS 'Committee designation';\n",
        "COMMENT ON COLUMN COMMITTEE.CMTE_TP IS 'Committee type';\n",
        "COMMENT ON COLUMN COMMITTEE.CMTE_PTY_AFFILIATION IS 'Committee party';\n",
        "COMMENT ON COLUMN COMMITTEE.CMTE_FILING_FREQ IS 'Filing frequency';\n",
        "COMMENT ON COLUMN COMMITTEE.ORG_TP IS 'Interest group category';\n",
        "COMMENT ON COLUMN COMMITTEE.CONNECTED_ORG_NM IS 'Connected organizations name';\n",
        "COMMENT ON COLUMN COMMITTEE.CAND_ID IS 'Candidate identification';\n"
      ]
    },
    {
      "cell_type": "markdown",
      "id": "b54127b3-9077-4a61-877f-adb4d416bb45",
      "metadata": {
        "id": "b54127b3-9077-4a61-877f-adb4d416bb45"
      },
      "source": [
        "* Get the header and bulk data file."
      ]
    },
    {
      "cell_type": "code",
      "execution_count": null,
      "id": "471d966e-dca6-4e50-8b37-2b0ddd1aa866",
      "metadata": {
        "id": "471d966e-dca6-4e50-8b37-2b0ddd1aa866",
        "outputId": "2ee4c15a-3f99-4bd7-9e98-f927029d0b3a"
      },
      "outputs": [
        {
          "name": "stdout",
          "output_type": "stream",
          "text": [
            "--2021-11-01 17:19:33--  https://www.fec.gov/files/bulk-downloads/data_dictionaries/cm_header_file.csv\n",
            "Resolving www.fec.gov (www.fec.gov)... 99.84.191.86, 99.84.191.44, 99.84.191.118, ...\n",
            "Connecting to www.fec.gov (www.fec.gov)|99.84.191.86|:443... connected.\n",
            "HTTP request sent, awaiting response... 302 Moved Temporarily\n",
            "Location: https://cg-519a459a-0ea3-42c2-b7bc-fa1143481f74.s3-us-gov-west-1.amazonaws.com/bulk-downloads/data_dictionaries/cm_header_file.csv [following]\n",
            "--2021-11-01 17:19:33--  https://cg-519a459a-0ea3-42c2-b7bc-fa1143481f74.s3-us-gov-west-1.amazonaws.com/bulk-downloads/data_dictionaries/cm_header_file.csv\n",
            "Resolving cg-519a459a-0ea3-42c2-b7bc-fa1143481f74.s3-us-gov-west-1.amazonaws.com (cg-519a459a-0ea3-42c2-b7bc-fa1143481f74.s3-us-gov-west-1.amazonaws.com)... 108.175.48.8\n",
            "Connecting to cg-519a459a-0ea3-42c2-b7bc-fa1143481f74.s3-us-gov-west-1.amazonaws.com (cg-519a459a-0ea3-42c2-b7bc-fa1143481f74.s3-us-gov-west-1.amazonaws.com)|108.175.48.8|:443... connected.\n",
            "HTTP request sent, awaiting response... 200 OK\n",
            "Length: 158 [binary/octet-stream]\n",
            "Saving to: ‘cm_header_file.csv’\n",
            "\n",
            "cm_header_file.csv  100%[===================>]     158  --.-KB/s    in 0s      \n",
            "\n",
            "2021-11-01 17:19:33 (6.21 MB/s) - ‘cm_header_file.csv’ saved [158/158]\n",
            "\n"
          ]
        }
      ],
      "source": [
        "!wget https://www.fec.gov/files/bulk-downloads/data_dictionaries/cm_header_file.csv"
      ]
    },
    {
      "cell_type": "code",
      "execution_count": null,
      "id": "7a03503d-0fbf-4ca5-bc83-542561fc9919",
      "metadata": {
        "id": "7a03503d-0fbf-4ca5-bc83-542561fc9919",
        "outputId": "b64008e9-7e42-4c0b-88cb-26cd1bffbbe2"
      },
      "outputs": [
        {
          "name": "stdout",
          "output_type": "stream",
          "text": [
            "--2021-11-01 17:19:34--  https://www.fec.gov/files/bulk-downloads/2016/cm16.zip\n",
            "Resolving www.fec.gov (www.fec.gov)... 99.84.191.86, 99.84.191.44, 99.84.191.118, ...\n",
            "Connecting to www.fec.gov (www.fec.gov)|99.84.191.86|:443... connected.\n",
            "HTTP request sent, awaiting response... 302 Moved Temporarily\n",
            "Location: https://cg-519a459a-0ea3-42c2-b7bc-fa1143481f74.s3-us-gov-west-1.amazonaws.com/bulk-downloads/2016/cm16.zip [following]\n",
            "--2021-11-01 17:19:34--  https://cg-519a459a-0ea3-42c2-b7bc-fa1143481f74.s3-us-gov-west-1.amazonaws.com/bulk-downloads/2016/cm16.zip\n",
            "Resolving cg-519a459a-0ea3-42c2-b7bc-fa1143481f74.s3-us-gov-west-1.amazonaws.com (cg-519a459a-0ea3-42c2-b7bc-fa1143481f74.s3-us-gov-west-1.amazonaws.com)... 108.175.49.48\n",
            "Connecting to cg-519a459a-0ea3-42c2-b7bc-fa1143481f74.s3-us-gov-west-1.amazonaws.com (cg-519a459a-0ea3-42c2-b7bc-fa1143481f74.s3-us-gov-west-1.amazonaws.com)|108.175.49.48|:443... connected.\n",
            "HTTP request sent, awaiting response... 200 OK\n",
            "Length: 732154 (715K) [application/zip]\n",
            "Saving to: ‘cm16.zip’\n",
            "\n",
            "cm16.zip            100%[===================>] 714.99K  1.69MB/s    in 0.4s    \n",
            "\n",
            "2021-11-01 17:19:34 (1.69 MB/s) - ‘cm16.zip’ saved [732154/732154]\n",
            "\n"
          ]
        }
      ],
      "source": [
        "!wget https://www.fec.gov/files/bulk-downloads/2016/cm16.zip"
      ]
    },
    {
      "cell_type": "code",
      "execution_count": null,
      "id": "3d87aeb3-edab-4238-b3c4-bda3275a717b",
      "metadata": {
        "id": "3d87aeb3-edab-4238-b3c4-bda3275a717b"
      },
      "outputs": [],
      "source": [
        "assert 'cm_header_file.csv' in os.listdir()"
      ]
    },
    {
      "cell_type": "code",
      "execution_count": null,
      "id": "dfb24c25-5f6f-4efc-87f5-d153e37254f0",
      "metadata": {
        "id": "dfb24c25-5f6f-4efc-87f5-d153e37254f0"
      },
      "outputs": [],
      "source": [
        "assert 'cm16.zip' in os.listdir()"
      ]
    },
    {
      "cell_type": "code",
      "execution_count": null,
      "id": "0f0b2cfe-5c88-4f3f-94cd-d202ff539b36",
      "metadata": {
        "id": "0f0b2cfe-5c88-4f3f-94cd-d202ff539b36",
        "outputId": "eb39058a-1051-4770-ac57-96de9663554d"
      },
      "outputs": [
        {
          "name": "stdout",
          "output_type": "stream",
          "text": [
            "Archive:  cm16.zip\n",
            "  Length      Date    Time    Name\n",
            "---------  ---------- -----   ----\n",
            "  2153204  2020-12-31 07:36   cm.txt\n",
            "---------                     -------\n",
            "  2153204                     1 file\n"
          ]
        }
      ],
      "source": [
        "!unzip -l cm16.zip"
      ]
    },
    {
      "cell_type": "code",
      "execution_count": null,
      "id": "53478269-2fd3-47c5-9465-8a34f9c7c5cb",
      "metadata": {
        "id": "53478269-2fd3-47c5-9465-8a34f9c7c5cb",
        "outputId": "ec7b6a0e-d61e-4390-a628-1e91d16489cf"
      },
      "outputs": [
        {
          "name": "stdout",
          "output_type": "stream",
          "text": [
            "Archive:  cm16.zip\n",
            "  inflating: cm.txt                  \n"
          ]
        }
      ],
      "source": [
        "!unzip cm16.zip"
      ]
    },
    {
      "cell_type": "code",
      "execution_count": null,
      "id": "b404b6e3-17c9-4ab2-8424-2695fecb9ffb",
      "metadata": {
        "id": "b404b6e3-17c9-4ab2-8424-2695fecb9ffb",
        "outputId": "8f5f7dcf-9786-403b-b256-9776e5e9ae45"
      },
      "outputs": [
        {
          "name": "stdout",
          "output_type": "stream",
          "text": [
            "C00000059|HALLMARK CARDS PAC|ERIN BROWER|2501 MCGEE|MD#288|KANSAS CITY|MO|64108|U|Q|UNK|M|C||\n",
            "C00000422|AMERICAN MEDICAL ASSOCIATION POLITICAL ACTION COMMITTEE|WALKER, KEVIN|25 MASSACHUSETTS AVE, NW|SUITE 600|WASHINGTON|DC|20001|B|Q||M|M|AMERICAN MEDICAL ASSOCIATION|\n",
            "C00000489|D R I V E POLITICAL FUND CHAPTER 886|TOM RITTER|3528 W RENO||OKLAHOMA CITY|OK|73107|U|N||Q|L|TEAMSTERS LOCAL UNION 886|\n",
            "C00000547|KANSAS MEDICAL SOCIETY POLITICAL ACTION COMMITTEE|C. RICHARD BONEBRAKE, M.D.|623 SW 10TH AVE||TOPEKA|KS|66612|U|Q|UNK|Q|T||\n",
            "C00000638|INDIANA STATE MEDICAL ASSOCIATION POLITICAL ACTION COMMITTEE|VIDYA KORA, M.D.|322 CANAL WALK, CANAL LEVEL||INDIANAPOLIS|IN|46202|U|Q||Q|M||\n",
            "C00000729|AMERICAN DENTAL ASSOCIATION POLITICAL ACTION COMMITTEE|HARRISON, THOMAS C. DR|1111 14TH STREET, NW|SUITE 1100|WASHINGTON|DC|20005|B|Q|UNK|M|M|AMERICAN DENTAL ASSOCIATION|\n",
            "C00000885|INTERNATIONAL UNION OF PAINTERS AND ALLIED TRADES POLITICAL ACTION TOGETHER POLITICAL COMMITTEE|GALIS, GEORGE|7234 PARKWAY DRIVE||HANOVER|MD|21076|B|Q|UNK|M|L|INTERNATIONAL UNION OF PAINTERS AND ALLIED TRADES|\n",
            "C00000901|BUILD POLITICAL ACTION COMMITTEE OF THE NATIONAL ASSOCIATION OF HOME BUILDERS (BUILDPAC)|RAMAGE, EILEEN|1201 15TH STREET, NW||WASHINGTON|DC|20005|B|Q|UNK|M|T|NATIONAL ASSOCIATION OF HOME BUILDERS|\n",
            "C00000935|DCCC|WARD, KELLY C.|430 SOUTH CAPITOL STREET, SE|2ND FLOOR|WASHINGTON|DC|200034024|U|Y|DEM|M|||\n",
            "C00000984|UNITED STATES TELECOM ASSOCIATION POLITICAL ACTION COMMITTEE (TELECOMPAC)|VERSAGGI, SARAH|607 14TH STREET NORTHWEST|SUITE 400|WASHINGTON|DC|20005|B|Q|UNK|M|T|UNITED STATES TELECOM ASSOCIATION|\n"
          ]
        }
      ],
      "source": [
        "!head cm.txt"
      ]
    },
    {
      "cell_type": "markdown",
      "id": "9ff8ce7c-0ed7-40e4-a9a4-48438a430ece",
      "metadata": {
        "id": "9ff8ce7c-0ed7-40e4-a9a4-48438a430ece"
      },
      "source": [
        "* Convert text file to csv file"
      ]
    },
    {
      "cell_type": "code",
      "execution_count": null,
      "id": "fbfc8609-5aad-466a-8fef-a3f61134de63",
      "metadata": {
        "id": "fbfc8609-5aad-466a-8fef-a3f61134de63"
      },
      "outputs": [],
      "source": [
        "!csvformat -d '|' cm.txt > cm.csv"
      ]
    },
    {
      "cell_type": "markdown",
      "id": "8edc0aba-b554-4a53-91b4-1ea0e1df3a44",
      "metadata": {
        "id": "8edc0aba-b554-4a53-91b4-1ea0e1df3a44"
      },
      "source": [
        "* Stack files."
      ]
    },
    {
      "cell_type": "code",
      "execution_count": null,
      "id": "13779816-60b5-4b0e-b73c-b5446a775986",
      "metadata": {
        "id": "13779816-60b5-4b0e-b73c-b5446a775986"
      },
      "outputs": [],
      "source": [
        "!csvstack cm_header_file.csv cm.csv > cm1.csv"
      ]
    },
    {
      "cell_type": "markdown",
      "id": "c96ae39d-ccba-41ae-80a3-438fa7c82845",
      "metadata": {
        "id": "c96ae39d-ccba-41ae-80a3-438fa7c82845"
      },
      "source": [
        "* Count the number of rows in the data file."
      ]
    },
    {
      "cell_type": "code",
      "execution_count": null,
      "id": "d205f71a-5e72-45c4-b2f4-31a3bc7e1805",
      "metadata": {
        "id": "d205f71a-5e72-45c4-b2f4-31a3bc7e1805",
        "outputId": "0c3cbf67-6976-451a-c3de-ccf1147216b3"
      },
      "outputs": [
        {
          "name": "stdout",
          "output_type": "stream",
          "text": [
            "17651 cm1.csv\n"
          ]
        }
      ],
      "source": [
        "!wc -l cm1.csv"
      ]
    },
    {
      "cell_type": "markdown",
      "id": "d170bff4-7445-416a-8115-d14445e06256",
      "metadata": {
        "id": "d170bff4-7445-416a-8115-d14445e06256"
      },
      "source": [
        "* Check the column names of the data file."
      ]
    },
    {
      "cell_type": "code",
      "execution_count": null,
      "id": "015577b2-a69c-4987-a732-eb79010ac337",
      "metadata": {
        "id": "015577b2-a69c-4987-a732-eb79010ac337",
        "outputId": "0c6c0838-6fc8-4906-d34f-115244b0798b"
      },
      "outputs": [
        {
          "name": "stdout",
          "output_type": "stream",
          "text": [
            "  1: CMTE_ID\n",
            "  2: CMTE_NM\n",
            "  3: TRES_NM\n",
            "  4: CMTE_ST1\n",
            "  5: CMTE_ST2\n",
            "  6: CMTE_CITY\n",
            "  7: CMTE_ST\n",
            "  8: CMTE_ZIP\n",
            "  9: CMTE_DSGN\n",
            " 10: CMTE_TP\n",
            " 11: CMTE_PTY_AFFILIATION\n",
            " 12: CMTE_FILING_FREQ\n",
            " 13: ORG_TP\n",
            " 14: CONNECTED_ORG_NM\n",
            " 15: CAND_ID\n"
          ]
        }
      ],
      "source": [
        "!csvcut -n cm1.csv"
      ]
    },
    {
      "cell_type": "markdown",
      "id": "db5c6331-eaad-47b8-b777-bfa97751055d",
      "metadata": {
        "id": "db5c6331-eaad-47b8-b777-bfa97751055d"
      },
      "source": [
        "* Load data into the database."
      ]
    },
    {
      "cell_type": "code",
      "execution_count": null,
      "id": "0a8bc7a9-8fa2-474d-8032-a3c42da9866c",
      "metadata": {
        "id": "0a8bc7a9-8fa2-474d-8032-a3c42da9866c",
        "outputId": "fddd60f3-15c3-40ea-862e-b253fbe42960"
      },
      "outputs": [
        {
          "name": "stdout",
          "output_type": "stream",
          "text": [
            "/home/ubuntu/Exercise  2 (Group)\n"
          ]
        }
      ],
      "source": [
        "!pwd"
      ]
    },
    {
      "cell_type": "code",
      "execution_count": null,
      "id": "588bcc14-eede-46e6-a3e7-dcc275dbe11d",
      "metadata": {
        "id": "588bcc14-eede-46e6-a3e7-dcc275dbe11d",
        "outputId": "58f72505-77cf-4ad4-f253-7ff4a3114111"
      },
      "outputs": [
        {
          "name": "stdout",
          "output_type": "stream",
          "text": [
            " * postgresql://student@/candidate\n",
            "17650 rows affected.\n"
          ]
        },
        {
          "data": {
            "text/plain": [
              "[]"
            ]
          },
          "execution_count": 45,
          "metadata": {},
          "output_type": "execute_result"
        }
      ],
      "source": [
        "%%sql\n",
        "COPY COMMITTEE FROM '/home/ubuntu/Exercise  2 (Group)/cm1.csv'\n",
        "CSV\n",
        "HEADER;"
      ]
    },
    {
      "cell_type": "markdown",
      "id": "7b32a9dd-8c55-4d26-aa91-291718360d1a",
      "metadata": {
        "id": "7b32a9dd-8c55-4d26-aa91-291718360d1a"
      },
      "source": [
        "* Count the rows in 'COMMITTEE' table to check if all data has been loaded successfully: the number of rows affected is one less than the number of rows in the data file, because the header is not affected."
      ]
    },
    {
      "cell_type": "code",
      "execution_count": null,
      "id": "dac93032-b356-464b-b7ac-7656f8142ff7",
      "metadata": {
        "id": "dac93032-b356-464b-b7ac-7656f8142ff7",
        "outputId": "ed63ccf2-a014-4c58-96e2-946cb10aa327"
      },
      "outputs": [
        {
          "name": "stdout",
          "output_type": "stream",
          "text": [
            " * postgresql://student@/candidate\n",
            "1 rows affected.\n"
          ]
        },
        {
          "data": {
            "text/html": [
              "<table>\n",
              "    <thead>\n",
              "        <tr>\n",
              "            <th>count</th>\n",
              "        </tr>\n",
              "    </thead>\n",
              "    <tbody>\n",
              "        <tr>\n",
              "            <td>17650</td>\n",
              "        </tr>\n",
              "    </tbody>\n",
              "</table>"
            ],
            "text/plain": [
              "[(17650,)]"
            ]
          },
          "execution_count": 46,
          "metadata": {},
          "output_type": "execute_result"
        }
      ],
      "source": [
        "%%sql\n",
        "SELECT COUNT(*) FROM COMMITTEE;"
      ]
    },
    {
      "cell_type": "markdown",
      "id": "30be9c0c-b649-47ed-8fe1-f8a3dcc7eb42",
      "metadata": {
        "id": "30be9c0c-b649-47ed-8fe1-f8a3dcc7eb42"
      },
      "source": [
        "* View the table to check if the data format is identical to that of the original data file."
      ]
    },
    {
      "cell_type": "code",
      "execution_count": null,
      "id": "6047fa25-4f5e-44e7-8453-96bf43dc47af",
      "metadata": {
        "id": "6047fa25-4f5e-44e7-8453-96bf43dc47af",
        "outputId": "b8c7b7de-80c6-4475-ff97-8cf4eead2563"
      },
      "outputs": [
        {
          "name": "stdout",
          "output_type": "stream",
          "text": [
            " * postgresql://student@/candidate\n",
            "5 rows affected.\n"
          ]
        },
        {
          "data": {
            "text/html": [
              "<table>\n",
              "    <thead>\n",
              "        <tr>\n",
              "            <th>cmte_id</th>\n",
              "            <th>cmte_nm</th>\n",
              "            <th>tres_nm</th>\n",
              "            <th>cmte_st1</th>\n",
              "            <th>cmte_st2</th>\n",
              "            <th>cmte_city</th>\n",
              "            <th>cmte_st</th>\n",
              "            <th>cmte_zip</th>\n",
              "            <th>cmte_dsgn</th>\n",
              "            <th>cmte_tp</th>\n",
              "            <th>cmte_pty_affiliation</th>\n",
              "            <th>cmte_filing_freq</th>\n",
              "            <th>org_tp</th>\n",
              "            <th>connected_org_nm</th>\n",
              "            <th>cand_id</th>\n",
              "        </tr>\n",
              "    </thead>\n",
              "    <tbody>\n",
              "        <tr>\n",
              "            <td>C00000422</td>\n",
              "            <td>AMERICAN MEDICAL ASSOCIATION POLITICAL ACTION COMMITTEE</td>\n",
              "            <td>WALKER, KEVIN</td>\n",
              "            <td>25 MASSACHUSETTS AVE, NW</td>\n",
              "            <td>SUITE 600</td>\n",
              "            <td>WASHINGTON</td>\n",
              "            <td>DC</td>\n",
              "            <td>20001</td>\n",
              "            <td>B</td>\n",
              "            <td>Q</td>\n",
              "            <td>None</td>\n",
              "            <td>M</td>\n",
              "            <td>M</td>\n",
              "            <td>AMERICAN MEDICAL ASSOCIATION</td>\n",
              "            <td>None</td>\n",
              "        </tr>\n",
              "        <tr>\n",
              "            <td>C00000489</td>\n",
              "            <td>D R I V E POLITICAL FUND CHAPTER 886</td>\n",
              "            <td>TOM RITTER</td>\n",
              "            <td>3528 W RENO</td>\n",
              "            <td>None</td>\n",
              "            <td>OKLAHOMA CITY</td>\n",
              "            <td>OK</td>\n",
              "            <td>73107</td>\n",
              "            <td>U</td>\n",
              "            <td>N</td>\n",
              "            <td>None</td>\n",
              "            <td>Q</td>\n",
              "            <td>L</td>\n",
              "            <td>TEAMSTERS LOCAL UNION 886</td>\n",
              "            <td>None</td>\n",
              "        </tr>\n",
              "        <tr>\n",
              "            <td>C00000547</td>\n",
              "            <td>KANSAS MEDICAL SOCIETY POLITICAL ACTION COMMITTEE</td>\n",
              "            <td>C. RICHARD BONEBRAKE, M.D.</td>\n",
              "            <td>623 SW 10TH AVE</td>\n",
              "            <td>None</td>\n",
              "            <td>TOPEKA</td>\n",
              "            <td>KS</td>\n",
              "            <td>66612</td>\n",
              "            <td>U</td>\n",
              "            <td>Q</td>\n",
              "            <td>UNK</td>\n",
              "            <td>Q</td>\n",
              "            <td>T</td>\n",
              "            <td>None</td>\n",
              "            <td>None</td>\n",
              "        </tr>\n",
              "        <tr>\n",
              "            <td>C00000638</td>\n",
              "            <td>INDIANA STATE MEDICAL ASSOCIATION POLITICAL ACTION COMMITTEE</td>\n",
              "            <td>VIDYA KORA, M.D.</td>\n",
              "            <td>322 CANAL WALK, CANAL LEVEL</td>\n",
              "            <td>None</td>\n",
              "            <td>INDIANAPOLIS</td>\n",
              "            <td>IN</td>\n",
              "            <td>46202</td>\n",
              "            <td>U</td>\n",
              "            <td>Q</td>\n",
              "            <td>None</td>\n",
              "            <td>Q</td>\n",
              "            <td>M</td>\n",
              "            <td>None</td>\n",
              "            <td>None</td>\n",
              "        </tr>\n",
              "        <tr>\n",
              "            <td>C00000729</td>\n",
              "            <td>AMERICAN DENTAL ASSOCIATION POLITICAL ACTION COMMITTEE</td>\n",
              "            <td>HARRISON, THOMAS C. DR</td>\n",
              "            <td>1111 14TH STREET, NW</td>\n",
              "            <td>SUITE 1100</td>\n",
              "            <td>WASHINGTON</td>\n",
              "            <td>DC</td>\n",
              "            <td>20005</td>\n",
              "            <td>B</td>\n",
              "            <td>Q</td>\n",
              "            <td>UNK</td>\n",
              "            <td>M</td>\n",
              "            <td>M</td>\n",
              "            <td>AMERICAN DENTAL ASSOCIATION</td>\n",
              "            <td>None</td>\n",
              "        </tr>\n",
              "    </tbody>\n",
              "</table>"
            ],
            "text/plain": [
              "[('C00000422', 'AMERICAN MEDICAL ASSOCIATION POLITICAL ACTION COMMITTEE', 'WALKER, KEVIN', '25 MASSACHUSETTS AVE, NW', 'SUITE 600', 'WASHINGTON', 'DC', '20001', 'B', 'Q', None, 'M', 'M', 'AMERICAN MEDICAL ASSOCIATION', None),\n",
              " ('C00000489', 'D R I V E POLITICAL FUND CHAPTER 886', 'TOM RITTER', '3528 W RENO', None, 'OKLAHOMA CITY', 'OK', '73107', 'U', 'N', None, 'Q', 'L', 'TEAMSTERS LOCAL UNION 886', None),\n",
              " ('C00000547', 'KANSAS MEDICAL SOCIETY POLITICAL ACTION COMMITTEE', 'C. RICHARD BONEBRAKE, M.D.', '623 SW 10TH AVE', None, 'TOPEKA', 'KS', '66612', 'U', 'Q', 'UNK', 'Q', 'T', None, None),\n",
              " ('C00000638', 'INDIANA STATE MEDICAL ASSOCIATION POLITICAL ACTION COMMITTEE', 'VIDYA KORA, M.D.', '322 CANAL WALK, CANAL LEVEL', None, 'INDIANAPOLIS', 'IN', '46202', 'U', 'Q', None, 'Q', 'M', None, None),\n",
              " ('C00000729', 'AMERICAN DENTAL ASSOCIATION POLITICAL ACTION COMMITTEE', 'HARRISON, THOMAS C. DR', '1111 14TH STREET, NW', 'SUITE 1100', 'WASHINGTON', 'DC', '20005', 'B', 'Q', 'UNK', 'M', 'M', 'AMERICAN DENTAL ASSOCIATION', None)]"
            ]
          },
          "execution_count": 47,
          "metadata": {},
          "output_type": "execute_result"
        }
      ],
      "source": [
        "%%sql\n",
        "SELECT * FROM COMMITTEE\n",
        "Limit 5;"
      ]
    },
    {
      "cell_type": "markdown",
      "id": "a0e3eaf4-091c-42d7-8cb2-a9b80499aa04",
      "metadata": {
        "id": "a0e3eaf4-091c-42d7-8cb2-a9b80499aa04"
      },
      "source": [
        "## Contribution Table"
      ]
    },
    {
      "cell_type": "markdown",
      "id": "1a5ad250-aa75-4b9f-b805-becf4b647771",
      "metadata": {
        "tags": [],
        "id": "1a5ad250-aa75-4b9f-b805-becf4b647771"
      },
      "source": [
        "* Create 'CONTRIBUTION' table with all of its attributes and the type of data of each attribute."
      ]
    },
    {
      "cell_type": "code",
      "execution_count": null,
      "id": "9f7e0b4a-ccf7-47af-adaf-b847826a93d9",
      "metadata": {
        "id": "9f7e0b4a-ccf7-47af-adaf-b847826a93d9",
        "outputId": "bf8ff144-4472-448f-c154-b6e388a1fb2e"
      },
      "outputs": [
        {
          "name": "stdout",
          "output_type": "stream",
          "text": [
            " * postgresql://student@/candidate\n",
            "Done.\n",
            "Done.\n"
          ]
        },
        {
          "data": {
            "text/plain": [
              "[]"
            ]
          },
          "execution_count": 48,
          "metadata": {},
          "output_type": "execute_result"
        }
      ],
      "source": [
        "%%sql\n",
        "DROP TABLE IF EXISTS CONTRIBUTION Cascade;\n",
        "\n",
        "CREATE TABLE CONTRIBUTION (\n",
        "  CMTE_ID                VARCHAR(9) NOT NULL, \n",
        "  AMNDT_IND              VARCHAR(1),\n",
        "  RPT_TP                 VARCHAR(3),\n",
        "  TRANSACTION_PGI        VARCHAR(5),\n",
        "  IMAGE_NUM              VARCHAR(18),\n",
        "  TRANSACTION_TP         VARCHAR(3),\n",
        "  ENTITY_TP              VARCHAR(3),\n",
        "  NAME                   VARCHAR(200),\n",
        "  CITY                   VARCHAR(30),\n",
        "  STATE                  VARCHAR(2),\n",
        "  ZIP_CODE               VARCHAR(9),\n",
        "  EMPLOYER               VARCHAR(38),\n",
        "  OCCUPATION             VARCHAR(38),\n",
        "  TRANSACTION_DT         VARCHAR(8),\n",
        "  TRANSACTION_AMT        NUMERIC(14,2),\n",
        "  OTHER_ID               VARCHAR(9),\n",
        "  TRAN_ID                VARCHAR(32),\n",
        "  FILE_NUM               NUMERIC(22),\n",
        "  MEMO_CD                VARCHAR(1),\n",
        "  MEMO_TEXT              VARCHAR(100),\n",
        "  SUB_ID                 NUMERIC(19) NOT NULL,\n",
        "  PRIMARY KEY (SUB_ID)\n",
        ");\n"
      ]
    },
    {
      "cell_type": "markdown",
      "id": "30b378d2-b613-42e1-ab92-948eb9af940f",
      "metadata": {
        "id": "30b378d2-b613-42e1-ab92-948eb9af940f"
      },
      "source": [
        "* Add explanation of what each attribute (column) means in the 'CONTRIBUTION' table."
      ]
    },
    {
      "cell_type": "code",
      "execution_count": null,
      "id": "28bf9262-a9e7-440a-9809-e3419860d675",
      "metadata": {
        "id": "28bf9262-a9e7-440a-9809-e3419860d675",
        "outputId": "11b75139-277b-4ffe-d3d3-39ef8a458616"
      },
      "outputs": [
        {
          "name": "stdout",
          "output_type": "stream",
          "text": [
            " * postgresql://student@/candidate\n",
            "Done.\n",
            "Done.\n",
            "Done.\n",
            "Done.\n",
            "Done.\n",
            "Done.\n",
            "Done.\n",
            "Done.\n",
            "Done.\n",
            "Done.\n",
            "Done.\n",
            "Done.\n",
            "Done.\n",
            "Done.\n",
            "Done.\n",
            "Done.\n",
            "Done.\n",
            "Done.\n",
            "Done.\n",
            "Done.\n",
            "Done.\n"
          ]
        },
        {
          "data": {
            "text/plain": [
              "[]"
            ]
          },
          "execution_count": 49,
          "metadata": {},
          "output_type": "execute_result"
        }
      ],
      "source": [
        "%%sql\n",
        "COMMENT ON COLUMN CONTRIBUTION.CMTE_ID IS 'Committee identification';\n",
        "COMMENT ON COLUMN CONTRIBUTION.AMNDT_IND IS 'Amendment indicator';\n",
        "COMMENT ON COLUMN CONTRIBUTION.RPT_TP IS 'Report type';\n",
        "COMMENT ON COLUMN CONTRIBUTION.TRANSACTION_PGI IS 'Primary-general indicator';\n",
        "COMMENT ON COLUMN CONTRIBUTION.IMAGE_NUM IS 'Image number';\n",
        "COMMENT ON COLUMN CONTRIBUTION.TRANSACTION_TP IS 'Transaction type';\n",
        "COMMENT ON COLUMN CONTRIBUTION.ENTITY_TP IS 'Entity type';\n",
        "COMMENT ON COLUMN CONTRIBUTION.NAME  IS 'Contributor/Lender/Transfer Name';\n",
        "COMMENT ON COLUMN CONTRIBUTION.CITY IS 'City';\n",
        "COMMENT ON COLUMN CONTRIBUTION.STATE IS 'STATE';\n",
        "COMMENT ON COLUMN CONTRIBUTION.ZIP_CODE IS 'ZIP code';\n",
        "COMMENT ON COLUMN CONTRIBUTION.EMPLOYER IS 'EMPLOYER';\n",
        "COMMENT ON COLUMN CONTRIBUTION.OCCUPATION IS 'OCCUPATION';\n",
        "COMMENT ON COLUMN CONTRIBUTION.TRANSACTION_DT IS 'Transaction date (MMDDYYYY)';\n",
        "COMMENT ON COLUMN CONTRIBUTION.TRANSACTION_AMT IS 'Transaction Amount';\n",
        "COMMENT ON COLUMN CONTRIBUTION.OTHER_ID IS 'Other identification number';\n",
        "COMMENT ON COLUMN CONTRIBUTION.TRAN_ID IS 'Transaction ID';\n",
        "COMMENT ON COLUMN CONTRIBUTION.FILE_NUM IS 'File number / Report ID';\n",
        "COMMENT ON COLUMN CONTRIBUTION.MEMO_CD IS 'Memo code';\n",
        "COMMENT ON COLUMN CONTRIBUTION.MEMO_TEXT IS 'Memo text';\n",
        "COMMENT ON COLUMN CONTRIBUTION.SUB_ID IS 'FEC record number';"
      ]
    },
    {
      "cell_type": "markdown",
      "id": "edd16a81-0606-4761-9eee-ff26c62cede7",
      "metadata": {
        "id": "edd16a81-0606-4761-9eee-ff26c62cede7"
      },
      "source": [
        "* Get the header and bulk data file."
      ]
    },
    {
      "cell_type": "code",
      "execution_count": null,
      "id": "b3d8186c-ca7d-4ae5-89ff-fce847bd6ae1",
      "metadata": {
        "id": "b3d8186c-ca7d-4ae5-89ff-fce847bd6ae1",
        "outputId": "0ae032c8-24b1-42a6-b176-9ab577398105"
      },
      "outputs": [
        {
          "name": "stdout",
          "output_type": "stream",
          "text": [
            "--2021-11-01 17:19:43--  https://www.fec.gov/files/bulk-downloads/data_dictionaries/indiv_header_file.csv\n",
            "Resolving www.fec.gov (www.fec.gov)... 99.84.191.86, 99.84.191.44, 99.84.191.118, ...\n",
            "Connecting to www.fec.gov (www.fec.gov)|99.84.191.86|:443... connected.\n",
            "HTTP request sent, awaiting response... 302 Moved Temporarily\n",
            "Location: https://cg-519a459a-0ea3-42c2-b7bc-fa1143481f74.s3-us-gov-west-1.amazonaws.com/bulk-downloads/data_dictionaries/indiv_header_file.csv [following]\n",
            "--2021-11-01 17:19:43--  https://cg-519a459a-0ea3-42c2-b7bc-fa1143481f74.s3-us-gov-west-1.amazonaws.com/bulk-downloads/data_dictionaries/indiv_header_file.csv\n",
            "Resolving cg-519a459a-0ea3-42c2-b7bc-fa1143481f74.s3-us-gov-west-1.amazonaws.com (cg-519a459a-0ea3-42c2-b7bc-fa1143481f74.s3-us-gov-west-1.amazonaws.com)... 108.175.50.0\n",
            "Connecting to cg-519a459a-0ea3-42c2-b7bc-fa1143481f74.s3-us-gov-west-1.amazonaws.com (cg-519a459a-0ea3-42c2-b7bc-fa1143481f74.s3-us-gov-west-1.amazonaws.com)|108.175.50.0|:443... connected.\n",
            "HTTP request sent, awaiting response... 200 OK\n",
            "Length: 204 [binary/octet-stream]\n",
            "Saving to: ‘indiv_header_file.csv’\n",
            "\n",
            "indiv_header_file.c 100%[===================>]     204  --.-KB/s    in 0s      \n",
            "\n",
            "2021-11-01 17:19:44 (10.8 MB/s) - ‘indiv_header_file.csv’ saved [204/204]\n",
            "\n"
          ]
        }
      ],
      "source": [
        "!wget https://www.fec.gov/files/bulk-downloads/data_dictionaries/indiv_header_file.csv"
      ]
    },
    {
      "cell_type": "code",
      "execution_count": null,
      "id": "4732d223-5430-4340-9404-e7d07152cacc",
      "metadata": {
        "id": "4732d223-5430-4340-9404-e7d07152cacc",
        "outputId": "bc05eeea-111f-43a9-98d5-f0ebfb9974a9"
      },
      "outputs": [
        {
          "name": "stdout",
          "output_type": "stream",
          "text": [
            "--2021-11-01 17:19:44--  https://www.fec.gov/files/bulk-downloads/2016/indiv16.zip\n",
            "Resolving www.fec.gov (www.fec.gov)... 99.84.191.86, 99.84.191.44, 99.84.191.118, ...\n",
            "Connecting to www.fec.gov (www.fec.gov)|99.84.191.86|:443... connected.\n",
            "HTTP request sent, awaiting response... 302 Moved Temporarily\n",
            "Location: https://cg-519a459a-0ea3-42c2-b7bc-fa1143481f74.s3-us-gov-west-1.amazonaws.com/bulk-downloads/2016/indiv16.zip [following]\n",
            "--2021-11-01 17:19:44--  https://cg-519a459a-0ea3-42c2-b7bc-fa1143481f74.s3-us-gov-west-1.amazonaws.com/bulk-downloads/2016/indiv16.zip\n",
            "Resolving cg-519a459a-0ea3-42c2-b7bc-fa1143481f74.s3-us-gov-west-1.amazonaws.com (cg-519a459a-0ea3-42c2-b7bc-fa1143481f74.s3-us-gov-west-1.amazonaws.com)... 108.175.50.0\n",
            "Connecting to cg-519a459a-0ea3-42c2-b7bc-fa1143481f74.s3-us-gov-west-1.amazonaws.com (cg-519a459a-0ea3-42c2-b7bc-fa1143481f74.s3-us-gov-west-1.amazonaws.com)|108.175.50.0|:443... connected.\n",
            "HTTP request sent, awaiting response... 200 OK\n",
            "Length: 1455287937 (1.4G) [application/zip]\n",
            "Saving to: ‘indiv16.zip’\n",
            "\n",
            "indiv16.zip         100%[===================>]   1.35G  3.31MB/s    in 5m 23s  \n",
            "\n",
            "2021-11-01 17:25:08 (4.29 MB/s) - ‘indiv16.zip’ saved [1455287937/1455287937]\n",
            "\n"
          ]
        }
      ],
      "source": [
        "!wget https://www.fec.gov/files/bulk-downloads/2016/indiv16.zip"
      ]
    },
    {
      "cell_type": "code",
      "execution_count": null,
      "id": "51604c16-3c8e-4725-a352-112d00398153",
      "metadata": {
        "id": "51604c16-3c8e-4725-a352-112d00398153"
      },
      "outputs": [],
      "source": [
        "assert 'indiv_header_file.csv' in os.listdir()"
      ]
    },
    {
      "cell_type": "code",
      "execution_count": null,
      "id": "8d7b2be5-47ae-4807-81e9-04f87447a3fd",
      "metadata": {
        "id": "8d7b2be5-47ae-4807-81e9-04f87447a3fd"
      },
      "outputs": [],
      "source": [
        "assert 'indiv16.zip' in os.listdir()"
      ]
    },
    {
      "cell_type": "code",
      "execution_count": null,
      "id": "926b2320-d8d8-4862-9dda-ea1719f54987",
      "metadata": {
        "id": "926b2320-d8d8-4862-9dda-ea1719f54987",
        "outputId": "85ddab5f-5ccd-482f-eb33-f30eadcd2ba8"
      },
      "outputs": [
        {
          "name": "stdout",
          "output_type": "stream",
          "text": [
            "Archive:  indiv16.zip\n",
            "  Length      Date    Time    Name\n",
            "---------  ---------- -----   ----\n",
            "3892672134  2020-12-27 10:56   itcont.txt\n",
            "377700127  2020-12-27 08:50   by_date/itcont_2016_10151005_20150726.txt\n",
            "371679218  2020-12-27 08:56   by_date/itcont_2016_20150727_20151029.txt\n",
            "379533188  2020-12-27 09:02   by_date/itcont_2016_20151030_20160121.txt\n",
            "391274387  2020-12-27 09:09   by_date/itcont_2016_20160122_20160405.txt\n",
            "390226325  2020-12-27 09:15   by_date/itcont_2016_20160405_20160523.txt\n",
            "378807055  2020-12-27 09:22   by_date/itcont_2016_20160523_20160716.txt\n",
            "348346519  2020-12-27 09:28   by_date/itcont_2016_20160717_20160830.txt\n",
            "361692187  2020-12-27 09:34   by_date/itcont_2016_20160831_20161003.txt\n",
            "366591259  2020-12-27 09:40   by_date/itcont_2016_20161004_20161028.txt\n",
            "379918656  2020-12-27 09:47   by_date/itcont_2016_20161029_20161202.txt\n",
            "146565531  2020-12-27 09:52   by_date/itcont_2016_20161203_92060702.txt\n",
            "     1429  2020-12-27 09:55   by_date/itcont_2016_invalid_dates.txt\n",
            "---------                     -------\n",
            "7785008015                     13 files\n"
          ]
        }
      ],
      "source": [
        "!unzip -l indiv16.zip"
      ]
    },
    {
      "cell_type": "code",
      "execution_count": null,
      "id": "18836e2d-587f-4551-a1ce-0fac9e0874dc",
      "metadata": {
        "id": "18836e2d-587f-4551-a1ce-0fac9e0874dc",
        "outputId": "41ba3d7f-b36f-42c4-bce6-2db19b39260e"
      },
      "outputs": [
        {
          "name": "stdout",
          "output_type": "stream",
          "text": [
            "Archive:  indiv16.zip\n",
            "  inflating: itcont.txt              \n",
            "  inflating: by_date/itcont_2016_10151005_20150726.txt  \n",
            "  inflating: by_date/itcont_2016_20150727_20151029.txt  \n",
            "  inflating: by_date/itcont_2016_20151030_20160121.txt  \n",
            "  inflating: by_date/itcont_2016_20160122_20160405.txt  \n",
            "  inflating: by_date/itcont_2016_20160405_20160523.txt  \n",
            "  inflating: by_date/itcont_2016_20160523_20160716.txt  \n",
            "  inflating: by_date/itcont_2016_20160717_20160830.txt  \n",
            "  inflating: by_date/itcont_2016_20160831_20161003.txt  \n",
            "  inflating: by_date/itcont_2016_20161004_20161028.txt  \n",
            "  inflating: by_date/itcont_2016_20161029_20161202.txt  \n",
            "  inflating: by_date/itcont_2016_20161203_92060702.txt  \n",
            "  inflating: by_date/itcont_2016_invalid_dates.txt  \n"
          ]
        }
      ],
      "source": [
        "!unzip indiv16.zip"
      ]
    },
    {
      "cell_type": "markdown",
      "id": "38de7116-d1dc-4c63-b311-7e6a18582e0c",
      "metadata": {
        "id": "38de7116-d1dc-4c63-b311-7e6a18582e0c"
      },
      "source": [
        "* Convert text file to csv file"
      ]
    },
    {
      "cell_type": "code",
      "execution_count": null,
      "id": "c0652521-c93e-4224-984d-611d39b251fc",
      "metadata": {
        "id": "c0652521-c93e-4224-984d-611d39b251fc",
        "outputId": "faa2f6e7-93c3-40e8-96bb-ba2afb3d8c94"
      },
      "outputs": [
        {
          "name": "stdout",
          "output_type": "stream",
          "text": [
            "C00495358|A|Q3|P|201510190200277188|15E|IND|BERZOK, MATTHEW L|BETHESDA|MD|208161771|RYAN MACKINNON VASAPOLI&BERZOK LLP|ATTORNEY|07262016|500|C00401224|SA1030157188283|1031486||* EARMARKED CONTRIBUTION: SEE BELOW|1011920170033160987\n",
            "C00573758|A|Q3|P2016|201702030200053785|15|IND|ROGERS, DAVID E|BETHESDA|MD|208161809|MCDERMOTT, WILL & EMERY LLP|ATTORNEY|07232016|1000||SA0208173785419|1148131|||2020820171370042762\n",
            "C00523217|N|YE|P|201607130300083071|15|IND|O'BRIEN, TIMOTHY|WELLESLEY||02481|||08262016|300||SA071816307115|1087925|||2080420161308935237\n",
            "C00581272|A|Q3|P|201610210200518510|15|IND|SQUIRE, JAMES|SEATTLE|WA|98116|SELF|PHYSICIAN|08242016|700||SA102616851013|1115447|||1120820160032960190\n",
            "C00600718|A|Q3|G2016|201703239051883064|15|IND|MARSHALL, JOHN L.|DAYTON|OH|45401|GRISMER TIRE|OWNER|07292016|300||SA11AI.10429|1153805|||4032320171380705148\n",
            "C00600718|A|Q3|G2016|201703239051883064|15|IND|NAILL, SCOTT|SPRINGFIELD|OH|45502|TEACHER|UVCC|08292016|100||SA11AI.10623|1153805|||4032320171380705149\n",
            "C00600718|A|Q3|G2016|201703239051883064|15|IND|NENNI, JOHN|MIDDLETOWN|OH|45042|RETIRED|RETIRED|08032016|250||SA11AI.10441|1153805|||4032320171380705150\n",
            "C00600718|A|Q3|G2016|201703239051883065|15|IND|PETRELLI, JOSEPH L.|COLUMBUS|OH|43221|DEMOTECH, INC.|ACTUARY|08192016|1000||SA11AI.10578|1153805|||4032320171380705152\n",
            "C00600718|A|Q3|G2016|201703239051883065|15|IND|RANSOM, HORACE R.|COLUMBUS|OH|43212|RETIRED|RETIRED|08042016|1000||SA11AI.10525|1153805|||4032320171380705153\n",
            "C00600718|A|Q3|G2016|201703239051883066|15|IND|WILBER, TODD|WEST CHESTER|OH|45069|CTI RESTAURANTS|PRESIDENT|08092016|799||SA11AI.11695|1153805|||4032320171380705154\n"
          ]
        }
      ],
      "source": [
        "!head by_date/itcont_2016_20160717_20160830.txt"
      ]
    },
    {
      "cell_type": "code",
      "execution_count": null,
      "id": "5065b2b2-9c5b-47f3-9f63-22e051f133ec",
      "metadata": {
        "id": "5065b2b2-9c5b-47f3-9f63-22e051f133ec"
      },
      "outputs": [],
      "source": [
        "!csvformat -d '|' by_date/itcont_2016_20160717_20160830.txt > con1.csv"
      ]
    },
    {
      "cell_type": "code",
      "execution_count": null,
      "id": "6c77a444-cfcf-445f-ab1c-340c1260003d",
      "metadata": {
        "id": "6c77a444-cfcf-445f-ab1c-340c1260003d",
        "outputId": "4ecb5af3-8ef3-45dc-c3e4-f2206fd2f2aa"
      },
      "outputs": [
        {
          "name": "stdout",
          "output_type": "stream",
          "text": [
            "C00600718|A|Q3|G2016|201703239051883062|15|IND|BEER, MICHAEL J.|WASHINGTON|DC|20004|ALIGNMENT GOVERNMENT STRATEGIE|GOVERNMENT RELATIONS|09262016|500||SA11AI.10451|1153805|||4032320171380705144\n",
            "C00600718|A|12G|G2016|201703239051883526|15|IND|POWELL, STEPHEN|WEST CHESTER|OH|45069|STATE OF OHIO|JUDGE|10032016|250||SA11AI.12425|1153815|||4032320171380706274\n",
            "C00621458|A|12G|G2016|201701239041448569|15|IND|RODGERS, CHRISTI GAYE|DALLAS|TX|75228|REPUBLIC TITLE OF TEXAS INC|ACCOUNTANT|10022016|300||SA11AI.4179|1140697|X||4012420171368680516\n",
            "C00572925|N|12G|G2016|201610270200587440|15E|IND|POEHLMAN, MICHAEL|COLUMBIA|MO|652039101|BATTENFELD TECH|ENGINEER|10032016|25|C00401224|SA01051774401878|1137029||*EARMARKED CONTRIBUTION: SEE BELOW|2012420171368759805\n",
            "C00572925|N|12G|G2016|201610270200587443|15E|IND|STEWART, SHAWN|RICHARDSON|TX|750822650|PAYNE & BLANCHARD LLP|ATTORNEY|10012016|50|C00401224|SA01051774431886|1137029||EARMARKED CONTRIBUTION: SEE BELOW|2012420171368759813\n",
            "C00572925|N|12G|G2016|201610270200587310|15E|IND|LANGE, DAVID|LAKE SAINT LOUIS|MO|633671872|NOT EMPLOYED|NOT EMPLOYED|10022016|5|C00401224|SA01051773101486|1137029||EARMARKED CONTRIBUTION: SEE BELOW|2012420171368759413\n",
            "C00572925|N|12G|G2016|201610270200589358|15E|IND|ROSSER, WILLIAM|HAPPY VALLEY|OR|970866392|NOT EMPLOYED|NOT EMPLOYED|10022016|250|C00401224|SA01051793587630|1137029||* EARMARKED CONTRIBUTION: SEE BELOW|2012420171368765557\n",
            "C00572925|N|12G|G2016|201610270200586881|15E|IND|MURRA, LAURA|BERKELEY|CA|947081628|NOT EMPLOYED|NOT EMPLOYED|10022016|3|C00401224|SA0105176881201|1137029||EARMARKED CONTRIBUTION:SEE BELOW|2012420171368758128\n",
            "C00572925|N|12G|G2016|201610270200588417|15E|IND|LOUIE, EDMUND|SAN FRANCISCO|CA|941213323|CALIFORNIA PACIFIC MEDICAL CENTER|REGISTERED NURSE|10032016|10|C00401224|SA01051784174807|1137029||EARMARKED CONTRIBUTION: SEE BELOW|2012420171368762734\n",
            "C00572925|N|12G|G2016|201610270200586890|15E|IND|SPECK, CRAIG J|BOSTON|MA|021181215|NOT EMPLOYED|NOT EMPLOYED|10032016|250|C00401224|SA0105176890227|1137029||EARMARKED CONTRIBUTION: SEE BELOW|2012420171368758154\n"
          ]
        }
      ],
      "source": [
        "!head by_date/itcont_2016_20160831_20161003.txt"
      ]
    },
    {
      "cell_type": "code",
      "execution_count": null,
      "id": "f85277cf-cdcf-4bab-877c-4f27818d306b",
      "metadata": {
        "id": "f85277cf-cdcf-4bab-877c-4f27818d306b"
      },
      "outputs": [],
      "source": [
        "!csvformat -d '|' by_date/itcont_2016_20160831_20161003.txt > con2.csv"
      ]
    },
    {
      "cell_type": "code",
      "execution_count": null,
      "id": "d78b3a22-416e-4d6b-8b29-bed7eea22989",
      "metadata": {
        "id": "d78b3a22-416e-4d6b-8b29-bed7eea22989",
        "outputId": "4739e2e3-8657-4e42-b281-92963dee182a"
      },
      "outputs": [
        {
          "name": "stdout",
          "output_type": "stream",
          "text": [
            "C00558379|N|YE|P|201602030300046477|15|IND|OMAN, ROBERT|CHESAPEAKE|VA|23322|OMAN FUNERAL HOME|PRESIDENT|10252016|340||SA030716647712|1053853|||2030820161276164505\n",
            "C00592154|A|30G|G2016|201701289041534382|15|IND|BASSETT, BARTON|SAN MATEO|CA|944021152|MORGAN, LEWIS & BOCKIUS LLP|ATTORNEY|10242016|1000||VR0N8J937E9|1142744|||4013020171369063343\n",
            "C00592154|A|30G|G2016|201701289041534382|15|IND|BAUER, EUGENE|SAN RAFAEL|CA|949012361|SELF-EMPLOYED|PHYSICIAN|10282016|250||VR0N8JEGEA8|1142744|||4013020171369063344\n",
            "C00592154|A|30G|G2016|201701289041534417|15|IND|SQUERI, THOMAS|GILROY|CA|950209449|GRANITE ROCK COMPANY|EXECUTIVE|10282016|500||VR0N8JEBZQ7|1142744|||4013020171369063450\n",
            "C00592154|A|30G|G2016|201701289041534418|15|IND|STEPHENS, RICHARD|SAN FRANCISCO|CA|941082203|ACADEMY OF ART|FOUNDER|10242016|2700||VR0N8J97MG4|1142744|||4013020171369063451\n",
            "C00592154|A|30G|G2016|201701289041534386|15|IND|CAMPOS, TONY|WATSONVILLE|CA|950761021|BERKSHIRE HATHAWAY REAL TIME REALTY|REALTOR|10272016|500||VR0N8JDK4F7|1142744|||4013020171369063355\n",
            "C00592154|A|30G|G2016|201701289041534386|15|IND|CATRINA, OTTO|CASTRO VALLEY|CA|945461027|NATIONAL ASSOC. OF REALTORS|REALTOR|10242016|500||VR0N8JZMXT1|1142744|||4013020171369063357\n",
            "C00592154|A|30G|G2016|201701289041534388|15|IND|DANIELS, CLAUDIA|MONTEREY|CA|939403232|SELF-EMPLOYED|PSYCHOLOGIST|10242016|250||VR0N8J981R4|1142744|||4013020171369063361\n",
            "C00592154|A|30G|G2016|201701289041534388|15|IND|DAVI, FRANK|MONTEREY|CA|939401010|RETIRED|RETIRED|10272016|500||VR0N8JDJRP7|1142744|||4013020171369063363\n",
            "C00592154|A|30G|G2016|201701289041534384|15|IND|BOSSO, SUSAN|SANTA CRUZ|CA|950601947|NON-PROFIT VOLUNTEER|UNEMPLOYED|10282016|250||VR0N8JERRM1|1142744|||4013020171369063349\n"
          ]
        }
      ],
      "source": [
        "!head by_date/itcont_2016_20161004_20161028.txt"
      ]
    },
    {
      "cell_type": "code",
      "execution_count": null,
      "id": "b27f61c5-51cd-4811-9b93-bae93da8fd24",
      "metadata": {
        "id": "b27f61c5-51cd-4811-9b93-bae93da8fd24"
      },
      "outputs": [],
      "source": [
        "!csvformat -d '|' by_date/itcont_2016_20161004_20161028.txt > con3.csv"
      ]
    },
    {
      "cell_type": "code",
      "execution_count": null,
      "id": "7027f37e-4608-4580-b041-8ef6ccd41f65",
      "metadata": {
        "id": "7027f37e-4608-4580-b041-8ef6ccd41f65",
        "outputId": "4c67fe86-813b-49bf-fde4-c9d36380f728"
      },
      "outputs": [
        {
          "name": "stdout",
          "output_type": "stream",
          "text": [
            "C00570564|A|YE|P2016|201607180200240904|15|IND|ROGERS, RONALD O||FL||N/A|SELF-EMPLOYED|11302016|250||SA072216090427|1090083|||2080520161308959985\n",
            "C00578013|A|YE|P2016|201608050200329757|15|IND|MUENDEL, SHARON|MILWAUKEE|WI|532071963|RETIRED|RETIRED|11162016|250||SA09151697574274|1099259|||1032020170033936396\n",
            "C00193623|A|YE|P|201605050200174767|15|IND|GEPSMAN, MARTY|CHICAGO|IL|606112119|CME|BOARD OF DIRECTORS|11102016|500||SA052316476766|1067969|||2052420161293161000\n",
            "C00582809|A|YE|P|201605090200176442|15E|IND|WEAVER, RANSOM|HAVERTOWN|PA|190831430|SELF-EMPLOYED|SOFTWARE DEVELOPER|11292016|250|C00401224|SA0523166442767|1067988||* EARMARKED CONTRIBUTION: SEE BELOW|2052420161293164399\n",
            "C00591776|N|YE|P2016|201601299004752303|15|IND|ROZIER, JAMES|MONCKS CORNER|SC|29461|ROZIER GROUP, LLC|CONSULTANT|11272016|500||SA11AI.4326|1044679|X||4020320161261469832\n",
            "C00591776|N|YE|P2016|201601299004752303|15|IND|SABB, RONNIE A.|KINGSTREE|SC|29556|LAW OFFICE OF RONNIE A SABB LLC|OWNER/ATTORNEY|11272016|2700||SA11AI.4324|1044679|X||4020320161261469834\n",
            "C00578484|A|YE|P|201602010200027368|15E|IND|HOWARD, BRYAN S|PHOENIX|AZ|850162368|PLANNED PARENTHOOD|EXECUTIVE|11202016|500|C00401224|SA02111673682302|1049013||* EARMARKED CONTRIBUTION: SEE BELOW|1101420160032014883\n",
            "C00592154|A|30G|G2016|201701289041534381|15|IND|BALESTRERI JR, TEDDY|MONTEREY|CA|939401627|CANNERY ROW CO.|DIRECTOR|11072016|1000||VR0N8JRNJJ9|1142744|||4013020171369063342\n",
            "C00592154|A|30G|G2016|201701289041534382|15|IND|BELLECI, BARNEY|PEBBLE BEACH|CA|939533050|RETIRED|RETIRED|11042016|500||VR0N8JNKZS9|1142744|||4013020171369063345\n",
            "C00592154|A|30G|G2016|201701289041534383|15|IND|BITAR, MIKE|SALINAS|CA|939012626|EXECUTIVE ESTATES|OWNER, BROKER|11012016|114||VR0N8JTA1E9|1142744||* IN-KIND: OFFICE SPACE|4013020171369063346\n"
          ]
        }
      ],
      "source": [
        "!head by_date/itcont_2016_20161029_20161202.txt"
      ]
    },
    {
      "cell_type": "code",
      "execution_count": null,
      "id": "05752065-ef0b-47da-b721-ab27bfabc2f9",
      "metadata": {
        "tags": [],
        "id": "05752065-ef0b-47da-b721-ab27bfabc2f9"
      },
      "outputs": [],
      "source": [
        "!csvformat -d '|' by_date/itcont_2016_20161029_20161202.txt > con4.csv"
      ]
    },
    {
      "cell_type": "markdown",
      "id": "a876211d-57ea-4516-a626-b95fd7208003",
      "metadata": {
        "id": "a876211d-57ea-4516-a626-b95fd7208003"
      },
      "source": [
        "* Stack files."
      ]
    },
    {
      "cell_type": "code",
      "execution_count": null,
      "id": "a7e88214-20b6-4675-aa2e-5ef715020484",
      "metadata": {
        "id": "a7e88214-20b6-4675-aa2e-5ef715020484"
      },
      "outputs": [],
      "source": [
        "!csvstack indiv_header_file.csv con1.csv > con5.csv"
      ]
    },
    {
      "cell_type": "code",
      "execution_count": null,
      "id": "aa07c48f-ecdc-4510-83f3-512a62a68392",
      "metadata": {
        "id": "aa07c48f-ecdc-4510-83f3-512a62a68392"
      },
      "outputs": [],
      "source": [
        "!csvstack indiv_header_file.csv con2.csv > con6.csv"
      ]
    },
    {
      "cell_type": "code",
      "execution_count": null,
      "id": "a1818e74-c477-456e-aa80-236ac3303886",
      "metadata": {
        "id": "a1818e74-c477-456e-aa80-236ac3303886"
      },
      "outputs": [],
      "source": [
        "!csvstack indiv_header_file.csv con3.csv > con7.csv"
      ]
    },
    {
      "cell_type": "code",
      "execution_count": null,
      "id": "1961cc36-53bc-4ca5-8a37-67fd268e7b2a",
      "metadata": {
        "id": "1961cc36-53bc-4ca5-8a37-67fd268e7b2a"
      },
      "outputs": [],
      "source": [
        "!csvstack indiv_header_file.csv con4.csv > con8.csv"
      ]
    },
    {
      "cell_type": "markdown",
      "id": "98bb0623-ee9c-428d-8058-a21a3c18275d",
      "metadata": {
        "id": "98bb0623-ee9c-428d-8058-a21a3c18275d"
      },
      "source": [
        "* Count the number of rows in the data file."
      ]
    },
    {
      "cell_type": "code",
      "execution_count": null,
      "id": "245a532e-0bd8-4ac1-845c-28085aad3b39",
      "metadata": {
        "id": "245a532e-0bd8-4ac1-845c-28085aad3b39",
        "outputId": "f40401b4-fcb5-499d-a67c-7796463b4393"
      },
      "outputs": [
        {
          "name": "stdout",
          "output_type": "stream",
          "text": [
            "1908652 con5.csv\n"
          ]
        }
      ],
      "source": [
        "!wc -l con5.csv"
      ]
    },
    {
      "cell_type": "code",
      "execution_count": null,
      "id": "6cd6f58d-6121-47e3-a417-948963611c31",
      "metadata": {
        "id": "6cd6f58d-6121-47e3-a417-948963611c31",
        "outputId": "1a314bdc-791c-460f-9a0b-513f07a787f7"
      },
      "outputs": [
        {
          "name": "stdout",
          "output_type": "stream",
          "text": [
            "1946526 con6.csv\n"
          ]
        }
      ],
      "source": [
        "!wc -l con6.csv"
      ]
    },
    {
      "cell_type": "code",
      "execution_count": null,
      "id": "2eb23a13-a4a2-4378-948c-0df32295b4ef",
      "metadata": {
        "id": "2eb23a13-a4a2-4378-948c-0df32295b4ef",
        "outputId": "d84501e3-8d3c-4eb4-cfc9-64f656f6140f"
      },
      "outputs": [
        {
          "name": "stdout",
          "output_type": "stream",
          "text": [
            "1955026 con7.csv\n"
          ]
        }
      ],
      "source": [
        "!wc -l con7.csv"
      ]
    },
    {
      "cell_type": "code",
      "execution_count": null,
      "id": "bf347cb8-739b-4fa7-abad-2818eab1d391",
      "metadata": {
        "id": "bf347cb8-739b-4fa7-abad-2818eab1d391",
        "outputId": "e4282130-7c49-4224-dba2-1cf873c372f5"
      },
      "outputs": [
        {
          "name": "stdout",
          "output_type": "stream",
          "text": [
            "1988501 con8.csv\n"
          ]
        }
      ],
      "source": [
        "!wc -l con8.csv"
      ]
    },
    {
      "cell_type": "code",
      "execution_count": null,
      "id": "3ed1e21c-16a4-4a69-84f9-cb17d2e658a1",
      "metadata": {
        "id": "3ed1e21c-16a4-4a69-84f9-cb17d2e658a1",
        "outputId": "bd9a2883-59b8-4d6d-c87b-ee197f175a29"
      },
      "outputs": [
        {
          "data": {
            "text/plain": [
              "7798705"
            ]
          },
          "execution_count": 72,
          "metadata": {},
          "output_type": "execute_result"
        }
      ],
      "source": [
        "1908652+1946526+1955026+1988501"
      ]
    },
    {
      "cell_type": "markdown",
      "id": "7e7b72a6-4862-4c4d-a020-b7d9c26e9a6a",
      "metadata": {
        "id": "7e7b72a6-4862-4c4d-a020-b7d9c26e9a6a"
      },
      "source": [
        "* Check the column names of the data file."
      ]
    },
    {
      "cell_type": "code",
      "execution_count": null,
      "id": "cf37066f-ddff-4535-9a83-63414e607441",
      "metadata": {
        "id": "cf37066f-ddff-4535-9a83-63414e607441",
        "outputId": "6af71a88-5d86-496e-d731-2852ff57a2fd"
      },
      "outputs": [
        {
          "name": "stdout",
          "output_type": "stream",
          "text": [
            "  1: CMTE_ID\n",
            "  2: AMNDT_IND\n",
            "  3: RPT_TP\n",
            "  4: TRANSACTION_PGI\n",
            "  5: IMAGE_NUM\n",
            "  6: TRANSACTION_TP\n",
            "  7: ENTITY_TP\n",
            "  8: NAME\n",
            "  9: CITY\n",
            " 10: STATE\n",
            " 11: ZIP_CODE\n",
            " 12: EMPLOYER\n",
            " 13: OCCUPATION\n",
            " 14: TRANSACTION_DT\n",
            " 15: TRANSACTION_AMT\n",
            " 16: OTHER_ID\n",
            " 17: TRAN_ID\n",
            " 18: FILE_NUM\n",
            " 19: MEMO_CD\n",
            " 20: MEMO_TEXT\n",
            " 21: SUB_ID\n"
          ]
        }
      ],
      "source": [
        "!csvcut -n con5.csv"
      ]
    },
    {
      "cell_type": "markdown",
      "id": "1a095194-8195-4724-bc5b-74482e4232a6",
      "metadata": {
        "id": "1a095194-8195-4724-bc5b-74482e4232a6"
      },
      "source": [
        "* Load data into the database."
      ]
    },
    {
      "cell_type": "code",
      "execution_count": null,
      "id": "2974b8c5-fac7-4dfd-9708-04110b98be17",
      "metadata": {
        "id": "2974b8c5-fac7-4dfd-9708-04110b98be17",
        "outputId": "e8363bcd-7aee-4771-f880-b7b6a6835137"
      },
      "outputs": [
        {
          "name": "stdout",
          "output_type": "stream",
          "text": [
            "/home/ubuntu/Exercise  2 (Group)\n"
          ]
        }
      ],
      "source": [
        "!pwd"
      ]
    },
    {
      "cell_type": "code",
      "execution_count": null,
      "id": "6e7194d6-f7e7-4aca-9964-ac04c6bedffe",
      "metadata": {
        "id": "6e7194d6-f7e7-4aca-9964-ac04c6bedffe",
        "outputId": "415d1e6c-23d1-4f2f-b02f-38097c411361"
      },
      "outputs": [
        {
          "name": "stdout",
          "output_type": "stream",
          "text": [
            " * postgresql://student@/candidate\n",
            "1908651 rows affected.\n"
          ]
        },
        {
          "data": {
            "text/plain": [
              "[]"
            ]
          },
          "execution_count": 75,
          "metadata": {},
          "output_type": "execute_result"
        }
      ],
      "source": [
        "%%sql\n",
        "COPY CONTRIBUTION FROM '/home/ubuntu/Exercise  2 (Group)/con5.csv'\n",
        "CSV\n",
        "HEADER;"
      ]
    },
    {
      "cell_type": "code",
      "execution_count": null,
      "id": "ee2d5144-896f-47d0-a59c-b20020d1daec",
      "metadata": {
        "id": "ee2d5144-896f-47d0-a59c-b20020d1daec",
        "outputId": "d40a393d-445d-4d6e-cd4b-dbda815c75c3"
      },
      "outputs": [
        {
          "name": "stdout",
          "output_type": "stream",
          "text": [
            " * postgresql://student@/candidate\n",
            "1946525 rows affected.\n"
          ]
        },
        {
          "data": {
            "text/plain": [
              "[]"
            ]
          },
          "execution_count": 76,
          "metadata": {},
          "output_type": "execute_result"
        }
      ],
      "source": [
        "%%sql\n",
        "COPY CONTRIBUTION FROM '/home/ubuntu/Exercise  2 (Group)/con6.csv'\n",
        "CSV\n",
        "HEADER;"
      ]
    },
    {
      "cell_type": "code",
      "execution_count": null,
      "id": "4ab885f4-773b-42ae-8fc2-332c877de624",
      "metadata": {
        "id": "4ab885f4-773b-42ae-8fc2-332c877de624",
        "outputId": "ae322424-6d1b-443f-cba6-4c402d773115"
      },
      "outputs": [
        {
          "name": "stdout",
          "output_type": "stream",
          "text": [
            " * postgresql://student@/candidate\n",
            "1955025 rows affected.\n"
          ]
        },
        {
          "data": {
            "text/plain": [
              "[]"
            ]
          },
          "execution_count": 77,
          "metadata": {},
          "output_type": "execute_result"
        }
      ],
      "source": [
        "%%sql\n",
        "COPY CONTRIBUTION FROM '/home/ubuntu/Exercise  2 (Group)/con7.csv'\n",
        "CSV\n",
        "HEADER;"
      ]
    },
    {
      "cell_type": "code",
      "execution_count": null,
      "id": "e2519eb6-6a14-4377-ac82-717462d82da5",
      "metadata": {
        "id": "e2519eb6-6a14-4377-ac82-717462d82da5",
        "outputId": "dc5f5b25-8721-46d9-a4fb-f94a9aa2f4fb"
      },
      "outputs": [
        {
          "name": "stdout",
          "output_type": "stream",
          "text": [
            " * postgresql://student@/candidate\n",
            "1988500 rows affected.\n"
          ]
        },
        {
          "data": {
            "text/plain": [
              "[]"
            ]
          },
          "execution_count": 78,
          "metadata": {},
          "output_type": "execute_result"
        }
      ],
      "source": [
        "%%sql\n",
        "COPY CONTRIBUTION FROM '/home/ubuntu/Exercise  2 (Group)/con8.csv'\n",
        "CSV\n",
        "HEADER;"
      ]
    },
    {
      "cell_type": "markdown",
      "id": "843c50c0-67c1-4684-9bd4-143467e7d14a",
      "metadata": {
        "id": "843c50c0-67c1-4684-9bd4-143467e7d14a"
      },
      "source": [
        "* Count the rows in 'CONTRIBUTION' table to check if all data has been loaded successfully: the number of rows affected is 4 less than the number of rows in the data file, because the header of the 4 files that were combined is not loaded to the table."
      ]
    },
    {
      "cell_type": "code",
      "execution_count": null,
      "id": "d7025e84-6146-4d2a-8779-1e2979f0c519",
      "metadata": {
        "id": "d7025e84-6146-4d2a-8779-1e2979f0c519",
        "outputId": "820cbf14-225b-48a4-bdf9-3f9140a7f87e"
      },
      "outputs": [
        {
          "name": "stdout",
          "output_type": "stream",
          "text": [
            " * postgresql://student@/candidate\n",
            "1 rows affected.\n"
          ]
        },
        {
          "data": {
            "text/html": [
              "<table>\n",
              "    <thead>\n",
              "        <tr>\n",
              "            <th>count</th>\n",
              "        </tr>\n",
              "    </thead>\n",
              "    <tbody>\n",
              "        <tr>\n",
              "            <td>7798701</td>\n",
              "        </tr>\n",
              "    </tbody>\n",
              "</table>"
            ],
            "text/plain": [
              "[(7798701,)]"
            ]
          },
          "execution_count": 79,
          "metadata": {},
          "output_type": "execute_result"
        }
      ],
      "source": [
        "%%sql\n",
        "SELECT COUNT(*) FROM CONTRIBUTION;"
      ]
    },
    {
      "cell_type": "markdown",
      "id": "35a5e0f8-8387-4769-beef-0848af4ff4d2",
      "metadata": {
        "id": "35a5e0f8-8387-4769-beef-0848af4ff4d2"
      },
      "source": [
        "* View the table to check if the data format is identical to that of the original data file."
      ]
    },
    {
      "cell_type": "code",
      "execution_count": null,
      "id": "c8e193b3-f268-4486-840a-98e5056fc66d",
      "metadata": {
        "id": "c8e193b3-f268-4486-840a-98e5056fc66d",
        "outputId": "84f4d792-81a4-42ae-ceaa-74366da30918"
      },
      "outputs": [
        {
          "name": "stdout",
          "output_type": "stream",
          "text": [
            " * postgresql://student@/candidate\n",
            "5 rows affected.\n"
          ]
        },
        {
          "data": {
            "text/html": [
              "<table>\n",
              "    <thead>\n",
              "        <tr>\n",
              "            <th>cmte_id</th>\n",
              "            <th>amndt_ind</th>\n",
              "            <th>rpt_tp</th>\n",
              "            <th>transaction_pgi</th>\n",
              "            <th>image_num</th>\n",
              "            <th>transaction_tp</th>\n",
              "            <th>entity_tp</th>\n",
              "            <th>name</th>\n",
              "            <th>city</th>\n",
              "            <th>state</th>\n",
              "            <th>zip_code</th>\n",
              "            <th>employer</th>\n",
              "            <th>occupation</th>\n",
              "            <th>transaction_dt</th>\n",
              "            <th>transaction_amt</th>\n",
              "            <th>other_id</th>\n",
              "            <th>tran_id</th>\n",
              "            <th>file_num</th>\n",
              "            <th>memo_cd</th>\n",
              "            <th>memo_text</th>\n",
              "            <th>sub_id</th>\n",
              "        </tr>\n",
              "    </thead>\n",
              "    <tbody>\n",
              "        <tr>\n",
              "            <td>C00573758</td>\n",
              "            <td>A</td>\n",
              "            <td>Q3</td>\n",
              "            <td>P2016</td>\n",
              "            <td>201702030200053785</td>\n",
              "            <td>15</td>\n",
              "            <td>IND</td>\n",
              "            <td>ROGERS, DAVID E</td>\n",
              "            <td>BETHESDA</td>\n",
              "            <td>MD</td>\n",
              "            <td>208161809</td>\n",
              "            <td>MCDERMOTT, WILL &amp; EMERY LLP</td>\n",
              "            <td>ATTORNEY</td>\n",
              "            <td>07232016</td>\n",
              "            <td>1000.00</td>\n",
              "            <td>None</td>\n",
              "            <td>SA0208173785419</td>\n",
              "            <td>1148131</td>\n",
              "            <td>None</td>\n",
              "            <td>None</td>\n",
              "            <td>2020820171370042762</td>\n",
              "        </tr>\n",
              "        <tr>\n",
              "            <td>C00523217</td>\n",
              "            <td>N</td>\n",
              "            <td>YE</td>\n",
              "            <td>P</td>\n",
              "            <td>201607130300083071</td>\n",
              "            <td>15</td>\n",
              "            <td>IND</td>\n",
              "            <td>O&#x27;BRIEN, TIMOTHY</td>\n",
              "            <td>WELLESLEY</td>\n",
              "            <td>None</td>\n",
              "            <td>02481</td>\n",
              "            <td>None</td>\n",
              "            <td>None</td>\n",
              "            <td>08262016</td>\n",
              "            <td>300.00</td>\n",
              "            <td>None</td>\n",
              "            <td>SA071816307115</td>\n",
              "            <td>1087925</td>\n",
              "            <td>None</td>\n",
              "            <td>None</td>\n",
              "            <td>2080420161308935237</td>\n",
              "        </tr>\n",
              "        <tr>\n",
              "            <td>C00581272</td>\n",
              "            <td>A</td>\n",
              "            <td>Q3</td>\n",
              "            <td>P</td>\n",
              "            <td>201610210200518510</td>\n",
              "            <td>15</td>\n",
              "            <td>IND</td>\n",
              "            <td>SQUIRE, JAMES</td>\n",
              "            <td>SEATTLE</td>\n",
              "            <td>WA</td>\n",
              "            <td>98116</td>\n",
              "            <td>SELF</td>\n",
              "            <td>PHYSICIAN</td>\n",
              "            <td>08242016</td>\n",
              "            <td>700.00</td>\n",
              "            <td>None</td>\n",
              "            <td>SA102616851013</td>\n",
              "            <td>1115447</td>\n",
              "            <td>None</td>\n",
              "            <td>None</td>\n",
              "            <td>1120820160032960190</td>\n",
              "        </tr>\n",
              "        <tr>\n",
              "            <td>C00600718</td>\n",
              "            <td>A</td>\n",
              "            <td>Q3</td>\n",
              "            <td>G2016</td>\n",
              "            <td>201703239051883064</td>\n",
              "            <td>15</td>\n",
              "            <td>IND</td>\n",
              "            <td>MARSHALL, JOHN L.</td>\n",
              "            <td>DAYTON</td>\n",
              "            <td>OH</td>\n",
              "            <td>45401</td>\n",
              "            <td>GRISMER TIRE</td>\n",
              "            <td>OWNER</td>\n",
              "            <td>07292016</td>\n",
              "            <td>300.00</td>\n",
              "            <td>None</td>\n",
              "            <td>SA11AI.10429</td>\n",
              "            <td>1153805</td>\n",
              "            <td>None</td>\n",
              "            <td>None</td>\n",
              "            <td>4032320171380705148</td>\n",
              "        </tr>\n",
              "        <tr>\n",
              "            <td>C00600718</td>\n",
              "            <td>A</td>\n",
              "            <td>Q3</td>\n",
              "            <td>G2016</td>\n",
              "            <td>201703239051883064</td>\n",
              "            <td>15</td>\n",
              "            <td>IND</td>\n",
              "            <td>NAILL, SCOTT</td>\n",
              "            <td>SPRINGFIELD</td>\n",
              "            <td>OH</td>\n",
              "            <td>45502</td>\n",
              "            <td>TEACHER</td>\n",
              "            <td>UVCC</td>\n",
              "            <td>08292016</td>\n",
              "            <td>100.00</td>\n",
              "            <td>None</td>\n",
              "            <td>SA11AI.10623</td>\n",
              "            <td>1153805</td>\n",
              "            <td>None</td>\n",
              "            <td>None</td>\n",
              "            <td>4032320171380705149</td>\n",
              "        </tr>\n",
              "    </tbody>\n",
              "</table>"
            ],
            "text/plain": [
              "[('C00573758', 'A', 'Q3', 'P2016', '201702030200053785', '15', 'IND', 'ROGERS, DAVID E', 'BETHESDA', 'MD', '208161809', 'MCDERMOTT, WILL & EMERY LLP', 'ATTORNEY', '07232016', Decimal('1000.00'), None, 'SA0208173785419', Decimal('1148131'), None, None, Decimal('2020820171370042762')),\n",
              " ('C00523217', 'N', 'YE', 'P', '201607130300083071', '15', 'IND', \"O'BRIEN, TIMOTHY\", 'WELLESLEY', None, '02481', None, None, '08262016', Decimal('300.00'), None, 'SA071816307115', Decimal('1087925'), None, None, Decimal('2080420161308935237')),\n",
              " ('C00581272', 'A', 'Q3', 'P', '201610210200518510', '15', 'IND', 'SQUIRE, JAMES', 'SEATTLE', 'WA', '98116', 'SELF', 'PHYSICIAN', '08242016', Decimal('700.00'), None, 'SA102616851013', Decimal('1115447'), None, None, Decimal('1120820160032960190')),\n",
              " ('C00600718', 'A', 'Q3', 'G2016', '201703239051883064', '15', 'IND', 'MARSHALL, JOHN L.', 'DAYTON', 'OH', '45401', 'GRISMER TIRE', 'OWNER', '07292016', Decimal('300.00'), None, 'SA11AI.10429', Decimal('1153805'), None, None, Decimal('4032320171380705148')),\n",
              " ('C00600718', 'A', 'Q3', 'G2016', '201703239051883064', '15', 'IND', 'NAILL, SCOTT', 'SPRINGFIELD', 'OH', '45502', 'TEACHER', 'UVCC', '08292016', Decimal('100.00'), None, 'SA11AI.10623', Decimal('1153805'), None, None, Decimal('4032320171380705149'))]"
            ]
          },
          "execution_count": 80,
          "metadata": {},
          "output_type": "execute_result"
        }
      ],
      "source": [
        "%%sql\n",
        "SELECT *\n",
        "FROM CONTRIBUTION\n",
        "LIMIT 5;"
      ]
    },
    {
      "cell_type": "markdown",
      "id": "6c147866-3559-4f9b-9495-26cc6ef2d368",
      "metadata": {
        "id": "6c147866-3559-4f9b-9495-26cc6ef2d368"
      },
      "source": [
        "## Candidate Financial Summary Table"
      ]
    },
    {
      "cell_type": "markdown",
      "id": "93834313-36fc-4f31-9c45-eda146b493db",
      "metadata": {
        "tags": [],
        "id": "93834313-36fc-4f31-9c45-eda146b493db"
      },
      "source": [
        "* Create 'CAND_FINANCIAL' table with all of its attributes and the type of data of each attribute."
      ]
    },
    {
      "cell_type": "code",
      "execution_count": null,
      "id": "e3e8d9bc-2287-4caf-9842-74fb9efcb9e2",
      "metadata": {
        "id": "e3e8d9bc-2287-4caf-9842-74fb9efcb9e2",
        "outputId": "808ce68c-4eaf-48db-b3d9-793d1365c067"
      },
      "outputs": [
        {
          "name": "stdout",
          "output_type": "stream",
          "text": [
            " * postgresql://student@/candidate\n",
            "Done.\n",
            "Done.\n"
          ]
        },
        {
          "data": {
            "text/plain": [
              "[]"
            ]
          },
          "execution_count": 81,
          "metadata": {},
          "output_type": "execute_result"
        }
      ],
      "source": [
        "%%sql\n",
        "DROP TABLE IF EXISTS CAND_FINANCIAL Cascade;\n",
        "\n",
        "CREATE TABLE CAND_FINANCIAL (\n",
        "  CAND_ID                VARCHAR(9) NOT NULL, \n",
        "  CAND_NAME              VARCHAR(200),\n",
        "  CAND_ICI               VARCHAR(1),\n",
        "  PTY_CD                 VARCHAR(1),\n",
        "  CAND_PTY_AFFILIATION   VARCHAR(3),\n",
        "  TTL_RECEIPTS           NUMERIC(14,2),\n",
        "  TRANS_FROM_AUTH        NUMERIC(14,2),\n",
        "  TTL_DISB               NUMERIC(14,2),\n",
        "  TRANS_TO_AUTH          NUMERIC(14,2),\n",
        "  COH_BOP                NUMERIC(14,2),\n",
        "  COH_COP                NUMERIC(14,2),\n",
        "  CAND_CONTRIB           NUMERIC(14,2),\n",
        "  CAND_LOANS             NUMERIC(14,2),\n",
        "  OTHER_LOANS            NUMERIC(14,2),\n",
        "  CAND_LOAN_REPAY        NUMERIC(14,2),\n",
        "  OTHER_LOAN_REPAY       NUMERIC(14,2),\n",
        "  DEBTS_OWED_BY          NUMERIC(14,2),\n",
        "  TTL_INDIV_CONTRIB      NUMERIC(14,2),\n",
        "  CAND_OFFICE_ST         VARCHAR(2),\n",
        "  CAND_OFFICE_DISTRICT   VARCHAR(2),\n",
        "  SPEC_ELECTION          VARCHAR(1),\n",
        "  PRIM_ELECTION          VARCHAR(1),\n",
        "  RUN_ELECTION           VARCHAR(1),\n",
        "  GEN_ELECTION           VARCHAR(1),\n",
        "  GEN_ELECTION_PRECENT   NUMERIC(7,4),\n",
        "  OTHER_POL_CMTE_CONTRIB NUMERIC(14,2),\n",
        "  POL_PTY_CONTRIB        NUMERIC(14,2),\n",
        "  CVG_END_DT             DATE,\n",
        "  INDIV_REFUNDS          NUMERIC(14,2),\n",
        "  CMTE_REFUNDS           NUMERIC(14,2),\n",
        "  PRIMARY KEY (CAND_ID)\n",
        ");\n"
      ]
    },
    {
      "cell_type": "markdown",
      "id": "d7045353-a02d-4307-b68c-0354f60a7949",
      "metadata": {
        "id": "d7045353-a02d-4307-b68c-0354f60a7949"
      },
      "source": [
        "* Add explanation of what data the 'CAND_FINANCIAL' table contains."
      ]
    },
    {
      "cell_type": "code",
      "execution_count": null,
      "id": "3ad3c79e-9987-4172-b749-506a4f212c81",
      "metadata": {
        "id": "3ad3c79e-9987-4172-b749-506a4f212c81",
        "outputId": "a2efcbc1-f324-49e8-e44a-96eae769c431"
      },
      "outputs": [
        {
          "name": "stdout",
          "output_type": "stream",
          "text": [
            " * postgresql://student@/candidate\n",
            "Done.\n"
          ]
        },
        {
          "data": {
            "text/plain": [
              "[]"
            ]
          },
          "execution_count": 82,
          "metadata": {},
          "output_type": "execute_result"
        }
      ],
      "source": [
        "%%sql\n",
        "COMMENT ON TABLE CAND_FINANCIAL IS \n",
        "'All_candidate Financial_summary (Weball16): The all candidates file contains summary financial information for each candidate who raised or spent money during the period, regardless of when they are up for election.';"
      ]
    },
    {
      "cell_type": "markdown",
      "id": "1e0a7fd9-cad5-4f1e-b69a-0a82e289281a",
      "metadata": {
        "id": "1e0a7fd9-cad5-4f1e-b69a-0a82e289281a"
      },
      "source": [
        "* Add explanation of what each attribute (column) means in the 'CAND_FINANCIAL' table."
      ]
    },
    {
      "cell_type": "code",
      "execution_count": null,
      "id": "f2469a12-e337-45dd-9bcb-d40ff02c2862",
      "metadata": {
        "id": "f2469a12-e337-45dd-9bcb-d40ff02c2862",
        "outputId": "842a7d00-abe2-4c9f-bfdc-db9feea9e482"
      },
      "outputs": [
        {
          "name": "stdout",
          "output_type": "stream",
          "text": [
            " * postgresql://student@/candidate\n",
            "Done.\n",
            "Done.\n",
            "Done.\n",
            "Done.\n",
            "Done.\n",
            "Done.\n",
            "Done.\n",
            "Done.\n",
            "Done.\n",
            "Done.\n",
            "Done.\n",
            "Done.\n",
            "Done.\n",
            "Done.\n",
            "Done.\n",
            "Done.\n",
            "Done.\n",
            "Done.\n",
            "Done.\n",
            "Done.\n",
            "Done.\n",
            "Done.\n",
            "Done.\n",
            "Done.\n",
            "Done.\n",
            "Done.\n",
            "Done.\n",
            "Done.\n",
            "Done.\n"
          ]
        },
        {
          "data": {
            "text/plain": [
              "[]"
            ]
          },
          "execution_count": 83,
          "metadata": {},
          "output_type": "execute_result"
        }
      ],
      "source": [
        "%%sql\n",
        "COMMENT ON COLUMN CAND_FINANCIAL.CAND_ID IS 'Candidate identification';\n",
        "COMMENT ON COLUMN CAND_FINANCIAL.CAND_NAME IS 'Candidate name';\n",
        "COMMENT ON COLUMN CAND_FINANCIAL.CAND_ICI IS 'Incumbent challenger status';\n",
        "COMMENT ON COLUMN CAND_FINANCIAL.PTY_CD IS 'Party code';\n",
        "COMMENT ON COLUMN CAND_FINANCIAL.TTL_RECEIPTS IS 'Total receipts';\n",
        "COMMENT ON COLUMN CAND_FINANCIAL.TRANS_FROM_AUTH IS 'Transfers from authorized committees';\n",
        "COMMENT ON COLUMN CAND_FINANCIAL.TTL_DISB IS 'Total disbursements';\n",
        "COMMENT ON COLUMN CAND_FINANCIAL.TRANS_TO_AUTH IS 'Transfers to authorized committees';\n",
        "COMMENT ON COLUMN CAND_FINANCIAL.COH_BOP IS 'Beginning cash';\n",
        "COMMENT ON COLUMN CAND_FINANCIAL.COH_COP IS 'Ending cash';\n",
        "COMMENT ON COLUMN CAND_FINANCIAL.CAND_CONTRIB IS 'Contributions from candidate';\n",
        "COMMENT ON COLUMN CAND_FINANCIAL.CAND_LOANS IS 'Loans from candidate';\n",
        "COMMENT ON COLUMN CAND_FINANCIAL.OTHER_LOANS IS 'Other loans';\n",
        "COMMENT ON COLUMN CAND_FINANCIAL.CAND_LOAN_REPAY IS 'Candidate loan repayments';\n",
        "COMMENT ON COLUMN CAND_FINANCIAL.OTHER_LOAN_REPAY IS 'Other loan repayments';\n",
        "COMMENT ON COLUMN CAND_FINANCIAL.DEBTS_OWED_BY IS 'Debts owed by';\n",
        "COMMENT ON COLUMN CAND_FINANCIAL.TTL_INDIV_CONTRIB IS 'Total individual contributions';\n",
        "COMMENT ON COLUMN CAND_FINANCIAL.CAND_OFFICE_ST IS 'Candidate state';\n",
        "COMMENT ON COLUMN CAND_FINANCIAL.CAND_OFFICE_DISTRICT IS 'Candidate district';\n",
        "COMMENT ON COLUMN CAND_FINANCIAL.SPEC_ELECTION IS 'Special election status';\n",
        "COMMENT ON COLUMN CAND_FINANCIAL.PRIM_ELECTION IS 'Primary election status';\n",
        "COMMENT ON COLUMN CAND_FINANCIAL.RUN_ELECTION IS 'Runoff election status';\n",
        "COMMENT ON COLUMN CAND_FINANCIAL.GEN_ELECTION IS 'General election status';\n",
        "COMMENT ON COLUMN CAND_FINANCIAL.GEN_ELECTION_PRECENT IS 'General election percentage';\n",
        "COMMENT ON COLUMN CAND_FINANCIAL.OTHER_POL_CMTE_CONTRIB IS 'Contributions from other political committees';\n",
        "COMMENT ON COLUMN CAND_FINANCIAL.POL_PTY_CONTRIB IS 'Contributions from party committees';\n",
        "COMMENT ON COLUMN CAND_FINANCIAL.CVG_END_DT IS 'Coverage end date';\n",
        "COMMENT ON COLUMN CAND_FINANCIAL.INDIV_REFUNDS IS 'Refunds to individuals';\n",
        "COMMENT ON COLUMN CAND_FINANCIAL.CMTE_REFUNDS IS 'Refunds to committees';"
      ]
    },
    {
      "cell_type": "markdown",
      "id": "8e32ce38-82fe-4509-a8fc-c9488abc626f",
      "metadata": {
        "id": "8e32ce38-82fe-4509-a8fc-c9488abc626f"
      },
      "source": [
        "* Get the bulk data file."
      ]
    },
    {
      "cell_type": "code",
      "execution_count": null,
      "id": "f758f8a3-951a-4d22-a3c1-4813b219f356",
      "metadata": {
        "id": "f758f8a3-951a-4d22-a3c1-4813b219f356",
        "outputId": "f4d3d185-4938-4beb-9c6d-0a4572edaf06"
      },
      "outputs": [
        {
          "name": "stdout",
          "output_type": "stream",
          "text": [
            "--2021-11-01 17:32:51--  https://www.fec.gov/files/bulk-downloads/2016/weball16.zip\n",
            "Resolving www.fec.gov (www.fec.gov)... 99.84.191.86, 99.84.191.105, 99.84.191.118, ...\n",
            "Connecting to www.fec.gov (www.fec.gov)|99.84.191.86|:443... connected.\n",
            "HTTP request sent, awaiting response... 302 Moved Temporarily\n",
            "Location: https://cg-519a459a-0ea3-42c2-b7bc-fa1143481f74.s3-us-gov-west-1.amazonaws.com/bulk-downloads/2016/weball16.zip [following]\n",
            "--2021-11-01 17:32:52--  https://cg-519a459a-0ea3-42c2-b7bc-fa1143481f74.s3-us-gov-west-1.amazonaws.com/bulk-downloads/2016/weball16.zip\n",
            "Resolving cg-519a459a-0ea3-42c2-b7bc-fa1143481f74.s3-us-gov-west-1.amazonaws.com (cg-519a459a-0ea3-42c2-b7bc-fa1143481f74.s3-us-gov-west-1.amazonaws.com)... 108.175.49.4\n",
            "Connecting to cg-519a459a-0ea3-42c2-b7bc-fa1143481f74.s3-us-gov-west-1.amazonaws.com (cg-519a459a-0ea3-42c2-b7bc-fa1143481f74.s3-us-gov-west-1.amazonaws.com)|108.175.49.4|:443... connected.\n",
            "HTTP request sent, awaiting response... 200 OK\n",
            "Length: 132345 (129K) [application/zip]\n",
            "Saving to: ‘weball16.zip’\n",
            "\n",
            "weball16.zip        100%[===================>] 129.24K   596KB/s    in 0.2s    \n",
            "\n",
            "2021-11-01 17:32:52 (596 KB/s) - ‘weball16.zip’ saved [132345/132345]\n",
            "\n"
          ]
        }
      ],
      "source": [
        "!wget https://www.fec.gov/files/bulk-downloads/2016/weball16.zip"
      ]
    },
    {
      "cell_type": "code",
      "execution_count": null,
      "id": "d16ac00a-17b4-4233-97bc-a4cde98ac816",
      "metadata": {
        "id": "d16ac00a-17b4-4233-97bc-a4cde98ac816"
      },
      "outputs": [],
      "source": [
        "assert 'weball16.zip' in os.listdir()"
      ]
    },
    {
      "cell_type": "code",
      "execution_count": null,
      "id": "a98350f5-32a6-4e24-972e-28e5e4b75eae",
      "metadata": {
        "id": "a98350f5-32a6-4e24-972e-28e5e4b75eae",
        "outputId": "d1bf17e9-1df1-4458-9cf3-8630a9bfd500"
      },
      "outputs": [
        {
          "name": "stdout",
          "output_type": "stream",
          "text": [
            "Archive:  weball16.zip\n",
            "  Length      Date    Time    Name\n",
            "---------  ---------- -----   ----\n",
            "   362051  2021-11-01 06:20   weball16.txt\n",
            "---------                     -------\n",
            "   362051                     1 file\n"
          ]
        }
      ],
      "source": [
        "!unzip -l weball16.zip"
      ]
    },
    {
      "cell_type": "code",
      "execution_count": null,
      "id": "18e8c325-42ff-4e5b-afab-f52da68af6f0",
      "metadata": {
        "id": "18e8c325-42ff-4e5b-afab-f52da68af6f0",
        "outputId": "a9af615d-6bde-40ea-980b-956053b635ff"
      },
      "outputs": [
        {
          "name": "stdout",
          "output_type": "stream",
          "text": [
            "Archive:  weball16.zip\n",
            "  inflating: weball16.txt            \n"
          ]
        }
      ],
      "source": [
        "!unzip weball16.zip"
      ]
    },
    {
      "cell_type": "code",
      "execution_count": null,
      "id": "fe521689-a73a-4b75-9e1a-90b42709dc93",
      "metadata": {
        "id": "fe521689-a73a-4b75-9e1a-90b42709dc93",
        "outputId": "178bde72-6aaf-4921-e0c2-b53245be491e"
      },
      "outputs": [
        {
          "name": "stdout",
          "output_type": "stream",
          "text": [
            "H4AK00123|DUNBAR, FORREST|C|1|DEM|550|0|7563.97|0|7367.75|353.78|0|0|0|0|0|0|0|AK|00||||||0|0|01/27/2016|0|0\n",
            "H0AK00097|COX, JOHN R.|C|2|REP|0|0|0|0|0|0|0|0|0|0|0|0|0|AK|00||||||0|0|07/18/2016|0|0\n",
            "H6AK00045|YOUNG, DONALD E|I|2|REP|1103561.86|0|1322055.12|0|488220.12|269726.86|0|0|0|0|0|0|640393.04|AK|00||||||459603.99|0|12/31/2016|2250|3000\n",
            "H8AK00116|LEDOUX, GABRIELLE R|C|2|REP|0|0|0|0|479|479|0|0|0|0|0|366000|0|AK|00||||||0|0|12/31/2016|0|0\n",
            "H6AK00235|LINDBECK, STEVE||1|DEM|1102309.77|0|1098098.09|0|0|4211.68|17555|0|0|0|0|10800|999400.98|AK|||||||67074.61|5000|12/31/2016|884.01|0\n",
            "H4AL01123|BYRNE, BRADLEY ROBERTS|I|2|REP|1367469.77|33152|1172750.28|0|251598.84|446318.33|0|0|0|0|0|0|491117.77|AL|01||||||843200|0|12/31/2016|1100|0\n",
            "H4AL01149|FINCHER, CHAD|C|2|REP|0|0|0|0|1904.14|1904.14|0|0|0|0|0|38000|0|AL|01||||||0|0|06/30/2015|0|0\n",
            "H6AL01060|YOUNG JR, LARRY DEAN|C|2|REP|178766.88|0|178474.16|0|0|0|0|159000|0|0|0|0|19766.88|AL|01||||||0|0|04/14/2016|0|0\n",
            "H6AL02167|MATHIS, NATHAN|C|1|DEM|36844|0|36844|0|0|0|0|36844|0|0|0|19757|0|AL|02||||||0|0|11/16/2016|0|0\n",
            "H0AL02087|ROBY, MARTHA|I|2|REP|1404260.12|0|1850535.64|0|491726.24|45450.72|0|0|0|0|0|0|574878.88|AL|02||||||828775|0|12/31/2016|17550|4283.03\n"
          ]
        }
      ],
      "source": [
        "!head weball16.txt"
      ]
    },
    {
      "cell_type": "markdown",
      "id": "2ca07ff5-8c59-4974-b8e3-46454384d5f6",
      "metadata": {
        "id": "2ca07ff5-8c59-4974-b8e3-46454384d5f6"
      },
      "source": [
        "* Convert text file to csv file"
      ]
    },
    {
      "cell_type": "code",
      "execution_count": null,
      "id": "9e4f7d98-756d-4824-b199-8a722be030f8",
      "metadata": {
        "tags": [],
        "id": "9e4f7d98-756d-4824-b199-8a722be030f8"
      },
      "outputs": [],
      "source": [
        "!csvformat -d '|' weball16.txt > weball16.csv"
      ]
    },
    {
      "cell_type": "markdown",
      "id": "bbd1e49d-eaf6-4e1c-90f7-e9a3f74bb9b2",
      "metadata": {
        "id": "bbd1e49d-eaf6-4e1c-90f7-e9a3f74bb9b2"
      },
      "source": [
        "* Count the number of rows in the data file."
      ]
    },
    {
      "cell_type": "code",
      "execution_count": null,
      "id": "ca5aa781-f6fc-489b-b8fe-62318e908322",
      "metadata": {
        "id": "ca5aa781-f6fc-489b-b8fe-62318e908322",
        "outputId": "a86e015f-18fe-4bfb-807c-7cda64cfc4dd"
      },
      "outputs": [
        {
          "name": "stdout",
          "output_type": "stream",
          "text": [
            "2906 weball16.csv\n"
          ]
        }
      ],
      "source": [
        "!wc -l weball16.csv"
      ]
    },
    {
      "cell_type": "markdown",
      "id": "ee1e827c-5453-4016-b1c9-066d3a1fee6f",
      "metadata": {
        "id": "ee1e827c-5453-4016-b1c9-066d3a1fee6f"
      },
      "source": [
        "* Load data into the database."
      ]
    },
    {
      "cell_type": "code",
      "execution_count": null,
      "id": "2551a126-c0bd-41b3-8144-386f26fed3c9",
      "metadata": {
        "id": "2551a126-c0bd-41b3-8144-386f26fed3c9",
        "outputId": "6c603629-0b9c-4926-88b4-48a3a9c128b8"
      },
      "outputs": [
        {
          "name": "stdout",
          "output_type": "stream",
          "text": [
            "/home/ubuntu/Exercise  2 (Group)\n"
          ]
        }
      ],
      "source": [
        "!pwd"
      ]
    },
    {
      "cell_type": "code",
      "execution_count": null,
      "id": "ad7c03fd-f04a-403d-8925-e999efdfe1df",
      "metadata": {
        "id": "ad7c03fd-f04a-403d-8925-e999efdfe1df",
        "outputId": "f6c25def-3cff-4f6d-db2a-045f64f7e4d0"
      },
      "outputs": [
        {
          "name": "stdout",
          "output_type": "stream",
          "text": [
            " * postgresql://student@/candidate\n",
            "2906 rows affected.\n"
          ]
        },
        {
          "data": {
            "text/plain": [
              "[]"
            ]
          },
          "execution_count": 92,
          "metadata": {},
          "output_type": "execute_result"
        }
      ],
      "source": [
        "%%sql\n",
        "COPY CAND_FINANCIAL FROM '/home/ubuntu/Exercise  2 (Group)/weball16.csv'\n",
        "CSV;"
      ]
    },
    {
      "cell_type": "markdown",
      "id": "6f9acf1c-b84a-4de3-b4dc-3a62d2d2a001",
      "metadata": {
        "id": "6f9acf1c-b84a-4de3-b4dc-3a62d2d2a001"
      },
      "source": [
        "* Count the rows in 'CAND_FINANCIAL' table to check if all data has been loaded successfully: the number of rows are same since there is no header file for the data file."
      ]
    },
    {
      "cell_type": "code",
      "execution_count": null,
      "id": "49d8ae42-079d-4107-b458-876cb9ed04a0",
      "metadata": {
        "id": "49d8ae42-079d-4107-b458-876cb9ed04a0",
        "outputId": "39ef3595-5e36-4fbb-ff01-7195f9e3910b"
      },
      "outputs": [
        {
          "name": "stdout",
          "output_type": "stream",
          "text": [
            " * postgresql://student@/candidate\n",
            "1 rows affected.\n"
          ]
        },
        {
          "data": {
            "text/html": [
              "<table>\n",
              "    <thead>\n",
              "        <tr>\n",
              "            <th>count</th>\n",
              "        </tr>\n",
              "    </thead>\n",
              "    <tbody>\n",
              "        <tr>\n",
              "            <td>2906</td>\n",
              "        </tr>\n",
              "    </tbody>\n",
              "</table>"
            ],
            "text/plain": [
              "[(2906,)]"
            ]
          },
          "execution_count": 93,
          "metadata": {},
          "output_type": "execute_result"
        }
      ],
      "source": [
        "%%sql\n",
        "SELECT COUNT(*)\n",
        "FROM CAND_FINANCIAL"
      ]
    },
    {
      "cell_type": "markdown",
      "id": "98705566-46bd-4f06-bf59-7f8aa31b627f",
      "metadata": {
        "id": "98705566-46bd-4f06-bf59-7f8aa31b627f"
      },
      "source": [
        "* View the table to check if the data format is identical to that of the original data file."
      ]
    },
    {
      "cell_type": "code",
      "execution_count": null,
      "id": "d04102f7-a17f-4abc-a29a-459193994353",
      "metadata": {
        "id": "d04102f7-a17f-4abc-a29a-459193994353",
        "outputId": "d47e46af-30cf-4d1d-93f4-33164166004f"
      },
      "outputs": [
        {
          "name": "stdout",
          "output_type": "stream",
          "text": [
            " * postgresql://student@/candidate\n",
            "5 rows affected.\n"
          ]
        },
        {
          "data": {
            "text/html": [
              "<table>\n",
              "    <thead>\n",
              "        <tr>\n",
              "            <th>cand_id</th>\n",
              "            <th>cand_name</th>\n",
              "            <th>cand_ici</th>\n",
              "            <th>pty_cd</th>\n",
              "            <th>cand_pty_affiliation</th>\n",
              "            <th>ttl_receipts</th>\n",
              "            <th>trans_from_auth</th>\n",
              "            <th>ttl_disb</th>\n",
              "            <th>trans_to_auth</th>\n",
              "            <th>coh_bop</th>\n",
              "            <th>coh_cop</th>\n",
              "            <th>cand_contrib</th>\n",
              "            <th>cand_loans</th>\n",
              "            <th>other_loans</th>\n",
              "            <th>cand_loan_repay</th>\n",
              "            <th>other_loan_repay</th>\n",
              "            <th>debts_owed_by</th>\n",
              "            <th>ttl_indiv_contrib</th>\n",
              "            <th>cand_office_st</th>\n",
              "            <th>cand_office_district</th>\n",
              "            <th>spec_election</th>\n",
              "            <th>prim_election</th>\n",
              "            <th>run_election</th>\n",
              "            <th>gen_election</th>\n",
              "            <th>gen_election_precent</th>\n",
              "            <th>other_pol_cmte_contrib</th>\n",
              "            <th>pol_pty_contrib</th>\n",
              "            <th>cvg_end_dt</th>\n",
              "            <th>indiv_refunds</th>\n",
              "            <th>cmte_refunds</th>\n",
              "        </tr>\n",
              "    </thead>\n",
              "    <tbody>\n",
              "        <tr>\n",
              "            <td>H4AK00123</td>\n",
              "            <td>DUNBAR, FORREST</td>\n",
              "            <td>C</td>\n",
              "            <td>1</td>\n",
              "            <td>DEM</td>\n",
              "            <td>550.00</td>\n",
              "            <td>0.00</td>\n",
              "            <td>7563.97</td>\n",
              "            <td>0.00</td>\n",
              "            <td>7367.75</td>\n",
              "            <td>353.78</td>\n",
              "            <td>0.00</td>\n",
              "            <td>0.00</td>\n",
              "            <td>0.00</td>\n",
              "            <td>0.00</td>\n",
              "            <td>0.00</td>\n",
              "            <td>0.00</td>\n",
              "            <td>0.00</td>\n",
              "            <td>AK</td>\n",
              "            <td>00</td>\n",
              "            <td>None</td>\n",
              "            <td>None</td>\n",
              "            <td>None</td>\n",
              "            <td>None</td>\n",
              "            <td>None</td>\n",
              "            <td>0.00</td>\n",
              "            <td>0.00</td>\n",
              "            <td>2016-01-27</td>\n",
              "            <td>0.00</td>\n",
              "            <td>0.00</td>\n",
              "        </tr>\n",
              "        <tr>\n",
              "            <td>H0AK00097</td>\n",
              "            <td>COX, JOHN R.</td>\n",
              "            <td>C</td>\n",
              "            <td>2</td>\n",
              "            <td>REP</td>\n",
              "            <td>0.00</td>\n",
              "            <td>0.00</td>\n",
              "            <td>0.00</td>\n",
              "            <td>0.00</td>\n",
              "            <td>0.00</td>\n",
              "            <td>0.00</td>\n",
              "            <td>0.00</td>\n",
              "            <td>0.00</td>\n",
              "            <td>0.00</td>\n",
              "            <td>0.00</td>\n",
              "            <td>0.00</td>\n",
              "            <td>0.00</td>\n",
              "            <td>0.00</td>\n",
              "            <td>AK</td>\n",
              "            <td>00</td>\n",
              "            <td>None</td>\n",
              "            <td>None</td>\n",
              "            <td>None</td>\n",
              "            <td>None</td>\n",
              "            <td>None</td>\n",
              "            <td>0.00</td>\n",
              "            <td>0.00</td>\n",
              "            <td>2016-07-18</td>\n",
              "            <td>0.00</td>\n",
              "            <td>0.00</td>\n",
              "        </tr>\n",
              "        <tr>\n",
              "            <td>H6AK00045</td>\n",
              "            <td>YOUNG, DONALD E</td>\n",
              "            <td>I</td>\n",
              "            <td>2</td>\n",
              "            <td>REP</td>\n",
              "            <td>1103561.86</td>\n",
              "            <td>0.00</td>\n",
              "            <td>1322055.12</td>\n",
              "            <td>0.00</td>\n",
              "            <td>488220.12</td>\n",
              "            <td>269726.86</td>\n",
              "            <td>0.00</td>\n",
              "            <td>0.00</td>\n",
              "            <td>0.00</td>\n",
              "            <td>0.00</td>\n",
              "            <td>0.00</td>\n",
              "            <td>0.00</td>\n",
              "            <td>640393.04</td>\n",
              "            <td>AK</td>\n",
              "            <td>00</td>\n",
              "            <td>None</td>\n",
              "            <td>None</td>\n",
              "            <td>None</td>\n",
              "            <td>None</td>\n",
              "            <td>None</td>\n",
              "            <td>459603.99</td>\n",
              "            <td>0.00</td>\n",
              "            <td>2016-12-31</td>\n",
              "            <td>2250.00</td>\n",
              "            <td>3000.00</td>\n",
              "        </tr>\n",
              "        <tr>\n",
              "            <td>H8AK00116</td>\n",
              "            <td>LEDOUX, GABRIELLE R</td>\n",
              "            <td>C</td>\n",
              "            <td>2</td>\n",
              "            <td>REP</td>\n",
              "            <td>0.00</td>\n",
              "            <td>0.00</td>\n",
              "            <td>0.00</td>\n",
              "            <td>0.00</td>\n",
              "            <td>479.00</td>\n",
              "            <td>479.00</td>\n",
              "            <td>0.00</td>\n",
              "            <td>0.00</td>\n",
              "            <td>0.00</td>\n",
              "            <td>0.00</td>\n",
              "            <td>0.00</td>\n",
              "            <td>366000.00</td>\n",
              "            <td>0.00</td>\n",
              "            <td>AK</td>\n",
              "            <td>00</td>\n",
              "            <td>None</td>\n",
              "            <td>None</td>\n",
              "            <td>None</td>\n",
              "            <td>None</td>\n",
              "            <td>None</td>\n",
              "            <td>0.00</td>\n",
              "            <td>0.00</td>\n",
              "            <td>2016-12-31</td>\n",
              "            <td>0.00</td>\n",
              "            <td>0.00</td>\n",
              "        </tr>\n",
              "        <tr>\n",
              "            <td>H6AK00235</td>\n",
              "            <td>LINDBECK, STEVE</td>\n",
              "            <td>None</td>\n",
              "            <td>1</td>\n",
              "            <td>DEM</td>\n",
              "            <td>1102309.77</td>\n",
              "            <td>0.00</td>\n",
              "            <td>1098098.09</td>\n",
              "            <td>0.00</td>\n",
              "            <td>0.00</td>\n",
              "            <td>4211.68</td>\n",
              "            <td>17555.00</td>\n",
              "            <td>0.00</td>\n",
              "            <td>0.00</td>\n",
              "            <td>0.00</td>\n",
              "            <td>0.00</td>\n",
              "            <td>10800.00</td>\n",
              "            <td>999400.98</td>\n",
              "            <td>AK</td>\n",
              "            <td>None</td>\n",
              "            <td>None</td>\n",
              "            <td>None</td>\n",
              "            <td>None</td>\n",
              "            <td>None</td>\n",
              "            <td>None</td>\n",
              "            <td>67074.61</td>\n",
              "            <td>5000.00</td>\n",
              "            <td>2016-12-31</td>\n",
              "            <td>884.01</td>\n",
              "            <td>0.00</td>\n",
              "        </tr>\n",
              "    </tbody>\n",
              "</table>"
            ],
            "text/plain": [
              "[('H4AK00123', 'DUNBAR, FORREST', 'C', '1', 'DEM', Decimal('550.00'), Decimal('0.00'), Decimal('7563.97'), Decimal('0.00'), Decimal('7367.75'), Decimal('353.78'), Decimal('0.00'), Decimal('0.00'), Decimal('0.00'), Decimal('0.00'), Decimal('0.00'), Decimal('0.00'), Decimal('0.00'), 'AK', '00', None, None, None, None, None, Decimal('0.00'), Decimal('0.00'), datetime.date(2016, 1, 27), Decimal('0.00'), Decimal('0.00')),\n",
              " ('H0AK00097', 'COX, JOHN R.', 'C', '2', 'REP', Decimal('0.00'), Decimal('0.00'), Decimal('0.00'), Decimal('0.00'), Decimal('0.00'), Decimal('0.00'), Decimal('0.00'), Decimal('0.00'), Decimal('0.00'), Decimal('0.00'), Decimal('0.00'), Decimal('0.00'), Decimal('0.00'), 'AK', '00', None, None, None, None, None, Decimal('0.00'), Decimal('0.00'), datetime.date(2016, 7, 18), Decimal('0.00'), Decimal('0.00')),\n",
              " ('H6AK00045', 'YOUNG, DONALD E', 'I', '2', 'REP', Decimal('1103561.86'), Decimal('0.00'), Decimal('1322055.12'), Decimal('0.00'), Decimal('488220.12'), Decimal('269726.86'), Decimal('0.00'), Decimal('0.00'), Decimal('0.00'), Decimal('0.00'), Decimal('0.00'), Decimal('0.00'), Decimal('640393.04'), 'AK', '00', None, None, None, None, None, Decimal('459603.99'), Decimal('0.00'), datetime.date(2016, 12, 31), Decimal('2250.00'), Decimal('3000.00')),\n",
              " ('H8AK00116', 'LEDOUX, GABRIELLE R', 'C', '2', 'REP', Decimal('0.00'), Decimal('0.00'), Decimal('0.00'), Decimal('0.00'), Decimal('479.00'), Decimal('479.00'), Decimal('0.00'), Decimal('0.00'), Decimal('0.00'), Decimal('0.00'), Decimal('0.00'), Decimal('366000.00'), Decimal('0.00'), 'AK', '00', None, None, None, None, None, Decimal('0.00'), Decimal('0.00'), datetime.date(2016, 12, 31), Decimal('0.00'), Decimal('0.00')),\n",
              " ('H6AK00235', 'LINDBECK, STEVE', None, '1', 'DEM', Decimal('1102309.77'), Decimal('0.00'), Decimal('1098098.09'), Decimal('0.00'), Decimal('0.00'), Decimal('4211.68'), Decimal('17555.00'), Decimal('0.00'), Decimal('0.00'), Decimal('0.00'), Decimal('0.00'), Decimal('10800.00'), Decimal('999400.98'), 'AK', None, None, None, None, None, None, Decimal('67074.61'), Decimal('5000.00'), datetime.date(2016, 12, 31), Decimal('884.01'), Decimal('0.00'))]"
            ]
          },
          "execution_count": 94,
          "metadata": {},
          "output_type": "execute_result"
        }
      ],
      "source": [
        "%%sql\n",
        "SELECT *\n",
        "FROM CAND_FINANCIAL\n",
        "LIMIT 5;\n"
      ]
    },
    {
      "cell_type": "markdown",
      "id": "1675cd02-aaf0-4e8d-9824-e4fc206589d5",
      "metadata": {
        "id": "1675cd02-aaf0-4e8d-9824-e4fc206589d5"
      },
      "source": [
        "## Linkage Table"
      ]
    },
    {
      "cell_type": "markdown",
      "id": "ec441016-ee01-4c8a-b073-a87cec21f35f",
      "metadata": {
        "tags": [],
        "id": "ec441016-ee01-4c8a-b073-a87cec21f35f"
      },
      "source": [
        "* Create 'cclinkages' table with all of its attributes and the type of data of each attribute."
      ]
    },
    {
      "cell_type": "code",
      "execution_count": null,
      "id": "bf0fea7a-595c-4b26-8cf1-6d5e935fccfa",
      "metadata": {
        "id": "bf0fea7a-595c-4b26-8cf1-6d5e935fccfa",
        "outputId": "47f85a62-ce01-43d6-c947-bcb733017ece"
      },
      "outputs": [
        {
          "name": "stdout",
          "output_type": "stream",
          "text": [
            " * postgresql://student@/candidate\n",
            "Done.\n",
            "Done.\n"
          ]
        },
        {
          "data": {
            "text/plain": [
              "[]"
            ]
          },
          "execution_count": 95,
          "metadata": {},
          "output_type": "execute_result"
        }
      ],
      "source": [
        "%%sql\n",
        "DROP TABLE IF EXISTS cclinkages Cascade;\n",
        "create TABLE  cclinkages (CAND_ID varchar(9) NOT NULL, \n",
        "                          CAND_ELECTION_YR numeric(4) NOT NULL, \n",
        "                          FEC_ELECTION_YR numeric(4) NOT NULL, \n",
        "                          CMTE_ID varchar(9), \n",
        "                          CMTE_TP varchar(1), \n",
        "                          CMTE_DSGN varchar(1) Check (CMTE_DSGN in('A', 'B', 'D', 'J', 'P' ,'U')), \n",
        "                          LINKAGE_ID numeric(12) NOT NULL,\n",
        "                          PRIMARY KEY (LINKAGE_ID, CAND_ID)\n",
        "                         );\n"
      ]
    },
    {
      "cell_type": "markdown",
      "id": "db9db41c-8d30-4099-ad2b-9366f6f47097",
      "metadata": {
        "id": "db9db41c-8d30-4099-ad2b-9366f6f47097"
      },
      "source": [
        "* Add explanation of what data the 'cclinkages' table contains."
      ]
    },
    {
      "cell_type": "code",
      "execution_count": null,
      "id": "30a6658e-b812-4794-b006-945b8b779bb4",
      "metadata": {
        "id": "30a6658e-b812-4794-b006-945b8b779bb4",
        "outputId": "64da5c97-a989-4e97-91ff-6b9054a61723"
      },
      "outputs": [
        {
          "name": "stdout",
          "output_type": "stream",
          "text": [
            " * postgresql://student@/candidate\n",
            "Done.\n"
          ]
        },
        {
          "data": {
            "text/plain": [
              "[]"
            ]
          },
          "execution_count": 96,
          "metadata": {},
          "output_type": "execute_result"
        }
      ],
      "source": [
        "%%sql\n",
        "COMMENT ON TABLE cclinkages IS \n",
        "'Candidate-committee linkages (CCL16) 2015-16: links entities (1) and (2). It contains one record for each candidate to committee linkage';"
      ]
    },
    {
      "cell_type": "markdown",
      "id": "e6da8f7c-bd11-4082-af1f-e09178166b5b",
      "metadata": {
        "id": "e6da8f7c-bd11-4082-af1f-e09178166b5b"
      },
      "source": [
        "* Add explanation of what each attribute (column) means in the 'CAND_FINANCIAL' table."
      ]
    },
    {
      "cell_type": "code",
      "execution_count": null,
      "id": "41fdf5a3-e040-4f8e-bc19-b52a50072c9a",
      "metadata": {
        "id": "41fdf5a3-e040-4f8e-bc19-b52a50072c9a",
        "outputId": "9703124a-2ef0-423c-e064-652164dc90b5"
      },
      "outputs": [
        {
          "name": "stdout",
          "output_type": "stream",
          "text": [
            " * postgresql://student@/candidate\n",
            "Done.\n",
            "Done.\n",
            "Done.\n",
            "Done.\n",
            "Done.\n",
            "Done.\n",
            "Done.\n"
          ]
        },
        {
          "data": {
            "text/plain": [
              "[]"
            ]
          },
          "execution_count": 97,
          "metadata": {},
          "output_type": "execute_result"
        }
      ],
      "source": [
        "%%sql\n",
        "COMMENT ON COLUMN cclinkages.CAND_ID IS 'Candidate identification';\n",
        "COMMENT ON COLUMN cclinkages.CAND_ELECTION_YR IS 'Candidate election year';\n",
        "COMMENT ON COLUMN cclinkages.FEC_ELECTION_YR IS 'FEC election year';\n",
        "COMMENT ON COLUMN cclinkages.CMTE_ID IS 'Committe identification';\n",
        "COMMENT ON COLUMN cclinkages.CMTE_TP IS 'Committee type';\n",
        "COMMENT ON COLUMN cclinkages.CMTE_DSGN IS 'Comittee designation';\n",
        "COMMENT ON COLUMN cclinkages.LINKAGE_ID IS 'Linkage ID';"
      ]
    },
    {
      "cell_type": "markdown",
      "id": "d60add10-e6ba-4c8f-9286-ac979ec9af67",
      "metadata": {
        "id": "d60add10-e6ba-4c8f-9286-ac979ec9af67"
      },
      "source": [
        "* Get the header and bulk data file."
      ]
    },
    {
      "cell_type": "code",
      "execution_count": null,
      "id": "8a816ff6-0e09-4dd3-a1c9-2d1206ec5fe5",
      "metadata": {
        "id": "8a816ff6-0e09-4dd3-a1c9-2d1206ec5fe5",
        "outputId": "d7b8096f-ff11-40dd-b12c-7aa74890dae1"
      },
      "outputs": [
        {
          "name": "stdout",
          "output_type": "stream",
          "text": [
            "--2021-11-01 17:33:23--  https://www.fec.gov/files/bulk-downloads/data_dictionaries/ccl_header_file.csv\n",
            "Resolving www.fec.gov (www.fec.gov)... 99.84.191.44, 99.84.191.118, 99.84.191.105, ...\n",
            "Connecting to www.fec.gov (www.fec.gov)|99.84.191.44|:443... connected.\n",
            "HTTP request sent, awaiting response... 302 Moved Temporarily\n",
            "Location: https://cg-519a459a-0ea3-42c2-b7bc-fa1143481f74.s3-us-gov-west-1.amazonaws.com/bulk-downloads/data_dictionaries/ccl_header_file.csv [following]\n",
            "--2021-11-01 17:33:23--  https://cg-519a459a-0ea3-42c2-b7bc-fa1143481f74.s3-us-gov-west-1.amazonaws.com/bulk-downloads/data_dictionaries/ccl_header_file.csv\n",
            "Resolving cg-519a459a-0ea3-42c2-b7bc-fa1143481f74.s3-us-gov-west-1.amazonaws.com (cg-519a459a-0ea3-42c2-b7bc-fa1143481f74.s3-us-gov-west-1.amazonaws.com)... 108.175.49.56\n",
            "Connecting to cg-519a459a-0ea3-42c2-b7bc-fa1143481f74.s3-us-gov-west-1.amazonaws.com (cg-519a459a-0ea3-42c2-b7bc-fa1143481f74.s3-us-gov-west-1.amazonaws.com)|108.175.49.56|:443... connected.\n",
            "HTTP request sent, awaiting response... 200 OK\n",
            "Length: 79 [binary/octet-stream]\n",
            "Saving to: ‘ccl_header_file.csv’\n",
            "\n",
            "ccl_header_file.csv 100%[===================>]      79  --.-KB/s    in 0s      \n",
            "\n",
            "2021-11-01 17:33:23 (4.19 MB/s) - ‘ccl_header_file.csv’ saved [79/79]\n",
            "\n"
          ]
        }
      ],
      "source": [
        "!wget https://www.fec.gov/files/bulk-downloads/data_dictionaries/ccl_header_file.csv"
      ]
    },
    {
      "cell_type": "code",
      "execution_count": null,
      "id": "9eec4e8a-7499-4585-b395-1616db57f76b",
      "metadata": {
        "id": "9eec4e8a-7499-4585-b395-1616db57f76b",
        "outputId": "baf61102-1277-4ff9-9a73-88238369bb62"
      },
      "outputs": [
        {
          "name": "stdout",
          "output_type": "stream",
          "text": [
            "--2021-11-01 17:33:25--  https://www.fec.gov/files/bulk-downloads/2016/ccl16.zip\n",
            "Resolving www.fec.gov (www.fec.gov)... 99.84.191.44, 99.84.191.118, 99.84.191.105, ...\n",
            "Connecting to www.fec.gov (www.fec.gov)|99.84.191.44|:443... connected.\n",
            "HTTP request sent, awaiting response... 302 Moved Temporarily\n",
            "Location: https://cg-519a459a-0ea3-42c2-b7bc-fa1143481f74.s3-us-gov-west-1.amazonaws.com/bulk-downloads/2016/ccl16.zip [following]\n",
            "--2021-11-01 17:33:25--  https://cg-519a459a-0ea3-42c2-b7bc-fa1143481f74.s3-us-gov-west-1.amazonaws.com/bulk-downloads/2016/ccl16.zip\n",
            "Resolving cg-519a459a-0ea3-42c2-b7bc-fa1143481f74.s3-us-gov-west-1.amazonaws.com (cg-519a459a-0ea3-42c2-b7bc-fa1143481f74.s3-us-gov-west-1.amazonaws.com)... 108.175.49.56\n",
            "Connecting to cg-519a459a-0ea3-42c2-b7bc-fa1143481f74.s3-us-gov-west-1.amazonaws.com (cg-519a459a-0ea3-42c2-b7bc-fa1143481f74.s3-us-gov-west-1.amazonaws.com)|108.175.49.56|:443... connected.\n",
            "HTTP request sent, awaiting response... 200 OK\n",
            "Length: 66791 (65K) [application/zip]\n",
            "Saving to: ‘ccl16.zip’\n",
            "\n",
            "ccl16.zip           100%[===================>]  65.23K  --.-KB/s    in 0.1s    \n",
            "\n",
            "2021-11-01 17:33:25 (466 KB/s) - ‘ccl16.zip’ saved [66791/66791]\n",
            "\n"
          ]
        }
      ],
      "source": [
        "!wget https://www.fec.gov/files/bulk-downloads/2016/ccl16.zip"
      ]
    },
    {
      "cell_type": "code",
      "execution_count": null,
      "id": "392d60fc-fefb-47cc-8f18-5d7e507f0422",
      "metadata": {
        "id": "392d60fc-fefb-47cc-8f18-5d7e507f0422"
      },
      "outputs": [],
      "source": [
        "assert 'ccl_header_file.csv' in os.listdir()"
      ]
    },
    {
      "cell_type": "code",
      "execution_count": null,
      "id": "d26ac53a-10e9-4144-ba12-50c5e75ebbb5",
      "metadata": {
        "id": "d26ac53a-10e9-4144-ba12-50c5e75ebbb5"
      },
      "outputs": [],
      "source": [
        "assert 'ccl16.zip' in os.listdir()"
      ]
    },
    {
      "cell_type": "code",
      "execution_count": null,
      "id": "64ff5cd2-f70b-43b8-9428-97a263c613cb",
      "metadata": {
        "id": "64ff5cd2-f70b-43b8-9428-97a263c613cb",
        "outputId": "740d2d48-0bbc-4f48-9966-30a9cfb9a019"
      },
      "outputs": [
        {
          "name": "stdout",
          "output_type": "stream",
          "text": [
            "Archive:  ccl16.zip\n",
            "  Length      Date    Time    Name\n",
            "---------  ---------- -----   ----\n",
            "   262686  2020-12-31 07:36   ccl.txt\n",
            "---------                     -------\n",
            "   262686                     1 file\n"
          ]
        }
      ],
      "source": [
        "!unzip -l ccl16.zip"
      ]
    },
    {
      "cell_type": "code",
      "execution_count": null,
      "id": "0ca3c3df-49b2-4f26-b120-f9530e8c28c1",
      "metadata": {
        "id": "0ca3c3df-49b2-4f26-b120-f9530e8c28c1",
        "outputId": "023d3709-a2f9-48b8-b9a1-0490c3d8dd9f"
      },
      "outputs": [
        {
          "name": "stdout",
          "output_type": "stream",
          "text": [
            "Archive:  ccl16.zip\n",
            "  inflating: ccl.txt                 \n"
          ]
        }
      ],
      "source": [
        "!unzip ccl16.zip"
      ]
    },
    {
      "cell_type": "code",
      "execution_count": null,
      "id": "9b969a68-6079-4086-b5d6-594c80fca4ed",
      "metadata": {
        "id": "9b969a68-6079-4086-b5d6-594c80fca4ed",
        "outputId": "9d5edd7d-29fc-4433-a47d-2b24f2d28ae4"
      },
      "outputs": [
        {
          "name": "stdout",
          "output_type": "stream",
          "text": [
            "H0AK00097|2014|2016|C00525261|H|P|201860\n",
            "H0AL02087|2016|2016|C00462143|H|P|201861\n",
            "H0AL02087|2016|2016|C00493783|H|J|201862\n",
            "H0AL05049|2008|2016|C00239038|H|P|201863\n",
            "H0AL05163|2016|2016|C00464149|H|P|201864\n",
            "H0AL06088|2010|2016|C00464222|H|P|201865\n",
            "H0AL07086|2016|2016|C00458976|H|P|201866\n",
            "H0AL07094|2010|2016|C00460410|H|P|201867\n",
            "H0AL07177|2012|2016|C00482059|H|P|201868\n",
            "H0AR01083|2016|2016|C00462374|H|P|201869\n"
          ]
        }
      ],
      "source": [
        "!head ccl.txt"
      ]
    },
    {
      "cell_type": "markdown",
      "id": "d726c7e3-3062-4038-8781-8854d1f7e745",
      "metadata": {
        "id": "d726c7e3-3062-4038-8781-8854d1f7e745"
      },
      "source": [
        "* Convert text file to csv file."
      ]
    },
    {
      "cell_type": "code",
      "execution_count": null,
      "id": "a1fbcc6d-4207-4baa-be7c-298693806189",
      "metadata": {
        "id": "a1fbcc6d-4207-4baa-be7c-298693806189"
      },
      "outputs": [],
      "source": [
        "!csvformat -d '|' ccl.txt > ccl.csv"
      ]
    },
    {
      "cell_type": "markdown",
      "id": "5867155a-debf-4406-8bf4-22cc3f076072",
      "metadata": {
        "id": "5867155a-debf-4406-8bf4-22cc3f076072"
      },
      "source": [
        "* Stack files"
      ]
    },
    {
      "cell_type": "code",
      "execution_count": null,
      "id": "40b87311-3836-4371-a2f8-b9108ae1dd6a",
      "metadata": {
        "id": "40b87311-3836-4371-a2f8-b9108ae1dd6a"
      },
      "outputs": [],
      "source": [
        "!csvstack ccl_header_file.csv ccl.csv > ccl2.csv\n",
        "# Stack the files"
      ]
    },
    {
      "cell_type": "markdown",
      "id": "5e967d18-68b6-47c1-964c-265e878163f4",
      "metadata": {
        "id": "5e967d18-68b6-47c1-964c-265e878163f4"
      },
      "source": [
        "* Count the number of rows in the data file."
      ]
    },
    {
      "cell_type": "code",
      "execution_count": null,
      "id": "1cea4396-86a9-476d-8a0b-14a836592c24",
      "metadata": {
        "id": "1cea4396-86a9-476d-8a0b-14a836592c24",
        "outputId": "9ae941a4-7d53-4420-d677-b0f2a32b0ad1"
      },
      "outputs": [
        {
          "name": "stdout",
          "output_type": "stream",
          "text": [
            "6407 ccl2.csv\n"
          ]
        }
      ],
      "source": [
        "!wc -l ccl2.csv\n",
        "# This is the total row entry in the file"
      ]
    },
    {
      "cell_type": "markdown",
      "id": "636a3206-79a8-412c-87be-15dbfa138ef5",
      "metadata": {
        "id": "636a3206-79a8-412c-87be-15dbfa138ef5"
      },
      "source": [
        "* Check the column names of the data file."
      ]
    },
    {
      "cell_type": "code",
      "execution_count": null,
      "id": "fbe73bed-ad10-4ea9-aa07-d49a1f7bef01",
      "metadata": {
        "id": "fbe73bed-ad10-4ea9-aa07-d49a1f7bef01",
        "outputId": "9e7af7f2-05f2-47ce-e1ac-c4ae32189da8"
      },
      "outputs": [
        {
          "name": "stdout",
          "output_type": "stream",
          "text": [
            "  1: CAND_ID\n",
            "  2: CAND_ELECTION_YR\n",
            "  3: FEC_ELECTION_YR\n",
            "  4: CMTE_ID\n",
            "  5: CMTE_TP\n",
            "  6: CMTE_DSGN\n",
            "  7: LINKAGE_ID\n"
          ]
        }
      ],
      "source": [
        "!csvcut -n ccl2.csv"
      ]
    },
    {
      "cell_type": "markdown",
      "id": "e35d5ecd-4c69-446c-9768-254ab492338b",
      "metadata": {
        "id": "e35d5ecd-4c69-446c-9768-254ab492338b"
      },
      "source": [
        "* Load data into the database."
      ]
    },
    {
      "cell_type": "code",
      "execution_count": null,
      "id": "d8cfb916-1872-4649-9f46-465c3d22cb8b",
      "metadata": {
        "id": "d8cfb916-1872-4649-9f46-465c3d22cb8b",
        "outputId": "9a514302-3f23-4595-9389-b0c742ebfd1f"
      },
      "outputs": [
        {
          "name": "stdout",
          "output_type": "stream",
          "text": [
            "/home/ubuntu/Exercise  2 (Group)\n"
          ]
        }
      ],
      "source": [
        "!pwd"
      ]
    },
    {
      "cell_type": "code",
      "execution_count": null,
      "id": "6fc98e2a-3b00-45c0-af68-b4832f48fe17",
      "metadata": {
        "id": "6fc98e2a-3b00-45c0-af68-b4832f48fe17",
        "outputId": "2069bf46-3231-4b47-b295-633437d8a399"
      },
      "outputs": [
        {
          "name": "stdout",
          "output_type": "stream",
          "text": [
            " * postgresql://student@/candidate\n",
            "6406 rows affected.\n"
          ]
        },
        {
          "data": {
            "text/plain": [
              "[]"
            ]
          },
          "execution_count": 110,
          "metadata": {},
          "output_type": "execute_result"
        }
      ],
      "source": [
        "%%sql\n",
        "COPY cclinkages FROM '/home/ubuntu/Exercise  2 (Group)/ccl2.csv'\n",
        "CSV\n",
        "HEADER;"
      ]
    },
    {
      "cell_type": "markdown",
      "id": "bf1edbf2-80a2-44d0-9ab5-b1cd32a5cdbb",
      "metadata": {
        "id": "bf1edbf2-80a2-44d0-9ab5-b1cd32a5cdbb"
      },
      "source": [
        "* Count the rows in 'cclinkages' table to check if all data has been loaded successfully: the number of rows affected is one less than the number of rows in the data file, because the header is not affected."
      ]
    },
    {
      "cell_type": "code",
      "execution_count": null,
      "id": "81556579-46ab-4e50-8db6-748589faccfc",
      "metadata": {
        "id": "81556579-46ab-4e50-8db6-748589faccfc",
        "outputId": "0fb9a8f9-2cb2-469a-c53c-cf713d1030ca"
      },
      "outputs": [
        {
          "name": "stdout",
          "output_type": "stream",
          "text": [
            " * postgresql://student@/candidate\n",
            "1 rows affected.\n"
          ]
        },
        {
          "data": {
            "text/html": [
              "<table>\n",
              "    <thead>\n",
              "        <tr>\n",
              "            <th>count</th>\n",
              "        </tr>\n",
              "    </thead>\n",
              "    <tbody>\n",
              "        <tr>\n",
              "            <td>6406</td>\n",
              "        </tr>\n",
              "    </tbody>\n",
              "</table>"
            ],
            "text/plain": [
              "[(6406,)]"
            ]
          },
          "execution_count": 111,
          "metadata": {},
          "output_type": "execute_result"
        }
      ],
      "source": [
        "%%sql\n",
        "SELECT COUNT(*) FROM cclinkages;"
      ]
    },
    {
      "cell_type": "markdown",
      "id": "eab85c4c-708a-4aba-b514-ddaee25f1ff7",
      "metadata": {
        "id": "eab85c4c-708a-4aba-b514-ddaee25f1ff7"
      },
      "source": [
        "* View the table to check if the data format is identical to that of the original data file."
      ]
    },
    {
      "cell_type": "code",
      "execution_count": null,
      "id": "12e54027-5b7d-4fe1-8cb2-094a06f5b890",
      "metadata": {
        "id": "12e54027-5b7d-4fe1-8cb2-094a06f5b890",
        "outputId": "8a2d02bf-bf4f-4a2a-da26-926e60602275"
      },
      "outputs": [
        {
          "name": "stdout",
          "output_type": "stream",
          "text": [
            " * postgresql://student@/candidate\n",
            "5 rows affected.\n"
          ]
        },
        {
          "data": {
            "text/html": [
              "<table>\n",
              "    <thead>\n",
              "        <tr>\n",
              "            <th>cand_id</th>\n",
              "            <th>cand_election_yr</th>\n",
              "            <th>fec_election_yr</th>\n",
              "            <th>cmte_id</th>\n",
              "            <th>cmte_tp</th>\n",
              "            <th>cmte_dsgn</th>\n",
              "            <th>linkage_id</th>\n",
              "        </tr>\n",
              "    </thead>\n",
              "    <tbody>\n",
              "        <tr>\n",
              "            <td>H0AL02087</td>\n",
              "            <td>2016</td>\n",
              "            <td>2016</td>\n",
              "            <td>C00462143</td>\n",
              "            <td>H</td>\n",
              "            <td>P</td>\n",
              "            <td>201861</td>\n",
              "        </tr>\n",
              "        <tr>\n",
              "            <td>H0AL02087</td>\n",
              "            <td>2016</td>\n",
              "            <td>2016</td>\n",
              "            <td>C00493783</td>\n",
              "            <td>H</td>\n",
              "            <td>J</td>\n",
              "            <td>201862</td>\n",
              "        </tr>\n",
              "        <tr>\n",
              "            <td>H0AL05049</td>\n",
              "            <td>2008</td>\n",
              "            <td>2016</td>\n",
              "            <td>C00239038</td>\n",
              "            <td>H</td>\n",
              "            <td>P</td>\n",
              "            <td>201863</td>\n",
              "        </tr>\n",
              "        <tr>\n",
              "            <td>H0AL05163</td>\n",
              "            <td>2016</td>\n",
              "            <td>2016</td>\n",
              "            <td>C00464149</td>\n",
              "            <td>H</td>\n",
              "            <td>P</td>\n",
              "            <td>201864</td>\n",
              "        </tr>\n",
              "        <tr>\n",
              "            <td>H0AL06088</td>\n",
              "            <td>2010</td>\n",
              "            <td>2016</td>\n",
              "            <td>C00464222</td>\n",
              "            <td>H</td>\n",
              "            <td>P</td>\n",
              "            <td>201865</td>\n",
              "        </tr>\n",
              "    </tbody>\n",
              "</table>"
            ],
            "text/plain": [
              "[('H0AL02087', Decimal('2016'), Decimal('2016'), 'C00462143', 'H', 'P', Decimal('201861')),\n",
              " ('H0AL02087', Decimal('2016'), Decimal('2016'), 'C00493783', 'H', 'J', Decimal('201862')),\n",
              " ('H0AL05049', Decimal('2008'), Decimal('2016'), 'C00239038', 'H', 'P', Decimal('201863')),\n",
              " ('H0AL05163', Decimal('2016'), Decimal('2016'), 'C00464149', 'H', 'P', Decimal('201864')),\n",
              " ('H0AL06088', Decimal('2010'), Decimal('2016'), 'C00464222', 'H', 'P', Decimal('201865'))]"
            ]
          },
          "execution_count": 112,
          "metadata": {},
          "output_type": "execute_result"
        }
      ],
      "source": [
        "%%sql\n",
        "SELECT * FROM cclinkages\n",
        "LIMIT 5;"
      ]
    },
    {
      "cell_type": "markdown",
      "id": "3f9f7001-6c96-4162-a2e0-8f0a99ee4377",
      "metadata": {
        "tags": [],
        "id": "3f9f7001-6c96-4162-a2e0-8f0a99ee4377"
      },
      "source": [
        "## Adding Foreign Keys"
      ]
    },
    {
      "cell_type": "markdown",
      "id": "59866f2a-b36f-442c-9571-27561a69f55f",
      "metadata": {
        "id": "59866f2a-b36f-442c-9571-27561a69f55f"
      },
      "source": [
        "* Make 'CAND_ID' as a foreign key in table 'cclinkages' and connect with those attributes in the 'CANDIDATE' table."
      ]
    },
    {
      "cell_type": "code",
      "execution_count": null,
      "id": "4bacb1c0-aab0-4287-90ed-70a63ec41e55",
      "metadata": {
        "tags": [],
        "id": "4bacb1c0-aab0-4287-90ed-70a63ec41e55"
      },
      "outputs": [],
      "source": [
        "%%sql\n",
        "--ALTER TABLE cclinkages add FOREIGN KEY(CAND_ID) references CANDIDATE (CAND_ID) ON DELETE CASCADE;"
      ]
    },
    {
      "cell_type": "markdown",
      "id": "3299c165-479c-43bd-b9e3-b089e157c7c7",
      "metadata": {
        "id": "3299c165-479c-43bd-b9e3-b089e157c7c7"
      },
      "source": [
        "* Make 'CMTE_ID' as a foreign key in table 'cclinkages' and connect with those attributes in the 'COMMITTEE' table."
      ]
    },
    {
      "cell_type": "code",
      "execution_count": null,
      "id": "379a7afd-20fa-4405-b7d9-b3e4f16ce273",
      "metadata": {
        "tags": [],
        "id": "379a7afd-20fa-4405-b7d9-b3e4f16ce273"
      },
      "outputs": [],
      "source": [
        "%%sql\n",
        "--ALTER TABLE cclinkages add FOREIGN KEY(CMTE_ID) references COMMITTEE (CMTE_ID);"
      ]
    },
    {
      "cell_type": "markdown",
      "id": "8d66cd5b-82d6-4321-b820-7f63153ec0ee",
      "metadata": {
        "id": "8d66cd5b-82d6-4321-b820-7f63153ec0ee"
      },
      "source": [
        "* Make 'CMTE_ID' as a foreign key to table 'CONTRIBUTION' and connect with those attributes in the 'COMMITTEE' table."
      ]
    },
    {
      "cell_type": "code",
      "execution_count": null,
      "id": "cc3a9c4a-8414-4ec7-aa57-d6e54fbae5c0",
      "metadata": {
        "tags": [],
        "id": "cc3a9c4a-8414-4ec7-aa57-d6e54fbae5c0"
      },
      "outputs": [],
      "source": [
        "%%sql\n",
        "--ALTER TABLE CONTRIBUTION add FOREIGN KEY(CMTE_ID) references COMMITTEE (CMTE_ID);"
      ]
    },
    {
      "cell_type": "markdown",
      "id": "3770088d-4858-4b6e-b3b0-0e5ad7de59e5",
      "metadata": {
        "id": "3770088d-4858-4b6e-b3b0-0e5ad7de59e5"
      },
      "source": [
        "* Make 'CAND_ID' as a foreign key to table 'CAND_FINANCIAL' and connect with those attributes in the 'CANDIDATE' table."
      ]
    },
    {
      "cell_type": "code",
      "execution_count": null,
      "id": "070e3215-2fc5-4ae8-b894-8775dab3112c",
      "metadata": {
        "tags": [],
        "id": "070e3215-2fc5-4ae8-b894-8775dab3112c"
      },
      "outputs": [],
      "source": [
        "%%sql\n",
        "--ALTER TABLE CAND_FINANCIAL add FOREIGN KEY(CAND_ID) references CANDIDATE (CAND_ID);"
      ]
    },
    {
      "cell_type": "markdown",
      "id": "5efeac29-d518-4ef9-b218-b3d92084e2ef",
      "metadata": {
        "id": "5efeac29-d518-4ef9-b218-b3d92084e2ef"
      },
      "source": [
        "#### Observations:"
      ]
    },
    {
      "cell_type": "markdown",
      "id": "ac7ad9e5-209c-43e5-9499-6cae390fd4fb",
      "metadata": {
        "id": "ac7ad9e5-209c-43e5-9499-6cae390fd4fb"
      },
      "source": [
        "* The foreign keys associated with the tables are not being created since there are IDs present in the child tables (cclinkages, cand_financial, contribution) which are not present in parent tables (candidate, committee) because of which the foreign keys are not being generated.\n",
        "* We would need to omit those rows of data in order to create the foreign keys."
      ]
    },
    {
      "cell_type": "markdown",
      "id": "de908c23-2a2c-4809-80bb-0da74e3a38a4",
      "metadata": {
        "id": "de908c23-2a2c-4809-80bb-0da74e3a38a4"
      },
      "source": [
        "# Problem 5 \n",
        "Your sponsor asked you to manipulate the original candidate’s name. Write a query that uses built-in functions. See table 9-6 from the link   https://www.postgresql.org/docs/9.1/functions-string.html.  Split the candidate’s name composite attribute (CAND_NAME) in “candidate master” entities into two parts: one to hold the last name and the other to hold first names. For example: “Obaidi, Ali A” would split into “Obaidi” as last name and “Ali A” as first names. Write Alter tables statements for table “candidate master” to add two extra columns for first names and last name and then use the update SQL statement to construct (i.e. populate) the two new columns."
      ]
    },
    {
      "cell_type": "markdown",
      "id": "738e9778-75eb-4218-ba6e-ac71322ded21",
      "metadata": {
        "id": "738e9778-75eb-4218-ba6e-ac71322ded21"
      },
      "source": [
        "* View the 'CANDIDATE' table."
      ]
    },
    {
      "cell_type": "code",
      "execution_count": null,
      "id": "a2e913a4-d667-49c1-abed-3510a57c6cff",
      "metadata": {
        "id": "a2e913a4-d667-49c1-abed-3510a57c6cff",
        "outputId": "3df12eeb-15d1-4ec2-a3c0-da3f6d686ba5"
      },
      "outputs": [
        {
          "name": "stdout",
          "output_type": "stream",
          "text": [
            " * postgresql://student@/candidate\n",
            "5 rows affected.\n"
          ]
        },
        {
          "data": {
            "text/html": [
              "<table>\n",
              "    <thead>\n",
              "        <tr>\n",
              "            <th>cand_id</th>\n",
              "            <th>cand_name</th>\n",
              "            <th>cand_pty_affiliation</th>\n",
              "            <th>cand_election_yr</th>\n",
              "            <th>cand_office_st</th>\n",
              "            <th>cand_office</th>\n",
              "            <th>cand_office_district</th>\n",
              "            <th>cand_ici</th>\n",
              "            <th>cand_status</th>\n",
              "            <th>cand_pcc</th>\n",
              "            <th>cand_st1</th>\n",
              "            <th>cand_st2</th>\n",
              "            <th>cand_city</th>\n",
              "            <th>cand_st</th>\n",
              "            <th>cand_zip</th>\n",
              "        </tr>\n",
              "    </thead>\n",
              "    <tbody>\n",
              "        <tr>\n",
              "            <td>H0AL02087</td>\n",
              "            <td>ROBY, MARTHA</td>\n",
              "            <td>REP</td>\n",
              "            <td>2016</td>\n",
              "            <td>AL</td>\n",
              "            <td>H</td>\n",
              "            <td>02</td>\n",
              "            <td>I</td>\n",
              "            <td>C</td>\n",
              "            <td>C00462143</td>\n",
              "            <td>PO BOX 195</td>\n",
              "            <td>None</td>\n",
              "            <td>MONTGOMERY</td>\n",
              "            <td>AL</td>\n",
              "            <td>36101</td>\n",
              "        </tr>\n",
              "        <tr>\n",
              "            <td>H0AL02095</td>\n",
              "            <td>JOHN, ROBERT E JR</td>\n",
              "            <td>IND</td>\n",
              "            <td>2016</td>\n",
              "            <td>AL</td>\n",
              "            <td>H</td>\n",
              "            <td>02</td>\n",
              "            <td>C</td>\n",
              "            <td>N</td>\n",
              "            <td>None</td>\n",
              "            <td>1465 W OVERBROOK RD</td>\n",
              "            <td>None</td>\n",
              "            <td>MILLBROOK</td>\n",
              "            <td>AL</td>\n",
              "            <td>36054</td>\n",
              "        </tr>\n",
              "        <tr>\n",
              "            <td>H0AL05049</td>\n",
              "            <td>CRAMER, ROBERT E &quot;BUD&quot; JR</td>\n",
              "            <td>DEM</td>\n",
              "            <td>2008</td>\n",
              "            <td>AL</td>\n",
              "            <td>H</td>\n",
              "            <td>05</td>\n",
              "            <td>None</td>\n",
              "            <td>P</td>\n",
              "            <td>C00239038</td>\n",
              "            <td>PO BOX 2621</td>\n",
              "            <td>None</td>\n",
              "            <td>HUNTSVILLE</td>\n",
              "            <td>AL</td>\n",
              "            <td>35804</td>\n",
              "        </tr>\n",
              "        <tr>\n",
              "            <td>H0AL05163</td>\n",
              "            <td>BROOKS, MO</td>\n",
              "            <td>REP</td>\n",
              "            <td>2016</td>\n",
              "            <td>AL</td>\n",
              "            <td>H</td>\n",
              "            <td>05</td>\n",
              "            <td>I</td>\n",
              "            <td>C</td>\n",
              "            <td>C00464149</td>\n",
              "            <td>7610 FOXFIRE DRIVE</td>\n",
              "            <td>None</td>\n",
              "            <td>HUNTSVILLE</td>\n",
              "            <td>AL</td>\n",
              "            <td>35802</td>\n",
              "        </tr>\n",
              "        <tr>\n",
              "            <td>H0AL06088</td>\n",
              "            <td>COOKE, STANLEY KYLE</td>\n",
              "            <td>REP</td>\n",
              "            <td>2010</td>\n",
              "            <td>AL</td>\n",
              "            <td>H</td>\n",
              "            <td>06</td>\n",
              "            <td>C</td>\n",
              "            <td>N</td>\n",
              "            <td>C00464222</td>\n",
              "            <td>723 CHERRY BROOK ROAD</td>\n",
              "            <td>None</td>\n",
              "            <td>KIMBERLY</td>\n",
              "            <td>AL</td>\n",
              "            <td>35091</td>\n",
              "        </tr>\n",
              "    </tbody>\n",
              "</table>"
            ],
            "text/plain": [
              "[('H0AL02087', 'ROBY, MARTHA', 'REP', Decimal('2016'), 'AL', 'H', '02', 'I', 'C', 'C00462143', 'PO BOX 195', None, 'MONTGOMERY', 'AL', '36101'),\n",
              " ('H0AL02095', 'JOHN, ROBERT E JR', 'IND', Decimal('2016'), 'AL', 'H', '02', 'C', 'N', None, '1465 W OVERBROOK RD', None, 'MILLBROOK', 'AL', '36054'),\n",
              " ('H0AL05049', 'CRAMER, ROBERT E \"BUD\" JR', 'DEM', Decimal('2008'), 'AL', 'H', '05', None, 'P', 'C00239038', 'PO BOX 2621', None, 'HUNTSVILLE', 'AL', '35804'),\n",
              " ('H0AL05163', 'BROOKS, MO', 'REP', Decimal('2016'), 'AL', 'H', '05', 'I', 'C', 'C00464149', '7610 FOXFIRE DRIVE', None, 'HUNTSVILLE', 'AL', '35802'),\n",
              " ('H0AL06088', 'COOKE, STANLEY KYLE', 'REP', Decimal('2010'), 'AL', 'H', '06', 'C', 'N', 'C00464222', '723 CHERRY BROOK ROAD', None, 'KIMBERLY', 'AL', '35091')]"
            ]
          },
          "execution_count": 113,
          "metadata": {},
          "output_type": "execute_result"
        }
      ],
      "source": [
        "%%sql\n",
        "SELECT * \n",
        "FROM CANDIDATE\n",
        "LIMIT 5;"
      ]
    },
    {
      "cell_type": "markdown",
      "id": "e14fe10b-d1ee-4f0a-a20a-5190ab9fcd46",
      "metadata": {
        "id": "e14fe10b-d1ee-4f0a-a20a-5190ab9fcd46"
      },
      "source": [
        "* Add two columns to the table: one for last name ('cand_lname') and one for first name ('cand_fname')."
      ]
    },
    {
      "cell_type": "code",
      "execution_count": null,
      "id": "d89828a9-55a5-4439-8393-e542f58aabd2",
      "metadata": {
        "id": "d89828a9-55a5-4439-8393-e542f58aabd2",
        "outputId": "cf8236ac-0ee5-41c7-88c1-163af1cdf97c"
      },
      "outputs": [
        {
          "name": "stdout",
          "output_type": "stream",
          "text": [
            " * postgresql://student@/candidate\n",
            "Done.\n",
            "Done.\n"
          ]
        },
        {
          "data": {
            "text/plain": [
              "[]"
            ]
          },
          "execution_count": 114,
          "metadata": {},
          "output_type": "execute_result"
        }
      ],
      "source": [
        "%%sql\n",
        "\n",
        "ALTER TABLE CANDIDATE ADD column cand_lname VARCHAR(100);\n",
        "ALTER TABLE CANDIDATE ADD column cand_fname VARCHAR(100);"
      ]
    },
    {
      "cell_type": "markdown",
      "id": "6a5d29fa-95a0-44e6-af58-28b7881b4858",
      "metadata": {
        "id": "6a5d29fa-95a0-44e6-af58-28b7881b4858"
      },
      "source": [
        "* View table to see if the columns have been successfully added."
      ]
    },
    {
      "cell_type": "code",
      "execution_count": null,
      "id": "a644d44c-7b34-4c92-956a-03c094bd97e3",
      "metadata": {
        "id": "a644d44c-7b34-4c92-956a-03c094bd97e3",
        "outputId": "e9f6564d-5976-4a2f-e2b1-2b3923b22e73"
      },
      "outputs": [
        {
          "name": "stdout",
          "output_type": "stream",
          "text": [
            " * postgresql://student@/candidate\n",
            "5 rows affected.\n"
          ]
        },
        {
          "data": {
            "text/html": [
              "<table>\n",
              "    <thead>\n",
              "        <tr>\n",
              "            <th>cand_id</th>\n",
              "            <th>cand_name</th>\n",
              "            <th>cand_pty_affiliation</th>\n",
              "            <th>cand_election_yr</th>\n",
              "            <th>cand_office_st</th>\n",
              "            <th>cand_office</th>\n",
              "            <th>cand_office_district</th>\n",
              "            <th>cand_ici</th>\n",
              "            <th>cand_status</th>\n",
              "            <th>cand_pcc</th>\n",
              "            <th>cand_st1</th>\n",
              "            <th>cand_st2</th>\n",
              "            <th>cand_city</th>\n",
              "            <th>cand_st</th>\n",
              "            <th>cand_zip</th>\n",
              "            <th>cand_lname</th>\n",
              "            <th>cand_fname</th>\n",
              "        </tr>\n",
              "    </thead>\n",
              "    <tbody>\n",
              "        <tr>\n",
              "            <td>H0AL02087</td>\n",
              "            <td>ROBY, MARTHA</td>\n",
              "            <td>REP</td>\n",
              "            <td>2016</td>\n",
              "            <td>AL</td>\n",
              "            <td>H</td>\n",
              "            <td>02</td>\n",
              "            <td>I</td>\n",
              "            <td>C</td>\n",
              "            <td>C00462143</td>\n",
              "            <td>PO BOX 195</td>\n",
              "            <td>None</td>\n",
              "            <td>MONTGOMERY</td>\n",
              "            <td>AL</td>\n",
              "            <td>36101</td>\n",
              "            <td>None</td>\n",
              "            <td>None</td>\n",
              "        </tr>\n",
              "        <tr>\n",
              "            <td>H0AL02095</td>\n",
              "            <td>JOHN, ROBERT E JR</td>\n",
              "            <td>IND</td>\n",
              "            <td>2016</td>\n",
              "            <td>AL</td>\n",
              "            <td>H</td>\n",
              "            <td>02</td>\n",
              "            <td>C</td>\n",
              "            <td>N</td>\n",
              "            <td>None</td>\n",
              "            <td>1465 W OVERBROOK RD</td>\n",
              "            <td>None</td>\n",
              "            <td>MILLBROOK</td>\n",
              "            <td>AL</td>\n",
              "            <td>36054</td>\n",
              "            <td>None</td>\n",
              "            <td>None</td>\n",
              "        </tr>\n",
              "        <tr>\n",
              "            <td>H0AL05049</td>\n",
              "            <td>CRAMER, ROBERT E &quot;BUD&quot; JR</td>\n",
              "            <td>DEM</td>\n",
              "            <td>2008</td>\n",
              "            <td>AL</td>\n",
              "            <td>H</td>\n",
              "            <td>05</td>\n",
              "            <td>None</td>\n",
              "            <td>P</td>\n",
              "            <td>C00239038</td>\n",
              "            <td>PO BOX 2621</td>\n",
              "            <td>None</td>\n",
              "            <td>HUNTSVILLE</td>\n",
              "            <td>AL</td>\n",
              "            <td>35804</td>\n",
              "            <td>None</td>\n",
              "            <td>None</td>\n",
              "        </tr>\n",
              "        <tr>\n",
              "            <td>H0AL05163</td>\n",
              "            <td>BROOKS, MO</td>\n",
              "            <td>REP</td>\n",
              "            <td>2016</td>\n",
              "            <td>AL</td>\n",
              "            <td>H</td>\n",
              "            <td>05</td>\n",
              "            <td>I</td>\n",
              "            <td>C</td>\n",
              "            <td>C00464149</td>\n",
              "            <td>7610 FOXFIRE DRIVE</td>\n",
              "            <td>None</td>\n",
              "            <td>HUNTSVILLE</td>\n",
              "            <td>AL</td>\n",
              "            <td>35802</td>\n",
              "            <td>None</td>\n",
              "            <td>None</td>\n",
              "        </tr>\n",
              "        <tr>\n",
              "            <td>H0AL06088</td>\n",
              "            <td>COOKE, STANLEY KYLE</td>\n",
              "            <td>REP</td>\n",
              "            <td>2010</td>\n",
              "            <td>AL</td>\n",
              "            <td>H</td>\n",
              "            <td>06</td>\n",
              "            <td>C</td>\n",
              "            <td>N</td>\n",
              "            <td>C00464222</td>\n",
              "            <td>723 CHERRY BROOK ROAD</td>\n",
              "            <td>None</td>\n",
              "            <td>KIMBERLY</td>\n",
              "            <td>AL</td>\n",
              "            <td>35091</td>\n",
              "            <td>None</td>\n",
              "            <td>None</td>\n",
              "        </tr>\n",
              "    </tbody>\n",
              "</table>"
            ],
            "text/plain": [
              "[('H0AL02087', 'ROBY, MARTHA', 'REP', Decimal('2016'), 'AL', 'H', '02', 'I', 'C', 'C00462143', 'PO BOX 195', None, 'MONTGOMERY', 'AL', '36101', None, None),\n",
              " ('H0AL02095', 'JOHN, ROBERT E JR', 'IND', Decimal('2016'), 'AL', 'H', '02', 'C', 'N', None, '1465 W OVERBROOK RD', None, 'MILLBROOK', 'AL', '36054', None, None),\n",
              " ('H0AL05049', 'CRAMER, ROBERT E \"BUD\" JR', 'DEM', Decimal('2008'), 'AL', 'H', '05', None, 'P', 'C00239038', 'PO BOX 2621', None, 'HUNTSVILLE', 'AL', '35804', None, None),\n",
              " ('H0AL05163', 'BROOKS, MO', 'REP', Decimal('2016'), 'AL', 'H', '05', 'I', 'C', 'C00464149', '7610 FOXFIRE DRIVE', None, 'HUNTSVILLE', 'AL', '35802', None, None),\n",
              " ('H0AL06088', 'COOKE, STANLEY KYLE', 'REP', Decimal('2010'), 'AL', 'H', '06', 'C', 'N', 'C00464222', '723 CHERRY BROOK ROAD', None, 'KIMBERLY', 'AL', '35091', None, None)]"
            ]
          },
          "execution_count": 115,
          "metadata": {},
          "output_type": "execute_result"
        }
      ],
      "source": [
        "%%sql\n",
        "SELECT * \n",
        "FROM CANDIDATE\n",
        "LIMIT 5;"
      ]
    },
    {
      "cell_type": "markdown",
      "id": "ae1f7288-caba-4f9b-8bc8-23ac4abe25f8",
      "metadata": {
        "id": "ae1f7288-caba-4f9b-8bc8-23ac4abe25f8"
      },
      "source": [
        "* Split column 'CAND_NAME' based on comma (,) and add the first part to column 'CAND_LNAME' and the second part to column 'CAND_FNAME'."
      ]
    },
    {
      "cell_type": "code",
      "execution_count": null,
      "id": "91c0657f-205e-4db0-8ea3-c176b5a2b34a",
      "metadata": {
        "id": "91c0657f-205e-4db0-8ea3-c176b5a2b34a",
        "outputId": "a68f7286-cb91-48c6-fbc7-3765c6367193"
      },
      "outputs": [
        {
          "name": "stdout",
          "output_type": "stream",
          "text": [
            " * postgresql://student@/candidate\n",
            "7395 rows affected.\n"
          ]
        },
        {
          "data": {
            "text/plain": [
              "[]"
            ]
          },
          "execution_count": 116,
          "metadata": {},
          "output_type": "execute_result"
        }
      ],
      "source": [
        "%%sql\n",
        "UPDATE CANDIDATE \n",
        "SET cand_lname = split_part(cand_name, ', ', 1),\n",
        "    cand_fname = split_part(cand_name, ', ', 2);"
      ]
    },
    {
      "cell_type": "markdown",
      "id": "8be9cf32-fa93-4854-a505-e40c6c580184",
      "metadata": {
        "id": "8be9cf32-fa93-4854-a505-e40c6c580184"
      },
      "source": [
        "* Check the 'CANDIDATE' table to see if the data has been placed to the commanded columns properly."
      ]
    },
    {
      "cell_type": "code",
      "execution_count": null,
      "id": "b1fbac50-3b8b-4af1-a29d-d3d29d7c6c44",
      "metadata": {
        "id": "b1fbac50-3b8b-4af1-a29d-d3d29d7c6c44",
        "outputId": "3a2f3b8e-2f70-4665-dae6-4967e4c17088"
      },
      "outputs": [
        {
          "name": "stdout",
          "output_type": "stream",
          "text": [
            " * postgresql://student@/candidate\n",
            "5 rows affected.\n"
          ]
        },
        {
          "data": {
            "text/html": [
              "<table>\n",
              "    <thead>\n",
              "        <tr>\n",
              "            <th>cand_id</th>\n",
              "            <th>cand_name</th>\n",
              "            <th>cand_pty_affiliation</th>\n",
              "            <th>cand_election_yr</th>\n",
              "            <th>cand_office_st</th>\n",
              "            <th>cand_office</th>\n",
              "            <th>cand_office_district</th>\n",
              "            <th>cand_ici</th>\n",
              "            <th>cand_status</th>\n",
              "            <th>cand_pcc</th>\n",
              "            <th>cand_st1</th>\n",
              "            <th>cand_st2</th>\n",
              "            <th>cand_city</th>\n",
              "            <th>cand_st</th>\n",
              "            <th>cand_zip</th>\n",
              "            <th>cand_lname</th>\n",
              "            <th>cand_fname</th>\n",
              "        </tr>\n",
              "    </thead>\n",
              "    <tbody>\n",
              "        <tr>\n",
              "            <td>H0NC04147</td>\n",
              "            <td>ROCHE, FRANK</td>\n",
              "            <td>REP</td>\n",
              "            <td>2016</td>\n",
              "            <td>NC</td>\n",
              "            <td>H</td>\n",
              "            <td>02</td>\n",
              "            <td>C</td>\n",
              "            <td>C</td>\n",
              "            <td>C00576983</td>\n",
              "            <td>None</td>\n",
              "            <td>None</td>\n",
              "            <td>CARY</td>\n",
              "            <td>NC</td>\n",
              "            <td>27513</td>\n",
              "            <td>ROCHE</td>\n",
              "            <td>FRANK</td>\n",
              "        </tr>\n",
              "        <tr>\n",
              "            <td>H6OH07127</td>\n",
              "            <td>RICH, ROY</td>\n",
              "            <td>DEM</td>\n",
              "            <td>2016</td>\n",
              "            <td>OH</td>\n",
              "            <td>H</td>\n",
              "            <td>07</td>\n",
              "            <td>C</td>\n",
              "            <td>C</td>\n",
              "            <td>C00589085</td>\n",
              "            <td>PO BOX 33</td>\n",
              "            <td>None</td>\n",
              "            <td>GRAFTON</td>\n",
              "            <td>OH</td>\n",
              "            <td>44044</td>\n",
              "            <td>RICH</td>\n",
              "            <td>ROY</td>\n",
              "        </tr>\n",
              "        <tr>\n",
              "            <td>P20002713</td>\n",
              "            <td>WEST, ALLEN</td>\n",
              "            <td>NNE</td>\n",
              "            <td>2012</td>\n",
              "            <td>US</td>\n",
              "            <td>P</td>\n",
              "            <td>00</td>\n",
              "            <td>C</td>\n",
              "            <td>N</td>\n",
              "            <td>None</td>\n",
              "            <td>None</td>\n",
              "            <td>None</td>\n",
              "            <td>SANTA ANA</td>\n",
              "            <td>CA</td>\n",
              "            <td>92705</td>\n",
              "            <td>WEST</td>\n",
              "            <td>ALLEN</td>\n",
              "        </tr>\n",
              "        <tr>\n",
              "            <td>P60021722</td>\n",
              "            <td>WEISS, JUDD</td>\n",
              "            <td>LIB</td>\n",
              "            <td>2016</td>\n",
              "            <td>US</td>\n",
              "            <td>P</td>\n",
              "            <td>00</td>\n",
              "            <td>O</td>\n",
              "            <td>N</td>\n",
              "            <td>C00619296</td>\n",
              "            <td>None</td>\n",
              "            <td>None</td>\n",
              "            <td>LOS ANGELES</td>\n",
              "            <td>CA</td>\n",
              "            <td>90049</td>\n",
              "            <td>WEISS</td>\n",
              "            <td>JUDD</td>\n",
              "        </tr>\n",
              "        <tr>\n",
              "            <td>S0AK00162</td>\n",
              "            <td>HILL, SID</td>\n",
              "            <td>UNK</td>\n",
              "            <td>2016</td>\n",
              "            <td>AK</td>\n",
              "            <td>S</td>\n",
              "            <td>00</td>\n",
              "            <td>C</td>\n",
              "            <td>N</td>\n",
              "            <td>None</td>\n",
              "            <td>P.O. BOX 4556</td>\n",
              "            <td>None</td>\n",
              "            <td>PALMER</td>\n",
              "            <td>AK</td>\n",
              "            <td>99645</td>\n",
              "            <td>HILL</td>\n",
              "            <td>SID</td>\n",
              "        </tr>\n",
              "    </tbody>\n",
              "</table>"
            ],
            "text/plain": [
              "[('H0NC04147', 'ROCHE, FRANK', 'REP', Decimal('2016'), 'NC', 'H', '02', 'C', 'C', 'C00576983', None, None, 'CARY', 'NC', '27513', 'ROCHE', 'FRANK'),\n",
              " ('H6OH07127', 'RICH, ROY', 'DEM', Decimal('2016'), 'OH', 'H', '07', 'C', 'C', 'C00589085', 'PO BOX 33', None, 'GRAFTON', 'OH', '44044', 'RICH', 'ROY'),\n",
              " ('P20002713', 'WEST, ALLEN', 'NNE', Decimal('2012'), 'US', 'P', '00', 'C', 'N', None, None, None, 'SANTA ANA', 'CA', '92705', 'WEST', 'ALLEN'),\n",
              " ('P60021722', 'WEISS, JUDD', 'LIB', Decimal('2016'), 'US', 'P', '00', 'O', 'N', 'C00619296', None, None, 'LOS ANGELES', 'CA', '90049', 'WEISS', 'JUDD'),\n",
              " ('S0AK00162', 'HILL, SID', 'UNK', Decimal('2016'), 'AK', 'S', '00', 'C', 'N', None, 'P.O. BOX 4556', None, 'PALMER', 'AK', '99645', 'HILL', 'SID')]"
            ]
          },
          "execution_count": 117,
          "metadata": {},
          "output_type": "execute_result"
        }
      ],
      "source": [
        "%%sql\n",
        "SELECT * \n",
        "FROM CANDIDATE\n",
        "LIMIT 5;"
      ]
    },
    {
      "cell_type": "markdown",
      "id": "0259e430-2e34-4cbf-a560-54b5818f6d8c",
      "metadata": {
        "id": "0259e430-2e34-4cbf-a560-54b5818f6d8c"
      },
      "source": [
        "# Problem 6"
      ]
    },
    {
      "cell_type": "markdown",
      "id": "263b17d7-bbd7-46de-ad59-3f6e311c3107",
      "metadata": {
        "id": "263b17d7-bbd7-46de-ad59-3f6e311c3107"
      },
      "source": [
        "#### Write a query to determine the top 10 committees in terms of their total contributions from individuals. In the query indicate the committee code, name, party affiliation and total contributions collected."
      ]
    },
    {
      "cell_type": "markdown",
      "id": "182bf0eb-86e7-4f75-afa7-11b159b85673",
      "metadata": {
        "id": "182bf0eb-86e7-4f75-afa7-11b159b85673"
      },
      "source": [
        "* View 'CONTRIBUTION' table."
      ]
    },
    {
      "cell_type": "code",
      "execution_count": null,
      "id": "d74161ee-5a8b-4a01-ad9f-dd6da4efa98c",
      "metadata": {
        "id": "d74161ee-5a8b-4a01-ad9f-dd6da4efa98c",
        "outputId": "a2a3e77a-56e6-4755-bafe-2034935527bb"
      },
      "outputs": [
        {
          "name": "stdout",
          "output_type": "stream",
          "text": [
            " * postgresql://student@/candidate\n",
            "5 rows affected.\n"
          ]
        },
        {
          "data": {
            "text/html": [
              "<table>\n",
              "    <thead>\n",
              "        <tr>\n",
              "            <th>cmte_id</th>\n",
              "            <th>amndt_ind</th>\n",
              "            <th>rpt_tp</th>\n",
              "            <th>transaction_pgi</th>\n",
              "            <th>image_num</th>\n",
              "            <th>transaction_tp</th>\n",
              "            <th>entity_tp</th>\n",
              "            <th>name</th>\n",
              "            <th>city</th>\n",
              "            <th>state</th>\n",
              "            <th>zip_code</th>\n",
              "            <th>employer</th>\n",
              "            <th>occupation</th>\n",
              "            <th>transaction_dt</th>\n",
              "            <th>transaction_amt</th>\n",
              "            <th>other_id</th>\n",
              "            <th>tran_id</th>\n",
              "            <th>file_num</th>\n",
              "            <th>memo_cd</th>\n",
              "            <th>memo_text</th>\n",
              "            <th>sub_id</th>\n",
              "        </tr>\n",
              "    </thead>\n",
              "    <tbody>\n",
              "        <tr>\n",
              "            <td>C00573758</td>\n",
              "            <td>A</td>\n",
              "            <td>Q3</td>\n",
              "            <td>P2016</td>\n",
              "            <td>201702030200053785</td>\n",
              "            <td>15</td>\n",
              "            <td>IND</td>\n",
              "            <td>ROGERS, DAVID E</td>\n",
              "            <td>BETHESDA</td>\n",
              "            <td>MD</td>\n",
              "            <td>208161809</td>\n",
              "            <td>MCDERMOTT, WILL &amp; EMERY LLP</td>\n",
              "            <td>ATTORNEY</td>\n",
              "            <td>07232016</td>\n",
              "            <td>1000.00</td>\n",
              "            <td>None</td>\n",
              "            <td>SA0208173785419</td>\n",
              "            <td>1148131</td>\n",
              "            <td>None</td>\n",
              "            <td>None</td>\n",
              "            <td>2020820171370042762</td>\n",
              "        </tr>\n",
              "        <tr>\n",
              "            <td>C00523217</td>\n",
              "            <td>N</td>\n",
              "            <td>YE</td>\n",
              "            <td>P</td>\n",
              "            <td>201607130300083071</td>\n",
              "            <td>15</td>\n",
              "            <td>IND</td>\n",
              "            <td>O&#x27;BRIEN, TIMOTHY</td>\n",
              "            <td>WELLESLEY</td>\n",
              "            <td>None</td>\n",
              "            <td>02481</td>\n",
              "            <td>None</td>\n",
              "            <td>None</td>\n",
              "            <td>08262016</td>\n",
              "            <td>300.00</td>\n",
              "            <td>None</td>\n",
              "            <td>SA071816307115</td>\n",
              "            <td>1087925</td>\n",
              "            <td>None</td>\n",
              "            <td>None</td>\n",
              "            <td>2080420161308935237</td>\n",
              "        </tr>\n",
              "        <tr>\n",
              "            <td>C00581272</td>\n",
              "            <td>A</td>\n",
              "            <td>Q3</td>\n",
              "            <td>P</td>\n",
              "            <td>201610210200518510</td>\n",
              "            <td>15</td>\n",
              "            <td>IND</td>\n",
              "            <td>SQUIRE, JAMES</td>\n",
              "            <td>SEATTLE</td>\n",
              "            <td>WA</td>\n",
              "            <td>98116</td>\n",
              "            <td>SELF</td>\n",
              "            <td>PHYSICIAN</td>\n",
              "            <td>08242016</td>\n",
              "            <td>700.00</td>\n",
              "            <td>None</td>\n",
              "            <td>SA102616851013</td>\n",
              "            <td>1115447</td>\n",
              "            <td>None</td>\n",
              "            <td>None</td>\n",
              "            <td>1120820160032960190</td>\n",
              "        </tr>\n",
              "        <tr>\n",
              "            <td>C00600718</td>\n",
              "            <td>A</td>\n",
              "            <td>Q3</td>\n",
              "            <td>G2016</td>\n",
              "            <td>201703239051883064</td>\n",
              "            <td>15</td>\n",
              "            <td>IND</td>\n",
              "            <td>MARSHALL, JOHN L.</td>\n",
              "            <td>DAYTON</td>\n",
              "            <td>OH</td>\n",
              "            <td>45401</td>\n",
              "            <td>GRISMER TIRE</td>\n",
              "            <td>OWNER</td>\n",
              "            <td>07292016</td>\n",
              "            <td>300.00</td>\n",
              "            <td>None</td>\n",
              "            <td>SA11AI.10429</td>\n",
              "            <td>1153805</td>\n",
              "            <td>None</td>\n",
              "            <td>None</td>\n",
              "            <td>4032320171380705148</td>\n",
              "        </tr>\n",
              "        <tr>\n",
              "            <td>C00600718</td>\n",
              "            <td>A</td>\n",
              "            <td>Q3</td>\n",
              "            <td>G2016</td>\n",
              "            <td>201703239051883064</td>\n",
              "            <td>15</td>\n",
              "            <td>IND</td>\n",
              "            <td>NAILL, SCOTT</td>\n",
              "            <td>SPRINGFIELD</td>\n",
              "            <td>OH</td>\n",
              "            <td>45502</td>\n",
              "            <td>TEACHER</td>\n",
              "            <td>UVCC</td>\n",
              "            <td>08292016</td>\n",
              "            <td>100.00</td>\n",
              "            <td>None</td>\n",
              "            <td>SA11AI.10623</td>\n",
              "            <td>1153805</td>\n",
              "            <td>None</td>\n",
              "            <td>None</td>\n",
              "            <td>4032320171380705149</td>\n",
              "        </tr>\n",
              "    </tbody>\n",
              "</table>"
            ],
            "text/plain": [
              "[('C00573758', 'A', 'Q3', 'P2016', '201702030200053785', '15', 'IND', 'ROGERS, DAVID E', 'BETHESDA', 'MD', '208161809', 'MCDERMOTT, WILL & EMERY LLP', 'ATTORNEY', '07232016', Decimal('1000.00'), None, 'SA0208173785419', Decimal('1148131'), None, None, Decimal('2020820171370042762')),\n",
              " ('C00523217', 'N', 'YE', 'P', '201607130300083071', '15', 'IND', \"O'BRIEN, TIMOTHY\", 'WELLESLEY', None, '02481', None, None, '08262016', Decimal('300.00'), None, 'SA071816307115', Decimal('1087925'), None, None, Decimal('2080420161308935237')),\n",
              " ('C00581272', 'A', 'Q3', 'P', '201610210200518510', '15', 'IND', 'SQUIRE, JAMES', 'SEATTLE', 'WA', '98116', 'SELF', 'PHYSICIAN', '08242016', Decimal('700.00'), None, 'SA102616851013', Decimal('1115447'), None, None, Decimal('1120820160032960190')),\n",
              " ('C00600718', 'A', 'Q3', 'G2016', '201703239051883064', '15', 'IND', 'MARSHALL, JOHN L.', 'DAYTON', 'OH', '45401', 'GRISMER TIRE', 'OWNER', '07292016', Decimal('300.00'), None, 'SA11AI.10429', Decimal('1153805'), None, None, Decimal('4032320171380705148')),\n",
              " ('C00600718', 'A', 'Q3', 'G2016', '201703239051883064', '15', 'IND', 'NAILL, SCOTT', 'SPRINGFIELD', 'OH', '45502', 'TEACHER', 'UVCC', '08292016', Decimal('100.00'), None, 'SA11AI.10623', Decimal('1153805'), None, None, Decimal('4032320171380705149'))]"
            ]
          },
          "execution_count": 118,
          "metadata": {},
          "output_type": "execute_result"
        }
      ],
      "source": [
        "%%sql\n",
        "SELECT *\n",
        "FROM CONTRIBUTION\n",
        "LIMIT 5;"
      ]
    },
    {
      "cell_type": "markdown",
      "id": "14597ccb-e525-46bf-849f-b32aba2f3409",
      "metadata": {
        "id": "14597ccb-e525-46bf-849f-b32aba2f3409"
      },
      "source": [
        "* Create a view, 'temp2', and find the sum of transaction amount by 'CMTE_ID', and add the data into column 'TOTAL_TRANSAC_AMT' in the view. Group by 'CMTE_ID', sort in descending order based on total_transac_amt, cut the dataset to 10 rows to get the top 10 committees."
      ]
    },
    {
      "cell_type": "code",
      "execution_count": null,
      "id": "cb6412ec-fed2-43c7-b196-53d029c581c4",
      "metadata": {
        "id": "cb6412ec-fed2-43c7-b196-53d029c581c4",
        "outputId": "ecb72add-fec7-4576-a354-cd1f922eb3a4"
      },
      "outputs": [
        {
          "name": "stdout",
          "output_type": "stream",
          "text": [
            " * postgresql://student@/candidate\n",
            "Done.\n"
          ]
        },
        {
          "data": {
            "text/plain": [
              "[]"
            ]
          },
          "execution_count": 119,
          "metadata": {},
          "output_type": "execute_result"
        }
      ],
      "source": [
        "%%sql\n",
        "CREATE OR REPLACE VIEW temp2 AS\n",
        "SELECT cmte_id, sum(transaction_amt) as total_transac_amt\n",
        "FROM CONTRIBUTION\n",
        "GROUP BY cmte_id\n",
        "ORDER BY total_transac_amt DESC\n",
        "LIMIT 10"
      ]
    },
    {
      "cell_type": "markdown",
      "id": "da5dd390-e65e-45f7-9c10-dcee909614c0",
      "metadata": {
        "id": "da5dd390-e65e-45f7-9c10-dcee909614c0"
      },
      "source": [
        "* Check the view to see if it was created as commanded."
      ]
    },
    {
      "cell_type": "code",
      "execution_count": null,
      "id": "503601dd-dadb-4318-a8d7-80895f2c5a73",
      "metadata": {
        "id": "503601dd-dadb-4318-a8d7-80895f2c5a73",
        "outputId": "5bf1a1a3-6078-4fc0-a5b1-2c05619e499a"
      },
      "outputs": [
        {
          "name": "stdout",
          "output_type": "stream",
          "text": [
            " * postgresql://student@/candidate\n",
            "10 rows affected.\n"
          ]
        },
        {
          "data": {
            "text/html": [
              "<table>\n",
              "    <thead>\n",
              "        <tr>\n",
              "            <th>cmte_id</th>\n",
              "            <th>total_transac_amt</th>\n",
              "        </tr>\n",
              "    </thead>\n",
              "    <tbody>\n",
              "        <tr>\n",
              "            <td>C00586537</td>\n",
              "            <td>308391667.00</td>\n",
              "        </tr>\n",
              "        <tr>\n",
              "            <td>C00575795</td>\n",
              "            <td>117951937.00</td>\n",
              "        </tr>\n",
              "        <tr>\n",
              "            <td>C00401224</td>\n",
              "            <td>116476680.00</td>\n",
              "        </tr>\n",
              "        <tr>\n",
              "            <td>C00495861</td>\n",
              "            <td>83116551.00</td>\n",
              "        </tr>\n",
              "        <tr>\n",
              "            <td>C00571703</td>\n",
              "            <td>81493979.00</td>\n",
              "        </tr>\n",
              "        <tr>\n",
              "            <td>C00618389</td>\n",
              "            <td>74904350.00</td>\n",
              "        </tr>\n",
              "        <tr>\n",
              "            <td>C00618371</td>\n",
              "            <td>58157327.00</td>\n",
              "        </tr>\n",
              "        <tr>\n",
              "            <td>C00580100</td>\n",
              "            <td>58025982.00</td>\n",
              "        </tr>\n",
              "        <tr>\n",
              "            <td>C00547349</td>\n",
              "            <td>57448383.00</td>\n",
              "        </tr>\n",
              "        <tr>\n",
              "            <td>C00484642</td>\n",
              "            <td>50859704.00</td>\n",
              "        </tr>\n",
              "    </tbody>\n",
              "</table>"
            ],
            "text/plain": [
              "[('C00586537', Decimal('308391667.00')),\n",
              " ('C00575795', Decimal('117951937.00')),\n",
              " ('C00401224', Decimal('116476680.00')),\n",
              " ('C00495861', Decimal('83116551.00')),\n",
              " ('C00571703', Decimal('81493979.00')),\n",
              " ('C00618389', Decimal('74904350.00')),\n",
              " ('C00618371', Decimal('58157327.00')),\n",
              " ('C00580100', Decimal('58025982.00')),\n",
              " ('C00547349', Decimal('57448383.00')),\n",
              " ('C00484642', Decimal('50859704.00'))]"
            ]
          },
          "execution_count": 120,
          "metadata": {},
          "output_type": "execute_result"
        }
      ],
      "source": [
        "%%sql\n",
        "SELECT *\n",
        "FROM temp2"
      ]
    },
    {
      "cell_type": "markdown",
      "id": "fa881b7c-3a65-4ea3-981d-f636b3063556",
      "metadata": {
        "id": "fa881b7c-3a65-4ea3-981d-f636b3063556"
      },
      "source": [
        "* Create a view, 'temp1', and get the 'CMTE_ID', 'CMTE_NM', and 'CMTE_PTY_AFFILIATION' columns from the 'COMMITTEE' table based on the top 10 CMTE_ID found above."
      ]
    },
    {
      "cell_type": "code",
      "execution_count": null,
      "id": "f44b6d91-faef-485a-9ec7-33df8b8ade4a",
      "metadata": {
        "id": "f44b6d91-faef-485a-9ec7-33df8b8ade4a",
        "outputId": "8b1ce427-92c5-456b-8d94-9f5e639da583"
      },
      "outputs": [
        {
          "name": "stdout",
          "output_type": "stream",
          "text": [
            " * postgresql://student@/candidate\n",
            "Done.\n"
          ]
        },
        {
          "data": {
            "text/plain": [
              "[]"
            ]
          },
          "execution_count": 121,
          "metadata": {},
          "output_type": "execute_result"
        }
      ],
      "source": [
        "%%sql\n",
        "CREATE OR REPLACE VIEW temp1 AS\n",
        "SELECT CMTE_ID, CMTE_NM, CMTE_PTY_AFFILIATION\n",
        "FROM COMMITTEE\n",
        "WHERE cmte_id IN (SELECT cmte_id\n",
        "                  FROM temp2);"
      ]
    },
    {
      "cell_type": "markdown",
      "id": "e56f8e0d-3894-44c4-ab7f-80de396dca6a",
      "metadata": {
        "id": "e56f8e0d-3894-44c4-ab7f-80de396dca6a"
      },
      "source": [
        "* Check the view to see if it was created as commanded."
      ]
    },
    {
      "cell_type": "code",
      "execution_count": null,
      "id": "a7a9af9a-9e71-4dd7-9344-23454638bf0b",
      "metadata": {
        "id": "a7a9af9a-9e71-4dd7-9344-23454638bf0b",
        "outputId": "3fa72ad8-128e-4b4c-90db-817bbd01ed82"
      },
      "outputs": [
        {
          "name": "stdout",
          "output_type": "stream",
          "text": [
            " * postgresql://student@/candidate\n",
            "10 rows affected.\n"
          ]
        },
        {
          "data": {
            "text/html": [
              "<table>\n",
              "    <thead>\n",
              "        <tr>\n",
              "            <th>cmte_id</th>\n",
              "            <th>cmte_nm</th>\n",
              "            <th>cmte_pty_affiliation</th>\n",
              "        </tr>\n",
              "    </thead>\n",
              "    <tbody>\n",
              "        <tr>\n",
              "            <td>C00586537</td>\n",
              "            <td>HILLARY VICTORY FUND</td>\n",
              "            <td>None</td>\n",
              "        </tr>\n",
              "        <tr>\n",
              "            <td>C00575795</td>\n",
              "            <td>HILLARY FOR AMERICA</td>\n",
              "            <td>DEM</td>\n",
              "        </tr>\n",
              "        <tr>\n",
              "            <td>C00401224</td>\n",
              "            <td>ACTBLUE</td>\n",
              "            <td>None</td>\n",
              "        </tr>\n",
              "        <tr>\n",
              "            <td>C00495861</td>\n",
              "            <td>PRIORITIES USA ACTION</td>\n",
              "            <td>None</td>\n",
              "        </tr>\n",
              "        <tr>\n",
              "            <td>C00571703</td>\n",
              "            <td>SENATE LEADERSHIP FUND</td>\n",
              "            <td>None</td>\n",
              "        </tr>\n",
              "        <tr>\n",
              "            <td>C00618389</td>\n",
              "            <td>TRUMP VICTORY</td>\n",
              "            <td>None</td>\n",
              "        </tr>\n",
              "        <tr>\n",
              "            <td>C00618371</td>\n",
              "            <td>TRUMP MAKE AMERICA GREAT AGAIN COMMITTEE</td>\n",
              "            <td>None</td>\n",
              "        </tr>\n",
              "        <tr>\n",
              "            <td>C00580100</td>\n",
              "            <td>DONALD J. TRUMP FOR PRESIDENT, INC.</td>\n",
              "            <td>REP</td>\n",
              "        </tr>\n",
              "        <tr>\n",
              "            <td>C00547349</td>\n",
              "            <td>NEXTGEN CLIMATE ACTION COMMITTEE</td>\n",
              "            <td>None</td>\n",
              "        </tr>\n",
              "        <tr>\n",
              "            <td>C00484642</td>\n",
              "            <td>SENATE MAJORITY PAC</td>\n",
              "            <td>None</td>\n",
              "        </tr>\n",
              "    </tbody>\n",
              "</table>"
            ],
            "text/plain": [
              "[('C00586537', 'HILLARY VICTORY FUND', None),\n",
              " ('C00575795', 'HILLARY FOR AMERICA', 'DEM'),\n",
              " ('C00401224', 'ACTBLUE', None),\n",
              " ('C00495861', 'PRIORITIES USA ACTION', None),\n",
              " ('C00571703', 'SENATE LEADERSHIP FUND', None),\n",
              " ('C00618389', 'TRUMP VICTORY', None),\n",
              " ('C00618371', 'TRUMP MAKE AMERICA GREAT AGAIN COMMITTEE', None),\n",
              " ('C00580100', 'DONALD J. TRUMP FOR PRESIDENT, INC.', 'REP'),\n",
              " ('C00547349', 'NEXTGEN CLIMATE ACTION COMMITTEE', None),\n",
              " ('C00484642', 'SENATE MAJORITY PAC', None)]"
            ]
          },
          "execution_count": 122,
          "metadata": {},
          "output_type": "execute_result"
        }
      ],
      "source": [
        "%%sql\n",
        "SELECT *\n",
        "FROM temp1;"
      ]
    },
    {
      "cell_type": "markdown",
      "id": "1916f2a3-feff-4f14-833f-f419c7d8ab34",
      "metadata": {
        "id": "1916f2a3-feff-4f14-833f-f419c7d8ab34"
      },
      "source": [
        "* Inner join the two views ('temp1,'temp2') by 'CMTE_ID', and sort the output by total transaction amount in a descending order to get the top 10 committees and their respective attributes."
      ]
    },
    {
      "cell_type": "code",
      "execution_count": null,
      "id": "a2cebebe-6f35-423e-adab-8bf8332d1df6",
      "metadata": {
        "id": "a2cebebe-6f35-423e-adab-8bf8332d1df6",
        "outputId": "b40a8fbf-7fdf-4f38-c9c6-8a006f8276fb"
      },
      "outputs": [
        {
          "name": "stdout",
          "output_type": "stream",
          "text": [
            " * postgresql://student@/candidate\n",
            "10 rows affected.\n"
          ]
        },
        {
          "data": {
            "text/html": [
              "<table>\n",
              "    <thead>\n",
              "        <tr>\n",
              "            <th>cmte_id</th>\n",
              "            <th>cmte_nm</th>\n",
              "            <th>cmte_pty_affiliation</th>\n",
              "            <th>total_transac_amt</th>\n",
              "        </tr>\n",
              "    </thead>\n",
              "    <tbody>\n",
              "        <tr>\n",
              "            <td>C00586537</td>\n",
              "            <td>HILLARY VICTORY FUND</td>\n",
              "            <td>None</td>\n",
              "            <td>308391667.00</td>\n",
              "        </tr>\n",
              "        <tr>\n",
              "            <td>C00575795</td>\n",
              "            <td>HILLARY FOR AMERICA</td>\n",
              "            <td>DEM</td>\n",
              "            <td>117951937.00</td>\n",
              "        </tr>\n",
              "        <tr>\n",
              "            <td>C00401224</td>\n",
              "            <td>ACTBLUE</td>\n",
              "            <td>None</td>\n",
              "            <td>116476680.00</td>\n",
              "        </tr>\n",
              "        <tr>\n",
              "            <td>C00495861</td>\n",
              "            <td>PRIORITIES USA ACTION</td>\n",
              "            <td>None</td>\n",
              "            <td>83116551.00</td>\n",
              "        </tr>\n",
              "        <tr>\n",
              "            <td>C00571703</td>\n",
              "            <td>SENATE LEADERSHIP FUND</td>\n",
              "            <td>None</td>\n",
              "            <td>81493979.00</td>\n",
              "        </tr>\n",
              "        <tr>\n",
              "            <td>C00618389</td>\n",
              "            <td>TRUMP VICTORY</td>\n",
              "            <td>None</td>\n",
              "            <td>74904350.00</td>\n",
              "        </tr>\n",
              "        <tr>\n",
              "            <td>C00618371</td>\n",
              "            <td>TRUMP MAKE AMERICA GREAT AGAIN COMMITTEE</td>\n",
              "            <td>None</td>\n",
              "            <td>58157327.00</td>\n",
              "        </tr>\n",
              "        <tr>\n",
              "            <td>C00580100</td>\n",
              "            <td>DONALD J. TRUMP FOR PRESIDENT, INC.</td>\n",
              "            <td>REP</td>\n",
              "            <td>58025982.00</td>\n",
              "        </tr>\n",
              "        <tr>\n",
              "            <td>C00547349</td>\n",
              "            <td>NEXTGEN CLIMATE ACTION COMMITTEE</td>\n",
              "            <td>None</td>\n",
              "            <td>57448383.00</td>\n",
              "        </tr>\n",
              "        <tr>\n",
              "            <td>C00484642</td>\n",
              "            <td>SENATE MAJORITY PAC</td>\n",
              "            <td>None</td>\n",
              "            <td>50859704.00</td>\n",
              "        </tr>\n",
              "    </tbody>\n",
              "</table>"
            ],
            "text/plain": [
              "[('C00586537', 'HILLARY VICTORY FUND', None, Decimal('308391667.00')),\n",
              " ('C00575795', 'HILLARY FOR AMERICA', 'DEM', Decimal('117951937.00')),\n",
              " ('C00401224', 'ACTBLUE', None, Decimal('116476680.00')),\n",
              " ('C00495861', 'PRIORITIES USA ACTION', None, Decimal('83116551.00')),\n",
              " ('C00571703', 'SENATE LEADERSHIP FUND', None, Decimal('81493979.00')),\n",
              " ('C00618389', 'TRUMP VICTORY', None, Decimal('74904350.00')),\n",
              " ('C00618371', 'TRUMP MAKE AMERICA GREAT AGAIN COMMITTEE', None, Decimal('58157327.00')),\n",
              " ('C00580100', 'DONALD J. TRUMP FOR PRESIDENT, INC.', 'REP', Decimal('58025982.00')),\n",
              " ('C00547349', 'NEXTGEN CLIMATE ACTION COMMITTEE', None, Decimal('57448383.00')),\n",
              " ('C00484642', 'SENATE MAJORITY PAC', None, Decimal('50859704.00'))]"
            ]
          },
          "execution_count": 123,
          "metadata": {},
          "output_type": "execute_result"
        }
      ],
      "source": [
        "%%sql\n",
        "SELECT temp1.cmte_id, cmte_nm, cmte_pty_affiliation, temp2.total_transac_amt\n",
        "FROM temp1\n",
        "INNER JOIN temp2 ON temp2.cmte_id=temp1.cmte_id\n",
        "ORDER BY total_transac_amt DESC;"
      ]
    },
    {
      "cell_type": "markdown",
      "id": "58cc487d-fee5-4f01-84dc-c011fb3ab100",
      "metadata": {
        "id": "58cc487d-fee5-4f01-84dc-c011fb3ab100"
      },
      "source": [
        "#### Write a query to find the maximum, minimum, total, and number of contributions by Individuals working for a company that has “AMAZON” as part of its name between the months of august to Nov 2016. "
      ]
    },
    {
      "cell_type": "markdown",
      "id": "7e0c53d0-581c-4c11-a968-a1e692affb42",
      "metadata": {
        "id": "7e0c53d0-581c-4c11-a968-a1e692affb42"
      },
      "source": [
        "* Filter the 'CONTRIBUTION' table by transaction dates from September 2016 to November 2016 to check the values of dates."
      ]
    },
    {
      "cell_type": "code",
      "execution_count": null,
      "id": "a85bc383-403c-40c3-9d48-642dbd4aa490",
      "metadata": {
        "tags": [],
        "id": "a85bc383-403c-40c3-9d48-642dbd4aa490",
        "outputId": "e8450bc6-505e-4521-8d34-0998a2fa998b"
      },
      "outputs": [
        {
          "name": "stdout",
          "output_type": "stream",
          "text": [
            " * postgresql://student@/candidate\n",
            "91 rows affected.\n"
          ]
        },
        {
          "data": {
            "text/html": [
              "<table>\n",
              "    <thead>\n",
              "        <tr>\n",
              "            <th>transaction_dt</th>\n",
              "        </tr>\n",
              "    </thead>\n",
              "    <tbody>\n",
              "        <tr>\n",
              "            <td>09012016</td>\n",
              "        </tr>\n",
              "        <tr>\n",
              "            <td>09022016</td>\n",
              "        </tr>\n",
              "        <tr>\n",
              "            <td>09032016</td>\n",
              "        </tr>\n",
              "        <tr>\n",
              "            <td>09042016</td>\n",
              "        </tr>\n",
              "        <tr>\n",
              "            <td>09052016</td>\n",
              "        </tr>\n",
              "        <tr>\n",
              "            <td>09062016</td>\n",
              "        </tr>\n",
              "        <tr>\n",
              "            <td>09072016</td>\n",
              "        </tr>\n",
              "        <tr>\n",
              "            <td>09082016</td>\n",
              "        </tr>\n",
              "        <tr>\n",
              "            <td>09092016</td>\n",
              "        </tr>\n",
              "        <tr>\n",
              "            <td>09102016</td>\n",
              "        </tr>\n",
              "        <tr>\n",
              "            <td>09112016</td>\n",
              "        </tr>\n",
              "        <tr>\n",
              "            <td>09122016</td>\n",
              "        </tr>\n",
              "        <tr>\n",
              "            <td>09132016</td>\n",
              "        </tr>\n",
              "        <tr>\n",
              "            <td>09142016</td>\n",
              "        </tr>\n",
              "        <tr>\n",
              "            <td>09152016</td>\n",
              "        </tr>\n",
              "        <tr>\n",
              "            <td>09162016</td>\n",
              "        </tr>\n",
              "        <tr>\n",
              "            <td>09172016</td>\n",
              "        </tr>\n",
              "        <tr>\n",
              "            <td>09182016</td>\n",
              "        </tr>\n",
              "        <tr>\n",
              "            <td>09192016</td>\n",
              "        </tr>\n",
              "        <tr>\n",
              "            <td>09202016</td>\n",
              "        </tr>\n",
              "        <tr>\n",
              "            <td>09212016</td>\n",
              "        </tr>\n",
              "        <tr>\n",
              "            <td>09222016</td>\n",
              "        </tr>\n",
              "        <tr>\n",
              "            <td>09232016</td>\n",
              "        </tr>\n",
              "        <tr>\n",
              "            <td>09242016</td>\n",
              "        </tr>\n",
              "        <tr>\n",
              "            <td>09252016</td>\n",
              "        </tr>\n",
              "        <tr>\n",
              "            <td>09262016</td>\n",
              "        </tr>\n",
              "        <tr>\n",
              "            <td>09272016</td>\n",
              "        </tr>\n",
              "        <tr>\n",
              "            <td>09282016</td>\n",
              "        </tr>\n",
              "        <tr>\n",
              "            <td>09292016</td>\n",
              "        </tr>\n",
              "        <tr>\n",
              "            <td>09302016</td>\n",
              "        </tr>\n",
              "        <tr>\n",
              "            <td>10012016</td>\n",
              "        </tr>\n",
              "        <tr>\n",
              "            <td>10022016</td>\n",
              "        </tr>\n",
              "        <tr>\n",
              "            <td>10032016</td>\n",
              "        </tr>\n",
              "        <tr>\n",
              "            <td>10042016</td>\n",
              "        </tr>\n",
              "        <tr>\n",
              "            <td>10052016</td>\n",
              "        </tr>\n",
              "        <tr>\n",
              "            <td>10062016</td>\n",
              "        </tr>\n",
              "        <tr>\n",
              "            <td>10072016</td>\n",
              "        </tr>\n",
              "        <tr>\n",
              "            <td>10082016</td>\n",
              "        </tr>\n",
              "        <tr>\n",
              "            <td>10092016</td>\n",
              "        </tr>\n",
              "        <tr>\n",
              "            <td>10102016</td>\n",
              "        </tr>\n",
              "        <tr>\n",
              "            <td>10112016</td>\n",
              "        </tr>\n",
              "        <tr>\n",
              "            <td>10122016</td>\n",
              "        </tr>\n",
              "        <tr>\n",
              "            <td>10132016</td>\n",
              "        </tr>\n",
              "        <tr>\n",
              "            <td>10142016</td>\n",
              "        </tr>\n",
              "        <tr>\n",
              "            <td>10152016</td>\n",
              "        </tr>\n",
              "        <tr>\n",
              "            <td>10162016</td>\n",
              "        </tr>\n",
              "        <tr>\n",
              "            <td>10172016</td>\n",
              "        </tr>\n",
              "        <tr>\n",
              "            <td>10182016</td>\n",
              "        </tr>\n",
              "        <tr>\n",
              "            <td>10192016</td>\n",
              "        </tr>\n",
              "        <tr>\n",
              "            <td>10202016</td>\n",
              "        </tr>\n",
              "        <tr>\n",
              "            <td>10212016</td>\n",
              "        </tr>\n",
              "        <tr>\n",
              "            <td>10222016</td>\n",
              "        </tr>\n",
              "        <tr>\n",
              "            <td>10232016</td>\n",
              "        </tr>\n",
              "        <tr>\n",
              "            <td>10242016</td>\n",
              "        </tr>\n",
              "        <tr>\n",
              "            <td>10252016</td>\n",
              "        </tr>\n",
              "        <tr>\n",
              "            <td>10262016</td>\n",
              "        </tr>\n",
              "        <tr>\n",
              "            <td>10272016</td>\n",
              "        </tr>\n",
              "        <tr>\n",
              "            <td>10282016</td>\n",
              "        </tr>\n",
              "        <tr>\n",
              "            <td>10292016</td>\n",
              "        </tr>\n",
              "        <tr>\n",
              "            <td>10302016</td>\n",
              "        </tr>\n",
              "        <tr>\n",
              "            <td>10312016</td>\n",
              "        </tr>\n",
              "        <tr>\n",
              "            <td>11012016</td>\n",
              "        </tr>\n",
              "        <tr>\n",
              "            <td>11022016</td>\n",
              "        </tr>\n",
              "        <tr>\n",
              "            <td>11032016</td>\n",
              "        </tr>\n",
              "        <tr>\n",
              "            <td>11042016</td>\n",
              "        </tr>\n",
              "        <tr>\n",
              "            <td>11052016</td>\n",
              "        </tr>\n",
              "        <tr>\n",
              "            <td>11062016</td>\n",
              "        </tr>\n",
              "        <tr>\n",
              "            <td>11072016</td>\n",
              "        </tr>\n",
              "        <tr>\n",
              "            <td>11082016</td>\n",
              "        </tr>\n",
              "        <tr>\n",
              "            <td>11092016</td>\n",
              "        </tr>\n",
              "        <tr>\n",
              "            <td>11102016</td>\n",
              "        </tr>\n",
              "        <tr>\n",
              "            <td>11112016</td>\n",
              "        </tr>\n",
              "        <tr>\n",
              "            <td>11122016</td>\n",
              "        </tr>\n",
              "        <tr>\n",
              "            <td>11132016</td>\n",
              "        </tr>\n",
              "        <tr>\n",
              "            <td>11142016</td>\n",
              "        </tr>\n",
              "        <tr>\n",
              "            <td>11152016</td>\n",
              "        </tr>\n",
              "        <tr>\n",
              "            <td>11162016</td>\n",
              "        </tr>\n",
              "        <tr>\n",
              "            <td>11172016</td>\n",
              "        </tr>\n",
              "        <tr>\n",
              "            <td>11182016</td>\n",
              "        </tr>\n",
              "        <tr>\n",
              "            <td>11192016</td>\n",
              "        </tr>\n",
              "        <tr>\n",
              "            <td>11202016</td>\n",
              "        </tr>\n",
              "        <tr>\n",
              "            <td>11212016</td>\n",
              "        </tr>\n",
              "        <tr>\n",
              "            <td>11222016</td>\n",
              "        </tr>\n",
              "        <tr>\n",
              "            <td>11232016</td>\n",
              "        </tr>\n",
              "        <tr>\n",
              "            <td>11242016</td>\n",
              "        </tr>\n",
              "        <tr>\n",
              "            <td>11252016</td>\n",
              "        </tr>\n",
              "        <tr>\n",
              "            <td>11262016</td>\n",
              "        </tr>\n",
              "        <tr>\n",
              "            <td>11272016</td>\n",
              "        </tr>\n",
              "        <tr>\n",
              "            <td>11282016</td>\n",
              "        </tr>\n",
              "        <tr>\n",
              "            <td>11292016</td>\n",
              "        </tr>\n",
              "        <tr>\n",
              "            <td>11302016</td>\n",
              "        </tr>\n",
              "    </tbody>\n",
              "</table>"
            ],
            "text/plain": [
              "[('09012016',),\n",
              " ('09022016',),\n",
              " ('09032016',),\n",
              " ('09042016',),\n",
              " ('09052016',),\n",
              " ('09062016',),\n",
              " ('09072016',),\n",
              " ('09082016',),\n",
              " ('09092016',),\n",
              " ('09102016',),\n",
              " ('09112016',),\n",
              " ('09122016',),\n",
              " ('09132016',),\n",
              " ('09142016',),\n",
              " ('09152016',),\n",
              " ('09162016',),\n",
              " ('09172016',),\n",
              " ('09182016',),\n",
              " ('09192016',),\n",
              " ('09202016',),\n",
              " ('09212016',),\n",
              " ('09222016',),\n",
              " ('09232016',),\n",
              " ('09242016',),\n",
              " ('09252016',),\n",
              " ('09262016',),\n",
              " ('09272016',),\n",
              " ('09282016',),\n",
              " ('09292016',),\n",
              " ('09302016',),\n",
              " ('10012016',),\n",
              " ('10022016',),\n",
              " ('10032016',),\n",
              " ('10042016',),\n",
              " ('10052016',),\n",
              " ('10062016',),\n",
              " ('10072016',),\n",
              " ('10082016',),\n",
              " ('10092016',),\n",
              " ('10102016',),\n",
              " ('10112016',),\n",
              " ('10122016',),\n",
              " ('10132016',),\n",
              " ('10142016',),\n",
              " ('10152016',),\n",
              " ('10162016',),\n",
              " ('10172016',),\n",
              " ('10182016',),\n",
              " ('10192016',),\n",
              " ('10202016',),\n",
              " ('10212016',),\n",
              " ('10222016',),\n",
              " ('10232016',),\n",
              " ('10242016',),\n",
              " ('10252016',),\n",
              " ('10262016',),\n",
              " ('10272016',),\n",
              " ('10282016',),\n",
              " ('10292016',),\n",
              " ('10302016',),\n",
              " ('10312016',),\n",
              " ('11012016',),\n",
              " ('11022016',),\n",
              " ('11032016',),\n",
              " ('11042016',),\n",
              " ('11052016',),\n",
              " ('11062016',),\n",
              " ('11072016',),\n",
              " ('11082016',),\n",
              " ('11092016',),\n",
              " ('11102016',),\n",
              " ('11112016',),\n",
              " ('11122016',),\n",
              " ('11132016',),\n",
              " ('11142016',),\n",
              " ('11152016',),\n",
              " ('11162016',),\n",
              " ('11172016',),\n",
              " ('11182016',),\n",
              " ('11192016',),\n",
              " ('11202016',),\n",
              " ('11212016',),\n",
              " ('11222016',),\n",
              " ('11232016',),\n",
              " ('11242016',),\n",
              " ('11252016',),\n",
              " ('11262016',),\n",
              " ('11272016',),\n",
              " ('11282016',),\n",
              " ('11292016',),\n",
              " ('11302016',)]"
            ]
          },
          "execution_count": 124,
          "metadata": {},
          "output_type": "execute_result"
        }
      ],
      "source": [
        "%%sql \n",
        "SELECT distinct transaction_dt\n",
        "FROM CONTRIBUTION\n",
        "WHERE TRANSACTION_DT BETWEEN '09012016' AND '11302016'\n",
        "ORDER BY transaction_dt"
      ]
    },
    {
      "cell_type": "markdown",
      "id": "367c6d98-2ef2-45aa-b6ef-2f8a69c4c67b",
      "metadata": {
        "id": "367c6d98-2ef2-45aa-b6ef-2f8a69c4c67b"
      },
      "source": [
        "* Find the maximum, minimum, total sum, and total count of rows that have 'AMAZON' in the employer name."
      ]
    },
    {
      "cell_type": "code",
      "execution_count": null,
      "id": "8bd5ddf6-bd4a-49e2-87ea-1f53b23ed163",
      "metadata": {
        "id": "8bd5ddf6-bd4a-49e2-87ea-1f53b23ed163",
        "outputId": "ecd6eeae-209a-4d15-e49e-435bc76a7475"
      },
      "outputs": [
        {
          "name": "stdout",
          "output_type": "stream",
          "text": [
            " * postgresql://student@/candidate\n",
            "1 rows affected.\n"
          ]
        },
        {
          "data": {
            "text/html": [
              "<table>\n",
              "    <thead>\n",
              "        <tr>\n",
              "            <th>max</th>\n",
              "            <th>min</th>\n",
              "            <th>sum</th>\n",
              "            <th>count</th>\n",
              "        </tr>\n",
              "    </thead>\n",
              "    <tbody>\n",
              "        <tr>\n",
              "            <td>10800.00</td>\n",
              "            <td>1.00</td>\n",
              "            <td>533142.00</td>\n",
              "            <td>3469</td>\n",
              "        </tr>\n",
              "    </tbody>\n",
              "</table>"
            ],
            "text/plain": [
              "[(Decimal('10800.00'), Decimal('1.00'), Decimal('533142.00'), 3469)]"
            ]
          },
          "execution_count": 125,
          "metadata": {},
          "output_type": "execute_result"
        }
      ],
      "source": [
        "%%sql\n",
        "SELECT MAX(TRANSACTION_AMT), MIN(TRANSACTION_AMT), SUM(TRANSACTION_AMT), COUNT(TRANSACTION_AMT)\n",
        "FROM CONTRIBUTION\n",
        "WHERE EMPLOYER LIKE '%AMAZON%' AND TRANSACTION_DT BETWEEN '09012016' AND '11302016'"
      ]
    },
    {
      "cell_type": "markdown",
      "id": "73aa3663-fa8f-4859-af84-690f1da4eca9",
      "metadata": {
        "id": "73aa3663-fa8f-4859-af84-690f1da4eca9"
      },
      "source": [
        "#### List all presidential candidates with offices in NY or PA and their corresponding committee names."
      ]
    },
    {
      "cell_type": "markdown",
      "id": "1c6fd09a-6c47-4e26-b37f-df096aa71418",
      "metadata": {
        "id": "1c6fd09a-6c47-4e26-b37f-df096aa71418"
      },
      "source": [
        "* Create a view, 'temp3'. Get the 'CAND_ID', 'CAND_NAME', and 'CAND_ST' columns from the 'CANDIDATE' table with only 'NY' and 'PA' in column 'CAND_ST' and only 'P' in column 'CAND_OFFICE'."
      ]
    },
    {
      "cell_type": "code",
      "execution_count": null,
      "id": "8be39475-e092-4f00-a15a-ff9a46fd4960",
      "metadata": {
        "tags": [],
        "id": "8be39475-e092-4f00-a15a-ff9a46fd4960",
        "outputId": "2bef4797-9cdc-4353-b96e-1dee7dd309cb"
      },
      "outputs": [
        {
          "name": "stdout",
          "output_type": "stream",
          "text": [
            " * postgresql://student@/candidate\n",
            "Done.\n"
          ]
        },
        {
          "data": {
            "text/plain": [
              "[]"
            ]
          },
          "execution_count": 126,
          "metadata": {},
          "output_type": "execute_result"
        }
      ],
      "source": [
        "%%sql\n",
        "CREATE OR REPLACE VIEW temp3 AS\n",
        "SELECT cand_id, cand_name, CAND_ST\n",
        "FROM CANDIDATE\n",
        "WHERE CAND_ST in ('NY','PA') AND CAND_OFFICE IN ('P')"
      ]
    },
    {
      "cell_type": "markdown",
      "id": "82fb5cdc-586e-4404-a353-b02da0bb996e",
      "metadata": {
        "id": "82fb5cdc-586e-4404-a353-b02da0bb996e"
      },
      "source": [
        "* Check the view."
      ]
    },
    {
      "cell_type": "code",
      "execution_count": null,
      "id": "449fb6b6-ba69-48aa-9799-eb04b7b2acff",
      "metadata": {
        "id": "449fb6b6-ba69-48aa-9799-eb04b7b2acff",
        "outputId": "158b2fdc-73f5-4a8f-ffd6-ae64b8b9cbb5"
      },
      "outputs": [
        {
          "name": "stdout",
          "output_type": "stream",
          "text": [
            " * postgresql://student@/candidate\n",
            "10 rows affected.\n"
          ]
        },
        {
          "data": {
            "text/html": [
              "<table>\n",
              "    <thead>\n",
              "        <tr>\n",
              "            <th>cand_id</th>\n",
              "            <th>cand_name</th>\n",
              "            <th>cand_st</th>\n",
              "        </tr>\n",
              "    </thead>\n",
              "    <tbody>\n",
              "        <tr>\n",
              "            <td>P00003244</td>\n",
              "            <td>WINTERBOTTOM, THOMAS FRANCIS</td>\n",
              "            <td>PA</td>\n",
              "        </tr>\n",
              "        <tr>\n",
              "            <td>P00003392</td>\n",
              "            <td>CLINTON, HILLARY RODHAM / TIMOTHY MICHAEL KAINE</td>\n",
              "            <td>NY</td>\n",
              "        </tr>\n",
              "        <tr>\n",
              "            <td>P00003731</td>\n",
              "            <td>MARTIN, ANDY</td>\n",
              "            <td>NY</td>\n",
              "        </tr>\n",
              "        <tr>\n",
              "            <td>P00003756</td>\n",
              "            <td>MARTISKO, MIKE BENJAMIN</td>\n",
              "            <td>PA</td>\n",
              "        </tr>\n",
              "        <tr>\n",
              "            <td>P00004135</td>\n",
              "            <td>HANKINS, GERALD LAMAR MR</td>\n",
              "            <td>PA</td>\n",
              "        </tr>\n",
              "        <tr>\n",
              "            <td>P00004846</td>\n",
              "            <td>IWACHIW, WALTER N</td>\n",
              "            <td>NY</td>\n",
              "        </tr>\n",
              "        <tr>\n",
              "            <td>P00004887</td>\n",
              "            <td>GABLE, JEREMY JOSEPH MR.</td>\n",
              "            <td>PA</td>\n",
              "        </tr>\n",
              "        <tr>\n",
              "            <td>P00004945</td>\n",
              "            <td>HOWITT, JAMES WILLIAM</td>\n",
              "            <td>NY</td>\n",
              "        </tr>\n",
              "        <tr>\n",
              "            <td>P00005041</td>\n",
              "            <td>LASSITER, JORDAN R</td>\n",
              "            <td>NY</td>\n",
              "        </tr>\n",
              "        <tr>\n",
              "            <td>P00005256</td>\n",
              "            <td>DENAME, MICHAEL TONY MICHAEL JR</td>\n",
              "            <td>NY</td>\n",
              "        </tr>\n",
              "    </tbody>\n",
              "</table>"
            ],
            "text/plain": [
              "[('P00003244', 'WINTERBOTTOM, THOMAS FRANCIS', 'PA'),\n",
              " ('P00003392', 'CLINTON, HILLARY RODHAM / TIMOTHY MICHAEL KAINE', 'NY'),\n",
              " ('P00003731', 'MARTIN, ANDY', 'NY'),\n",
              " ('P00003756', 'MARTISKO, MIKE BENJAMIN', 'PA'),\n",
              " ('P00004135', 'HANKINS, GERALD LAMAR MR', 'PA'),\n",
              " ('P00004846', 'IWACHIW, WALTER N', 'NY'),\n",
              " ('P00004887', 'GABLE, JEREMY JOSEPH MR.', 'PA'),\n",
              " ('P00004945', 'HOWITT, JAMES WILLIAM', 'NY'),\n",
              " ('P00005041', 'LASSITER, JORDAN R', 'NY'),\n",
              " ('P00005256', 'DENAME, MICHAEL TONY MICHAEL JR', 'NY')]"
            ]
          },
          "execution_count": 127,
          "metadata": {},
          "output_type": "execute_result"
        }
      ],
      "source": [
        "%%sql \n",
        "SELECT *\n",
        "FROM temp3\n",
        "LIMIT 10;"
      ]
    },
    {
      "cell_type": "markdown",
      "id": "824be698-8a72-44cc-ad93-f336891f4577",
      "metadata": {
        "id": "824be698-8a72-44cc-ad93-f336891f4577"
      },
      "source": [
        "* Create another view, 'temp4', with only columns 'CMTE_ID' and 'CMNT_NM' of the 'COMMITTEE' table."
      ]
    },
    {
      "cell_type": "code",
      "execution_count": null,
      "id": "d2b4e656-44bd-4952-8ec7-f1b3a1517985",
      "metadata": {
        "id": "d2b4e656-44bd-4952-8ec7-f1b3a1517985",
        "outputId": "ad9474bf-df95-47b3-deb6-4ad9e335111c"
      },
      "outputs": [
        {
          "name": "stdout",
          "output_type": "stream",
          "text": [
            " * postgresql://student@/candidate\n",
            "Done.\n"
          ]
        },
        {
          "data": {
            "text/plain": [
              "[]"
            ]
          },
          "execution_count": 128,
          "metadata": {},
          "output_type": "execute_result"
        }
      ],
      "source": [
        "%%sql \n",
        "CREATE OR REPLACE VIEW temp4 AS\n",
        "SELECT cmte_id, cmte_nm\n",
        "FROM COMMITTEE;"
      ]
    },
    {
      "cell_type": "markdown",
      "id": "2d65a578-7c22-471c-ae80-d1756d7f4fdb",
      "metadata": {
        "id": "2d65a578-7c22-471c-ae80-d1756d7f4fdb"
      },
      "source": [
        "* Check the view."
      ]
    },
    {
      "cell_type": "code",
      "execution_count": null,
      "id": "a9138205-1817-409e-a384-f4320dcf15ae",
      "metadata": {
        "id": "a9138205-1817-409e-a384-f4320dcf15ae",
        "outputId": "836dfcf1-4431-4361-fd14-b034544b21b7"
      },
      "outputs": [
        {
          "name": "stdout",
          "output_type": "stream",
          "text": [
            " * postgresql://student@/candidate\n",
            "10 rows affected.\n"
          ]
        },
        {
          "data": {
            "text/html": [
              "<table>\n",
              "    <thead>\n",
              "        <tr>\n",
              "            <th>cmte_id</th>\n",
              "            <th>cmte_nm</th>\n",
              "        </tr>\n",
              "    </thead>\n",
              "    <tbody>\n",
              "        <tr>\n",
              "            <td>C00000422</td>\n",
              "            <td>AMERICAN MEDICAL ASSOCIATION POLITICAL ACTION COMMITTEE</td>\n",
              "        </tr>\n",
              "        <tr>\n",
              "            <td>C00000489</td>\n",
              "            <td>D R I V E POLITICAL FUND CHAPTER 886</td>\n",
              "        </tr>\n",
              "        <tr>\n",
              "            <td>C00000547</td>\n",
              "            <td>KANSAS MEDICAL SOCIETY POLITICAL ACTION COMMITTEE</td>\n",
              "        </tr>\n",
              "        <tr>\n",
              "            <td>C00000638</td>\n",
              "            <td>INDIANA STATE MEDICAL ASSOCIATION POLITICAL ACTION COMMITTEE</td>\n",
              "        </tr>\n",
              "        <tr>\n",
              "            <td>C00000729</td>\n",
              "            <td>AMERICAN DENTAL ASSOCIATION POLITICAL ACTION COMMITTEE</td>\n",
              "        </tr>\n",
              "        <tr>\n",
              "            <td>C00000885</td>\n",
              "            <td>INTERNATIONAL UNION OF PAINTERS AND ALLIED TRADES POLITICAL ACTION TOGETHER POLITICAL COMMITTEE</td>\n",
              "        </tr>\n",
              "        <tr>\n",
              "            <td>C00000901</td>\n",
              "            <td>BUILD POLITICAL ACTION COMMITTEE OF THE NATIONAL ASSOCIATION OF HOME BUILDERS (BUILDPAC)</td>\n",
              "        </tr>\n",
              "        <tr>\n",
              "            <td>C00000935</td>\n",
              "            <td>DCCC</td>\n",
              "        </tr>\n",
              "        <tr>\n",
              "            <td>C00000984</td>\n",
              "            <td>UNITED STATES TELECOM ASSOCIATION POLITICAL ACTION COMMITTEE (TELECOMPAC)</td>\n",
              "        </tr>\n",
              "        <tr>\n",
              "            <td>C00001016</td>\n",
              "            <td>CARPENTERS LEGISLATIVE IMPROVEMENT COMMITTEE UNITED BROTHERHOOD OF CARPENTERS AND JOINERS</td>\n",
              "        </tr>\n",
              "    </tbody>\n",
              "</table>"
            ],
            "text/plain": [
              "[('C00000422', 'AMERICAN MEDICAL ASSOCIATION POLITICAL ACTION COMMITTEE'),\n",
              " ('C00000489', 'D R I V E POLITICAL FUND CHAPTER 886'),\n",
              " ('C00000547', 'KANSAS MEDICAL SOCIETY POLITICAL ACTION COMMITTEE'),\n",
              " ('C00000638', 'INDIANA STATE MEDICAL ASSOCIATION POLITICAL ACTION COMMITTEE'),\n",
              " ('C00000729', 'AMERICAN DENTAL ASSOCIATION POLITICAL ACTION COMMITTEE'),\n",
              " ('C00000885', 'INTERNATIONAL UNION OF PAINTERS AND ALLIED TRADES POLITICAL ACTION TOGETHER POLITICAL COMMITTEE'),\n",
              " ('C00000901', 'BUILD POLITICAL ACTION COMMITTEE OF THE NATIONAL ASSOCIATION OF HOME BUILDERS (BUILDPAC)'),\n",
              " ('C00000935', 'DCCC'),\n",
              " ('C00000984', 'UNITED STATES TELECOM ASSOCIATION POLITICAL ACTION COMMITTEE (TELECOMPAC)'),\n",
              " ('C00001016', 'CARPENTERS LEGISLATIVE IMPROVEMENT COMMITTEE UNITED BROTHERHOOD OF CARPENTERS AND JOINERS')]"
            ]
          },
          "execution_count": 129,
          "metadata": {},
          "output_type": "execute_result"
        }
      ],
      "source": [
        "%%sql \n",
        "SELECT *\n",
        "FROM temp4\n",
        "LIMIT 10;"
      ]
    },
    {
      "cell_type": "markdown",
      "id": "d1e54deb-1805-4483-a353-693e4295c516",
      "metadata": {
        "id": "d1e54deb-1805-4483-a353-693e4295c516"
      },
      "source": [
        "* Select columns 'CAND_ID', 'CAND_NAME', 'CAND_ST', 'CMTE_NM' from the 'cclinkages' table, and inner join it with 'temp3' by 'CAND_ID' and inner join with 'temp4' by 'CMTE_ID'."
      ]
    },
    {
      "cell_type": "code",
      "execution_count": null,
      "id": "7e51e0bc-3b44-4b26-be67-2d5e54a0d394",
      "metadata": {
        "id": "7e51e0bc-3b44-4b26-be67-2d5e54a0d394",
        "outputId": "676e3592-553e-4740-b355-a6793ede6e25"
      },
      "outputs": [
        {
          "name": "stdout",
          "output_type": "stream",
          "text": [
            " * postgresql://student@/candidate\n",
            "93 rows affected.\n"
          ]
        },
        {
          "data": {
            "text/html": [
              "<table>\n",
              "    <thead>\n",
              "        <tr>\n",
              "            <th>cand_id</th>\n",
              "            <th>cand_name</th>\n",
              "            <th>cand_st</th>\n",
              "            <th>cmte_nm</th>\n",
              "        </tr>\n",
              "    </thead>\n",
              "    <tbody>\n",
              "        <tr>\n",
              "            <td>P00003244</td>\n",
              "            <td>WINTERBOTTOM, THOMAS FRANCIS</td>\n",
              "            <td>PA</td>\n",
              "            <td>THOMAS F WINTERBOTTOM FOR PRESIDENT</td>\n",
              "        </tr>\n",
              "        <tr>\n",
              "            <td>P00003392</td>\n",
              "            <td>CLINTON, HILLARY RODHAM / TIMOTHY MICHAEL KAINE</td>\n",
              "            <td>NY</td>\n",
              "            <td>PEOPLE IN COMMAND/PIC</td>\n",
              "        </tr>\n",
              "        <tr>\n",
              "            <td>P00003392</td>\n",
              "            <td>CLINTON, HILLARY RODHAM / TIMOTHY MICHAEL KAINE</td>\n",
              "            <td>NY</td>\n",
              "            <td>FUTURE OF AMERICAN LIVES MATTER</td>\n",
              "        </tr>\n",
              "        <tr>\n",
              "            <td>P00003392</td>\n",
              "            <td>CLINTON, HILLARY RODHAM / TIMOTHY MICHAEL KAINE</td>\n",
              "            <td>NY</td>\n",
              "            <td>HILLARY FOR AMERICA</td>\n",
              "        </tr>\n",
              "        <tr>\n",
              "            <td>P00003731</td>\n",
              "            <td>MARTIN, ANDY</td>\n",
              "            <td>NY</td>\n",
              "            <td>ANDY MARTIN CAMPAIGN COMMITTEE</td>\n",
              "        </tr>\n",
              "        <tr>\n",
              "            <td>P00004846</td>\n",
              "            <td>IWACHIW, WALTER N</td>\n",
              "            <td>NY</td>\n",
              "            <td>IWACHIW4PRESIDENT INC</td>\n",
              "        </tr>\n",
              "        <tr>\n",
              "            <td>P00004887</td>\n",
              "            <td>GABLE, JEREMY JOSEPH MR.</td>\n",
              "            <td>PA</td>\n",
              "            <td>HEY, JEREMY GABLE IS RUNNING FOR PRESIDENT</td>\n",
              "        </tr>\n",
              "        <tr>\n",
              "            <td>P00004945</td>\n",
              "            <td>HOWITT, JAMES WILLIAM</td>\n",
              "            <td>NY</td>\n",
              "            <td>HOWITT FOR PRESIDENT</td>\n",
              "        </tr>\n",
              "        <tr>\n",
              "            <td>P20002440</td>\n",
              "            <td>DENAME, MICHAEL JR</td>\n",
              "            <td>NY</td>\n",
              "            <td>DENAME, MICHAEL JR</td>\n",
              "        </tr>\n",
              "        <tr>\n",
              "            <td>P20002481</td>\n",
              "            <td>RAMOS, LUIS ALBERTO JR</td>\n",
              "            <td>NY</td>\n",
              "            <td>RAMOS FOR AMERICA</td>\n",
              "        </tr>\n",
              "        <tr>\n",
              "            <td>P20002721</td>\n",
              "            <td>SANTORUM, RICHARD J.</td>\n",
              "            <td>PA</td>\n",
              "            <td>RICK SANTORUM FOR PRESIDENT, INC. (2012)</td>\n",
              "        </tr>\n",
              "        <tr>\n",
              "            <td>P20002721</td>\n",
              "            <td>SANTORUM, RICHARD J.</td>\n",
              "            <td>PA</td>\n",
              "            <td>SANTORUM FOR PRESIDENT 2016</td>\n",
              "        </tr>\n",
              "        <tr>\n",
              "            <td>P20002796</td>\n",
              "            <td>RUDICK, CHARLES MICHAEL</td>\n",
              "            <td>NY</td>\n",
              "            <td>CAMPAIGN CLUB</td>\n",
              "        </tr>\n",
              "        <tr>\n",
              "            <td>P20002986</td>\n",
              "            <td>POWERS, C</td>\n",
              "            <td>NY</td>\n",
              "            <td>CPOWERS CAMPAIGN</td>\n",
              "        </tr>\n",
              "        <tr>\n",
              "            <td>P20003042</td>\n",
              "            <td>LAX MILLER, LORETTA</td>\n",
              "            <td>PA</td>\n",
              "            <td>COMMITTEE TO ELECT LEAH LAX</td>\n",
              "        </tr>\n",
              "        <tr>\n",
              "            <td>P20004008</td>\n",
              "            <td>BEJGER, DANIEL J</td>\n",
              "            <td>PA</td>\n",
              "            <td>COMMITTEE FOR DANIEL J BEJGER PRESIDENT OF THE UNITED STATES</td>\n",
              "        </tr>\n",
              "        <tr>\n",
              "            <td>P20004461</td>\n",
              "            <td>NABEL, GREGORY</td>\n",
              "            <td>NY</td>\n",
              "            <td>GREGORY NABEL FOR PRESIDENT ELECTION 2012</td>\n",
              "        </tr>\n",
              "        <tr>\n",
              "            <td>P20004537</td>\n",
              "            <td>SLOAN, SAM</td>\n",
              "            <td>NY</td>\n",
              "            <td>COMMITTEE TO ELECT SAM SLOAN</td>\n",
              "        </tr>\n",
              "        <tr>\n",
              "            <td>P20004537</td>\n",
              "            <td>SLOAN, SAM</td>\n",
              "            <td>NY</td>\n",
              "            <td>COMMITTEE TO ELECT SAM SLOAN</td>\n",
              "        </tr>\n",
              "        <tr>\n",
              "            <td>P20004909</td>\n",
              "            <td>SANDERA, ROBERT WILLIAM</td>\n",
              "            <td>PA</td>\n",
              "            <td>ROBERT SANDERA FOR PRESIDENT COMMITTEE</td>\n",
              "        </tr>\n",
              "        <tr>\n",
              "            <td>P20005054</td>\n",
              "            <td>FRASER, GEORGE LASCELLES PETRO BONITAC</td>\n",
              "            <td>NY</td>\n",
              "            <td>LITON MARY SOSA RATY</td>\n",
              "        </tr>\n",
              "        <tr>\n",
              "            <td>P20005336</td>\n",
              "            <td>STEVENSON, JOHN WILLIAM MR III</td>\n",
              "            <td>PA</td>\n",
              "            <td>STEVENSON FOR PRESIDENT 2032</td>\n",
              "        </tr>\n",
              "        <tr>\n",
              "            <td>P40002404</td>\n",
              "            <td>SHARPTON, REV ALFRED C</td>\n",
              "            <td>NY</td>\n",
              "            <td>SHARPTON 2004</td>\n",
              "        </tr>\n",
              "        <tr>\n",
              "            <td>P40002446</td>\n",
              "            <td>MOLLENHOUR, GRADY DEAN REV JR</td>\n",
              "            <td>NY</td>\n",
              "            <td>2020 VISION FOR AMERICA</td>\n",
              "        </tr>\n",
              "        <tr>\n",
              "            <td>P60004785</td>\n",
              "            <td>COLE, BRIAN ARI DR</td>\n",
              "            <td>PA</td>\n",
              "            <td>DR. BRIAN ARI COLE 2016 CAMPAIGN FOR U S PRESIDENT; THE</td>\n",
              "        </tr>\n",
              "        <tr>\n",
              "            <td>P60004900</td>\n",
              "            <td>JEROBOAN, KINS</td>\n",
              "            <td>NY</td>\n",
              "            <td>JEROBOAN FOR PRESIDENT</td>\n",
              "        </tr>\n",
              "        <tr>\n",
              "            <td>P60005261</td>\n",
              "            <td>JUSTICE, BRENDA DAWN</td>\n",
              "            <td>NY</td>\n",
              "            <td>BRENDA DAWN JUSTICE</td>\n",
              "        </tr>\n",
              "        <tr>\n",
              "            <td>P60005261</td>\n",
              "            <td>JUSTICE, BRENDA DAWN</td>\n",
              "            <td>NY</td>\n",
              "            <td>BRENDA DAWN JUSTICE</td>\n",
              "        </tr>\n",
              "        <tr>\n",
              "            <td>P60005931</td>\n",
              "            <td>BUTTOCKS, SYDNEYS VOLUPTOUS</td>\n",
              "            <td>NY</td>\n",
              "            <td>SYD BUTTOCKS COMMITTEE; THE</td>\n",
              "        </tr>\n",
              "        <tr>\n",
              "            <td>P60006152</td>\n",
              "            <td>SHEPARD, RYAN W MR.</td>\n",
              "            <td>NY</td>\n",
              "            <td>COMMITTEE TO ELECT RYAN SHEPARD</td>\n",
              "        </tr>\n",
              "        <tr>\n",
              "            <td>P60006160</td>\n",
              "            <td>RHODES, LEE</td>\n",
              "            <td>NY</td>\n",
              "            <td>FRIENDS OF LEE RHODES</td>\n",
              "        </tr>\n",
              "        <tr>\n",
              "            <td>P60006210</td>\n",
              "            <td>IRWIN, THOMAS J</td>\n",
              "            <td>PA</td>\n",
              "            <td>TOM IRWIN FOR PRESIDENT</td>\n",
              "        </tr>\n",
              "        <tr>\n",
              "            <td>P60006632</td>\n",
              "            <td>NAGEL, ERIC</td>\n",
              "            <td>NY</td>\n",
              "            <td>COMMITTEE TO ELECT ERIC NAGEL</td>\n",
              "        </tr>\n",
              "        <tr>\n",
              "            <td>P60006749</td>\n",
              "            <td>LYNCH, WILLIAM THOMAS MR</td>\n",
              "            <td>NY</td>\n",
              "            <td>COMMITTEE TO ELECT WILLIAM LYNCH PRESIDENT</td>\n",
              "        </tr>\n",
              "        <tr>\n",
              "            <td>P60006772</td>\n",
              "            <td>OWENS, WARREN PATRICK</td>\n",
              "            <td>NY</td>\n",
              "            <td>(WARREN OWENS) UNCOMMON COMMON MAN</td>\n",
              "        </tr>\n",
              "        <tr>\n",
              "            <td>P60006905</td>\n",
              "            <td>UHRIC, RAYMOND JOHN</td>\n",
              "            <td>PA</td>\n",
              "            <td>COMMITTEE TO ELECT RAY UHRIC</td>\n",
              "        </tr>\n",
              "        <tr>\n",
              "            <td>P60006954</td>\n",
              "            <td>LYNCH, DENNIS MICHAEL</td>\n",
              "            <td>NY</td>\n",
              "            <td>DML FOR AMERICA</td>\n",
              "        </tr>\n",
              "        <tr>\n",
              "            <td>P60007531</td>\n",
              "            <td>SLEGGS, MARK MR.</td>\n",
              "            <td>NY</td>\n",
              "            <td>COMMITTEE TO ELECT MARK SLEGGS</td>\n",
              "        </tr>\n",
              "        <tr>\n",
              "            <td>P60007572</td>\n",
              "            <td>PATAKI, GEORGE E</td>\n",
              "            <td>NY</td>\n",
              "            <td>PATAKI FOR PRESIDENT INC</td>\n",
              "        </tr>\n",
              "        <tr>\n",
              "            <td>P60007689</td>\n",
              "            <td>KEITA, MOHAMMED</td>\n",
              "            <td>NY</td>\n",
              "            <td>SEAVIEW GROUP LLC</td>\n",
              "        </tr>\n",
              "        <tr>\n",
              "            <td>P60007804</td>\n",
              "            <td>KATT, CORNELIUS JANNIK</td>\n",
              "            <td>PA</td>\n",
              "            <td>KATT COMMITTEE FOR PRESIDENT</td>\n",
              "        </tr>\n",
              "        <tr>\n",
              "            <td>P60008042</td>\n",
              "            <td>CASTILLEJOS, MICHAEL</td>\n",
              "            <td>NY</td>\n",
              "            <td>MICHAEL CASTILLEJOS FOR PRESIDENT</td>\n",
              "        </tr>\n",
              "        <tr>\n",
              "            <td>P60008158</td>\n",
              "            <td>GRIMALDI, NEIL</td>\n",
              "            <td>NY</td>\n",
              "            <td>NEIL GRIMALDI FOR US PRESIDENT</td>\n",
              "        </tr>\n",
              "        <tr>\n",
              "            <td>P60008919</td>\n",
              "            <td>DREW, ARTHUR</td>\n",
              "            <td>PA</td>\n",
              "            <td>ART DREW FOR PRESIDENT</td>\n",
              "        </tr>\n",
              "        <tr>\n",
              "            <td>P60008943</td>\n",
              "            <td>MARTINX, ANDY</td>\n",
              "            <td>NY</td>\n",
              "            <td>ANDY MARTIN FOR AMERICA</td>\n",
              "        </tr>\n",
              "        <tr>\n",
              "            <td>P60009081</td>\n",
              "            <td>REED, ROBERT J MR</td>\n",
              "            <td>NY</td>\n",
              "            <td>COMMITTEE TO ELECT BOB</td>\n",
              "        </tr>\n",
              "        <tr>\n",
              "            <td>P60009206</td>\n",
              "            <td>BRITT, JOSEPH PATRICK JR</td>\n",
              "            <td>NY</td>\n",
              "            <td>JOE BRITT JR 2016 PRESIDENTIAL &quot;WHAT IF?&quot; CAMPAIGN COMMITTEE</td>\n",
              "        </tr>\n",
              "        <tr>\n",
              "            <td>P60010303</td>\n",
              "            <td>HAMLIN, QUINN</td>\n",
              "            <td>NY</td>\n",
              "            <td>QUINN FOR AMERICA</td>\n",
              "        </tr>\n",
              "        <tr>\n",
              "            <td>P60010956</td>\n",
              "            <td>RUSSO, MUGSY</td>\n",
              "            <td>NY</td>\n",
              "            <td>NYC COFFEE PARTY</td>\n",
              "        </tr>\n",
              "        <tr>\n",
              "            <td>P60011558</td>\n",
              "            <td>HURT, SAMUEL LEVI RABBI</td>\n",
              "            <td>PA</td>\n",
              "            <td>COMMITTEE TO ELECT SAMUEL</td>\n",
              "        </tr>\n",
              "        <tr>\n",
              "            <td>P60011855</td>\n",
              "            <td>REISBORD, SAMUEL M.</td>\n",
              "            <td>PA</td>\n",
              "            <td>SAM REISBORD FOR PRESIDENT 2016</td>\n",
              "        </tr>\n",
              "        <tr>\n",
              "            <td>P60012192</td>\n",
              "            <td>VAYNBLAT, SAMUEL R MR</td>\n",
              "            <td>NY</td>\n",
              "            <td>COMMITTEE TO RESTORE AMERICA TO POWER</td>\n",
              "        </tr>\n",
              "        <tr>\n",
              "            <td>P60012267</td>\n",
              "            <td>PARADISE, CHRISTOPHER JOHN SENIOR</td>\n",
              "            <td>PA</td>\n",
              "            <td>PARADISE COMMITTE</td>\n",
              "        </tr>\n",
              "        <tr>\n",
              "            <td>P60012283</td>\n",
              "            <td>PAUL, JEFF</td>\n",
              "            <td>NY</td>\n",
              "            <td>NY HAITIAN STUDENT ALLIANCE</td>\n",
              "        </tr>\n",
              "        <tr>\n",
              "            <td>P60012754</td>\n",
              "            <td>TESENY, PAUL ANTHONY MR</td>\n",
              "            <td>PA</td>\n",
              "            <td>PAULTESENY2016</td>\n",
              "        </tr>\n",
              "        <tr>\n",
              "            <td>P60012754</td>\n",
              "            <td>TESENY, PAUL ANTHONY MR</td>\n",
              "            <td>PA</td>\n",
              "            <td>PAULTESENY2016</td>\n",
              "        </tr>\n",
              "        <tr>\n",
              "            <td>P60012952</td>\n",
              "            <td>KUMRO, CHRISTOPHER EVERETT</td>\n",
              "            <td>NY</td>\n",
              "            <td>TAXMAN FOR PRESIDENT</td>\n",
              "        </tr>\n",
              "        <tr>\n",
              "            <td>P60013158</td>\n",
              "            <td>DANIELSON, STENTOR</td>\n",
              "            <td>PA</td>\n",
              "            <td>HAPPY LAUGHTERSON&#x27;S MERRY BAND OF UNICORNS FOR STENTOR DANIELSON</td>\n",
              "        </tr>\n",
              "        <tr>\n",
              "            <td>P60013471</td>\n",
              "            <td>EXLEY, JOHN SBB DOCTOR</td>\n",
              "            <td>NY</td>\n",
              "            <td>JOHN EXLEY IN 2016 SBB</td>\n",
              "        </tr>\n",
              "        <tr>\n",
              "            <td>P60013620</td>\n",
              "            <td>HOWARD, CHELENIE</td>\n",
              "            <td>NY</td>\n",
              "            <td>CHELENIE?S SELF</td>\n",
              "        </tr>\n",
              "        <tr>\n",
              "            <td>P60013919</td>\n",
              "            <td>NORTHUP, PETER MR. II</td>\n",
              "            <td>NY</td>\n",
              "            <td>NORTHUP</td>\n",
              "        </tr>\n",
              "        <tr>\n",
              "            <td>P60014735</td>\n",
              "            <td>MARTIN, ANDREW NOMORECPD</td>\n",
              "            <td>NY</td>\n",
              "            <td>NOMORECPD 2016 PRESIDENTIAL CAMPAIGN COMMITTEE</td>\n",
              "        </tr>\n",
              "        <tr>\n",
              "            <td>P60015971</td>\n",
              "            <td>EBY, CHANDLER KADE</td>\n",
              "            <td>PA</td>\n",
              "            <td>THE EBY FOUNDATION</td>\n",
              "        </tr>\n",
              "        <tr>\n",
              "            <td>P60016292</td>\n",
              "            <td>SCHWEIGERT, MARGARET ELIZABETH</td>\n",
              "            <td>NY</td>\n",
              "            <td>COMMITTEE TO ELECT MARGARET SCHWEIGERT FOR PRESIDENT</td>\n",
              "        </tr>\n",
              "        <tr>\n",
              "            <td>P60016458</td>\n",
              "            <td>WEBBER, DAVID A</td>\n",
              "            <td>NY</td>\n",
              "            <td>DAVE WEBBER FOR AMERICA</td>\n",
              "        </tr>\n",
              "        <tr>\n",
              "            <td>P60016763</td>\n",
              "            <td>LOUP, TONY</td>\n",
              "            <td>NY</td>\n",
              "            <td>COMMITTEE TO ELECT TONY LOUP</td>\n",
              "        </tr>\n",
              "        <tr>\n",
              "            <td>P60016805</td>\n",
              "            <td>MCMILLAN, JIMMY &quot;RENT IS TOO DAMN HIGH</td>\n",
              "            <td>NY</td>\n",
              "            <td>JIMMY MCMILLAN IN 2016</td>\n",
              "        </tr>\n",
              "        <tr>\n",
              "            <td>P60017241</td>\n",
              "            <td>BEDIO, DENISE</td>\n",
              "            <td>PA</td>\n",
              "            <td>VOTE DENISE BEDIO</td>\n",
              "        </tr>\n",
              "        <tr>\n",
              "            <td>P60017266</td>\n",
              "            <td>JEKYLL, DR.</td>\n",
              "            <td>NY</td>\n",
              "            <td>DR. JEKYLL FOR AMERICA</td>\n",
              "        </tr>\n",
              "        <tr>\n",
              "            <td>P60017977</td>\n",
              "            <td>JACKSON, CRAIG ASHLEY DR. JR.</td>\n",
              "            <td>PA</td>\n",
              "            <td>CJ JACKSON FOR PRESIDENT 2016</td>\n",
              "        </tr>\n",
              "        <tr>\n",
              "            <td>P60018389</td>\n",
              "            <td>ROY, JOHN CHARLES</td>\n",
              "            <td>PA</td>\n",
              "            <td>JOHN ROY 4 PRESIDENT</td>\n",
              "        </tr>\n",
              "        <tr>\n",
              "            <td>P60018421</td>\n",
              "            <td>COURTOIS, DAKOTA</td>\n",
              "            <td>NY</td>\n",
              "            <td>DAKOTA COURTOIS FOR PRESIDENT</td>\n",
              "        </tr>\n",
              "        <tr>\n",
              "            <td>P60019080</td>\n",
              "            <td>MCCALL, BENSON MR</td>\n",
              "            <td>NY</td>\n",
              "            <td>LETS FIX AMERICA FIX AMERICA FIRST</td>\n",
              "        </tr>\n",
              "        <tr>\n",
              "            <td>P60020765</td>\n",
              "            <td>BEATTY, KEVIN WILLIAM</td>\n",
              "            <td>PA</td>\n",
              "            <td>KEV4PREZ2016</td>\n",
              "        </tr>\n",
              "        <tr>\n",
              "            <td>P60020898</td>\n",
              "            <td>ARENA, ROBERT JOSEPH MR. JR.</td>\n",
              "            <td>NY</td>\n",
              "            <td>ROBERT J ARENA PRESIDENTAL COMMITTEE</td>\n",
              "        </tr>\n",
              "        <tr>\n",
              "            <td>P60020906</td>\n",
              "            <td>AUBIN, MARK-CHRISTIAN ANTHONY MR</td>\n",
              "            <td>NY</td>\n",
              "            <td>MARK-CHRISTIAN ANTHONY AUBIN</td>\n",
              "        </tr>\n",
              "        <tr>\n",
              "            <td>P60020906</td>\n",
              "            <td>AUBIN, MARK-CHRISTIAN ANTHONY MR</td>\n",
              "            <td>NY</td>\n",
              "            <td>MARK FOR THE NEXT GENERATION LLC.</td>\n",
              "        </tr>\n",
              "        <tr>\n",
              "            <td>P60021581</td>\n",
              "            <td>GROSS, YAIR</td>\n",
              "            <td>NY</td>\n",
              "            <td>YAIR FOR PRESIDENT</td>\n",
              "        </tr>\n",
              "        <tr>\n",
              "            <td>P60022118</td>\n",
              "            <td>FERRY, CHARLES GRIFFITH</td>\n",
              "            <td>NY</td>\n",
              "            <td>CONSERVATIVE PARTY NATIONAL COMMITTEE</td>\n",
              "        </tr>\n",
              "        <tr>\n",
              "            <td>P60022118</td>\n",
              "            <td>FERRY, CHARLES GRIFFITH</td>\n",
              "            <td>NY</td>\n",
              "            <td>COMMITTEE TO ELECT CHARLES GRIFFITH FERRY</td>\n",
              "        </tr>\n",
              "        <tr>\n",
              "            <td>P60022118</td>\n",
              "            <td>FERRY, CHARLES GRIFFITH</td>\n",
              "            <td>NY</td>\n",
              "            <td>CONSERVATIVE PARTY OF THESE UNITED STATES</td>\n",
              "        </tr>\n",
              "        <tr>\n",
              "            <td>P60022555</td>\n",
              "            <td>LASH, KEN</td>\n",
              "            <td>PA</td>\n",
              "            <td>KEN LASH OF KELASH</td>\n",
              "        </tr>\n",
              "        <tr>\n",
              "            <td>P60023074</td>\n",
              "            <td>CANNS, GARY S</td>\n",
              "            <td>NY</td>\n",
              "            <td>GARY CANNS</td>\n",
              "        </tr>\n",
              "        <tr>\n",
              "            <td>P60023173</td>\n",
              "            <td>GOMEZ, NELSON</td>\n",
              "            <td>NY</td>\n",
              "            <td>GOMEZIDENT FOR PRESIDENT</td>\n",
              "        </tr>\n",
              "        <tr>\n",
              "            <td>P60023439</td>\n",
              "            <td>CARROZZA, ALBERT KENNETH</td>\n",
              "            <td>NY</td>\n",
              "            <td>ALBERT KENNETH CARROZZA LLC.</td>\n",
              "        </tr>\n",
              "        <tr>\n",
              "            <td>P80001571</td>\n",
              "            <td>TRUMP, DONALD J. / MICHAEL R. PENCE </td>\n",
              "            <td>NY</td>\n",
              "            <td>DONALD J. TRUMP FOR PRESIDENT, INC.</td>\n",
              "        </tr>\n",
              "        <tr>\n",
              "            <td>P80001571</td>\n",
              "            <td>TRUMP, DONALD J. / MICHAEL R. PENCE </td>\n",
              "            <td>NY</td>\n",
              "            <td>VERMONT TRUMP DELEGATE FUND</td>\n",
              "        </tr>\n",
              "        <tr>\n",
              "            <td>P80004765</td>\n",
              "            <td>HEWES, HENRY</td>\n",
              "            <td>NY</td>\n",
              "            <td>HENRY HEWES 2016 COMMITTEE</td>\n",
              "        </tr>\n",
              "        <tr>\n",
              "            <td>P80005135</td>\n",
              "            <td>BOOTIE, JOHN KENNETH</td>\n",
              "            <td>PA</td>\n",
              "            <td>JOHN BOOTIE 2008</td>\n",
              "        </tr>\n",
              "        <tr>\n",
              "            <td>P80005325</td>\n",
              "            <td>BOND, TANYA ELIZABETH DR REV</td>\n",
              "            <td>PA</td>\n",
              "            <td>CITY COMMISSION DOCUMENT UNIT</td>\n",
              "        </tr>\n",
              "        <tr>\n",
              "            <td>P80005655</td>\n",
              "            <td>STEVENS, THOMAS ROBERT</td>\n",
              "            <td>NY</td>\n",
              "            <td>COMMITTEE TO ELECT THOMAS ROBERT STEVENS PRESIDENT</td>\n",
              "        </tr>\n",
              "        <tr>\n",
              "            <td>P80005697</td>\n",
              "            <td>LIMER, CLIFTON ROY JOHN JR</td>\n",
              "            <td>NY</td>\n",
              "            <td>INDEPENDENT NY CLIFTON ROY JOHN LIMER JR</td>\n",
              "        </tr>\n",
              "        <tr>\n",
              "            <td>P80005754</td>\n",
              "            <td>DE NUGENT, JOHN</td>\n",
              "            <td>PA</td>\n",
              "            <td>JOHN DE NUGENT FOR PRESIDENT</td>\n",
              "        </tr>\n",
              "    </tbody>\n",
              "</table>"
            ],
            "text/plain": [
              "[('P00003244', 'WINTERBOTTOM, THOMAS FRANCIS', 'PA', 'THOMAS F WINTERBOTTOM FOR PRESIDENT'),\n",
              " ('P00003392', 'CLINTON, HILLARY RODHAM / TIMOTHY MICHAEL KAINE', 'NY', 'PEOPLE IN COMMAND/PIC'),\n",
              " ('P00003392', 'CLINTON, HILLARY RODHAM / TIMOTHY MICHAEL KAINE', 'NY', 'FUTURE OF AMERICAN LIVES MATTER'),\n",
              " ('P00003392', 'CLINTON, HILLARY RODHAM / TIMOTHY MICHAEL KAINE', 'NY', 'HILLARY FOR AMERICA'),\n",
              " ('P00003731', 'MARTIN, ANDY', 'NY', 'ANDY MARTIN CAMPAIGN COMMITTEE'),\n",
              " ('P00004846', 'IWACHIW, WALTER N', 'NY', 'IWACHIW4PRESIDENT INC'),\n",
              " ('P00004887', 'GABLE, JEREMY JOSEPH MR.', 'PA', 'HEY, JEREMY GABLE IS RUNNING FOR PRESIDENT'),\n",
              " ('P00004945', 'HOWITT, JAMES WILLIAM', 'NY', 'HOWITT FOR PRESIDENT'),\n",
              " ('P20002440', 'DENAME, MICHAEL JR', 'NY', 'DENAME, MICHAEL JR'),\n",
              " ('P20002481', 'RAMOS, LUIS ALBERTO JR', 'NY', 'RAMOS FOR AMERICA'),\n",
              " ('P20002721', 'SANTORUM, RICHARD J.', 'PA', 'RICK SANTORUM FOR PRESIDENT, INC. (2012)'),\n",
              " ('P20002721', 'SANTORUM, RICHARD J.', 'PA', 'SANTORUM FOR PRESIDENT 2016'),\n",
              " ('P20002796', 'RUDICK, CHARLES MICHAEL', 'NY', 'CAMPAIGN CLUB'),\n",
              " ('P20002986', 'POWERS, C', 'NY', 'CPOWERS CAMPAIGN'),\n",
              " ('P20003042', 'LAX MILLER, LORETTA', 'PA', 'COMMITTEE TO ELECT LEAH LAX'),\n",
              " ('P20004008', 'BEJGER, DANIEL J', 'PA', 'COMMITTEE FOR DANIEL J BEJGER PRESIDENT OF THE UNITED STATES'),\n",
              " ('P20004461', 'NABEL, GREGORY', 'NY', 'GREGORY NABEL FOR PRESIDENT ELECTION 2012'),\n",
              " ('P20004537', 'SLOAN, SAM', 'NY', 'COMMITTEE TO ELECT SAM SLOAN'),\n",
              " ('P20004537', 'SLOAN, SAM', 'NY', 'COMMITTEE TO ELECT SAM SLOAN'),\n",
              " ('P20004909', 'SANDERA, ROBERT WILLIAM', 'PA', 'ROBERT SANDERA FOR PRESIDENT COMMITTEE'),\n",
              " ('P20005054', 'FRASER, GEORGE LASCELLES PETRO BONITAC', 'NY', 'LITON MARY SOSA RATY'),\n",
              " ('P20005336', 'STEVENSON, JOHN WILLIAM MR III', 'PA', 'STEVENSON FOR PRESIDENT 2032'),\n",
              " ('P40002404', 'SHARPTON, REV ALFRED C', 'NY', 'SHARPTON 2004'),\n",
              " ('P40002446', 'MOLLENHOUR, GRADY DEAN REV JR', 'NY', '2020 VISION FOR AMERICA'),\n",
              " ('P60004785', 'COLE, BRIAN ARI DR', 'PA', 'DR. BRIAN ARI COLE 2016 CAMPAIGN FOR U S PRESIDENT; THE'),\n",
              " ('P60004900', 'JEROBOAN, KINS', 'NY', 'JEROBOAN FOR PRESIDENT'),\n",
              " ('P60005261', 'JUSTICE, BRENDA DAWN', 'NY', 'BRENDA DAWN JUSTICE'),\n",
              " ('P60005261', 'JUSTICE, BRENDA DAWN', 'NY', 'BRENDA DAWN JUSTICE'),\n",
              " ('P60005931', 'BUTTOCKS, SYDNEYS VOLUPTOUS', 'NY', 'SYD BUTTOCKS COMMITTEE; THE'),\n",
              " ('P60006152', 'SHEPARD, RYAN W MR.', 'NY', 'COMMITTEE TO ELECT RYAN SHEPARD'),\n",
              " ('P60006160', 'RHODES, LEE', 'NY', 'FRIENDS OF LEE RHODES'),\n",
              " ('P60006210', 'IRWIN, THOMAS J', 'PA', 'TOM IRWIN FOR PRESIDENT'),\n",
              " ('P60006632', 'NAGEL, ERIC', 'NY', 'COMMITTEE TO ELECT ERIC NAGEL'),\n",
              " ('P60006749', 'LYNCH, WILLIAM THOMAS MR', 'NY', 'COMMITTEE TO ELECT WILLIAM LYNCH PRESIDENT'),\n",
              " ('P60006772', 'OWENS, WARREN PATRICK', 'NY', '(WARREN OWENS) UNCOMMON COMMON MAN'),\n",
              " ('P60006905', 'UHRIC, RAYMOND JOHN', 'PA', 'COMMITTEE TO ELECT RAY UHRIC'),\n",
              " ('P60006954', 'LYNCH, DENNIS MICHAEL', 'NY', 'DML FOR AMERICA'),\n",
              " ('P60007531', 'SLEGGS, MARK MR.', 'NY', 'COMMITTEE TO ELECT MARK SLEGGS'),\n",
              " ('P60007572', 'PATAKI, GEORGE E', 'NY', 'PATAKI FOR PRESIDENT INC'),\n",
              " ('P60007689', 'KEITA, MOHAMMED', 'NY', 'SEAVIEW GROUP LLC'),\n",
              " ('P60007804', 'KATT, CORNELIUS JANNIK', 'PA', 'KATT COMMITTEE FOR PRESIDENT'),\n",
              " ('P60008042', 'CASTILLEJOS, MICHAEL', 'NY', 'MICHAEL CASTILLEJOS FOR PRESIDENT'),\n",
              " ('P60008158', 'GRIMALDI, NEIL', 'NY', 'NEIL GRIMALDI FOR US PRESIDENT'),\n",
              " ('P60008919', 'DREW, ARTHUR', 'PA', 'ART DREW FOR PRESIDENT'),\n",
              " ('P60008943', 'MARTINX, ANDY', 'NY', 'ANDY MARTIN FOR AMERICA'),\n",
              " ('P60009081', 'REED, ROBERT J MR', 'NY', 'COMMITTEE TO ELECT BOB'),\n",
              " ('P60009206', 'BRITT, JOSEPH PATRICK JR', 'NY', 'JOE BRITT JR 2016 PRESIDENTIAL \"WHAT IF?\" CAMPAIGN COMMITTEE'),\n",
              " ('P60010303', 'HAMLIN, QUINN', 'NY', 'QUINN FOR AMERICA'),\n",
              " ('P60010956', 'RUSSO, MUGSY', 'NY', 'NYC COFFEE PARTY'),\n",
              " ('P60011558', 'HURT, SAMUEL LEVI RABBI', 'PA', 'COMMITTEE TO ELECT SAMUEL'),\n",
              " ('P60011855', 'REISBORD, SAMUEL M.', 'PA', 'SAM REISBORD FOR PRESIDENT 2016'),\n",
              " ('P60012192', 'VAYNBLAT, SAMUEL R MR', 'NY', 'COMMITTEE TO RESTORE AMERICA TO POWER'),\n",
              " ('P60012267', 'PARADISE, CHRISTOPHER JOHN SENIOR', 'PA', 'PARADISE COMMITTE'),\n",
              " ('P60012283', 'PAUL, JEFF', 'NY', 'NY HAITIAN STUDENT ALLIANCE'),\n",
              " ('P60012754', 'TESENY, PAUL ANTHONY MR', 'PA', 'PAULTESENY2016'),\n",
              " ('P60012754', 'TESENY, PAUL ANTHONY MR', 'PA', 'PAULTESENY2016'),\n",
              " ('P60012952', 'KUMRO, CHRISTOPHER EVERETT', 'NY', 'TAXMAN FOR PRESIDENT'),\n",
              " ('P60013158', 'DANIELSON, STENTOR', 'PA', \"HAPPY LAUGHTERSON'S MERRY BAND OF UNICORNS FOR STENTOR DANIELSON\"),\n",
              " ('P60013471', 'EXLEY, JOHN SBB DOCTOR', 'NY', 'JOHN EXLEY IN 2016 SBB'),\n",
              " ('P60013620', 'HOWARD, CHELENIE', 'NY', 'CHELENIE?S SELF'),\n",
              " ('P60013919', 'NORTHUP, PETER MR. II', 'NY', 'NORTHUP'),\n",
              " ('P60014735', 'MARTIN, ANDREW NOMORECPD', 'NY', 'NOMORECPD 2016 PRESIDENTIAL CAMPAIGN COMMITTEE'),\n",
              " ('P60015971', 'EBY, CHANDLER KADE', 'PA', 'THE EBY FOUNDATION'),\n",
              " ('P60016292', 'SCHWEIGERT, MARGARET ELIZABETH', 'NY', 'COMMITTEE TO ELECT MARGARET SCHWEIGERT FOR PRESIDENT'),\n",
              " ('P60016458', 'WEBBER, DAVID A', 'NY', 'DAVE WEBBER FOR AMERICA'),\n",
              " ('P60016763', 'LOUP, TONY', 'NY', 'COMMITTEE TO ELECT TONY LOUP'),\n",
              " ('P60016805', 'MCMILLAN, JIMMY \"RENT IS TOO DAMN HIGH', 'NY', 'JIMMY MCMILLAN IN 2016'),\n",
              " ('P60017241', 'BEDIO, DENISE', 'PA', 'VOTE DENISE BEDIO'),\n",
              " ('P60017266', 'JEKYLL, DR.', 'NY', 'DR. JEKYLL FOR AMERICA'),\n",
              " ('P60017977', 'JACKSON, CRAIG ASHLEY DR. JR.', 'PA', 'CJ JACKSON FOR PRESIDENT 2016'),\n",
              " ('P60018389', 'ROY, JOHN CHARLES', 'PA', 'JOHN ROY 4 PRESIDENT'),\n",
              " ('P60018421', 'COURTOIS, DAKOTA', 'NY', 'DAKOTA COURTOIS FOR PRESIDENT'),\n",
              " ('P60019080', 'MCCALL, BENSON MR', 'NY', 'LETS FIX AMERICA FIX AMERICA FIRST'),\n",
              " ('P60020765', 'BEATTY, KEVIN WILLIAM', 'PA', 'KEV4PREZ2016'),\n",
              " ('P60020898', 'ARENA, ROBERT JOSEPH MR. JR.', 'NY', 'ROBERT J ARENA PRESIDENTAL COMMITTEE'),\n",
              " ('P60020906', 'AUBIN, MARK-CHRISTIAN ANTHONY MR', 'NY', 'MARK-CHRISTIAN ANTHONY AUBIN'),\n",
              " ('P60020906', 'AUBIN, MARK-CHRISTIAN ANTHONY MR', 'NY', 'MARK FOR THE NEXT GENERATION LLC.'),\n",
              " ('P60021581', 'GROSS, YAIR', 'NY', 'YAIR FOR PRESIDENT'),\n",
              " ('P60022118', 'FERRY, CHARLES GRIFFITH', 'NY', 'CONSERVATIVE PARTY NATIONAL COMMITTEE'),\n",
              " ('P60022118', 'FERRY, CHARLES GRIFFITH', 'NY', 'COMMITTEE TO ELECT CHARLES GRIFFITH FERRY'),\n",
              " ('P60022118', 'FERRY, CHARLES GRIFFITH', 'NY', 'CONSERVATIVE PARTY OF THESE UNITED STATES'),\n",
              " ('P60022555', 'LASH, KEN', 'PA', 'KEN LASH OF KELASH'),\n",
              " ('P60023074', 'CANNS, GARY S', 'NY', 'GARY CANNS'),\n",
              " ('P60023173', 'GOMEZ, NELSON', 'NY', 'GOMEZIDENT FOR PRESIDENT'),\n",
              " ('P60023439', 'CARROZZA, ALBERT KENNETH', 'NY', 'ALBERT KENNETH CARROZZA LLC.'),\n",
              " ('P80001571', 'TRUMP, DONALD J. / MICHAEL R. PENCE ', 'NY', 'DONALD J. TRUMP FOR PRESIDENT, INC.'),\n",
              " ('P80001571', 'TRUMP, DONALD J. / MICHAEL R. PENCE ', 'NY', 'VERMONT TRUMP DELEGATE FUND'),\n",
              " ('P80004765', 'HEWES, HENRY', 'NY', 'HENRY HEWES 2016 COMMITTEE'),\n",
              " ('P80005135', 'BOOTIE, JOHN KENNETH', 'PA', 'JOHN BOOTIE 2008'),\n",
              " ('P80005325', 'BOND, TANYA ELIZABETH DR REV', 'PA', 'CITY COMMISSION DOCUMENT UNIT'),\n",
              " ('P80005655', 'STEVENS, THOMAS ROBERT', 'NY', 'COMMITTEE TO ELECT THOMAS ROBERT STEVENS PRESIDENT'),\n",
              " ('P80005697', 'LIMER, CLIFTON ROY JOHN JR', 'NY', 'INDEPENDENT NY CLIFTON ROY JOHN LIMER JR'),\n",
              " ('P80005754', 'DE NUGENT, JOHN', 'PA', 'JOHN DE NUGENT FOR PRESIDENT')]"
            ]
          },
          "execution_count": 130,
          "metadata": {},
          "output_type": "execute_result"
        }
      ],
      "source": [
        "%%sql\n",
        "SELECT cclinkages.cand_id, cand_name, cand_st, cmte_nm\n",
        "FROM cclinkages \n",
        "INNER JOIN temp3 on temp3.cand_id = cclinkages.cand_id\n",
        "INNER JOIN temp4 on temp4.cmte_id = cclinkages.cmte_id"
      ]
    },
    {
      "cell_type": "code",
      "execution_count": null,
      "id": "85a4dbc4-5ecc-4501-ac66-958ef8f40f81",
      "metadata": {
        "id": "85a4dbc4-5ecc-4501-ac66-958ef8f40f81"
      },
      "outputs": [],
      "source": [
        ""
      ]
    }
  ],
  "metadata": {
    "kernelspec": {
      "display_name": "Python 3 (ipykernel)",
      "language": "python",
      "name": "python3"
    },
    "language_info": {
      "codemirror_mode": {
        "name": "ipython",
        "version": 3
      },
      "file_extension": ".py",
      "mimetype": "text/x-python",
      "name": "python",
      "nbconvert_exporter": "python",
      "pygments_lexer": "ipython3",
      "version": "3.8.10"
    },
    "colab": {
      "name": "Group Project 2.ipynb",
      "provenance": [],
      "include_colab_link": true
    }
  },
  "nbformat": 4,
  "nbformat_minor": 5
}