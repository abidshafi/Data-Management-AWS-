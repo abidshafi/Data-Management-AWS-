{
  "cells": [
    {
      "cell_type": "markdown",
      "metadata": {
        "id": "view-in-github",
        "colab_type": "text"
      },
      "source": [
        "<a href=\"https://colab.research.google.com/github/abidshafi/Data-Management-AWS-/blob/main/Assignment3_Fall_2021.ipynb\" target=\"_parent\"><img src=\"https://colab.research.google.com/assets/colab-badge.svg\" alt=\"Open In Colab\"/></a>"
      ]
    },
    {
      "cell_type": "markdown",
      "metadata": {
        "id": "OYWEnes0Hi-v"
      },
      "source": [
        "# Exercise 03 - Due Monday, Nov 22 at 4 pm\n",
        "\n",
        "*Objectives*: Use Spark to process and perform basic analysis on non-relational data, including its DataFrame and SQL interfaces.\n",
        "\n",
        "*Grading criteria*: The tasks should all be completed, and questions should all be answered with Python code, SQL queries, shell commands, and markdown cells.  The notebook itself should be completely reproducible (using AWS EC2 instance based on the provided AMI) from start to finish; another person should be able to use the code to obtain the same results as yours.  Note that you will receive no more than partial credit if you do not add text/markdown cells explaining your thinking when appropriate.\n",
        "\n",
        "*Deadline*: Monday, November 22, 4 pm. "
      ]
    },
    {
      "cell_type": "markdown",
      "metadata": {
        "tags": [],
        "id": "p5gjFDoJHi-w"
      },
      "source": [
        "## Part 1 - Setup\n",
        "\n",
        "Begin by setting up Spark and fetching the project data.  \n",
        "\n",
        "**Note**: you may want to use a larger EC2 instance type than normal.  This project was prepared using a `t2.xlarge` instance.  Just remember that the larger the instance, the higher the per-hour charge, so be sure to remember to shut your instance down when you're done, as always.\n",
        "\n",
        "### About the data\n",
        "\n",
        "We will use JSON data from Twitter; we saw an example of this in class.  It should parse cleanly, allowing you to focus on analysis.\n",
        "\n",
        "This data was gathered during a game of the MLB World Series in 2017 featuring the Los Angeles Dodgers and Houston Astros.  This first file tells you a little bit about how it was gathered:"
      ]
    },
    {
      "cell_type": "code",
      "execution_count": null,
      "metadata": {
        "id": "o6bVeRBDHi-w",
        "outputId": "6fdcba4c-7649-450a-eb8b-f83a3f3560d0"
      },
      "outputs": [
        {
          "name": "stdout",
          "output_type": "stream",
          "text": [
            "--2021-11-20 06:16:15--  https://s3.amazonaws.com/2017-dmfa/project-3/9670f3399f774789b7c3e18975d25611-README.txt\n",
            "Resolving s3.amazonaws.com (s3.amazonaws.com)... 52.217.225.240\n",
            "Connecting to s3.amazonaws.com (s3.amazonaws.com)|52.217.225.240|:443... connected.\n",
            "HTTP request sent, awaiting response... 200 OK\n",
            "Length: 1920 (1.9K) [text/plain]\n",
            "Saving to: ‘9670f3399f774789b7c3e18975d25611-README.txt’\n",
            "\n",
            "9670f3399f774789b7c 100%[===================>]   1.88K  --.-KB/s    in 0s      \n",
            "\n",
            "2021-11-20 06:16:15 (98.1 MB/s) - ‘9670f3399f774789b7c3e18975d25611-README.txt’ saved [1920/1920]\n",
            "\n"
          ]
        }
      ],
      "source": [
        "!wget https://s3.amazonaws.com/2017-dmfa/project-3/9670f3399f774789b7c3e18975d25611-README.txt"
      ]
    },
    {
      "cell_type": "code",
      "execution_count": null,
      "metadata": {
        "id": "6BQ4jbOAHi-x",
        "outputId": "9e717b77-c3ea-4973-faae-bb76ebe38c99"
      },
      "outputs": [
        {
          "name": "stdout",
          "output_type": "stream",
          "text": [
            "This is an export created with Social Feed Manager.\n",
            "\n",
            "EXPORT INFORMATION\n",
            "Selected seeds: All seeds\n",
            "Export id: 9670f3399f774789b7c3e18975d25611\n",
            "Export type: twitter_filter\n",
            "Format: Full JSON\n",
            "Export completed:  Oct. 30, 2017, 11:21:04 p.m. EDT\n",
            "Deduplicate: No\n",
            "\n",
            "COLLECTION INFORMATION\n",
            "Collection name: test set for world series\n",
            "Collection id: 34e3f7460b5c4df09d64a1e61fd81238\n",
            "Collection set: mlb-test (collection set id d6e8c27b1bc942e78790aa55a82b3a7a)\n",
            "Harvest type: Twitter filter\n",
            "Collection description: running for just one hour, just for fun.\n",
            "\n",
            "Harvest options:\n",
            "Media: No\n",
            "Web resources: No\n",
            "\n",
            "Seeds:\n",
            "* Track: dodgers,astros - Active\n",
            "\n",
            "Change log:\n",
            "\n",
            "Change to test set for world series (collection) on Oct. 30, 2017, 10:59:56 p.m. EDT by dchud:\n",
            "* is_active: \"True\" changed to \"False\"\n",
            "\n",
            "Change to test set for world series (collection) on Oct. 30, 2017, 10:58:51 p.m. EDT by dchud:\n",
            "* is_on: \"True\" changed to \"False\"\n",
            "\n",
            "Change to test set for world series (collection) on Oct. 29, 2017, 8:01:24 p.m. EDT by dchud:\n",
            "* is_on: \"False\" changed to \"True\"\n",
            "\n",
            "Change to Track: dodgers,astros (seed) on Oct. 29, 2017, 8:01:21 p.m. EDT by dchud:\n",
            "* token: \"blank\" changed to \"{\"track\": \"dodgers,astros\"}\"\n",
            "* is_active: \"blank\" changed to \"True\"\n",
            "\n",
            "Change to test set for world series (collection) on Oct. 29, 2017, 8:01:06 p.m. EDT by dchud:\n",
            "* credential: \"blank\" changed to \"dchud's twitter credential\"\n",
            "* harvest_type: \"blank\" changed to \"twitter_filter\"\n",
            "* is_on: \"blank\" changed to \"False\"\n",
            "* end_date: \"blank\" changed to \"Oct. 31, 2017, 8:00:38 p.m. EDT\"\n",
            "* description: \"blank\" changed to \"running for just one hour, just for fun.\"\n",
            "* collection_set: \"blank\" changed to \"mlb-test\"\n",
            "* is_active: \"blank\" changed to \"True\"\n",
            "* visibility: \"blank\" changed to \"default\"\n",
            "* harvest_options: \"blank\" changed to \"{\"media\": false, \"web_resources\": false}\"\n",
            "* name: \"blank\" changed to \"test set for world series\"\n",
            "\n",
            "\n",
            "Created on Oct. 30, 2017, 11:21:04 p.m. EDT\n"
          ]
        }
      ],
      "source": [
        "!cat 9670f3399f774789b7c3e18975d25611-README.txt"
      ]
    },
    {
      "cell_type": "markdown",
      "metadata": {
        "id": "7mBg-S3rHi-x"
      },
      "source": [
        "The most important pieces in that metadata are:\n",
        "\n",
        " * It tracked tweets that mentioned \"dodgers\" or \"astros\".  Every item in this set should refer to one or the other, or both.\n",
        " * This data was not deduplicated; we may see individual items more than once.\n",
        " * Data was collected between October 29 and October 30.  Game 5 of the Series was played during this time.\n",
        " \n",
        "You should not need to know anything about baseball to complete this assignment.\n",
        "\n",
        "**Please note**: sometimes social media data contains offensive material.  This data set has not been filtered; if you do come across something inappropriate, please do your best to ignore it if you can."
      ]
    },
    {
      "cell_type": "markdown",
      "metadata": {
        "id": "VgQBJ6DRHi-x"
      },
      "source": [
        "## Fetch the data\n",
        "\n",
        "The following files are available:\n",
        "\n",
        " * https://s3.amazonaws.com/2017-dmfa/project-3/9670f3399f774789b7c3e18975d25611_003.json\n",
        " * https://s3.amazonaws.com/2017-dmfa/project-3/9670f3399f774789b7c3e18975d25611_004.json\n",
        " * https://s3.amazonaws.com/2017-dmfa/project-3/9670f3399f774789b7c3e18975d25611_005.json\n",
        " * https://s3.amazonaws.com/2017-dmfa/project-3/9670f3399f774789b7c3e18975d25611_006.json\n",
        " \n",
        "### Q1.1 - Select at least two and obtain them using `wget`.  Verify the file sizes using the command line. (5 points)\n",
        "\n",
        "Each file should contain exactly 100,000 tweets.  \n",
        "\n",
        "*Note*: you are only required to use two of these files, but you may use 3 or more.  It will be easier to process more data if you use a larger EC2 instance type, as suggested above.  Use the exact same set of files throughout the assignment.\n",
        "\n",
        "**Answer**"
      ]
    },
    {
      "cell_type": "code",
      "execution_count": null,
      "metadata": {
        "id": "jG3acHkkHi-x",
        "outputId": "9ef4cead-48d0-43dc-cd47-51cf21a6be37"
      },
      "outputs": [
        {
          "name": "stdout",
          "output_type": "stream",
          "text": [
            "--2021-11-20 06:16:26--  https://s3.amazonaws.com/2017-dmfa/project-3/9670f3399f774789b7c3e18975d25611_003.json\n",
            "Resolving s3.amazonaws.com (s3.amazonaws.com)... 52.216.248.14\n",
            "Connecting to s3.amazonaws.com (s3.amazonaws.com)|52.216.248.14|:443... connected.\n",
            "HTTP request sent, awaiting response... 200 OK\n",
            "Length: 595711407 (568M) [application/json]\n",
            "Saving to: ‘9670f3399f774789b7c3e18975d25611_003.json’\n",
            "\n",
            "9670f3399f774789b7c 100%[===================>] 568.11M  49.0MB/s    in 13s     \n",
            "\n",
            "2021-11-20 06:16:39 (42.3 MB/s) - ‘9670f3399f774789b7c3e18975d25611_003.json’ saved [595711407/595711407]\n",
            "\n"
          ]
        }
      ],
      "source": [
        "# Edit your answer here, adding more cells as needed\n",
        "!wget https://s3.amazonaws.com/2017-dmfa/project-3/9670f3399f774789b7c3e18975d25611_003.json #first file"
      ]
    },
    {
      "cell_type": "code",
      "execution_count": null,
      "metadata": {
        "id": "2Viktm9ZHi-x",
        "outputId": "de1e514e-0841-4b77-a3d7-bdba7ee3f94b"
      },
      "outputs": [
        {
          "name": "stdout",
          "output_type": "stream",
          "text": [
            "--2021-11-20 06:16:41--  https://s3.amazonaws.com/2017-dmfa/project-3/9670f3399f774789b7c3e18975d25611_004.json\n",
            "Resolving s3.amazonaws.com (s3.amazonaws.com)... 52.217.17.70\n",
            "Connecting to s3.amazonaws.com (s3.amazonaws.com)|52.217.17.70|:443... connected.\n",
            "HTTP request sent, awaiting response... 200 OK\n",
            "Length: 549995846 (525M) [application/json]\n",
            "Saving to: ‘9670f3399f774789b7c3e18975d25611_004.json’\n",
            "\n",
            "9670f3399f774789b7c 100%[===================>] 524.52M  21.5MB/s    in 15s     \n",
            "\n",
            "2021-11-20 06:16:55 (36.1 MB/s) - ‘9670f3399f774789b7c3e18975d25611_004.json’ saved [549995846/549995846]\n",
            "\n"
          ]
        }
      ],
      "source": [
        "# Edit your answer here, adding more cells as needed\n",
        "!wget https://s3.amazonaws.com/2017-dmfa/project-3/9670f3399f774789b7c3e18975d25611_004.json #second file"
      ]
    },
    {
      "cell_type": "markdown",
      "metadata": {
        "id": "pVr0Q0jDHi-y"
      },
      "source": [
        "For your reference, here is the text of one Tweet, randomly selected from one of these files.  You might wish to study its structure and refer to it later."
      ]
    },
    {
      "cell_type": "code",
      "execution_count": null,
      "metadata": {
        "id": "J12rcgvGHi-y"
      },
      "outputs": [],
      "source": [
        "!cat *.json | shuf -n 1 > example-tweet.json"
      ]
    },
    {
      "cell_type": "code",
      "execution_count": null,
      "metadata": {
        "id": "sMUXMV8xHi-y",
        "outputId": "092bb7c6-594f-4926-9ed3-819f9a096119"
      },
      "outputs": [
        {
          "name": "stdout",
          "output_type": "stream",
          "text": [
            "{\n",
            "  \"quote_count\": 0,\n",
            "  \"contributors\": null,\n",
            "  \"truncated\": false,\n",
            "  \"text\": \"RT @HtOwNzOuTLaW713: THE LEGEND OF BREGMAN CONTINUES!!!! ASTROS WIN!!!! 3-2 #Earnhistory https://t.co/2dKFYKbmOy\",\n",
            "  \"is_quote_status\": false,\n",
            "  \"in_reply_to_status_id\": null,\n",
            "  \"reply_count\": 0,\n",
            "  \"id\": 924877957499424768,\n",
            "  \"favorite_count\": 0,\n",
            "  \"entities\": {\n",
            "    \"user_mentions\": [\n",
            "      {\n",
            "        \"id\": 349940141,\n",
            "        \"indices\": [\n",
            "          3,\n",
            "          19\n",
            "        ],\n",
            "        \"id_str\": \"349940141\",\n",
            "        \"screen_name\": \"HtOwNzOuTLaW713\",\n",
            "        \"name\": \"Choke City \\ud83e\\udd18\\ud83c\\udffe\"\n",
            "      }\n",
            "    ],\n",
            "    \"symbols\": [],\n",
            "    \"hashtags\": [\n",
            "      {\n",
            "        \"indices\": [\n",
            "          76,\n",
            "          88\n",
            "        ],\n",
            "        \"text\": \"Earnhistory\"\n",
            "      }\n",
            "    ],\n",
            "    \"urls\": [],\n",
            "    \"media\": [\n",
            "      {\n",
            "        \"source_user_id\": 349940141,\n",
            "        \"source_status_id_str\": \"924873728973996032\",\n",
            "        \"expanded_url\": \"https://twitter.com/HtOwNzOuTLaW713/status/924873728973996032/photo/1\",\n",
            "        \"display_url\": \"pic.twitter.com/2dKFYKbmOy\",\n",
            "        \"url\": \"https://t.co/2dKFYKbmOy\",\n",
            "        \"media_url_https\": \"https://pbs.twimg.com/tweet_video_thumb/DNXPrZEUIAANHZh.jpg\",\n",
            "        \"source_user_id_str\": \"349940141\",\n",
            "        \"source_status_id\": 924873728973996032,\n",
            "        \"id_str\": \"924873642864812032\",\n",
            "        \"sizes\": {\n",
            "          \"small\": {\n",
            "            \"h\": 288,\n",
            "            \"resize\": \"fit\",\n",
            "            \"w\": 512\n",
            "          },\n",
            "          \"large\": {\n",
            "            \"h\": 288,\n",
            "            \"resize\": \"fit\",\n",
            "            \"w\": 512\n",
            "          },\n",
            "          \"medium\": {\n",
            "            \"h\": 288,\n",
            "            \"resize\": \"fit\",\n",
            "            \"w\": 512\n",
            "          },\n",
            "          \"thumb\": {\n",
            "            \"h\": 150,\n",
            "            \"resize\": \"crop\",\n",
            "            \"w\": 150\n",
            "          }\n",
            "        },\n",
            "        \"indices\": [\n",
            "          89,\n",
            "          112\n",
            "        ],\n",
            "        \"type\": \"photo\",\n",
            "        \"id\": 924873642864812032,\n",
            "        \"media_url\": \"http://pbs.twimg.com/tweet_video_thumb/DNXPrZEUIAANHZh.jpg\"\n",
            "      }\n",
            "    ]\n",
            "  },\n",
            "  \"retweeted\": false,\n",
            "  \"coordinates\": null,\n",
            "  \"timestamp_ms\": \"1509343063126\",\n",
            "  \"source\": \"<a href=\\\"http://twitter.com/download/iphone\\\" rel=\\\"nofollow\\\">Twitter for iPhone</a>\",\n",
            "  \"in_reply_to_screen_name\": null,\n",
            "  \"id_str\": \"924877957499424768\",\n",
            "  \"retweet_count\": 0,\n",
            "  \"in_reply_to_user_id\": null,\n",
            "  \"favorited\": false,\n",
            "  \"retweeted_status\": {\n",
            "    \"quote_count\": 0,\n",
            "    \"contributors\": null,\n",
            "    \"truncated\": false,\n",
            "    \"text\": \"THE LEGEND OF BREGMAN CONTINUES!!!! ASTROS WIN!!!! 3-2 #Earnhistory https://t.co/2dKFYKbmOy\",\n",
            "    \"is_quote_status\": false,\n",
            "    \"in_reply_to_status_id\": null,\n",
            "    \"reply_count\": 0,\n",
            "    \"id\": 924873728973996032,\n",
            "    \"favorite_count\": 27,\n",
            "    \"entities\": {\n",
            "      \"user_mentions\": [],\n",
            "      \"symbols\": [],\n",
            "      \"hashtags\": [\n",
            "        {\n",
            "          \"indices\": [\n",
            "            55,\n",
            "            67\n",
            "          ],\n",
            "          \"text\": \"Earnhistory\"\n",
            "        }\n",
            "      ],\n",
            "      \"urls\": [],\n",
            "      \"media\": [\n",
            "        {\n",
            "          \"expanded_url\": \"https://twitter.com/HtOwNzOuTLaW713/status/924873728973996032/photo/1\",\n",
            "          \"display_url\": \"pic.twitter.com/2dKFYKbmOy\",\n",
            "          \"url\": \"https://t.co/2dKFYKbmOy\",\n",
            "          \"media_url_https\": \"https://pbs.twimg.com/tweet_video_thumb/DNXPrZEUIAANHZh.jpg\",\n",
            "          \"id_str\": \"924873642864812032\",\n",
            "          \"sizes\": {\n",
            "            \"small\": {\n",
            "              \"h\": 288,\n",
            "              \"resize\": \"fit\",\n",
            "              \"w\": 512\n",
            "            },\n",
            "            \"large\": {\n",
            "              \"h\": 288,\n",
            "              \"resize\": \"fit\",\n",
            "              \"w\": 512\n",
            "            },\n",
            "            \"medium\": {\n",
            "              \"h\": 288,\n",
            "              \"resize\": \"fit\",\n",
            "              \"w\": 512\n",
            "            },\n",
            "            \"thumb\": {\n",
            "              \"h\": 150,\n",
            "              \"resize\": \"crop\",\n",
            "              \"w\": 150\n",
            "            }\n",
            "          },\n",
            "          \"indices\": [\n",
            "            68,\n",
            "            91\n",
            "          ],\n",
            "          \"type\": \"photo\",\n",
            "          \"id\": 924873642864812032,\n",
            "          \"media_url\": \"http://pbs.twimg.com/tweet_video_thumb/DNXPrZEUIAANHZh.jpg\"\n",
            "        }\n",
            "      ]\n",
            "    },\n",
            "    \"retweeted\": false,\n",
            "    \"coordinates\": null,\n",
            "    \"source\": \"<a href=\\\"http://twitter.com/download/iphone\\\" rel=\\\"nofollow\\\">Twitter for iPhone</a>\",\n",
            "    \"in_reply_to_screen_name\": null,\n",
            "    \"id_str\": \"924873728973996032\",\n",
            "    \"display_text_range\": [\n",
            "      0,\n",
            "      67\n",
            "    ],\n",
            "    \"retweet_count\": 26,\n",
            "    \"in_reply_to_user_id\": null,\n",
            "    \"favorited\": false,\n",
            "    \"user\": {\n",
            "      \"follow_request_sent\": null,\n",
            "      \"profile_use_background_image\": true,\n",
            "      \"default_profile_image\": false,\n",
            "      \"id\": 349940141,\n",
            "      \"default_profile\": false,\n",
            "      \"verified\": false,\n",
            "      \"profile_image_url_https\": \"https://pbs.twimg.com/profile_images/852674536298381312/HSJGU9e6_normal.jpg\",\n",
            "      \"profile_sidebar_fill_color\": \"DDEEF6\",\n",
            "      \"profile_text_color\": \"333333\",\n",
            "      \"followers_count\": 3441,\n",
            "      \"profile_sidebar_border_color\": \"C0DEED\",\n",
            "      \"id_str\": \"349940141\",\n",
            "      \"profile_background_color\": \"C0DEED\",\n",
            "      \"listed_count\": 99,\n",
            "      \"profile_background_image_url_https\": \"https://pbs.twimg.com/profile_background_images/572611049698783232/hdnDMDBx.jpeg\",\n",
            "      \"utc_offset\": -18000,\n",
            "      \"statuses_count\": 269285,\n",
            "      \"description\": \"I will always speak my mind. Plus you will either like me or get mad at what I tweeted. I'm also dreamin' of a championship. Rockets/Texans/Astros\",\n",
            "      \"friends_count\": 1312,\n",
            "      \"location\": \"Houston,Tx\",\n",
            "      \"profile_link_color\": \"0084B4\",\n",
            "      \"profile_image_url\": \"http://pbs.twimg.com/profile_images/852674536298381312/HSJGU9e6_normal.jpg\",\n",
            "      \"following\": null,\n",
            "      \"geo_enabled\": true,\n",
            "      \"profile_banner_url\": \"https://pbs.twimg.com/profile_banners/349940141/1446206491\",\n",
            "      \"profile_background_image_url\": \"http://pbs.twimg.com/profile_background_images/572611049698783232/hdnDMDBx.jpeg\",\n",
            "      \"name\": \"Choke City \\ud83e\\udd18\\ud83c\\udffe\",\n",
            "      \"lang\": \"en\",\n",
            "      \"profile_background_tile\": true,\n",
            "      \"favourites_count\": 6106,\n",
            "      \"screen_name\": \"HtOwNzOuTLaW713\",\n",
            "      \"notifications\": null,\n",
            "      \"url\": null,\n",
            "      \"created_at\": \"Sat Aug 06 23:29:21 +0000 2011\",\n",
            "      \"contributors_enabled\": false,\n",
            "      \"time_zone\": \"Central Time (US & Canada)\",\n",
            "      \"protected\": false,\n",
            "      \"translator_type\": \"none\",\n",
            "      \"is_translator\": false\n",
            "    },\n",
            "    \"geo\": null,\n",
            "    \"in_reply_to_user_id_str\": null,\n",
            "    \"possibly_sensitive\": true,\n",
            "    \"lang\": \"en\",\n",
            "    \"created_at\": \"Mon Oct 30 05:40:54 +0000 2017\",\n",
            "    \"filter_level\": \"low\",\n",
            "    \"in_reply_to_status_id_str\": null,\n",
            "    \"place\": null,\n",
            "    \"extended_entities\": {\n",
            "      \"media\": [\n",
            "        {\n",
            "          \"expanded_url\": \"https://twitter.com/HtOwNzOuTLaW713/status/924873728973996032/photo/1\",\n",
            "          \"display_url\": \"pic.twitter.com/2dKFYKbmOy\",\n",
            "          \"url\": \"https://t.co/2dKFYKbmOy\",\n",
            "          \"media_url_https\": \"https://pbs.twimg.com/tweet_video_thumb/DNXPrZEUIAANHZh.jpg\",\n",
            "          \"video_info\": {\n",
            "            \"aspect_ratio\": [\n",
            "              16,\n",
            "              9\n",
            "            ],\n",
            "            \"variants\": [\n",
            "              {\n",
            "                \"url\": \"https://video.twimg.com/tweet_video/DNXPrZEUIAANHZh.mp4\",\n",
            "                \"bitrate\": 0,\n",
            "                \"content_type\": \"video/mp4\"\n",
            "              }\n",
            "            ]\n",
            "          },\n",
            "          \"id_str\": \"924873642864812032\",\n",
            "          \"sizes\": {\n",
            "            \"small\": {\n",
            "              \"h\": 288,\n",
            "              \"resize\": \"fit\",\n",
            "              \"w\": 512\n",
            "            },\n",
            "            \"large\": {\n",
            "              \"h\": 288,\n",
            "              \"resize\": \"fit\",\n",
            "              \"w\": 512\n",
            "            },\n",
            "            \"medium\": {\n",
            "              \"h\": 288,\n",
            "              \"resize\": \"fit\",\n",
            "              \"w\": 512\n",
            "            },\n",
            "            \"thumb\": {\n",
            "              \"h\": 150,\n",
            "              \"resize\": \"crop\",\n",
            "              \"w\": 150\n",
            "            }\n",
            "          },\n",
            "          \"indices\": [\n",
            "            68,\n",
            "            91\n",
            "          ],\n",
            "          \"type\": \"animated_gif\",\n",
            "          \"id\": 924873642864812032,\n",
            "          \"media_url\": \"http://pbs.twimg.com/tweet_video_thumb/DNXPrZEUIAANHZh.jpg\"\n",
            "        }\n",
            "      ]\n",
            "    }\n",
            "  },\n",
            "  \"user\": {\n",
            "    \"follow_request_sent\": null,\n",
            "    \"profile_use_background_image\": true,\n",
            "    \"default_profile_image\": false,\n",
            "    \"id\": 63552031,\n",
            "    \"default_profile\": false,\n",
            "    \"verified\": false,\n",
            "    \"profile_image_url_https\": \"https://pbs.twimg.com/profile_images/880779033579073537/vWm_uxpx_normal.jpg\",\n",
            "    \"profile_sidebar_fill_color\": \"EFEFEF\",\n",
            "    \"profile_text_color\": \"333333\",\n",
            "    \"followers_count\": 485,\n",
            "    \"profile_sidebar_border_color\": \"EEEEEE\",\n",
            "    \"id_str\": \"63552031\",\n",
            "    \"profile_background_color\": \"131516\",\n",
            "    \"listed_count\": 2,\n",
            "    \"profile_background_image_url_https\": \"https://abs.twimg.com/images/themes/theme14/bg.gif\",\n",
            "    \"utc_offset\": -25200,\n",
            "    \"statuses_count\": 16270,\n",
            "    \"description\": \"#TeamNoesis #SBMT Vine/Kik/IG: DrewNerd23 Snapchat: noesisdrew Dec. 18\",\n",
            "    \"friends_count\": 2222,\n",
            "    \"location\": \"Houston, Tx\",\n",
            "    \"profile_link_color\": \"009999\",\n",
            "    \"profile_image_url\": \"http://pbs.twimg.com/profile_images/880779033579073537/vWm_uxpx_normal.jpg\",\n",
            "    \"following\": null,\n",
            "    \"geo_enabled\": true,\n",
            "    \"profile_banner_url\": \"https://pbs.twimg.com/profile_banners/63552031/1498829061\",\n",
            "    \"profile_background_image_url\": \"http://abs.twimg.com/images/themes/theme14/bg.gif\",\n",
            "    \"name\": \"#TeamNoesis\",\n",
            "    \"lang\": \"en\",\n",
            "    \"profile_background_tile\": true,\n",
            "    \"favourites_count\": 539,\n",
            "    \"screen_name\": \"DrewNerd23\",\n",
            "    \"notifications\": null,\n",
            "    \"url\": null,\n",
            "    \"created_at\": \"Thu Aug 06 21:54:41 +0000 2009\",\n",
            "    \"contributors_enabled\": false,\n",
            "    \"time_zone\": \"Pacific Time (US & Canada)\",\n",
            "    \"protected\": false,\n",
            "    \"translator_type\": \"none\",\n",
            "    \"is_translator\": false\n",
            "  },\n",
            "  \"geo\": null,\n",
            "  \"in_reply_to_user_id_str\": null,\n",
            "  \"possibly_sensitive\": false,\n",
            "  \"lang\": \"en\",\n",
            "  \"created_at\": \"Mon Oct 30 05:57:43 +0000 2017\",\n",
            "  \"filter_level\": \"low\",\n",
            "  \"in_reply_to_status_id_str\": null,\n",
            "  \"place\": null,\n",
            "  \"extended_entities\": {\n",
            "    \"media\": [\n",
            "      {\n",
            "        \"source_user_id\": 349940141,\n",
            "        \"source_status_id_str\": \"924873728973996032\",\n",
            "        \"expanded_url\": \"https://twitter.com/HtOwNzOuTLaW713/status/924873728973996032/photo/1\",\n",
            "        \"display_url\": \"pic.twitter.com/2dKFYKbmOy\",\n",
            "        \"url\": \"https://t.co/2dKFYKbmOy\",\n",
            "        \"media_url_https\": \"https://pbs.twimg.com/tweet_video_thumb/DNXPrZEUIAANHZh.jpg\",\n",
            "        \"source_user_id_str\": \"349940141\",\n",
            "        \"source_status_id\": 924873728973996032,\n",
            "        \"video_info\": {\n",
            "          \"aspect_ratio\": [\n",
            "            16,\n",
            "            9\n",
            "          ],\n",
            "          \"variants\": [\n",
            "            {\n",
            "              \"url\": \"https://video.twimg.com/tweet_video/DNXPrZEUIAANHZh.mp4\",\n",
            "              \"bitrate\": 0,\n",
            "              \"content_type\": \"video/mp4\"\n",
            "            }\n",
            "          ]\n",
            "        },\n",
            "        \"id_str\": \"924873642864812032\",\n",
            "        \"sizes\": {\n",
            "          \"small\": {\n",
            "            \"h\": 288,\n",
            "            \"resize\": \"fit\",\n",
            "            \"w\": 512\n",
            "          },\n",
            "          \"large\": {\n",
            "            \"h\": 288,\n",
            "            \"resize\": \"fit\",\n",
            "            \"w\": 512\n",
            "          },\n",
            "          \"medium\": {\n",
            "            \"h\": 288,\n",
            "            \"resize\": \"fit\",\n",
            "            \"w\": 512\n",
            "          },\n",
            "          \"thumb\": {\n",
            "            \"h\": 150,\n",
            "            \"resize\": \"crop\",\n",
            "            \"w\": 150\n",
            "          }\n",
            "        },\n",
            "        \"indices\": [\n",
            "          89,\n",
            "          112\n",
            "        ],\n",
            "        \"type\": \"animated_gif\",\n",
            "        \"id\": 924873642864812032,\n",
            "        \"media_url\": \"http://pbs.twimg.com/tweet_video_thumb/DNXPrZEUIAANHZh.jpg\"\n",
            "      }\n",
            "    ]\n",
            "  }\n",
            "}\n"
          ]
        }
      ],
      "source": [
        "import json\n",
        "print(json.dumps(json.load(open(\"example-tweet.json\")), indent=2))"
      ]
    },
    {
      "cell_type": "markdown",
      "metadata": {
        "id": "Mrqpq9yeHi-y"
      },
      "source": [
        "You can find several key elements in this example; the text, time, and language of the tweet, whether it was a reply to another user, the user's screen name along with their primary language and other account information like creation date, follower/friend/tweet counts, and perhaps their location.  If there are hashtags, user mentions, or urls present in their tweet, they will be present in the `entities` section; these are not present in every tweet.  If this is a retweet, you will see the original tweet and its information nested within."
      ]
    },
    {
      "cell_type": "markdown",
      "metadata": {
        "id": "HCmSVomBHi-y"
      },
      "source": [
        "Find the number of tweets using command line\n",
        "\n",
        "**Answer**"
      ]
    },
    {
      "cell_type": "code",
      "execution_count": null,
      "metadata": {
        "id": "2PXjEU62Hi-y",
        "outputId": "5ba3a5b1-3cfd-42ed-85ef-fde8b722a540"
      },
      "outputs": [
        {
          "name": "stdout",
          "output_type": "stream",
          "text": [
            "100000 9670f3399f774789b7c3e18975d25611_003.json\n"
          ]
        }
      ],
      "source": [
        "# Edit your answer here, adding more cells as needed\n",
        "!wc -l 9670f3399f774789b7c3e18975d25611_003.json"
      ]
    },
    {
      "cell_type": "code",
      "execution_count": null,
      "metadata": {
        "id": "cZKVFOWEHi-y",
        "outputId": "65549fc6-4468-4602-bde5-236fa408f0ee"
      },
      "outputs": [
        {
          "name": "stdout",
          "output_type": "stream",
          "text": [
            "100000 9670f3399f774789b7c3e18975d25611_004.json\n"
          ]
        }
      ],
      "source": [
        "# Edit your answer here, adding more cells as needed\n",
        "!wc -l 9670f3399f774789b7c3e18975d25611_004.json"
      ]
    },
    {
      "cell_type": "markdown",
      "metadata": {
        "id": "nrzWm93lHi-y"
      },
      "source": [
        "### Q1.2 - Start up Spark, and verify the file sizes. (5 Points)"
      ]
    },
    {
      "cell_type": "markdown",
      "metadata": {
        "id": "s9Wb6aLNHi-z"
      },
      "source": [
        "We will use our normal startup sequence here:"
      ]
    },
    {
      "cell_type": "code",
      "execution_count": null,
      "metadata": {
        "id": "wLH2x9wQHi-z"
      },
      "outputs": [],
      "source": [
        "import os"
      ]
    },
    {
      "cell_type": "code",
      "execution_count": null,
      "metadata": {
        "id": "dt-yrHYiHi-z"
      },
      "outputs": [],
      "source": [
        "os.environ['SPARK_HOME'] = '/usr/local/lib/spark'"
      ]
    },
    {
      "cell_type": "code",
      "execution_count": null,
      "metadata": {
        "id": "nFXXTk-kHi-z"
      },
      "outputs": [],
      "source": [
        "import findspark"
      ]
    },
    {
      "cell_type": "code",
      "execution_count": null,
      "metadata": {
        "id": "sViS74YcHi-z"
      },
      "outputs": [],
      "source": [
        "findspark.init()"
      ]
    },
    {
      "cell_type": "code",
      "execution_count": null,
      "metadata": {
        "id": "bs4Vu8rrHi-z"
      },
      "outputs": [],
      "source": [
        "from pyspark import SparkContext"
      ]
    },
    {
      "cell_type": "code",
      "execution_count": null,
      "metadata": {
        "id": "-PHaRVk_Hi-z",
        "outputId": "079b0a87-4c14-43d6-c9c3-d3f6ce058d23"
      },
      "outputs": [
        {
          "name": "stderr",
          "output_type": "stream",
          "text": [
            "21/11/20 06:18:44 WARN NativeCodeLoader: Unable to load native-hadoop library for your platform... using builtin-java classes where applicable\n",
            "Using Spark's default log4j profile: org/apache/spark/log4j-defaults.properties\n",
            "Setting default log level to \"WARN\".\n",
            "To adjust logging level use sc.setLogLevel(newLevel). For SparkR, use setLogLevel(newLevel).\n"
          ]
        }
      ],
      "source": [
        "spark = SparkContext(appName='Assignment-03')"
      ]
    },
    {
      "cell_type": "code",
      "execution_count": null,
      "metadata": {
        "id": "7GqreKxrHi-z",
        "outputId": "38e2739a-0c7e-42cd-c1ef-8dce7c45da10"
      },
      "outputs": [
        {
          "data": {
            "text/html": [
              "\n",
              "        <div>\n",
              "            <p><b>SparkContext</b></p>\n",
              "\n",
              "            <p><a href=\"http://ip-172-31-29-163.ec2.internal:4040\">Spark UI</a></p>\n",
              "\n",
              "            <dl>\n",
              "              <dt>Version</dt>\n",
              "                <dd><code>v3.1.2</code></dd>\n",
              "              <dt>Master</dt>\n",
              "                <dd><code>local[*]</code></dd>\n",
              "              <dt>AppName</dt>\n",
              "                <dd><code>Assignment-03</code></dd>\n",
              "            </dl>\n",
              "        </div>\n",
              "        "
            ],
            "text/plain": [
              "<SparkContext master=local[*] appName=Assignment-03>"
            ]
          },
          "execution_count": 22,
          "metadata": {},
          "output_type": "execute_result"
        }
      ],
      "source": [
        "spark"
      ]
    },
    {
      "cell_type": "code",
      "execution_count": null,
      "metadata": {
        "id": "uFC6hrwQHi-z"
      },
      "outputs": [],
      "source": [
        "from pyspark import SQLContext"
      ]
    },
    {
      "cell_type": "code",
      "execution_count": null,
      "metadata": {
        "id": "8Q6qNHg2Hi-z"
      },
      "outputs": [],
      "source": [
        "sqlc = SQLContext(spark)"
      ]
    },
    {
      "cell_type": "code",
      "execution_count": null,
      "metadata": {
        "id": "etjGjkGqHi-z",
        "outputId": "ad6fd186-b116-4932-8c2c-b367222db259"
      },
      "outputs": [
        {
          "data": {
            "text/plain": [
              "<pyspark.sql.context.SQLContext at 0x7fee10054460>"
            ]
          },
          "execution_count": 25,
          "metadata": {},
          "output_type": "execute_result"
        }
      ],
      "source": [
        "sqlc"
      ]
    },
    {
      "cell_type": "code",
      "execution_count": null,
      "metadata": {
        "id": "q3oOXzxKHi-0",
        "outputId": "34477776-f366-47e2-cf23-4ef54e890bfe"
      },
      "outputs": [
        {
          "name": "stderr",
          "output_type": "stream",
          "text": [
            "21/11/20 06:19:52 WARN package: Truncated the string representation of a plan since it was too large. This behavior can be adjusted by setting 'spark.sql.debug.maxToStringFields'.\n"
          ]
        }
      ],
      "source": [
        "#tweets = sqlc.read.json(\"9670f3399f774789b7c3e18975d25611_*.json\")\n",
        "tweets = sqlc.read.json(\"9670f3399f774789b7c3e18975d25611_*.json\")"
      ]
    },
    {
      "cell_type": "markdown",
      "metadata": {
        "id": "1-QavbxpHi-0"
      },
      "source": [
        "Verify that Spark has loaded the same number of tweets you saw before:\n",
        "\n",
        "**Answer**"
      ]
    },
    {
      "cell_type": "code",
      "execution_count": null,
      "metadata": {
        "id": "b_wKm8VGHi-0",
        "outputId": "e4134891-6a7a-4318-9eed-d9806e9f73e6"
      },
      "outputs": [
        {
          "name": "stderr",
          "output_type": "stream",
          "text": [
            "                                                                                \r"
          ]
        },
        {
          "data": {
            "text/plain": [
              "200000"
            ]
          },
          "execution_count": 27,
          "metadata": {},
          "output_type": "execute_result"
        }
      ],
      "source": [
        "# Edit your answer here, adding more cells as needed\n",
        "tweets.count()"
      ]
    },
    {
      "cell_type": "markdown",
      "metadata": {
        "id": "Y-I7wBj0Hi-0"
      },
      "source": [
        "## Part 2 - Comparing DataFrames and Spark SQL\n",
        "\n",
        "For the next three questions, we will look at operations using both DataFrames and SQL queries. Note that `tweets` is already a DataFrame:"
      ]
    },
    {
      "cell_type": "code",
      "execution_count": null,
      "metadata": {
        "tags": [],
        "id": "B3sb6yxQHi-0",
        "outputId": "64202798-b096-410d-8c6e-47e4d630451b"
      },
      "outputs": [
        {
          "data": {
            "text/plain": [
              "DataFrame[contributors: string, coordinates: struct<coordinates:array<double>,type:string>, created_at: string, display_text_range: array<bigint>, entities: struct<hashtags:array<struct<indices:array<bigint>,text:string>>,media:array<struct<display_url:string,expanded_url:string,id:bigint,id_str:string,indices:array<bigint>,media_url:string,media_url_https:string,sizes:struct<large:struct<h:bigint,resize:string,w:bigint>,medium:struct<h:bigint,resize:string,w:bigint>,small:struct<h:bigint,resize:string,w:bigint>,thumb:struct<h:bigint,resize:string,w:bigint>>,source_status_id:bigint,source_status_id_str:string,source_user_id:bigint,source_user_id_str:string,type:string,url:string>>,symbols:array<struct<indices:array<bigint>,text:string>>,urls:array<struct<display_url:string,expanded_url:string,indices:array<bigint>,url:string>>,user_mentions:array<struct<id:bigint,id_str:string,indices:array<bigint>,name:string,screen_name:string>>>, extended_entities: struct<media:array<struct<display_url:string,expanded_url:string,id:bigint,id_str:string,indices:array<bigint>,media_url:string,media_url_https:string,sizes:struct<large:struct<h:bigint,resize:string,w:bigint>,medium:struct<h:bigint,resize:string,w:bigint>,small:struct<h:bigint,resize:string,w:bigint>,thumb:struct<h:bigint,resize:string,w:bigint>>,source_status_id:bigint,source_status_id_str:string,source_user_id:bigint,source_user_id_str:string,type:string,url:string,video_info:struct<aspect_ratio:array<bigint>,duration_millis:bigint,variants:array<struct<bitrate:bigint,content_type:string,url:string>>>>>>, extended_tweet: struct<display_text_range:array<bigint>,entities:struct<hashtags:array<struct<indices:array<bigint>,text:string>>,media:array<struct<display_url:string,expanded_url:string,id:bigint,id_str:string,indices:array<bigint>,media_url:string,media_url_https:string,sizes:struct<large:struct<h:bigint,resize:string,w:bigint>,medium:struct<h:bigint,resize:string,w:bigint>,small:struct<h:bigint,resize:string,w:bigint>,thumb:struct<h:bigint,resize:string,w:bigint>>,source_status_id:bigint,source_status_id_str:string,source_user_id:bigint,source_user_id_str:string,type:string,url:string,video_info:struct<aspect_ratio:array<bigint>,duration_millis:bigint,variants:array<struct<bitrate:bigint,content_type:string,url:string>>>>>,symbols:array<string>,urls:array<struct<display_url:string,expanded_url:string,indices:array<bigint>,url:string>>,user_mentions:array<struct<id:bigint,id_str:string,indices:array<bigint>,name:string,screen_name:string>>>,extended_entities:struct<media:array<struct<display_url:string,expanded_url:string,id:bigint,id_str:string,indices:array<bigint>,media_url:string,media_url_https:string,sizes:struct<large:struct<h:bigint,resize:string,w:bigint>,medium:struct<h:bigint,resize:string,w:bigint>,small:struct<h:bigint,resize:string,w:bigint>,thumb:struct<h:bigint,resize:string,w:bigint>>,source_status_id:bigint,source_status_id_str:string,source_user_id:bigint,source_user_id_str:string,type:string,url:string,video_info:struct<aspect_ratio:array<bigint>,duration_millis:bigint,variants:array<struct<bitrate:bigint,content_type:string,url:string>>>>>>,full_text:string>, favorite_count: bigint, favorited: boolean, filter_level: string, geo: struct<coordinates:array<double>,type:string>, id: bigint, id_str: string, in_reply_to_screen_name: string, in_reply_to_status_id: bigint, in_reply_to_status_id_str: string, in_reply_to_user_id: bigint, in_reply_to_user_id_str: string, is_quote_status: boolean, lang: string, place: struct<bounding_box:struct<coordinates:array<array<array<double>>>,type:string>,country:string,country_code:string,full_name:string,id:string,name:string,place_type:string,url:string>, possibly_sensitive: boolean, quote_count: bigint, quoted_status: struct<contributors:string,coordinates:struct<coordinates:array<double>,type:string>,created_at:string,display_text_range:array<bigint>,entities:struct<hashtags:array<struct<indices:array<bigint>,text:string>>,media:array<struct<description:string,display_url:string,expanded_url:string,id:bigint,id_str:string,indices:array<bigint>,media_url:string,media_url_https:string,sizes:struct<large:struct<h:bigint,resize:string,w:bigint>,medium:struct<h:bigint,resize:string,w:bigint>,small:struct<h:bigint,resize:string,w:bigint>,thumb:struct<h:bigint,resize:string,w:bigint>>,source_status_id:bigint,source_status_id_str:string,source_user_id:bigint,source_user_id_str:string,type:string,url:string>>,symbols:array<string>,urls:array<struct<display_url:string,expanded_url:string,indices:array<bigint>,url:string>>,user_mentions:array<struct<id:bigint,id_str:string,indices:array<bigint>,name:string,screen_name:string>>>,extended_entities:struct<media:array<struct<description:string,display_url:string,expanded_url:string,id:bigint,id_str:string,indices:array<bigint>,media_url:string,media_url_https:string,sizes:struct<large:struct<h:bigint,resize:string,w:bigint>,medium:struct<h:bigint,resize:string,w:bigint>,small:struct<h:bigint,resize:string,w:bigint>,thumb:struct<h:bigint,resize:string,w:bigint>>,source_status_id:bigint,source_status_id_str:string,source_user_id:bigint,source_user_id_str:string,type:string,url:string,video_info:struct<aspect_ratio:array<bigint>,duration_millis:bigint,variants:array<struct<bitrate:bigint,content_type:string,url:string>>>>>>,extended_tweet:struct<display_text_range:array<bigint>,entities:struct<hashtags:array<struct<indices:array<bigint>,text:string>>,media:array<struct<display_url:string,expanded_url:string,id:bigint,id_str:string,indices:array<bigint>,media_url:string,media_url_https:string,sizes:struct<large:struct<h:bigint,resize:string,w:bigint>,medium:struct<h:bigint,resize:string,w:bigint>,small:struct<h:bigint,resize:string,w:bigint>,thumb:struct<h:bigint,resize:string,w:bigint>>,source_status_id:bigint,source_status_id_str:string,source_user_id:bigint,source_user_id_str:string,type:string,url:string,video_info:struct<aspect_ratio:array<bigint>,duration_millis:bigint,variants:array<struct<bitrate:bigint,content_type:string,url:string>>>>>,symbols:array<string>,urls:array<struct<display_url:string,expanded_url:string,indices:array<bigint>,url:string>>,user_mentions:array<struct<id:bigint,id_str:string,indices:array<bigint>,name:string,screen_name:string>>>,extended_entities:struct<media:array<struct<display_url:string,expanded_url:string,id:bigint,id_str:string,indices:array<bigint>,media_url:string,media_url_https:string,sizes:struct<large:struct<h:bigint,resize:string,w:bigint>,medium:struct<h:bigint,resize:string,w:bigint>,small:struct<h:bigint,resize:string,w:bigint>,thumb:struct<h:bigint,resize:string,w:bigint>>,source_status_id:bigint,source_status_id_str:string,source_user_id:bigint,source_user_id_str:string,type:string,url:string,video_info:struct<aspect_ratio:array<bigint>,duration_millis:bigint,variants:array<struct<bitrate:bigint,content_type:string,url:string>>>>>>,full_text:string>,favorite_count:bigint,favorited:boolean,filter_level:string,geo:struct<coordinates:array<double>,type:string>,id:bigint,id_str:string,in_reply_to_screen_name:string,in_reply_to_status_id:bigint,in_reply_to_status_id_str:string,in_reply_to_user_id:bigint,in_reply_to_user_id_str:string,is_quote_status:boolean,lang:string,place:struct<bounding_box:struct<coordinates:array<array<array<double>>>,type:string>,country:string,country_code:string,full_name:string,id:string,name:string,place_type:string,url:string>,possibly_sensitive:boolean,quote_count:bigint,quoted_status_id:bigint,quoted_status_id_str:string,reply_count:bigint,retweet_count:bigint,retweeted:boolean,scopes:struct<followers:boolean>,source:string,text:string,truncated:boolean,user:struct<contributors_enabled:boolean,created_at:string,default_profile:boolean,default_profile_image:boolean,description:string,favourites_count:bigint,follow_request_sent:string,followers_count:bigint,following:string,friends_count:bigint,geo_enabled:boolean,id:bigint,id_str:string,is_translator:boolean,lang:string,listed_count:bigint,location:string,name:string,notifications:string,profile_background_color:string,profile_background_image_url:string,profile_background_image_url_https:string,profile_background_tile:boolean,profile_banner_url:string,profile_image_url:string,profile_image_url_https:string,profile_link_color:string,profile_sidebar_border_color:string,profile_sidebar_fill_color:string,profile_text_color:string,profile_use_background_image:boolean,protected:boolean,screen_name:string,statuses_count:bigint,time_zone:string,translator_type:string,url:string,utc_offset:bigint,verified:boolean>>, quoted_status_id: bigint, quoted_status_id_str: string, reply_count: bigint, retweet_count: bigint, retweeted: boolean, retweeted_status: struct<contributors:string,coordinates:struct<coordinates:array<double>,type:string>,created_at:string,display_text_range:array<bigint>,entities:struct<hashtags:array<struct<indices:array<bigint>,text:string>>,media:array<struct<display_url:string,expanded_url:string,id:bigint,id_str:string,indices:array<bigint>,media_url:string,media_url_https:string,sizes:struct<large:struct<h:bigint,resize:string,w:bigint>,medium:struct<h:bigint,resize:string,w:bigint>,small:struct<h:bigint,resize:string,w:bigint>,thumb:struct<h:bigint,resize:string,w:bigint>>,source_status_id:bigint,source_status_id_str:string,source_user_id:bigint,source_user_id_str:string,type:string,url:string>>,symbols:array<struct<indices:array<bigint>,text:string>>,urls:array<struct<display_url:string,expanded_url:string,indices:array<bigint>,url:string>>,user_mentions:array<struct<id:bigint,id_str:string,indices:array<bigint>,name:string,screen_name:string>>>,extended_entities:struct<media:array<struct<display_url:string,expanded_url:string,id:bigint,id_str:string,indices:array<bigint>,media_url:string,media_url_https:string,sizes:struct<large:struct<h:bigint,resize:string,w:bigint>,medium:struct<h:bigint,resize:string,w:bigint>,small:struct<h:bigint,resize:string,w:bigint>,thumb:struct<h:bigint,resize:string,w:bigint>>,source_status_id:bigint,source_status_id_str:string,source_user_id:bigint,source_user_id_str:string,type:string,url:string,video_info:struct<aspect_ratio:array<bigint>,duration_millis:bigint,variants:array<struct<bitrate:bigint,content_type:string,url:string>>>>>>,extended_tweet:struct<display_text_range:array<bigint>,entities:struct<hashtags:array<struct<indices:array<bigint>,text:string>>,media:array<struct<description:string,display_url:string,expanded_url:string,id:bigint,id_str:string,indices:array<bigint>,media_url:string,media_url_https:string,sizes:struct<large:struct<h:bigint,resize:string,w:bigint>,medium:struct<h:bigint,resize:string,w:bigint>,small:struct<h:bigint,resize:string,w:bigint>,thumb:struct<h:bigint,resize:string,w:bigint>>,source_status_id:bigint,source_status_id_str:string,source_user_id:bigint,source_user_id_str:string,type:string,url:string,video_info:struct<aspect_ratio:array<bigint>,duration_millis:bigint,variants:array<struct<bitrate:bigint,content_type:string,url:string>>>>>,symbols:array<string>,urls:array<struct<display_url:string,expanded_url:string,indices:array<bigint>,url:string>>,user_mentions:array<struct<id:bigint,id_str:string,indices:array<bigint>,name:string,screen_name:string>>>,extended_entities:struct<media:array<struct<description:string,display_url:string,expanded_url:string,id:bigint,id_str:string,indices:array<bigint>,media_url:string,media_url_https:string,sizes:struct<large:struct<h:bigint,resize:string,w:bigint>,medium:struct<h:bigint,resize:string,w:bigint>,small:struct<h:bigint,resize:string,w:bigint>,thumb:struct<h:bigint,resize:string,w:bigint>>,source_status_id:bigint,source_status_id_str:string,source_user_id:bigint,source_user_id_str:string,type:string,url:string,video_info:struct<aspect_ratio:array<bigint>,duration_millis:bigint,variants:array<struct<bitrate:bigint,content_type:string,url:string>>>>>>,full_text:string>,favorite_count:bigint,favorited:boolean,filter_level:string,geo:struct<coordinates:array<double>,type:string>,id:bigint,id_str:string,in_reply_to_screen_name:string,in_reply_to_status_id:bigint,in_reply_to_status_id_str:string,in_reply_to_user_id:bigint,in_reply_to_user_id_str:string,is_quote_status:boolean,lang:string,place:struct<bounding_box:struct<coordinates:array<array<array<double>>>,type:string>,country:string,country_code:string,full_name:string,id:string,name:string,place_type:string,url:string>,possibly_sensitive:boolean,quote_count:bigint,quoted_status:struct<contributors:string,coordinates:struct<coordinates:array<double>,type:string>,created_at:string,display_text_range:array<bigint>,entities:struct<hashtags:array<struct<indices:array<bigint>,text:string>>,media:array<struct<display_url:string,expanded_url:string,id:bigint,id_str:string,indices:array<bigint>,media_url:string,media_url_https:string,sizes:struct<large:struct<h:bigint,resize:string,w:bigint>,medium:struct<h:bigint,resize:string,w:bigint>,small:struct<h:bigint,resize:string,w:bigint>,thumb:struct<h:bigint,resize:string,w:bigint>>,source_status_id:bigint,source_status_id_str:string,source_user_id:bigint,source_user_id_str:string,type:string,url:string>>,symbols:array<string>,urls:array<struct<display_url:string,expanded_url:string,indices:array<bigint>,url:string>>,user_mentions:array<struct<id:bigint,id_str:string,indices:array<bigint>,name:string,screen_name:string>>>,extended_entities:struct<media:array<struct<display_url:string,expanded_url:string,id:bigint,id_str:string,indices:array<bigint>,media_url:string,media_url_https:string,sizes:struct<large:struct<h:bigint,resize:string,w:bigint>,medium:struct<h:bigint,resize:string,w:bigint>,small:struct<h:bigint,resize:string,w:bigint>,thumb:struct<h:bigint,resize:string,w:bigint>>,source_status_id:bigint,source_status_id_str:string,source_user_id:bigint,source_user_id_str:string,type:string,url:string,video_info:struct<aspect_ratio:array<bigint>,duration_millis:bigint,variants:array<struct<bitrate:bigint,content_type:string,url:string>>>>>>,extended_tweet:struct<display_text_range:array<bigint>,entities:struct<hashtags:array<struct<indices:array<bigint>,text:string>>,media:array<struct<display_url:string,expanded_url:string,id:bigint,id_str:string,indices:array<bigint>,media_url:string,media_url_https:string,sizes:struct<large:struct<h:bigint,resize:string,w:bigint>,medium:struct<h:bigint,resize:string,w:bigint>,small:struct<h:bigint,resize:string,w:bigint>,thumb:struct<h:bigint,resize:string,w:bigint>>,type:string,url:string,video_info:struct<aspect_ratio:array<bigint>,duration_millis:bigint,variants:array<struct<bitrate:bigint,content_type:string,url:string>>>>>,symbols:array<string>,urls:array<struct<display_url:string,expanded_url:string,indices:array<bigint>,url:string>>,user_mentions:array<struct<id:bigint,id_str:string,indices:array<bigint>,name:string,screen_name:string>>>,extended_entities:struct<media:array<struct<display_url:string,expanded_url:string,id:bigint,id_str:string,indices:array<bigint>,media_url:string,media_url_https:string,sizes:struct<large:struct<h:bigint,resize:string,w:bigint>,medium:struct<h:bigint,resize:string,w:bigint>,small:struct<h:bigint,resize:string,w:bigint>,thumb:struct<h:bigint,resize:string,w:bigint>>,type:string,url:string,video_info:struct<aspect_ratio:array<bigint>,duration_millis:bigint,variants:array<struct<bitrate:bigint,content_type:string,url:string>>>>>>,full_text:string>,favorite_count:bigint,favorited:boolean,filter_level:string,geo:struct<coordinates:array<double>,type:string>,id:bigint,id_str:string,in_reply_to_screen_name:string,in_reply_to_status_id:bigint,in_reply_to_status_id_str:string,in_reply_to_user_id:bigint,in_reply_to_user_id_str:string,is_quote_status:boolean,lang:string,place:struct<bounding_box:struct<coordinates:array<array<array<double>>>,type:string>,country:string,country_code:string,full_name:string,id:string,name:string,place_type:string,url:string>,possibly_sensitive:boolean,quote_count:bigint,quoted_status_id:bigint,quoted_status_id_str:string,reply_count:bigint,retweet_count:bigint,retweeted:boolean,source:string,text:string,truncated:boolean,user:struct<contributors_enabled:boolean,created_at:string,default_profile:boolean,default_profile_image:boolean,description:string,favourites_count:bigint,follow_request_sent:string,followers_count:bigint,following:string,friends_count:bigint,geo_enabled:boolean,id:bigint,id_str:string,is_translator:boolean,lang:string,listed_count:bigint,location:string,name:string,notifications:string,profile_background_color:string,profile_background_image_url:string,profile_background_image_url_https:string,profile_background_tile:boolean,profile_banner_url:string,profile_image_url:string,profile_image_url_https:string,profile_link_color:string,profile_sidebar_border_color:string,profile_sidebar_fill_color:string,profile_text_color:string,profile_use_background_image:boolean,protected:boolean,screen_name:string,statuses_count:bigint,time_zone:string,translator_type:string,url:string,utc_offset:bigint,verified:boolean>>,quoted_status_id:bigint,quoted_status_id_str:string,reply_count:bigint,retweet_count:bigint,retweeted:boolean,source:string,text:string,truncated:boolean,user:struct<contributors_enabled:boolean,created_at:string,default_profile:boolean,default_profile_image:boolean,description:string,favourites_count:bigint,follow_request_sent:string,followers_count:bigint,following:string,friends_count:bigint,geo_enabled:boolean,id:bigint,id_str:string,is_translator:boolean,lang:string,listed_count:bigint,location:string,name:string,notifications:string,profile_background_color:string,profile_background_image_url:string,profile_background_image_url_https:string,profile_background_tile:boolean,profile_banner_url:string,profile_image_url:string,profile_image_url_https:string,profile_link_color:string,profile_sidebar_border_color:string,profile_sidebar_fill_color:string,profile_text_color:string,profile_use_background_image:boolean,protected:boolean,screen_name:string,statuses_count:bigint,time_zone:string,translator_type:string,url:string,utc_offset:bigint,verified:boolean>>, source: string, text: string, timestamp_ms: string, truncated: boolean, user: struct<contributors_enabled:boolean,created_at:string,default_profile:boolean,default_profile_image:boolean,description:string,favourites_count:bigint,follow_request_sent:string,followers_count:bigint,following:string,friends_count:bigint,geo_enabled:boolean,id:bigint,id_str:string,is_translator:boolean,lang:string,listed_count:bigint,location:string,name:string,notifications:string,profile_background_color:string,profile_background_image_url:string,profile_background_image_url_https:string,profile_background_tile:boolean,profile_banner_url:string,profile_image_url:string,profile_image_url_https:string,profile_link_color:string,profile_sidebar_border_color:string,profile_sidebar_fill_color:string,profile_text_color:string,profile_use_background_image:boolean,protected:boolean,screen_name:string,statuses_count:bigint,time_zone:string,translator_type:string,url:string,utc_offset:bigint,verified:boolean>]"
            ]
          },
          "execution_count": 28,
          "metadata": {},
          "output_type": "execute_result"
        }
      ],
      "source": [
        "tweets"
      ]
    },
    {
      "cell_type": "markdown",
      "metadata": {
        "id": "d_UIEnPqHi-0"
      },
      "source": [
        "To issue SQL queries, we need to register a table based on `tweets`:"
      ]
    },
    {
      "cell_type": "code",
      "execution_count": null,
      "metadata": {
        "id": "wTjgrDOhHi-0"
      },
      "outputs": [],
      "source": [
        "tweets.createOrReplaceTempView(\"tweets\")"
      ]
    },
    {
      "cell_type": "code",
      "execution_count": null,
      "metadata": {
        "id": "0h8NbY2iHi-0",
        "outputId": "b5c95c45-ac85-4f76-d144-b3b5b5b7cf22"
      },
      "outputs": [
        {
          "data": {
            "text/plain": [
              "['contributors',\n",
              " 'coordinates',\n",
              " 'created_at',\n",
              " 'display_text_range',\n",
              " 'entities',\n",
              " 'extended_entities',\n",
              " 'extended_tweet',\n",
              " 'favorite_count',\n",
              " 'favorited',\n",
              " 'filter_level',\n",
              " 'geo',\n",
              " 'id',\n",
              " 'id_str',\n",
              " 'in_reply_to_screen_name',\n",
              " 'in_reply_to_status_id',\n",
              " 'in_reply_to_status_id_str',\n",
              " 'in_reply_to_user_id',\n",
              " 'in_reply_to_user_id_str',\n",
              " 'is_quote_status',\n",
              " 'lang',\n",
              " 'place',\n",
              " 'possibly_sensitive',\n",
              " 'quote_count',\n",
              " 'quoted_status',\n",
              " 'quoted_status_id',\n",
              " 'quoted_status_id_str',\n",
              " 'reply_count',\n",
              " 'retweet_count',\n",
              " 'retweeted',\n",
              " 'retweeted_status',\n",
              " 'source',\n",
              " 'text',\n",
              " 'timestamp_ms',\n",
              " 'truncated',\n",
              " 'user']"
            ]
          },
          "execution_count": 30,
          "metadata": {},
          "output_type": "execute_result"
        }
      ],
      "source": [
        "tweets.columns"
      ]
    },
    {
      "cell_type": "markdown",
      "metadata": {
        "id": "NnIduDH2Hi-0"
      },
      "source": [
        "### Q2.1 - Which 10 languages are most commonly used in tweets?  Verify your result by executing it with both the dataframe and with SQL. (10 Points)\n",
        "\n",
        "Hint: for the dataframe, use `groupBy`, `count`, and `orderBy`.  See the documentation at https://spark.apache.org/docs/2.2.0/api/python/pyspark.sql.html for details on these and other functions.\n",
        "\n",
        "**Answer**"
      ]
    },
    {
      "cell_type": "code",
      "execution_count": null,
      "metadata": {
        "id": "qqd8NnxzHi-0",
        "outputId": "d7f61632-6a45-450d-de94-88a130bd26f0"
      },
      "outputs": [
        {
          "name": "stderr",
          "output_type": "stream",
          "text": [
            "[Stage 4:===============================================>       (174 + 2) / 200]\r"
          ]
        },
        {
          "name": "stdout",
          "output_type": "stream",
          "text": [
            "+----+------+\n",
            "|lang| count|\n",
            "+----+------+\n",
            "|  en|177083|\n",
            "|  es| 14388|\n",
            "| und|  6024|\n",
            "|  in|   492|\n",
            "|  fr|   384|\n",
            "|  pt|   303|\n",
            "|  tl|   263|\n",
            "|  ht|   173|\n",
            "|  nl|   156|\n",
            "|  ja|   141|\n",
            "+----+------+\n",
            "only showing top 10 rows\n",
            "\n"
          ]
        },
        {
          "name": "stderr",
          "output_type": "stream",
          "text": [
            "                                                                                \r"
          ]
        }
      ],
      "source": [
        "# Edit your answer here, adding more cells as needed\n",
        "tweets.groupBy(\"lang\").count().orderBy('count', ascending = False).show(10)"
      ]
    },
    {
      "cell_type": "code",
      "execution_count": null,
      "metadata": {
        "id": "_CNDaUXEHi-0",
        "outputId": "6504eca8-21a4-41b1-c49a-8da027a225bd"
      },
      "outputs": [
        {
          "name": "stderr",
          "output_type": "stream",
          "text": [
            "[Stage 6:=====================================>                 (136 + 2) / 200]\r"
          ]
        },
        {
          "name": "stdout",
          "output_type": "stream",
          "text": [
            "+----+-----------+\n",
            "|lang|count(lang)|\n",
            "+----+-----------+\n",
            "|  en|     177083|\n",
            "|  es|      14388|\n",
            "| und|       6024|\n",
            "|  in|        492|\n",
            "|  fr|        384|\n",
            "|  pt|        303|\n",
            "|  tl|        263|\n",
            "|  ht|        173|\n",
            "|  nl|        156|\n",
            "|  ja|        141|\n",
            "+----+-----------+\n",
            "only showing top 10 rows\n",
            "\n"
          ]
        },
        {
          "name": "stderr",
          "output_type": "stream",
          "text": [
            "                                                                                \r"
          ]
        }
      ],
      "source": [
        "# Edit your answer here, adding more cells as needed\n",
        "sqlc.sql(\"\"\"\n",
        "         SELECT lang, COUNT(lang) \n",
        "         FROM tweets\n",
        "         GROUP BY lang\n",
        "         ORDER BY count(lang) DESC\n",
        "         \"\"\").show(10)"
      ]
    },
    {
      "cell_type": "markdown",
      "metadata": {
        "id": "xH_WZHtsHi-0"
      },
      "source": [
        "### Q2.2 - Which 10 time zones are most common among users?  Verify your result with both the dataframe and SQL. (10 Points)\n",
        "\n",
        "*Note*: for this question, you may leave NULL values present in your results, as a way to help you understand what data is present and what is missing.\n",
        "\n",
        "**Answer**"
      ]
    },
    {
      "cell_type": "code",
      "execution_count": null,
      "metadata": {
        "id": "nNc1aK0QHi-0",
        "outputId": "4d02fbe3-8507-4909-db00-71c659364422"
      },
      "outputs": [
        {
          "name": "stderr",
          "output_type": "stream",
          "text": [
            "[Stage 8:======================================>                (139 + 2) / 200]\r"
          ]
        },
        {
          "name": "stdout",
          "output_type": "stream",
          "text": [
            "+--------------------+-----+\n",
            "|           time_zone|count|\n",
            "+--------------------+-----+\n",
            "|                null|84004|\n",
            "|Pacific Time (US ...|36021|\n",
            "|Central Time (US ...|32514|\n",
            "|Eastern Time (US ...|17357|\n",
            "|             Arizona| 5543|\n",
            "|Mountain Time (US...| 5083|\n",
            "|Atlantic Time (Ca...| 2177|\n",
            "|         Mexico City| 1967|\n",
            "|               Quito| 1777|\n",
            "|             Caracas| 1760|\n",
            "+--------------------+-----+\n",
            "only showing top 10 rows\n",
            "\n"
          ]
        },
        {
          "name": "stderr",
          "output_type": "stream",
          "text": [
            "                                                                                \r"
          ]
        }
      ],
      "source": [
        "# Edit your answer here, adding more cells as needed\n",
        "# I got user.time_zone from the example json file \n",
        "tweets.groupBy('user.time_zone').count().orderBy('count', ascending = False).show(10)"
      ]
    },
    {
      "cell_type": "code",
      "execution_count": null,
      "metadata": {
        "id": "tnwbYEJLHi-0",
        "outputId": "f5d411a5-5d7b-4990-fd1d-43f8fa67ac32"
      },
      "outputs": [
        {
          "name": "stderr",
          "output_type": "stream",
          "text": [
            "[Stage 10:===================================================>  (192 + 2) / 200]\r"
          ]
        },
        {
          "name": "stdout",
          "output_type": "stream",
          "text": [
            "+--------------------+-----+\n",
            "|           time_zone|Count|\n",
            "+--------------------+-----+\n",
            "|                null|84004|\n",
            "|Pacific Time (US ...|36021|\n",
            "|Central Time (US ...|32514|\n",
            "|Eastern Time (US ...|17357|\n",
            "|             Arizona| 5543|\n",
            "|Mountain Time (US...| 5083|\n",
            "|Atlantic Time (Ca...| 2177|\n",
            "|         Mexico City| 1967|\n",
            "|               Quito| 1777|\n",
            "|             Caracas| 1760|\n",
            "+--------------------+-----+\n",
            "only showing top 10 rows\n",
            "\n"
          ]
        },
        {
          "name": "stderr",
          "output_type": "stream",
          "text": [
            "                                                                                \r"
          ]
        }
      ],
      "source": [
        "# Edit your answer here, adding more cells as needed\n",
        "sqlc.sql(\"\"\"\n",
        "    SELECT user.time_zone, COUNT(*) AS Count \n",
        "    FROM tweets\n",
        "    GROUP BY user.time_zone\n",
        "    ORDER BY Count DESC \n",
        "    \"\"\").show(10)"
      ]
    },
    {
      "cell_type": "markdown",
      "metadata": {
        "id": "Ff8eI09AHi-1"
      },
      "source": [
        "### Q2.3 - How many tweets mention the Dodgers?  How many mention the Astros?  How many mention both? (10 Points)\n",
        "\n",
        "You may use either the dataframe or SQL to answer.  Explain why you have chosen that approach.\n",
        "\n",
        "Hint:  you will want to look at the value of the `text` field.\n",
        "\n",
        "**Answer**"
      ]
    },
    {
      "cell_type": "code",
      "execution_count": null,
      "metadata": {
        "id": "crZei9sjHi-1",
        "outputId": "aa81d6d7-b3e5-4ad1-84ac-fc5f60e1a39c"
      },
      "outputs": [
        {
          "name": "stderr",
          "output_type": "stream",
          "text": [
            "[Stage 11:===================================================>      (8 + 1) / 9]\r"
          ]
        },
        {
          "name": "stdout",
          "output_type": "stream",
          "text": [
            "+---------------+\n",
            "|Mention_Dodgers|\n",
            "+---------------+\n",
            "|          80786|\n",
            "+---------------+\n",
            "\n"
          ]
        },
        {
          "name": "stderr",
          "output_type": "stream",
          "text": [
            "                                                                                \r"
          ]
        }
      ],
      "source": [
        "# Edit your answer here, adding more cells as needed\n",
        "sqlc.sql(\"\"\"\n",
        "         SELECT COUNT(TEXT) AS Mention_Dodgers\n",
        "         FROM tweets\n",
        "         WHERE LOWER(tweets.text) LIKE \"%dodgers%\"\n",
        "         \"\"\").show()"
      ]
    },
    {
      "cell_type": "code",
      "execution_count": null,
      "metadata": {
        "id": "1skfX5ApHi-1",
        "outputId": "c4f0ce36-209b-4019-c66b-3afdf314dc0d"
      },
      "outputs": [
        {
          "name": "stderr",
          "output_type": "stream",
          "text": [
            "[Stage 13:===================================================>      (8 + 1) / 9]\r"
          ]
        },
        {
          "name": "stdout",
          "output_type": "stream",
          "text": [
            "+--------------+\n",
            "|Mention_Astros|\n",
            "+--------------+\n",
            "|        128346|\n",
            "+--------------+\n",
            "\n"
          ]
        },
        {
          "name": "stderr",
          "output_type": "stream",
          "text": [
            "                                                                                \r"
          ]
        }
      ],
      "source": [
        "# Edit your answer here, adding more cells as needed\n",
        "sqlc.sql(\"\"\"\n",
        "         SELECT COUNT(TEXT) AS Mention_Astros\n",
        "         FROM tweets\n",
        "         WHERE LOWER(tweets.text) LIKE \"%astros%\"\n",
        "         \"\"\").show()"
      ]
    },
    {
      "cell_type": "code",
      "execution_count": null,
      "metadata": {
        "id": "y5ywc5MMHi-1",
        "outputId": "60da7ba7-2528-467b-ff2d-e6c16dc1c66d"
      },
      "outputs": [
        {
          "name": "stderr",
          "output_type": "stream",
          "text": [
            "[Stage 15:===================================================>      (8 + 1) / 9]\r"
          ]
        },
        {
          "name": "stdout",
          "output_type": "stream",
          "text": [
            "+------------+\n",
            "|Mention_Both|\n",
            "+------------+\n",
            "|       27991|\n",
            "+------------+\n",
            "\n"
          ]
        },
        {
          "name": "stderr",
          "output_type": "stream",
          "text": [
            "                                                                                \r"
          ]
        }
      ],
      "source": [
        "# Edit your answer here, adding more cells as needed\n",
        "sqlc.sql(\"\"\"\n",
        "         SELECT COUNT(TEXT) AS Mention_Both\n",
        "         FROM tweets\n",
        "         WHERE (LOWER(tweets.text) LIKE \"%dodgers%\" \n",
        "         AND LOWER(tweets.text) LIKE \"%astros%\")\n",
        "         \"\"\").show()"
      ]
    },
    {
      "cell_type": "markdown",
      "metadata": {
        "id": "LAUiI6t_Hi-1"
      },
      "source": [
        "#### Edit your answer here, adding more cells as needed\n",
        "I used SQL to answer the question because : \n",
        "1) The first step was to convert all the text to lower case to find all the words, easier for me to do in SQL\n",
        "2) The same step had to be repeated for dodgers and astros individually\n",
        "3) To get the tweet with both words, I had to use a simple AND line and the rest of the code format was the same "
      ]
    },
    {
      "cell_type": "markdown",
      "metadata": {
        "id": "EPBuQqO4Hi-1"
      },
      "source": [
        "## Part 3 - More complex queries\n",
        "\n",
        "For this section, you may choose to use dataframe queries or SQL.  If you wish, you may verify results by using both, as in Part 2, but this is not required for this section.\n",
        "\n",
        "### Q3.1 - Team mentions by location (10 Points)\n",
        "\n",
        "In which users' locations are the Astros and the Dodgers being mentioned the most?  Consider each team separately, one at a time.  Discuss your findings.\n",
        "\n",
        "Hint:  you may use either the time zones or user-specified locations for this question.\n",
        "\n",
        "**Answer**"
      ]
    },
    {
      "cell_type": "code",
      "execution_count": null,
      "metadata": {
        "id": "o-9IcmSaHi-1",
        "outputId": "993eef0b-6b6a-49a3-95be-0c429f34cc56"
      },
      "outputs": [
        {
          "name": "stderr",
          "output_type": "stream",
          "text": [
            "[Stage 17:===================================================>      (8 + 1) / 9]\r"
          ]
        },
        {
          "name": "stdout",
          "output_type": "stream",
          "text": [
            "+---------------+-----+\n",
            "|       location|Count|\n",
            "+---------------+-----+\n",
            "|    Houston, TX| 9573|\n",
            "|     Texas, USA| 2178|\n",
            "|          Texas| 1406|\n",
            "|Los Angeles, CA| 1272|\n",
            "|        Houston| 1162|\n",
            "| Houston, Texas|  990|\n",
            "|  United States|  970|\n",
            "|     Austin, TX|  791|\n",
            "|California, USA|  718|\n",
            "|San Antonio, TX|  656|\n",
            "+---------------+-----+\n",
            "only showing top 10 rows\n",
            "\n"
          ]
        },
        {
          "name": "stderr",
          "output_type": "stream",
          "text": [
            "                                                                                \r"
          ]
        }
      ],
      "source": [
        "# Edit your answer here, adding more cells as needed\n",
        "sqlc.sql(\"\"\"\n",
        "    SELECT user.location, COUNT(user.location) AS Count \n",
        "    FROM tweets\n",
        "    WHERE LOWER(tweets.text) LIKE \"%astros%\"\n",
        "    GROUP BY user.location\n",
        "    ORDER BY COUNT(user.location) DESC \n",
        "    \"\"\").show(10)"
      ]
    },
    {
      "cell_type": "code",
      "execution_count": null,
      "metadata": {
        "id": "VOa-W1aYHi-1",
        "outputId": "8d84cc9b-de28-43bc-eb0f-58bd3bc17368"
      },
      "outputs": [
        {
          "name": "stderr",
          "output_type": "stream",
          "text": [
            "[Stage 19:===================================================>      (8 + 1) / 9]\r"
          ]
        },
        {
          "name": "stdout",
          "output_type": "stream",
          "text": [
            "+---------------+-----+\n",
            "|       location|Count|\n",
            "+---------------+-----+\n",
            "|Los Angeles, CA| 3228|\n",
            "|California, USA| 1400|\n",
            "|    Houston, TX| 1352|\n",
            "|    Los Angeles|  994|\n",
            "|  United States|  794|\n",
            "|     Texas, USA|  500|\n",
            "|     California|  453|\n",
            "|         México|  332|\n",
            "|      Venezuela|  306|\n",
            "|  Las Vegas, NV|  284|\n",
            "+---------------+-----+\n",
            "only showing top 10 rows\n",
            "\n"
          ]
        },
        {
          "name": "stderr",
          "output_type": "stream",
          "text": [
            "                                                                                \r"
          ]
        }
      ],
      "source": [
        "# Edit your answer here, adding more cells as needed\n",
        "sqlc.sql(\"\"\"\n",
        "    SELECT user.location, COUNT(user.location) AS Count \n",
        "    FROM tweets\n",
        "    WHERE LOWER(tweets.text) LIKE \"%dodgers%\"\n",
        "    GROUP BY user.location\n",
        "    ORDER BY COUNT(user.location) DESC \n",
        "    \"\"\").show(10)"
      ]
    },
    {
      "cell_type": "markdown",
      "metadata": {
        "id": "EzSESOo-Hi-1"
      },
      "source": [
        "#### Edit your answer here, adding more cells as needed\n",
        "* I expected the tweet count to be highest at the home base for each team, which was the result in this example. Astros has a higher tweet count at their home based Houston. Dodgers has a higher tweet count at their home based Los Angeles. \n",
        "* Based on the various location example \"Houston, TX\" vs \"Texas, USA\" there seems to be various methods twitter uses to record the tweet location for each tweet. The same applies for Los Angeles. \n",
        "* Overall we can see Texas as a whole has more users that mentioned astros in the tweet, which could mean Texas might have a higher fan following for the MLB, making them the most active location.\n",
        "* It is interestring to see international users from Venezuela and Mexio tweeting about the dodgers."
      ]
    },
    {
      "cell_type": "markdown",
      "metadata": {
        "id": "bCbrxMQsHi-1"
      },
      "source": [
        "### Q3.2 - Which Twitter users are being replied to the most? (10 Points)\n",
        "\n",
        "Discuss your findings.\n",
        "\n",
        "Hint: use the top-level `in_reply_to_screen_name` for this.\n",
        "\n",
        "**Answer**"
      ]
    },
    {
      "cell_type": "code",
      "execution_count": null,
      "metadata": {
        "id": "_SSu7kMPHi-1",
        "outputId": "6de43091-10b0-458b-ea2a-b76c57ebd7a2"
      },
      "outputs": [
        {
          "name": "stderr",
          "output_type": "stream",
          "text": [
            "[Stage 21:===================================================>      (8 + 1) / 9]\r"
          ]
        },
        {
          "name": "stdout",
          "output_type": "stream",
          "text": [
            "+-----------------------+-----+\n",
            "|in_reply_to_screen_name|Count|\n",
            "+-----------------------+-----+\n",
            "|                 astros| 1819|\n",
            "|                Dodgers| 1521|\n",
            "|                    MLB|  325|\n",
            "|          stephenasmith|  285|\n",
            "|              adevaldes|  134|\n",
            "|        JustinVerlander|  110|\n",
            "|               MLBONFOX|  106|\n",
            "|           NancySinatra|   77|\n",
            "|          rolandsmartin|   70|\n",
            "|                ABREG_1|   66|\n",
            "+-----------------------+-----+\n",
            "only showing top 10 rows\n",
            "\n"
          ]
        },
        {
          "name": "stderr",
          "output_type": "stream",
          "text": [
            "                                                                                \r"
          ]
        }
      ],
      "source": [
        "# Edit this cell and add more as appropriate\n",
        "sqlc.sql(\"\"\"\n",
        "    SELECT in_reply_to_screen_name, COUNT(in_reply_to_screen_name) AS Count\n",
        "    FROM tweets\n",
        "    GROUP BY in_reply_to_screen_name\n",
        "    ORDER BY Count DESC\n",
        "    \"\"\").show(10)"
      ]
    },
    {
      "cell_type": "code",
      "execution_count": null,
      "metadata": {
        "id": "R4Lj1WK2Hi-1",
        "outputId": "eb574299-8964-4985-ca75-1f816311c3a2"
      },
      "outputs": [
        {
          "name": "stderr",
          "output_type": "stream",
          "text": [
            "[Stage 23:===================================================>      (8 + 1) / 9]\r"
          ]
        },
        {
          "name": "stdout",
          "output_type": "stream",
          "text": [
            "+-----------------------+------+\n",
            "|in_reply_to_screen_name| count|\n",
            "+-----------------------+------+\n",
            "|                   null|181219|\n",
            "|                 astros|  1819|\n",
            "|                Dodgers|  1521|\n",
            "|                    MLB|   325|\n",
            "|          stephenasmith|   285|\n",
            "|              adevaldes|   134|\n",
            "|        JustinVerlander|   110|\n",
            "|               MLBONFOX|   106|\n",
            "|           NancySinatra|    77|\n",
            "|          rolandsmartin|    70|\n",
            "+-----------------------+------+\n",
            "only showing top 10 rows\n",
            "\n"
          ]
        },
        {
          "name": "stderr",
          "output_type": "stream",
          "text": [
            "                                                                                \r"
          ]
        }
      ],
      "source": [
        "# Edit your answer here, adding more cells as needed\n",
        "tweets.groupBy('in_reply_to_screen_name').count().orderBy('count', ascending = False).show(10)"
      ]
    },
    {
      "cell_type": "markdown",
      "metadata": {
        "id": "exggkqZaHi-1"
      },
      "source": [
        "#### Edit your answer here, adding more cells as needed\n",
        "* I ran SQL and datafame to compare the results and noticed 1 different output, \"null\".\n",
        "* I believe the null value is created becuase not every tweet replied to is considered a tweet. They were 181,219 tweets replied to without addressing to anyone based on the dataframe. \n",
        "* Ignoring the nulls, the top twitter users being replied to is the teams themselves. Astros and Dodgers respectifully. I think they are on top becuase the team usually post key updates about the team and game. Followers would always want to know information to spread the news or talk about it."
      ]
    },
    {
      "cell_type": "markdown",
      "metadata": {
        "id": "6v8QeGZOHi-1"
      },
      "source": [
        "### Q3.3 - Which 10 verified users have the most followers?  Which 10 unverified users have the most followers? (10 Points)\n",
        "\n",
        "Provide both the screen names and follower counts for each.\n",
        "\n",
        "Discuss your findings.\n",
        "\n",
        "**Answer**"
      ]
    },
    {
      "cell_type": "code",
      "execution_count": null,
      "metadata": {
        "id": "6TmYkxaNHi-1",
        "outputId": "4e70b155-52cc-4e91-e35d-e6c50e6bc5fc"
      },
      "outputs": [
        {
          "name": "stderr",
          "output_type": "stream",
          "text": [
            "[Stage 25:===================================================>      (8 + 1) / 9]\r"
          ]
        },
        {
          "name": "stdout",
          "output_type": "stream",
          "text": [
            "+--------------+--------+\n",
            "|   screen_name|   Count|\n",
            "+--------------+--------+\n",
            "|        cnnbrk|53191119|\n",
            "|       nytimes|39959480|\n",
            "|           CNN|38209973|\n",
            "|       Reuters|18937529|\n",
            "|       FoxNews|16272836|\n",
            "|           ABC|12551437|\n",
            "|washingtonpost|11417638|\n",
            "|   lopezdoriga| 7859821|\n",
            "|           MLB| 7841255|\n",
            "|           NPR| 7289492|\n",
            "+--------------+--------+\n",
            "only showing top 10 rows\n",
            "\n"
          ]
        },
        {
          "name": "stderr",
          "output_type": "stream",
          "text": [
            "                                                                                \r"
          ]
        }
      ],
      "source": [
        "# Edit this cell and add more as appropriate\n",
        "# VERIFIED USERS\n",
        "sqlc.sql(\"\"\"\n",
        "    SELECT user.screen_name, MAX(user.followers_count) AS Count\n",
        "    FROM tweets\n",
        "    WHERE user.verified = 'true'\n",
        "    GROUP BY user.screen_name\n",
        "    ORDER BY Count DESC\n",
        "    \"\"\").show(10)"
      ]
    },
    {
      "cell_type": "code",
      "execution_count": null,
      "metadata": {
        "id": "XCQ2oCRSHi-1",
        "outputId": "4473b59a-81fb-4401-f31d-8128e067ae06"
      },
      "outputs": [
        {
          "name": "stderr",
          "output_type": "stream",
          "text": [
            "[Stage 28:=============================================>        (169 + 2) / 200]\r"
          ]
        },
        {
          "name": "stdout",
          "output_type": "stream",
          "text": [
            "+-------------+------+\n",
            "|  screen_name| Count|\n",
            "+-------------+------+\n",
            "|      chochos|833669|\n",
            "|   TexasHumor|816301|\n",
            "|el_carabobeno|725952|\n",
            "|     PAMsLOvE|712254|\n",
            "|      jilevin|568341|\n",
            "|  sun_das_ill|559669|\n",
            "| DiegoArcos14|544926|\n",
            "|  TVCDeportes|543094|\n",
            "|     EP_Mundo|538525|\n",
            "|       LALATE|516146|\n",
            "+-------------+------+\n",
            "only showing top 10 rows\n",
            "\n"
          ]
        },
        {
          "name": "stderr",
          "output_type": "stream",
          "text": [
            "                                                                                \r"
          ]
        }
      ],
      "source": [
        "# Edit this cell and add more as appropriate\n",
        "# UNVERIFIED USERS\n",
        "sqlc.sql(\"\"\"\n",
        "    SELECT user.screen_name, MAX(user.followers_count) AS Count\n",
        "    FROM tweets\n",
        "    WHERE user.verified = 'false'\n",
        "    GROUP BY user.screen_name\n",
        "    ORDER BY Count DESC\n",
        "    \"\"\").show(10)"
      ]
    },
    {
      "cell_type": "markdown",
      "metadata": {
        "id": "03CSsIDlHi-2"
      },
      "source": [
        "#### Edit this cell and add more as appropriate\n",
        "* For the top 10 most VERIFIED user followers, which consists majorly of news channels. Nowadays people prefer to read quick headlines vs going through an entire newspaper and I believe this is the reason why news channels are on the top 10. All the verfied users have a far superior follower count compared to the unverified users. Maybe in order to get verfied there is a minimum number of followers needed to get the verfied tag.\n",
        "* For the UNVERFIED users we can see a huge difference in the follower count compared to verified. It looks like there are individual user account who might be influencers and have a comparably small follower base.\n"
      ]
    },
    {
      "cell_type": "markdown",
      "metadata": {
        "id": "Ih0-Ze32Hi-2"
      },
      "source": [
        "### Q3.4 - What are the most popular sets of hashtags among users with many followers?  Are they the same as among users with few followers? (15 Points)\n",
        "\n",
        "Decide for yourself exactly how many followers you believe to be \"many\", and explain your decision.  You may use queries and statistics to support this decision if you wish.\n",
        "\n",
        "Hint: if your sample tweet above does not include hashtags under the `entities` field, generate a new example by running the `shuf` command again until you find one that does.\n",
        "\n",
        "Hint 2: the hashtag texts will be in an array, so you may need some functions you haven't used before.  If you're using SQL, see the docs for [Hive SQL](https://docs.treasuredata.com/display/public/PD/Hive+0.13.0+Function+Reference) for details, (and consider `CONCAT_WS`, for example).\n",
        "\n",
        "Discuss your findings.\n",
        "\n",
        "**Answer**"
      ]
    },
    {
      "cell_type": "code",
      "execution_count": null,
      "metadata": {
        "id": "ovIWlhCJHi-2",
        "outputId": "6babfbe9-5fd6-4c1b-cfc0-1e3131969db4"
      },
      "outputs": [
        {
          "name": "stderr",
          "output_type": "stream",
          "text": [
            "[Stage 29:===================================================>      (8 + 1) / 9]\r"
          ]
        },
        {
          "name": "stdout",
          "output_type": "stream",
          "text": [
            "+-------+------------------+\n",
            "|summary|   followers_count|\n",
            "+-------+------------------+\n",
            "|  count|            200000|\n",
            "|   mean|       5162.377275|\n",
            "| stddev|202619.93499268303|\n",
            "|    min|                 0|\n",
            "|    max|          53191119|\n",
            "+-------+------------------+\n",
            "\n"
          ]
        },
        {
          "name": "stderr",
          "output_type": "stream",
          "text": [
            "                                                                                \r"
          ]
        }
      ],
      "source": [
        "# Edit this cell and add more as appropriate\n",
        "tweets.describe(\"user.followers_count\").show()"
      ]
    },
    {
      "cell_type": "markdown",
      "metadata": {
        "id": "_3tAzBd4Hi-2"
      },
      "source": [
        "#### Edit this cell and add more as appropriate\n",
        "Based on the summary of the data we can see that there are users that have min followers in the range of minimum 0 and maximum 53,191,119. The average followers per user is approx 5,162 but we also have to look at the standard devitiation of 202,619 which is extremly high. Hence we can not really consider the mean as the data is highly skewed. Based on an online research it is said than an average user has around 700 followers which is a number very far from our mean. Relating to excercise 3.3 we found the top 10 users with highest followers. Relating to that question, Let's take the top 15% (many followers) and bottom 15% (few followers) from our entire dataset and see the results. This will be a good differentiator between the many and few user"
      ]
    },
    {
      "cell_type": "code",
      "execution_count": null,
      "metadata": {
        "id": "svuZ83RMHi-2",
        "outputId": "519c8321-a45e-449d-bdac-f915108f35e3"
      },
      "outputs": [
        {
          "name": "stderr",
          "output_type": "stream",
          "text": [
            "                                                                                \r"
          ]
        },
        {
          "data": {
            "text/plain": [
              "30015"
            ]
          },
          "execution_count": 45,
          "metadata": {},
          "output_type": "execute_result"
        }
      ],
      "source": [
        "# Edit this cell and add more as appropriate\n",
        "tweets.filter(\"user.followers_count > 1360\").count()   #the top 15% (many followers)"
      ]
    },
    {
      "cell_type": "code",
      "execution_count": null,
      "metadata": {
        "id": "YEEDva3PHi-2",
        "outputId": "23d9d11d-4a7f-47c7-a340-043055596e5e"
      },
      "outputs": [
        {
          "name": "stderr",
          "output_type": "stream",
          "text": [
            "                                                                                \r"
          ]
        },
        {
          "data": {
            "text/plain": [
              "29927"
            ]
          },
          "execution_count": 48,
          "metadata": {},
          "output_type": "execute_result"
        }
      ],
      "source": [
        "# Edit this cell and add more as appropriate\n",
        "tweets.filter(\"user.followers_count <= 81\").count()    #the bottom 15% (few followers)"
      ]
    },
    {
      "cell_type": "code",
      "execution_count": null,
      "metadata": {
        "id": "b1MmipGeHi-2",
        "outputId": "332032e8-72f2-420d-bf7a-ab4900219aaa"
      },
      "outputs": [
        {
          "name": "stderr",
          "output_type": "stream",
          "text": [
            "[Stage 39:===================================================>      (8 + 1) / 9]\r"
          ]
        },
        {
          "name": "stdout",
          "output_type": "stream",
          "text": [
            "+--------------------+-----+\n",
            "|             Hashtag|Count|\n",
            "+--------------------+-----+\n",
            "|                    |16486|\n",
            "|         WorldSeries| 2406|\n",
            "|         EarnHistory| 1627|\n",
            "|              Astros|  665|\n",
            "|             Dodgers|  481|\n",
            "|           ASTROSWIN|  400|\n",
            "|ThisTeam,WorldSeries|  325|\n",
            "|ThisTeam,ThisTeam...|  226|\n",
            "|  Astros,WorldSeries|  200|\n",
            "|            ThisTeam|  185|\n",
            "+--------------------+-----+\n",
            "only showing top 10 rows\n",
            "\n"
          ]
        },
        {
          "name": "stderr",
          "output_type": "stream",
          "text": [
            "                                                                                \r"
          ]
        }
      ],
      "source": [
        "# Edit this cell and add more as appropriate\n",
        "sqlc.sql(\"\"\"\n",
        "    SELECT CONCAT_WS(',', entities.hashtags.text) AS Hashtag, COUNT(entities.hashtags.text) AS Count\n",
        "    FROM tweets\n",
        "    WHERE user.followers_count > 1360\n",
        "    GROUP BY (Hashtag)\n",
        "    ORDER BY(Count) DESC\n",
        "    \"\"\").show(10)"
      ]
    },
    {
      "cell_type": "code",
      "execution_count": null,
      "metadata": {
        "id": "ZGy9TzZtHi-2",
        "outputId": "4ecd486d-6dd8-4523-f135-02220a4aef5a"
      },
      "outputs": [
        {
          "name": "stderr",
          "output_type": "stream",
          "text": [
            "[Stage 41:===================================================>      (8 + 1) / 9]\r"
          ]
        },
        {
          "name": "stdout",
          "output_type": "stream",
          "text": [
            "+--------------------+-----+\n",
            "|             Hashtag|Count|\n",
            "+--------------------+-----+\n",
            "|                    |14432|\n",
            "|         EarnHistory| 2606|\n",
            "|         WorldSeries| 1996|\n",
            "|    LetsCloseThisOut|  984|\n",
            "|           ASTROSWIN|  701|\n",
            "|              Astros|  495|\n",
            "|ThisTeam,ThisTeam...|  461|\n",
            "|ThisTeam,WorldSeries|  418|\n",
            "|             Dodgers|  353|\n",
            "|               HR4HR|  274|\n",
            "+--------------------+-----+\n",
            "only showing top 10 rows\n",
            "\n"
          ]
        },
        {
          "name": "stderr",
          "output_type": "stream",
          "text": [
            "                                                                                \r"
          ]
        }
      ],
      "source": [
        "# Edit this cell and add more as appropriate\n",
        "sqlc.sql(\"\"\"\n",
        "    SELECT CONCAT_WS(',', entities.hashtags.text) AS Hashtag, COUNT(entities.hashtags.text) AS Count\n",
        "    FROM tweets\n",
        "    WHERE user.followers_count <= 81\n",
        "    GROUP BY (Hashtag)\n",
        "    ORDER BY(Count) DESC\n",
        "    \"\"\").show(10)"
      ]
    },
    {
      "cell_type": "markdown",
      "metadata": {
        "id": "8TUBsDdzHi-2"
      },
      "source": [
        "#### Edit this cell and add more as appropriate\n",
        "* Most the hastags were similar for the users with many and few followers. Only hashtag HR4HR with users with few followers seemed to be something relating to another topic.\n",
        "* For users with MANY followers the only 2 unique hashtags were: \"Astros,WorldSeries\" AND \"ThisTeam\"\n",
        "* For users with FEW followers the only 2 unique hashtags were: \"LetsCloseThisOut\" AND \"HR4HR\""
      ]
    },
    {
      "cell_type": "markdown",
      "metadata": {
        "id": "PRf-9WtsHi-2"
      },
      "source": [
        "### Q3.5 - Analyze common words in tweet text (15 Points)\n",
        "\n",
        "Following the example in class, use `tweets.rdd` to find the most common interesting words in tweet text.  To keep it \"interesting\", add a filter that removes at least 10 common stop words found in tweets, like \"a\", \"an\", \"the\", and \"RT\" (you might want to derive these stop words from initial results).  To split lines into words, a simple split on text whitespace like we had in class is sufficient; you do not have to account for punctuation.\n",
        "\n",
        "After you find the most common words, use dataframe or SQL queries to find patterns among how those words are used.  For example, you may find words like \"thisteam\" or \"earnhistory\". Find out if they are more frequently used by Dodgers or Astros fans, or by people in one part of the country over another?  Explore and see what you can find, and discuss your findings.\n",
        "\n",
        "Hint: don't forget all the word count pipeline steps we used earlier in class.\n",
        "\n",
        "**Answer**"
      ]
    },
    {
      "cell_type": "code",
      "execution_count": null,
      "metadata": {
        "id": "8LxFpfymHi-2",
        "outputId": "553f312b-54dc-4577-f7d1-a5f7e71af1db"
      },
      "outputs": [
        {
          "name": "stderr",
          "output_type": "stream",
          "text": [
            "                                                                                \r"
          ]
        },
        {
          "data": {
            "text/plain": [
              "[('RT', 120184),\n",
              " ('the', 86972),\n",
              " ('a', 40586),\n",
              " ('to', 40532),\n",
              " ('Astros', 39438),\n",
              " ('', 37919),\n",
              " ('in', 34093),\n",
              " ('#ThisTeam', 31176),\n",
              " ('Dodgers', 27512),\n",
              " ('#WorldSeries', 25982),\n",
              " ('@astros:', 25207),\n",
              " ('of', 20547),\n",
              " ('#EarnHistory', 19880),\n",
              " ('I', 19755),\n",
              " ('@astros', 19631),\n",
              " ('is', 19595),\n",
              " ('and', 18987),\n",
              " ('The', 17945),\n",
              " ('game', 17196),\n",
              " ('this', 17187)]"
            ]
          },
          "execution_count": 51,
          "metadata": {},
          "output_type": "execute_result"
        }
      ],
      "source": [
        "# Edit this cell and add more as appropriate\n",
        "# The code below will help us determine the top 20 words uses which will help create \"stop_words\"\n",
        "tweets.rdd.flatMap(lambda r: r['text'].split(' ')) \\\n",
        "    .map(lambda t: (t, 1)) \\\n",
        "    .reduceByKey(lambda a, b: a + b) \\\n",
        "    .takeOrdered(20, key=lambda pair: -pair[1])"
      ]
    },
    {
      "cell_type": "code",
      "execution_count": null,
      "metadata": {
        "id": "BJmGVKfAHi-2"
      },
      "outputs": [],
      "source": [
        "# Edit this cell and add more as appropriate\n",
        "stop_words=[\"a\", \"an\", \"the\", \"RT\",\"this\", \"that\", \"these\", \"those\",\"is\", \"it\", \"in\",\"this\", \"that\", \"these\", \n",
        "            \"those\",\"if\", \"or\", \"of\",\"\", \"I\",\"i\",\"The\",\"to\",\"and\", \"for\", \"THE\"]"
      ]
    },
    {
      "cell_type": "code",
      "execution_count": null,
      "metadata": {
        "id": "GJjHC7NXHi-2",
        "outputId": "67bf6eef-b759-4781-b18e-898095daa6ee"
      },
      "outputs": [
        {
          "name": "stderr",
          "output_type": "stream",
          "text": [
            "                                                                                \r"
          ]
        },
        {
          "data": {
            "text/plain": [
              "[('Astros', 39438),\n",
              " ('#ThisTeam', 31176),\n",
              " ('Dodgers', 27512),\n",
              " ('#WorldSeries', 25982),\n",
              " ('@astros:', 25207),\n",
              " ('#EarnHistory', 19880),\n",
              " ('@astros', 19631),\n",
              " ('game', 17196),\n",
              " ('win', 14614),\n",
              " ('@Dodgers', 13769)]"
            ]
          },
          "execution_count": 53,
          "metadata": {},
          "output_type": "execute_result"
        }
      ],
      "source": [
        "# Edit this cell and add more as appropriate\n",
        "tweets.rdd.flatMap(lambda r: r[\"text\"].split(' ')) \\\n",
        "    .filter(lambda s: s not in stop_words) \\\n",
        "    .map(lambda t: (t,1)) \\\n",
        "    .reduceByKey(lambda a, b: a +b) \\\n",
        "    .takeOrdered(10, key=lambda pair: -pair[1]) "
      ]
    },
    {
      "cell_type": "code",
      "execution_count": null,
      "metadata": {
        "id": "mMDqmwKrHi-2",
        "outputId": "93d0794d-ad91-431a-da34-f1ad11457c2c"
      },
      "outputs": [
        {
          "name": "stderr",
          "output_type": "stream",
          "text": [
            "[Stage 47:===================================================>      (8 + 1) / 9]\r"
          ]
        },
        {
          "name": "stdout",
          "output_type": "stream",
          "text": [
            "+-----------+-----+\n",
            "|    Hashtag|Count|\n",
            "+-----------+-----+\n",
            "|EarnHistory|17298|\n",
            "+-----------+-----+\n",
            "\n"
          ]
        },
        {
          "name": "stderr",
          "output_type": "stream",
          "text": [
            "                                                                                \r"
          ]
        }
      ],
      "source": [
        "# Edit this cell and add more as appropriate\n",
        "sqlc.sql(\"\"\"\n",
        "    SELECT CONCAT_WS(',', entities.hashtags.text) AS Hashtag, COUNT(entities.hashtags.text) AS Count\n",
        "    FROM tweets\n",
        "    WHERE CONCAT_WS(',', entities.hashtags.text)= \"EarnHistory\"\n",
        "    AND LOWER(tweets.text) LIKE \"%astros%\"\n",
        "    GROUP BY (Hashtag)\n",
        "    ORDER BY(Count) DESC\n",
        "    \"\"\").show()\n",
        "\n",
        "# 17,298 users mentioned Astros and #EarnHistory in their tweet"
      ]
    },
    {
      "cell_type": "code",
      "execution_count": null,
      "metadata": {
        "id": "NjTybjxrHi-2",
        "outputId": "a5a1266d-ca00-46b9-9624-4f8f4be0be20"
      },
      "outputs": [
        {
          "name": "stderr",
          "output_type": "stream",
          "text": [
            "[Stage 49:===================================================>      (8 + 1) / 9]\r"
          ]
        },
        {
          "name": "stdout",
          "output_type": "stream",
          "text": [
            "+-----------+-----+\n",
            "|    Hashtag|Count|\n",
            "+-----------+-----+\n",
            "|EarnHistory|  281|\n",
            "+-----------+-----+\n",
            "\n"
          ]
        },
        {
          "name": "stderr",
          "output_type": "stream",
          "text": [
            "                                                                                \r"
          ]
        }
      ],
      "source": [
        "# Edit this cell and add more as appropriate\n",
        "sqlc.sql(\"\"\"\n",
        "    SELECT CONCAT_WS(',', entities.hashtags.text) AS Hashtag, COUNT(entities.hashtags.text) AS Count\n",
        "    FROM tweets\n",
        "    WHERE CONCAT_WS(',', entities.hashtags.text)= \"EarnHistory\"\n",
        "    AND LOWER(tweets.text) LIKE \"%dodgers%\"\n",
        "    GROUP BY (Hashtag)\n",
        "    ORDER BY(Count) DESC\n",
        "    \"\"\").show()\n",
        "\n",
        "# 281 users mentioned Dodgers and #EarnHistory in their tweet"
      ]
    },
    {
      "cell_type": "code",
      "execution_count": null,
      "metadata": {
        "id": "kQmMyIPKHi-3",
        "outputId": "63db9d37-eb12-4920-c48d-8c8dd3253ed7"
      },
      "outputs": [
        {
          "name": "stderr",
          "output_type": "stream",
          "text": [
            "[Stage 51:===================================================>      (8 + 1) / 9]\r"
          ]
        },
        {
          "name": "stdout",
          "output_type": "stream",
          "text": [
            "+-------------------+-----+\n",
            "|           location|count|\n",
            "+-------------------+-----+\n",
            "|        Houston, TX| 2267|\n",
            "|         Texas, USA|  436|\n",
            "|              Texas|  294|\n",
            "|            Houston|  227|\n",
            "|     Houston, Texas|  212|\n",
            "|         Austin, TX|  162|\n",
            "|                HTX|  124|\n",
            "|    San Antonio, TX|  120|\n",
            "|College Station, TX|  100|\n",
            "|                htx|   75|\n",
            "+-------------------+-----+\n",
            "only showing top 10 rows\n",
            "\n"
          ]
        },
        {
          "name": "stderr",
          "output_type": "stream",
          "text": [
            "                                                                                \r"
          ]
        }
      ],
      "source": [
        "# Edit this cell and add more as appropriate\n",
        "sqlc.sql(\"\"\"\n",
        "    SELECT user.location, COUNT(user.location) AS count\n",
        "    FROM tweets\n",
        "    WHERE CONCAT_WS(',', entities.hashtags.text)= \"EarnHistory\"\n",
        "    GROUP BY user.location\n",
        "    ORDER BY count DESC\n",
        "    \"\"\").show(10)\n",
        "\n",
        "# The hashtag #EarnHistory was dominantly used in Texas which was home for the Astros team."
      ]
    },
    {
      "cell_type": "code",
      "execution_count": null,
      "metadata": {
        "id": "B3K9FqqQHi-3",
        "outputId": "5a9e4383-ae74-4170-f2bc-ab41b8522c88"
      },
      "outputs": [
        {
          "name": "stderr",
          "output_type": "stream",
          "text": [
            "[Stage 53:===================================================>      (8 + 1) / 9]\r"
          ]
        },
        {
          "name": "stdout",
          "output_type": "stream",
          "text": [
            "+--------------+--------+\n",
            "|   screen_name|   Count|\n",
            "+--------------+--------+\n",
            "|       FoxNews|16272836|\n",
            "|           ABC|12551437|\n",
            "|           MLB| 7840418|\n",
            "|BleacherReport| 5467676|\n",
            "|      USATODAY| 3496475|\n",
            "|    InesSainzG| 3232112|\n",
            "|          wilw| 3216340|\n",
            "|AztecaDeportes| 2154308|\n",
            "|     FOXSports| 1892256|\n",
            "|       Dodgers| 1828991|\n",
            "+--------------+--------+\n",
            "only showing top 10 rows\n",
            "\n"
          ]
        },
        {
          "name": "stderr",
          "output_type": "stream",
          "text": [
            "                                                                                \r"
          ]
        }
      ],
      "source": [
        "# Edit this cell and add more as appropriate\n",
        "sqlc.sql(\"\"\"\n",
        "    SELECT user.screen_name, MAX(user.followers_count) AS Count\n",
        "    FROM tweets\n",
        "    WHERE CONCAT_WS(',', entities.hashtags.text)= \"WorldSeries\" \n",
        "    AND user.verified = 'true'\n",
        "    GROUP BY user.screen_name\n",
        "    ORDER BY count DESC\n",
        "    \"\"\").show(10)\n",
        "\n",
        "# Below is a list of the top 10 verified users that have used the hashtag #WorldSeries in their tweets."
      ]
    },
    {
      "cell_type": "markdown",
      "metadata": {
        "id": "nyzEGGDUHi-3"
      },
      "source": [
        "#### Edit this cell and add more as appropriate\n",
        "\n",
        "* The word \"EarnHistory\" was the 6th highest frequency word that was used in tweets amoungst all the users. 17,298 users mentioned Astros and EarnHistory in their tweet. Whereas 281 users mentioned Dodgers and EarnHistory in their tweet. We can say overall that Astros fans were using EarnHistory more frequently.\n",
        "* The words EarnHistory was mainly uses in Texas which could mean that this word has something related to the Astros team. Maybe the literal meaning is that if they won the game they would break some kind of record and \"earnhistory\". \n",
        "* The word \"WorldSeries\" was the 4th highest frequency word that was used in tweets amoungst all the users. I wanted to check who the top 10 verified users were that were mentioning the hashtag #WorldSeries in their tweets. It was interesting to see the top count was for Fox News and MLB was 3rd, this could mean that Fox news were reporting news more frequently and had a larger follower base."
      ]
    }
  ],
  "metadata": {
    "kernelspec": {
      "display_name": "Python 3",
      "language": "python",
      "name": "python3"
    },
    "language_info": {
      "codemirror_mode": {
        "name": "ipython",
        "version": 3
      },
      "file_extension": ".py",
      "mimetype": "text/x-python",
      "name": "python",
      "nbconvert_exporter": "python",
      "pygments_lexer": "ipython3",
      "version": "3.8.8"
    },
    "colab": {
      "name": "Assignment3_Fall_2021.ipynb",
      "provenance": [],
      "include_colab_link": true
    }
  },
  "nbformat": 4,
  "nbformat_minor": 0
}